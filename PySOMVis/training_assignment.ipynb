{
 "cells": [
  {
   "cell_type": "code",
   "execution_count": null,
   "id": "28820aea",
   "metadata": {},
   "outputs": [],
   "source": [
    "# Read data from Java SOMToolbox\n",
    "from SOMToolBox_Parse import SOMToolBox_Parse\n",
    "idata   = SOMToolBox_Parse(\"datasets/iris/iris.vec\").read_weight_file()\n",
    "weights = SOMToolBox_Parse(\"datasets/iris/iris.wgt.gz\").read_weight_file()\n",
    "classes = SOMToolBox_Parse(\"datasets/iris/iris.cls\").read_weight_file()"
   ]
  },
  {
   "cell_type": "code",
   "execution_count": null,
   "id": "99c6677b",
   "metadata": {},
   "outputs": [
    {
     "ename": "ValueError",
     "evalue": "Supplied cmap jet not found among matplotlib, bokeh, or colorcet colormaps.",
     "output_type": "error",
     "traceback": [
      "\u001b[0;31m---------------------------------------------------------------------------\u001b[0m",
      "\u001b[0;31mValueError\u001b[0m                                Traceback (most recent call last)",
      "File \u001b[0;32m~/Documents/tuw/sos/project3/SOS-Assignment-3-WISE-24-25/.venv/lib/python3.12/site-packages/IPython/core/formatters.py:1036\u001b[0m, in \u001b[0;36mMimeBundleFormatter.__call__\u001b[0;34m(self, obj, include, exclude)\u001b[0m\n\u001b[1;32m   1033\u001b[0m     method \u001b[38;5;241m=\u001b[39m get_real_method(obj, \u001b[38;5;28mself\u001b[39m\u001b[38;5;241m.\u001b[39mprint_method)\n\u001b[1;32m   1035\u001b[0m     \u001b[38;5;28;01mif\u001b[39;00m method \u001b[38;5;129;01mis\u001b[39;00m \u001b[38;5;129;01mnot\u001b[39;00m \u001b[38;5;28;01mNone\u001b[39;00m:\n\u001b[0;32m-> 1036\u001b[0m         \u001b[38;5;28;01mreturn\u001b[39;00m \u001b[43mmethod\u001b[49m\u001b[43m(\u001b[49m\u001b[43minclude\u001b[49m\u001b[38;5;241;43m=\u001b[39;49m\u001b[43minclude\u001b[49m\u001b[43m,\u001b[49m\u001b[43m \u001b[49m\u001b[43mexclude\u001b[49m\u001b[38;5;241;43m=\u001b[39;49m\u001b[43mexclude\u001b[49m\u001b[43m)\u001b[49m\n\u001b[1;32m   1037\u001b[0m     \u001b[38;5;28;01mreturn\u001b[39;00m \u001b[38;5;28;01mNone\u001b[39;00m\n\u001b[1;32m   1038\u001b[0m \u001b[38;5;28;01melse\u001b[39;00m:\n",
      "File \u001b[0;32m~/Documents/tuw/sos/project3/SOS-Assignment-3-WISE-24-25/.venv/lib/python3.12/site-packages/panel/viewable.py:790\u001b[0m, in \u001b[0;36mViewable._repr_mimebundle_\u001b[0;34m(self, include, exclude)\u001b[0m\n\u001b[1;32m    787\u001b[0m     loaded \u001b[38;5;241m=\u001b[39m hv\u001b[38;5;241m.\u001b[39mextension\u001b[38;5;241m.\u001b[39m_loaded\n\u001b[1;32m    789\u001b[0m \u001b[38;5;28;01mif\u001b[39;00m config\u001b[38;5;241m.\u001b[39mcomms \u001b[38;5;129;01min\u001b[39;00m (\u001b[38;5;124m'\u001b[39m\u001b[38;5;124mvscode\u001b[39m\u001b[38;5;124m'\u001b[39m, \u001b[38;5;124m'\u001b[39m\u001b[38;5;124mipywidgets\u001b[39m\u001b[38;5;124m'\u001b[39m):\n\u001b[0;32m--> 790\u001b[0m     widget \u001b[38;5;241m=\u001b[39m \u001b[43mipywidget\u001b[49m\u001b[43m(\u001b[49m\u001b[38;5;28;43mself\u001b[39;49m\u001b[43m)\u001b[49m\n\u001b[1;32m    791\u001b[0m     \u001b[38;5;28;01mif\u001b[39;00m \u001b[38;5;28mhasattr\u001b[39m(widget, \u001b[38;5;124m'\u001b[39m\u001b[38;5;124m_repr_mimebundle_\u001b[39m\u001b[38;5;124m'\u001b[39m):\n\u001b[1;32m    792\u001b[0m         \u001b[38;5;28;01mreturn\u001b[39;00m widget\u001b[38;5;241m.\u001b[39m_repr_mimebundle_(include\u001b[38;5;241m=\u001b[39minclude, exclude\u001b[38;5;241m=\u001b[39mexclude), {}\n",
      "File \u001b[0;32m~/Documents/tuw/sos/project3/SOS-Assignment-3-WISE-24-25/.venv/lib/python3.12/site-packages/panel/io/notebook.py:562\u001b[0m, in \u001b[0;36mipywidget\u001b[0;34m(obj, doc, **kwargs)\u001b[0m\n\u001b[1;32m    560\u001b[0m \u001b[38;5;28;01mfrom\u001b[39;00m\u001b[38;5;250m \u001b[39m\u001b[38;5;21;01m.\u001b[39;00m\u001b[38;5;21;01m.\u001b[39;00m\u001b[38;5;21;01mpane\u001b[39;00m\u001b[38;5;250m \u001b[39m\u001b[38;5;28;01mimport\u001b[39;00m panel\n\u001b[1;32m    561\u001b[0m doc \u001b[38;5;241m=\u001b[39m doc \u001b[38;5;28;01mif\u001b[39;00m doc \u001b[38;5;28;01melse\u001b[39;00m Document()\n\u001b[0;32m--> 562\u001b[0m model \u001b[38;5;241m=\u001b[39m \u001b[43mpanel\u001b[49m\u001b[43m(\u001b[49m\u001b[43mobj\u001b[49m\u001b[43m,\u001b[49m\u001b[43m \u001b[49m\u001b[38;5;241;43m*\u001b[39;49m\u001b[38;5;241;43m*\u001b[39;49m\u001b[43mkwargs\u001b[49m\u001b[43m)\u001b[49m\u001b[38;5;241;43m.\u001b[39;49m\u001b[43mget_root\u001b[49m\u001b[43m(\u001b[49m\u001b[43mdoc\u001b[49m\u001b[38;5;241;43m=\u001b[39;49m\u001b[43mdoc\u001b[49m\u001b[43m)\u001b[49m\n\u001b[1;32m    563\u001b[0m widget \u001b[38;5;241m=\u001b[39m BokehModel(model, combine_events\u001b[38;5;241m=\u001b[39m\u001b[38;5;28;01mTrue\u001b[39;00m)\n\u001b[1;32m    564\u001b[0m \u001b[38;5;28;01mif\u001b[39;00m \u001b[38;5;28mhasattr\u001b[39m(widget, \u001b[38;5;124m'\u001b[39m\u001b[38;5;124m_view_count\u001b[39m\u001b[38;5;124m'\u001b[39m):\n",
      "File \u001b[0;32m~/Documents/tuw/sos/project3/SOS-Assignment-3-WISE-24-25/.venv/lib/python3.12/site-packages/panel/layout/base.py:318\u001b[0m, in \u001b[0;36mPanel.get_root\u001b[0;34m(self, doc, comm, preprocess)\u001b[0m\n\u001b[1;32m    314\u001b[0m \u001b[38;5;28;01mdef\u001b[39;00m\u001b[38;5;250m \u001b[39m\u001b[38;5;21mget_root\u001b[39m(\n\u001b[1;32m    315\u001b[0m     \u001b[38;5;28mself\u001b[39m, doc: Document \u001b[38;5;241m|\u001b[39m \u001b[38;5;28;01mNone\u001b[39;00m \u001b[38;5;241m=\u001b[39m \u001b[38;5;28;01mNone\u001b[39;00m, comm: Comm \u001b[38;5;241m|\u001b[39m \u001b[38;5;28;01mNone\u001b[39;00m \u001b[38;5;241m=\u001b[39m \u001b[38;5;28;01mNone\u001b[39;00m,\n\u001b[1;32m    316\u001b[0m     preprocess: \u001b[38;5;28mbool\u001b[39m \u001b[38;5;241m=\u001b[39m \u001b[38;5;28;01mTrue\u001b[39;00m\n\u001b[1;32m    317\u001b[0m ) \u001b[38;5;241m-\u001b[39m\u001b[38;5;241m>\u001b[39m Model:\n\u001b[0;32m--> 318\u001b[0m     root \u001b[38;5;241m=\u001b[39m \u001b[38;5;28;43msuper\u001b[39;49m\u001b[43m(\u001b[49m\u001b[43m)\u001b[49m\u001b[38;5;241;43m.\u001b[39;49m\u001b[43mget_root\u001b[49m\u001b[43m(\u001b[49m\u001b[43mdoc\u001b[49m\u001b[43m,\u001b[49m\u001b[43m \u001b[49m\u001b[43mcomm\u001b[49m\u001b[43m,\u001b[49m\u001b[43m \u001b[49m\u001b[43mpreprocess\u001b[49m\u001b[43m)\u001b[49m\n\u001b[1;32m    319\u001b[0m     \u001b[38;5;66;03m# ALERT: Find a better way to handle this\u001b[39;00m\n\u001b[1;32m    320\u001b[0m     \u001b[38;5;28;01mif\u001b[39;00m \u001b[38;5;28mhasattr\u001b[39m(root, \u001b[38;5;124m'\u001b[39m\u001b[38;5;124mstyles\u001b[39m\u001b[38;5;124m'\u001b[39m) \u001b[38;5;129;01mand\u001b[39;00m \u001b[38;5;124m'\u001b[39m\u001b[38;5;124moverflow-x\u001b[39m\u001b[38;5;124m'\u001b[39m \u001b[38;5;129;01min\u001b[39;00m root\u001b[38;5;241m.\u001b[39mstyles:\n",
      "File \u001b[0;32m~/Documents/tuw/sos/project3/SOS-Assignment-3-WISE-24-25/.venv/lib/python3.12/site-packages/panel/viewable.py:693\u001b[0m, in \u001b[0;36mRenderable.get_root\u001b[0;34m(self, doc, comm, preprocess)\u001b[0m\n\u001b[1;32m    691\u001b[0m     root_view \u001b[38;5;241m=\u001b[39m wrapper\n\u001b[1;32m    692\u001b[0m \u001b[38;5;28;01melse\u001b[39;00m:\n\u001b[0;32m--> 693\u001b[0m     root \u001b[38;5;241m=\u001b[39m \u001b[38;5;28;43mself\u001b[39;49m\u001b[38;5;241;43m.\u001b[39;49m\u001b[43m_get_model\u001b[49m\u001b[43m(\u001b[49m\u001b[43mdoc\u001b[49m\u001b[43m,\u001b[49m\u001b[43m \u001b[49m\u001b[43mcomm\u001b[49m\u001b[38;5;241;43m=\u001b[39;49m\u001b[43mcomm\u001b[49m\u001b[43m)\u001b[49m\n\u001b[1;32m    694\u001b[0m     root_view \u001b[38;5;241m=\u001b[39m \u001b[38;5;28mself\u001b[39m\n\u001b[1;32m    695\u001b[0m     \u001b[38;5;28;01mif\u001b[39;00m preprocess:\n",
      "File \u001b[0;32m~/Documents/tuw/sos/project3/SOS-Assignment-3-WISE-24-25/.venv/lib/python3.12/site-packages/panel/layout/base.py:184\u001b[0m, in \u001b[0;36mPanel._get_model\u001b[0;34m(self, doc, root, parent, comm)\u001b[0m\n\u001b[1;32m    182\u001b[0m root \u001b[38;5;241m=\u001b[39m root \u001b[38;5;129;01mor\u001b[39;00m model\n\u001b[1;32m    183\u001b[0m \u001b[38;5;28mself\u001b[39m\u001b[38;5;241m.\u001b[39m_models[root\u001b[38;5;241m.\u001b[39mref[\u001b[38;5;124m'\u001b[39m\u001b[38;5;124mid\u001b[39m\u001b[38;5;124m'\u001b[39m]] \u001b[38;5;241m=\u001b[39m (model, parent)\n\u001b[0;32m--> 184\u001b[0m objects, _ \u001b[38;5;241m=\u001b[39m \u001b[38;5;28;43mself\u001b[39;49m\u001b[38;5;241;43m.\u001b[39;49m\u001b[43m_get_objects\u001b[49m\u001b[43m(\u001b[49m\u001b[43mmodel\u001b[49m\u001b[43m,\u001b[49m\u001b[43m \u001b[49m\u001b[43m[\u001b[49m\u001b[43m]\u001b[49m\u001b[43m,\u001b[49m\u001b[43m \u001b[49m\u001b[43mdoc\u001b[49m\u001b[43m,\u001b[49m\u001b[43m \u001b[49m\u001b[43mroot\u001b[49m\u001b[43m,\u001b[49m\u001b[43m \u001b[49m\u001b[43mcomm\u001b[49m\u001b[43m)\u001b[49m\n\u001b[1;32m    185\u001b[0m props \u001b[38;5;241m=\u001b[39m \u001b[38;5;28mself\u001b[39m\u001b[38;5;241m.\u001b[39m_get_properties(doc)\n\u001b[1;32m    186\u001b[0m props[\u001b[38;5;28mself\u001b[39m\u001b[38;5;241m.\u001b[39m_property_mapping[\u001b[38;5;124m'\u001b[39m\u001b[38;5;124mobjects\u001b[39m\u001b[38;5;124m'\u001b[39m]] \u001b[38;5;241m=\u001b[39m objects\n",
      "File \u001b[0;32m~/Documents/tuw/sos/project3/SOS-Assignment-3-WISE-24-25/.venv/lib/python3.12/site-packages/panel/layout/base.py:166\u001b[0m, in \u001b[0;36mPanel._get_objects\u001b[0;34m(self, model, old_objects, doc, root, comm)\u001b[0m\n\u001b[1;32m    164\u001b[0m \u001b[38;5;28;01melse\u001b[39;00m:\n\u001b[1;32m    165\u001b[0m     \u001b[38;5;28;01mtry\u001b[39;00m:\n\u001b[0;32m--> 166\u001b[0m         child \u001b[38;5;241m=\u001b[39m \u001b[43mpane\u001b[49m\u001b[38;5;241;43m.\u001b[39;49m\u001b[43m_get_model\u001b[49m\u001b[43m(\u001b[49m\u001b[43mdoc\u001b[49m\u001b[43m,\u001b[49m\u001b[43m \u001b[49m\u001b[43mroot\u001b[49m\u001b[43m,\u001b[49m\u001b[43m \u001b[49m\u001b[43mmodel\u001b[49m\u001b[43m,\u001b[49m\u001b[43m \u001b[49m\u001b[43mcomm\u001b[49m\u001b[43m)\u001b[49m\n\u001b[1;32m    167\u001b[0m     \u001b[38;5;28;01mexcept\u001b[39;00m RerenderError \u001b[38;5;28;01mas\u001b[39;00m e:\n\u001b[1;32m    168\u001b[0m         \u001b[38;5;28;01mif\u001b[39;00m e\u001b[38;5;241m.\u001b[39mlayout \u001b[38;5;129;01mis\u001b[39;00m \u001b[38;5;129;01mnot\u001b[39;00m \u001b[38;5;28;01mNone\u001b[39;00m \u001b[38;5;129;01mand\u001b[39;00m e\u001b[38;5;241m.\u001b[39mlayout \u001b[38;5;129;01mis\u001b[39;00m \u001b[38;5;129;01mnot\u001b[39;00m \u001b[38;5;28mself\u001b[39m:\n",
      "File \u001b[0;32m~/Documents/tuw/sos/project3/SOS-Assignment-3-WISE-24-25/.venv/lib/python3.12/site-packages/panel/layout/base.py:184\u001b[0m, in \u001b[0;36mPanel._get_model\u001b[0;34m(self, doc, root, parent, comm)\u001b[0m\n\u001b[1;32m    182\u001b[0m root \u001b[38;5;241m=\u001b[39m root \u001b[38;5;129;01mor\u001b[39;00m model\n\u001b[1;32m    183\u001b[0m \u001b[38;5;28mself\u001b[39m\u001b[38;5;241m.\u001b[39m_models[root\u001b[38;5;241m.\u001b[39mref[\u001b[38;5;124m'\u001b[39m\u001b[38;5;124mid\u001b[39m\u001b[38;5;124m'\u001b[39m]] \u001b[38;5;241m=\u001b[39m (model, parent)\n\u001b[0;32m--> 184\u001b[0m objects, _ \u001b[38;5;241m=\u001b[39m \u001b[38;5;28;43mself\u001b[39;49m\u001b[38;5;241;43m.\u001b[39;49m\u001b[43m_get_objects\u001b[49m\u001b[43m(\u001b[49m\u001b[43mmodel\u001b[49m\u001b[43m,\u001b[49m\u001b[43m \u001b[49m\u001b[43m[\u001b[49m\u001b[43m]\u001b[49m\u001b[43m,\u001b[49m\u001b[43m \u001b[49m\u001b[43mdoc\u001b[49m\u001b[43m,\u001b[49m\u001b[43m \u001b[49m\u001b[43mroot\u001b[49m\u001b[43m,\u001b[49m\u001b[43m \u001b[49m\u001b[43mcomm\u001b[49m\u001b[43m)\u001b[49m\n\u001b[1;32m    185\u001b[0m props \u001b[38;5;241m=\u001b[39m \u001b[38;5;28mself\u001b[39m\u001b[38;5;241m.\u001b[39m_get_properties(doc)\n\u001b[1;32m    186\u001b[0m props[\u001b[38;5;28mself\u001b[39m\u001b[38;5;241m.\u001b[39m_property_mapping[\u001b[38;5;124m'\u001b[39m\u001b[38;5;124mobjects\u001b[39m\u001b[38;5;124m'\u001b[39m]] \u001b[38;5;241m=\u001b[39m objects\n",
      "File \u001b[0;32m~/Documents/tuw/sos/project3/SOS-Assignment-3-WISE-24-25/.venv/lib/python3.12/site-packages/panel/layout/base.py:166\u001b[0m, in \u001b[0;36mPanel._get_objects\u001b[0;34m(self, model, old_objects, doc, root, comm)\u001b[0m\n\u001b[1;32m    164\u001b[0m \u001b[38;5;28;01melse\u001b[39;00m:\n\u001b[1;32m    165\u001b[0m     \u001b[38;5;28;01mtry\u001b[39;00m:\n\u001b[0;32m--> 166\u001b[0m         child \u001b[38;5;241m=\u001b[39m \u001b[43mpane\u001b[49m\u001b[38;5;241;43m.\u001b[39;49m\u001b[43m_get_model\u001b[49m\u001b[43m(\u001b[49m\u001b[43mdoc\u001b[49m\u001b[43m,\u001b[49m\u001b[43m \u001b[49m\u001b[43mroot\u001b[49m\u001b[43m,\u001b[49m\u001b[43m \u001b[49m\u001b[43mmodel\u001b[49m\u001b[43m,\u001b[49m\u001b[43m \u001b[49m\u001b[43mcomm\u001b[49m\u001b[43m)\u001b[49m\n\u001b[1;32m    167\u001b[0m     \u001b[38;5;28;01mexcept\u001b[39;00m RerenderError \u001b[38;5;28;01mas\u001b[39;00m e:\n\u001b[1;32m    168\u001b[0m         \u001b[38;5;28;01mif\u001b[39;00m e\u001b[38;5;241m.\u001b[39mlayout \u001b[38;5;129;01mis\u001b[39;00m \u001b[38;5;129;01mnot\u001b[39;00m \u001b[38;5;28;01mNone\u001b[39;00m \u001b[38;5;129;01mand\u001b[39;00m e\u001b[38;5;241m.\u001b[39mlayout \u001b[38;5;129;01mis\u001b[39;00m \u001b[38;5;129;01mnot\u001b[39;00m \u001b[38;5;28mself\u001b[39m:\n",
      "    \u001b[0;31m[... skipping similar frames: Panel._get_model at line 184 (1 times), Panel._get_objects at line 166 (1 times)]\u001b[0m\n",
      "File \u001b[0;32m~/Documents/tuw/sos/project3/SOS-Assignment-3-WISE-24-25/.venv/lib/python3.12/site-packages/panel/layout/base.py:184\u001b[0m, in \u001b[0;36mPanel._get_model\u001b[0;34m(self, doc, root, parent, comm)\u001b[0m\n\u001b[1;32m    182\u001b[0m root \u001b[38;5;241m=\u001b[39m root \u001b[38;5;129;01mor\u001b[39;00m model\n\u001b[1;32m    183\u001b[0m \u001b[38;5;28mself\u001b[39m\u001b[38;5;241m.\u001b[39m_models[root\u001b[38;5;241m.\u001b[39mref[\u001b[38;5;124m'\u001b[39m\u001b[38;5;124mid\u001b[39m\u001b[38;5;124m'\u001b[39m]] \u001b[38;5;241m=\u001b[39m (model, parent)\n\u001b[0;32m--> 184\u001b[0m objects, _ \u001b[38;5;241m=\u001b[39m \u001b[38;5;28;43mself\u001b[39;49m\u001b[38;5;241;43m.\u001b[39;49m\u001b[43m_get_objects\u001b[49m\u001b[43m(\u001b[49m\u001b[43mmodel\u001b[49m\u001b[43m,\u001b[49m\u001b[43m \u001b[49m\u001b[43m[\u001b[49m\u001b[43m]\u001b[49m\u001b[43m,\u001b[49m\u001b[43m \u001b[49m\u001b[43mdoc\u001b[49m\u001b[43m,\u001b[49m\u001b[43m \u001b[49m\u001b[43mroot\u001b[49m\u001b[43m,\u001b[49m\u001b[43m \u001b[49m\u001b[43mcomm\u001b[49m\u001b[43m)\u001b[49m\n\u001b[1;32m    185\u001b[0m props \u001b[38;5;241m=\u001b[39m \u001b[38;5;28mself\u001b[39m\u001b[38;5;241m.\u001b[39m_get_properties(doc)\n\u001b[1;32m    186\u001b[0m props[\u001b[38;5;28mself\u001b[39m\u001b[38;5;241m.\u001b[39m_property_mapping[\u001b[38;5;124m'\u001b[39m\u001b[38;5;124mobjects\u001b[39m\u001b[38;5;124m'\u001b[39m]] \u001b[38;5;241m=\u001b[39m objects\n",
      "File \u001b[0;32m~/Documents/tuw/sos/project3/SOS-Assignment-3-WISE-24-25/.venv/lib/python3.12/site-packages/panel/layout/base.py:166\u001b[0m, in \u001b[0;36mPanel._get_objects\u001b[0;34m(self, model, old_objects, doc, root, comm)\u001b[0m\n\u001b[1;32m    164\u001b[0m \u001b[38;5;28;01melse\u001b[39;00m:\n\u001b[1;32m    165\u001b[0m     \u001b[38;5;28;01mtry\u001b[39;00m:\n\u001b[0;32m--> 166\u001b[0m         child \u001b[38;5;241m=\u001b[39m \u001b[43mpane\u001b[49m\u001b[38;5;241;43m.\u001b[39;49m\u001b[43m_get_model\u001b[49m\u001b[43m(\u001b[49m\u001b[43mdoc\u001b[49m\u001b[43m,\u001b[49m\u001b[43m \u001b[49m\u001b[43mroot\u001b[49m\u001b[43m,\u001b[49m\u001b[43m \u001b[49m\u001b[43mmodel\u001b[49m\u001b[43m,\u001b[49m\u001b[43m \u001b[49m\u001b[43mcomm\u001b[49m\u001b[43m)\u001b[49m\n\u001b[1;32m    167\u001b[0m     \u001b[38;5;28;01mexcept\u001b[39;00m RerenderError \u001b[38;5;28;01mas\u001b[39;00m e:\n\u001b[1;32m    168\u001b[0m         \u001b[38;5;28;01mif\u001b[39;00m e\u001b[38;5;241m.\u001b[39mlayout \u001b[38;5;129;01mis\u001b[39;00m \u001b[38;5;129;01mnot\u001b[39;00m \u001b[38;5;28;01mNone\u001b[39;00m \u001b[38;5;129;01mand\u001b[39;00m e\u001b[38;5;241m.\u001b[39mlayout \u001b[38;5;129;01mis\u001b[39;00m \u001b[38;5;129;01mnot\u001b[39;00m \u001b[38;5;28mself\u001b[39m:\n",
      "File \u001b[0;32m~/Documents/tuw/sos/project3/SOS-Assignment-3-WISE-24-25/.venv/lib/python3.12/site-packages/panel/pane/holoviews.py:437\u001b[0m, in \u001b[0;36mHoloViews._get_model\u001b[0;34m(self, doc, root, parent, comm)\u001b[0m\n\u001b[1;32m    435\u001b[0m     plot \u001b[38;5;241m=\u001b[39m \u001b[38;5;28mself\u001b[39m\u001b[38;5;241m.\u001b[39mobject\n\u001b[1;32m    436\u001b[0m \u001b[38;5;28;01melse\u001b[39;00m:\n\u001b[0;32m--> 437\u001b[0m     plot \u001b[38;5;241m=\u001b[39m \u001b[38;5;28;43mself\u001b[39;49m\u001b[38;5;241;43m.\u001b[39;49m\u001b[43m_render\u001b[49m\u001b[43m(\u001b[49m\u001b[43mdoc\u001b[49m\u001b[43m,\u001b[49m\u001b[43m \u001b[49m\u001b[43mcomm\u001b[49m\u001b[43m,\u001b[49m\u001b[43m \u001b[49m\u001b[43mroot\u001b[49m\u001b[43m)\u001b[49m\n\u001b[1;32m    439\u001b[0m plot\u001b[38;5;241m.\u001b[39mpane \u001b[38;5;241m=\u001b[39m \u001b[38;5;28mself\u001b[39m\n\u001b[1;32m    440\u001b[0m backend \u001b[38;5;241m=\u001b[39m plot\u001b[38;5;241m.\u001b[39mrenderer\u001b[38;5;241m.\u001b[39mbackend\n",
      "File \u001b[0;32m~/Documents/tuw/sos/project3/SOS-Assignment-3-WISE-24-25/.venv/lib/python3.12/site-packages/panel/pane/holoviews.py:531\u001b[0m, in \u001b[0;36mHoloViews._render\u001b[0;34m(self, doc, comm, root)\u001b[0m\n\u001b[1;32m    528\u001b[0m     \u001b[38;5;28;01mif\u001b[39;00m comm:\n\u001b[1;32m    529\u001b[0m         kwargs[\u001b[38;5;124m'\u001b[39m\u001b[38;5;124mcomm\u001b[39m\u001b[38;5;124m'\u001b[39m] \u001b[38;5;241m=\u001b[39m comm\n\u001b[0;32m--> 531\u001b[0m \u001b[38;5;28;01mreturn\u001b[39;00m \u001b[43mrenderer\u001b[49m\u001b[38;5;241;43m.\u001b[39;49m\u001b[43mget_plot\u001b[49m\u001b[43m(\u001b[49m\u001b[38;5;28;43mself\u001b[39;49m\u001b[38;5;241;43m.\u001b[39;49m\u001b[43mobject\u001b[49m\u001b[43m,\u001b[49m\u001b[43m \u001b[49m\u001b[38;5;241;43m*\u001b[39;49m\u001b[38;5;241;43m*\u001b[39;49m\u001b[43mkwargs\u001b[49m\u001b[43m)\u001b[49m\n",
      "File \u001b[0;32m~/Documents/tuw/sos/project3/SOS-Assignment-3-WISE-24-25/.venv/lib/python3.12/site-packages/holoviews/plotting/bokeh/renderer.py:68\u001b[0m, in \u001b[0;36mBokehRenderer.get_plot\u001b[0;34m(self_or_cls, obj, doc, renderer, **kwargs)\u001b[0m\n\u001b[1;32m     61\u001b[0m \u001b[38;5;129m@bothmethod\u001b[39m\n\u001b[1;32m     62\u001b[0m \u001b[38;5;28;01mdef\u001b[39;00m\u001b[38;5;250m \u001b[39m\u001b[38;5;21mget_plot\u001b[39m(self_or_cls, obj, doc\u001b[38;5;241m=\u001b[39m\u001b[38;5;28;01mNone\u001b[39;00m, renderer\u001b[38;5;241m=\u001b[39m\u001b[38;5;28;01mNone\u001b[39;00m, \u001b[38;5;241m*\u001b[39m\u001b[38;5;241m*\u001b[39mkwargs):\n\u001b[1;32m     63\u001b[0m \u001b[38;5;250m    \u001b[39m\u001b[38;5;124;03m\"\"\"\u001b[39;00m\n\u001b[1;32m     64\u001b[0m \u001b[38;5;124;03m    Given a HoloViews Viewable return a corresponding plot instance.\u001b[39;00m\n\u001b[1;32m     65\u001b[0m \u001b[38;5;124;03m    Allows supplying a document attach the plot to, useful when\u001b[39;00m\n\u001b[1;32m     66\u001b[0m \u001b[38;5;124;03m    combining the bokeh model with another plot.\u001b[39;00m\n\u001b[1;32m     67\u001b[0m \u001b[38;5;124;03m    \"\"\"\u001b[39;00m\n\u001b[0;32m---> 68\u001b[0m     plot \u001b[38;5;241m=\u001b[39m \u001b[38;5;28;43msuper\u001b[39;49m\u001b[43m(\u001b[49m\u001b[43m)\u001b[49m\u001b[38;5;241;43m.\u001b[39;49m\u001b[43mget_plot\u001b[49m\u001b[43m(\u001b[49m\u001b[43mobj\u001b[49m\u001b[43m,\u001b[49m\u001b[43m \u001b[49m\u001b[43mdoc\u001b[49m\u001b[43m,\u001b[49m\u001b[43m \u001b[49m\u001b[43mrenderer\u001b[49m\u001b[43m,\u001b[49m\u001b[43m \u001b[49m\u001b[38;5;241;43m*\u001b[39;49m\u001b[38;5;241;43m*\u001b[39;49m\u001b[43mkwargs\u001b[49m\u001b[43m)\u001b[49m\n\u001b[1;32m     69\u001b[0m     \u001b[38;5;28;01mif\u001b[39;00m plot\u001b[38;5;241m.\u001b[39mdocument \u001b[38;5;129;01mis\u001b[39;00m \u001b[38;5;28;01mNone\u001b[39;00m:\n\u001b[1;32m     70\u001b[0m         plot\u001b[38;5;241m.\u001b[39mdocument \u001b[38;5;241m=\u001b[39m Document() \u001b[38;5;28;01mif\u001b[39;00m self_or_cls\u001b[38;5;241m.\u001b[39mnotebook_context \u001b[38;5;28;01melse\u001b[39;00m curdoc()\n",
      "File \u001b[0;32m~/Documents/tuw/sos/project3/SOS-Assignment-3-WISE-24-25/.venv/lib/python3.12/site-packages/holoviews/plotting/renderer.py:239\u001b[0m, in \u001b[0;36mRenderer.get_plot\u001b[0;34m(self_or_cls, obj, doc, renderer, comm, **kwargs)\u001b[0m\n\u001b[1;32m    236\u001b[0m     defaults \u001b[38;5;241m=\u001b[39m [kd\u001b[38;5;241m.\u001b[39mdefault \u001b[38;5;28;01mfor\u001b[39;00m kd \u001b[38;5;129;01min\u001b[39;00m plot\u001b[38;5;241m.\u001b[39mdimensions]\n\u001b[1;32m    237\u001b[0m     init_key \u001b[38;5;241m=\u001b[39m \u001b[38;5;28mtuple\u001b[39m(v \u001b[38;5;28;01mif\u001b[39;00m d \u001b[38;5;129;01mis\u001b[39;00m \u001b[38;5;28;01mNone\u001b[39;00m \u001b[38;5;28;01melse\u001b[39;00m d \u001b[38;5;28;01mfor\u001b[39;00m v, d \u001b[38;5;129;01min\u001b[39;00m\n\u001b[1;32m    238\u001b[0m                      \u001b[38;5;28mzip\u001b[39m(plot\u001b[38;5;241m.\u001b[39mkeys[\u001b[38;5;241m0\u001b[39m], defaults))\n\u001b[0;32m--> 239\u001b[0m     \u001b[43mplot\u001b[49m\u001b[38;5;241;43m.\u001b[39;49m\u001b[43mupdate\u001b[49m\u001b[43m(\u001b[49m\u001b[43minit_key\u001b[49m\u001b[43m)\u001b[49m\n\u001b[1;32m    240\u001b[0m \u001b[38;5;28;01melse\u001b[39;00m:\n\u001b[1;32m    241\u001b[0m     plot \u001b[38;5;241m=\u001b[39m obj\n",
      "File \u001b[0;32m~/Documents/tuw/sos/project3/SOS-Assignment-3-WISE-24-25/.venv/lib/python3.12/site-packages/holoviews/plotting/plot.py:956\u001b[0m, in \u001b[0;36mDimensionedPlot.update\u001b[0;34m(self, key)\u001b[0m\n\u001b[1;32m    954\u001b[0m \u001b[38;5;28;01mdef\u001b[39;00m\u001b[38;5;250m \u001b[39m\u001b[38;5;21mupdate\u001b[39m(\u001b[38;5;28mself\u001b[39m, key):\n\u001b[1;32m    955\u001b[0m     \u001b[38;5;28;01mif\u001b[39;00m \u001b[38;5;28mlen\u001b[39m(\u001b[38;5;28mself\u001b[39m) \u001b[38;5;241m==\u001b[39m \u001b[38;5;241m1\u001b[39m \u001b[38;5;129;01mand\u001b[39;00m key \u001b[38;5;129;01min\u001b[39;00m (\u001b[38;5;241m0\u001b[39m, \u001b[38;5;28mself\u001b[39m\u001b[38;5;241m.\u001b[39mkeys[\u001b[38;5;241m0\u001b[39m]) \u001b[38;5;129;01mand\u001b[39;00m \u001b[38;5;129;01mnot\u001b[39;00m \u001b[38;5;28mself\u001b[39m\u001b[38;5;241m.\u001b[39mdrawn:\n\u001b[0;32m--> 956\u001b[0m         \u001b[38;5;28;01mreturn\u001b[39;00m \u001b[38;5;28;43mself\u001b[39;49m\u001b[38;5;241;43m.\u001b[39;49m\u001b[43minitialize_plot\u001b[49m\u001b[43m(\u001b[49m\u001b[43m)\u001b[49m\n\u001b[1;32m    957\u001b[0m     item \u001b[38;5;241m=\u001b[39m \u001b[38;5;28mself\u001b[39m\u001b[38;5;241m.\u001b[39m\u001b[38;5;21m__getitem__\u001b[39m(key)\n\u001b[1;32m    958\u001b[0m     \u001b[38;5;28mself\u001b[39m\u001b[38;5;241m.\u001b[39mtraverse(\u001b[38;5;28;01mlambda\u001b[39;00m x: \u001b[38;5;28msetattr\u001b[39m(x, \u001b[38;5;124m'\u001b[39m\u001b[38;5;124m_updated\u001b[39m\u001b[38;5;124m'\u001b[39m, \u001b[38;5;28;01mTrue\u001b[39;00m))\n",
      "File \u001b[0;32m~/Documents/tuw/sos/project3/SOS-Assignment-3-WISE-24-25/.venv/lib/python3.12/site-packages/holoviews/plotting/bokeh/element.py:3436\u001b[0m, in \u001b[0;36mOverlayPlot.initialize_plot\u001b[0;34m(self, ranges, plot, plots)\u001b[0m\n\u001b[1;32m   3434\u001b[0m \u001b[38;5;28;01mif\u001b[39;00m \u001b[38;5;28mself\u001b[39m\u001b[38;5;241m.\u001b[39mtabs:\n\u001b[1;32m   3435\u001b[0m     subplot\u001b[38;5;241m.\u001b[39moverlaid \u001b[38;5;241m=\u001b[39m \u001b[38;5;28;01mFalse\u001b[39;00m\n\u001b[0;32m-> 3436\u001b[0m child \u001b[38;5;241m=\u001b[39m \u001b[43msubplot\u001b[49m\u001b[38;5;241;43m.\u001b[39;49m\u001b[43minitialize_plot\u001b[49m\u001b[43m(\u001b[49m\u001b[43mranges\u001b[49m\u001b[43m,\u001b[49m\u001b[43m \u001b[49m\u001b[43mplot\u001b[49m\u001b[43m,\u001b[49m\u001b[43m \u001b[49m\u001b[43mplots\u001b[49m\u001b[43m)\u001b[49m\n\u001b[1;32m   3437\u001b[0m \u001b[38;5;28;01mif\u001b[39;00m \u001b[38;5;28misinstance\u001b[39m(element, CompositeOverlay):\n\u001b[1;32m   3438\u001b[0m     \u001b[38;5;66;03m# Ensure that all subplots are in the same state\u001b[39;00m\n\u001b[1;32m   3439\u001b[0m     frame \u001b[38;5;241m=\u001b[39m element\u001b[38;5;241m.\u001b[39mget(key, \u001b[38;5;28;01mNone\u001b[39;00m)\n",
      "File \u001b[0;32m~/Documents/tuw/sos/project3/SOS-Assignment-3-WISE-24-25/.venv/lib/python3.12/site-packages/holoviews/plotting/bokeh/element.py:2193\u001b[0m, in \u001b[0;36mElementPlot.initialize_plot\u001b[0;34m(self, ranges, plot, plots, source)\u001b[0m\n\u001b[1;32m   2191\u001b[0m \u001b[38;5;28;01mif\u001b[39;00m \u001b[38;5;28mself\u001b[39m\u001b[38;5;241m.\u001b[39mautorange:\n\u001b[1;32m   2192\u001b[0m     \u001b[38;5;28mself\u001b[39m\u001b[38;5;241m.\u001b[39m_setup_autorange()\n\u001b[0;32m-> 2193\u001b[0m \u001b[38;5;28;43mself\u001b[39;49m\u001b[38;5;241;43m.\u001b[39;49m\u001b[43m_init_glyphs\u001b[49m\u001b[43m(\u001b[49m\u001b[43mplot\u001b[49m\u001b[43m,\u001b[49m\u001b[43m \u001b[49m\u001b[43melement\u001b[49m\u001b[43m,\u001b[49m\u001b[43m \u001b[49m\u001b[43mranges\u001b[49m\u001b[43m,\u001b[49m\u001b[43m \u001b[49m\u001b[43msource\u001b[49m\u001b[43m)\u001b[49m\n\u001b[1;32m   2194\u001b[0m \u001b[38;5;28;01mif\u001b[39;00m \u001b[38;5;129;01mnot\u001b[39;00m \u001b[38;5;28mself\u001b[39m\u001b[38;5;241m.\u001b[39moverlaid:\n\u001b[1;32m   2195\u001b[0m     \u001b[38;5;28mself\u001b[39m\u001b[38;5;241m.\u001b[39m_update_plot(key, plot, style_element)\n",
      "File \u001b[0;32m~/Documents/tuw/sos/project3/SOS-Assignment-3-WISE-24-25/.venv/lib/python3.12/site-packages/holoviews/plotting/bokeh/element.py:2093\u001b[0m, in \u001b[0;36mElementPlot._init_glyphs\u001b[0;34m(self, plot, element, ranges, source)\u001b[0m\n\u001b[1;32m   2091\u001b[0m \u001b[38;5;28;01melse\u001b[39;00m:\n\u001b[1;32m   2092\u001b[0m     style \u001b[38;5;241m=\u001b[39m \u001b[38;5;28mself\u001b[39m\u001b[38;5;241m.\u001b[39mstyle[\u001b[38;5;28mself\u001b[39m\u001b[38;5;241m.\u001b[39mcyclic_index]\n\u001b[0;32m-> 2093\u001b[0m     data, mapping, style \u001b[38;5;241m=\u001b[39m \u001b[38;5;28;43mself\u001b[39;49m\u001b[38;5;241;43m.\u001b[39;49m\u001b[43mget_data\u001b[49m\u001b[43m(\u001b[49m\u001b[43melement\u001b[49m\u001b[43m,\u001b[49m\u001b[43m \u001b[49m\u001b[43mranges\u001b[49m\u001b[43m,\u001b[49m\u001b[43m \u001b[49m\u001b[43mstyle\u001b[49m\u001b[43m)\u001b[49m\n\u001b[1;32m   2094\u001b[0m     current_id \u001b[38;5;241m=\u001b[39m element\u001b[38;5;241m.\u001b[39m_plot_id\n\u001b[1;32m   2096\u001b[0m \u001b[38;5;28;01mwith\u001b[39;00m abbreviated_exception():\n",
      "File \u001b[0;32m~/Documents/tuw/sos/project3/SOS-Assignment-3-WISE-24-25/.venv/lib/python3.12/site-packages/holoviews/plotting/bokeh/raster.py:100\u001b[0m, in \u001b[0;36mRasterPlot.get_data\u001b[0;34m(self, element, ranges, style)\u001b[0m\n\u001b[1;32m     98\u001b[0m mapping \u001b[38;5;241m=\u001b[39m \u001b[38;5;28mdict\u001b[39m(image\u001b[38;5;241m=\u001b[39m\u001b[38;5;124m'\u001b[39m\u001b[38;5;124mimage\u001b[39m\u001b[38;5;124m'\u001b[39m, x\u001b[38;5;241m=\u001b[39m\u001b[38;5;124m'\u001b[39m\u001b[38;5;124mx\u001b[39m\u001b[38;5;124m'\u001b[39m, y\u001b[38;5;241m=\u001b[39m\u001b[38;5;124m'\u001b[39m\u001b[38;5;124my\u001b[39m\u001b[38;5;124m'\u001b[39m, dw\u001b[38;5;241m=\u001b[39m\u001b[38;5;124m'\u001b[39m\u001b[38;5;124mdw\u001b[39m\u001b[38;5;124m'\u001b[39m, dh\u001b[38;5;241m=\u001b[39m\u001b[38;5;124m'\u001b[39m\u001b[38;5;124mdh\u001b[39m\u001b[38;5;124m'\u001b[39m)\n\u001b[1;32m     99\u001b[0m val_dim \u001b[38;5;241m=\u001b[39m element\u001b[38;5;241m.\u001b[39mvdims[\u001b[38;5;241m0\u001b[39m]\n\u001b[0;32m--> 100\u001b[0m style[\u001b[38;5;124m'\u001b[39m\u001b[38;5;124mcolor_mapper\u001b[39m\u001b[38;5;124m'\u001b[39m] \u001b[38;5;241m=\u001b[39m \u001b[38;5;28;43mself\u001b[39;49m\u001b[38;5;241;43m.\u001b[39;49m\u001b[43m_get_colormapper\u001b[49m\u001b[43m(\u001b[49m\u001b[43mval_dim\u001b[49m\u001b[43m,\u001b[49m\u001b[43m \u001b[49m\u001b[43melement\u001b[49m\u001b[43m,\u001b[49m\u001b[43m \u001b[49m\u001b[43mranges\u001b[49m\u001b[43m,\u001b[49m\u001b[43m \u001b[49m\u001b[43mstyle\u001b[49m\u001b[43m)\u001b[49m\n\u001b[1;32m    101\u001b[0m \u001b[38;5;28;01mif\u001b[39;00m \u001b[38;5;124m'\u001b[39m\u001b[38;5;124malpha\u001b[39m\u001b[38;5;124m'\u001b[39m \u001b[38;5;129;01min\u001b[39;00m style:\n\u001b[1;32m    102\u001b[0m     style[\u001b[38;5;124m'\u001b[39m\u001b[38;5;124mglobal_alpha\u001b[39m\u001b[38;5;124m'\u001b[39m] \u001b[38;5;241m=\u001b[39m style[\u001b[38;5;124m'\u001b[39m\u001b[38;5;124malpha\u001b[39m\u001b[38;5;124m'\u001b[39m]\n",
      "File \u001b[0;32m~/Documents/tuw/sos/project3/SOS-Assignment-3-WISE-24-25/.venv/lib/python3.12/site-packages/holoviews/plotting/bokeh/element.py:2853\u001b[0m, in \u001b[0;36mColorbarPlot._get_colormapper\u001b[0;34m(self, eldim, element, ranges, style, factors, colors, group, name)\u001b[0m\n\u001b[1;32m   2848\u001b[0m     \u001b[38;5;28;01mif\u001b[39;00m \u001b[38;5;28misinstance\u001b[39m(cmap, \u001b[38;5;28mlist\u001b[39m) \u001b[38;5;129;01mand\u001b[39;00m \u001b[38;5;28mlen\u001b[39m(cmap) \u001b[38;5;241m!=\u001b[39m ncolors:\n\u001b[1;32m   2849\u001b[0m         \u001b[38;5;28;01mraise\u001b[39;00m \u001b[38;5;167;01mValueError\u001b[39;00m(\u001b[38;5;124m'\u001b[39m\u001b[38;5;124mThe number of colors in the colormap \u001b[39m\u001b[38;5;124m'\u001b[39m\n\u001b[1;32m   2850\u001b[0m                          \u001b[38;5;124m'\u001b[39m\u001b[38;5;124mmust match the intervals defined in the \u001b[39m\u001b[38;5;124m'\u001b[39m\n\u001b[1;32m   2851\u001b[0m                          \u001b[38;5;124m'\u001b[39m\u001b[38;5;124mcolor_levels, expected \u001b[39m\u001b[38;5;132;01m%d\u001b[39;00m\u001b[38;5;124m colors found \u001b[39m\u001b[38;5;132;01m%d\u001b[39;00m\u001b[38;5;124m.\u001b[39m\u001b[38;5;124m'\u001b[39m\n\u001b[1;32m   2852\u001b[0m                          \u001b[38;5;241m%\u001b[39m (ncolors, \u001b[38;5;28mlen\u001b[39m(cmap)))\n\u001b[0;32m-> 2853\u001b[0m palette \u001b[38;5;241m=\u001b[39m \u001b[43mprocess_cmap\u001b[49m\u001b[43m(\u001b[49m\u001b[43mcmap\u001b[49m\u001b[43m,\u001b[49m\u001b[43m \u001b[49m\u001b[43mncolors\u001b[49m\u001b[43m,\u001b[49m\u001b[43m \u001b[49m\u001b[43mcategorical\u001b[49m\u001b[38;5;241;43m=\u001b[39;49m\u001b[43mcategorical\u001b[49m\u001b[43m)\u001b[49m\n\u001b[1;32m   2854\u001b[0m \u001b[38;5;28;01mif\u001b[39;00m \u001b[38;5;28misinstance\u001b[39m(\u001b[38;5;28mself\u001b[39m\u001b[38;5;241m.\u001b[39mcolor_levels, \u001b[38;5;28mlist\u001b[39m):\n\u001b[1;32m   2855\u001b[0m     palette, (low, high) \u001b[38;5;241m=\u001b[39m color_intervals(palette, \u001b[38;5;28mself\u001b[39m\u001b[38;5;241m.\u001b[39mcolor_levels, clip\u001b[38;5;241m=\u001b[39m(low, high))\n",
      "File \u001b[0;32m~/Documents/tuw/sos/project3/SOS-Assignment-3-WISE-24-25/.venv/lib/python3.12/site-packages/holoviews/plotting/util.py:947\u001b[0m, in \u001b[0;36mprocess_cmap\u001b[0;34m(cmap, ncolors, provider, categorical)\u001b[0m\n\u001b[1;32m    945\u001b[0m         palette \u001b[38;5;241m=\u001b[39m colorcet_cmap_to_palette(cmap, ncolors, categorical)\n\u001b[1;32m    946\u001b[0m     \u001b[38;5;28;01melse\u001b[39;00m:\n\u001b[0;32m--> 947\u001b[0m         \u001b[38;5;28;01mraise\u001b[39;00m \u001b[38;5;167;01mValueError\u001b[39;00m(\u001b[38;5;124mf\u001b[39m\u001b[38;5;124m\"\u001b[39m\u001b[38;5;124mSupplied cmap \u001b[39m\u001b[38;5;132;01m{\u001b[39;00mcmap\u001b[38;5;132;01m}\u001b[39;00m\u001b[38;5;124m not found among \u001b[39m\u001b[38;5;132;01m{\u001b[39;00mproviders_checked\u001b[38;5;132;01m}\u001b[39;00m\u001b[38;5;124m colormaps.\u001b[39m\u001b[38;5;124m\"\u001b[39m)\n\u001b[1;32m    948\u001b[0m \u001b[38;5;28;01melse\u001b[39;00m:\n\u001b[1;32m    949\u001b[0m     \u001b[38;5;28;01mtry\u001b[39;00m:\n\u001b[1;32m    950\u001b[0m         \u001b[38;5;66;03m# Try processing as matplotlib colormap\u001b[39;00m\n",
      "\u001b[0;31mValueError\u001b[0m: Supplied cmap jet not found among matplotlib, bokeh, or colorcet colormaps."
     ]
    },
    {
     "data": {
      "text/plain": [
       "Column\n",
       "    [0] Column\n",
       "        [0] Column\n",
       "            [0] Row(margin=(5, 10), width=700)\n",
       "                [0] StaticText(value='<b></b>')\n",
       "                [1] Select(options=OrderedDict({'Component Pl...]), value=0)\n",
       "                [2] Select(options=OrderedDict({'PiYG': 'PiYG...]), value='jet')\n",
       "                [3] Button(name='↶')\n",
       "                [4] Button(name='↷')\n",
       "                [5] Button(name='↔')\n",
       "                [6] Button(name='↕')\n",
       "                [7] Checkbox(name='interpolation')\n",
       "        [1] Row\n",
       "            [0] Column\n",
       "                [0] HoloViews(DynamicMap)\n",
       "            [1] Row\n",
       "                [0] Column\n",
       "                    [0] Column(margin=(5, 10), name='Component Planes')\n",
       "                        [0] StaticText(value='<b>Component Planes</b>')\n",
       "                        [1] IntSlider(end=3, name='setosa')\n",
       "                    [1] Str(str)\n",
       "    [1] Column\n",
       "        [0] Row()"
      ]
     },
     "execution_count": 5,
     "metadata": {},
     "output_type": "execute_result"
    }
   ],
   "source": [
    "# Visualization by PySOMVis\n",
    "from pysomvis import PySOMVis\n",
    "\n",
    "vis = PySOMVis(weights=weights['arr'], m=weights['ydim'],n=weights['xdim'],\n",
    "                dimension=weights['vec_dim'], input_data=idata['arr'],\n",
    "                classes=classes['arr'][:,1], component_names=classes['classes_names'])\n",
    "vis._mainview"
   ]
  },
  {
   "cell_type": "code",
   "execution_count": 7,
   "id": "5c6d9d9e",
   "metadata": {},
   "outputs": [
    {
     "data": {
      "application/vnd.jupyter.widget-view+json": {
       "model_id": "047d873a278445c49c7bf48e30a9abb3",
       "version_major": 2,
       "version_minor": 0
      },
      "text/plain": [
       "BokehModel(combine_events=True, render_bundle={'docs_json': {'3fc9f66c-f9c9-43c6-896d-067ad04b87a8': {'version…"
      ]
     },
     "execution_count": 7,
     "metadata": {},
     "output_type": "execute_result"
    }
   ],
   "source": [
    "# Use any library for training SOM map (e.x. MiniSOM, SOMOClu, SOMpy, PopSOM etc.)\n",
    "from pysomvis import PySOMVis\n",
    "from minisom import MiniSom    \n",
    "\n",
    "som = MiniSom(10, 10, 4)\n",
    "som.train(idata['arr'], 10000)\n",
    "\n",
    "vis = PySOMVis(weights=som._weights, input_data=idata['arr'])\n",
    "vis._mainview"
   ]
  },
  {
   "cell_type": "markdown",
   "id": "2c109566",
   "metadata": {},
   "source": [
    "# Dataset\n",
    "##  Select a data set from the OpenML Machine Learning Repository \n",
    "\n",
    "(http://www.openml.org) with the\n",
    "following requirements:<br>\n",
    "a. minimum 1000 instances,<br>\n",
    "b. minimum 20 attributes,<br>\n",
    "c. minimum 4 class labels (for visualizing class distributions on the map).<br>\n",
    "Alternatively, you can also<br>\n",
    " opt to create an artificial dataset, preferably via parameterized scripts (in Matlab, Java, R,<br>\n",
    "Python…) similar to the 10-Gaussians dataset, creating data of different densities combining<br>\n",
    "i. Data on a finite area of a 1-d (line), 2-d, 3-d, 5-d hyperplanes<br>\n",
    "ii. Data on (hyper-)spheres with different radius as well as Gaussians<br>\n",
    "iii. Linear data sets in different intertwined settings<br>\n",
    "iv. Other cluster characteristics that you find interesting<br>\n",
    "\n",
    "## Register the dataset you picked with your group number in the TUWEL Wiki.<br>\n",
    " You must make sure<br>\n",
    "that your dataset is unique, i.e. no two groups may take the same data set! (first come, first serve -<br>\n",
    "do it early to get a data set that you also find interesting to work.)<br>\n",
    "\n",
    "## Create a machine-actionable description of the dataset following Croissant / Schema.org<br>\n",
    "descriptions for datasets (c.f. Croissant: https://neurips.cc/virtual/2024/poster/97627,<br>\n",
    "https://docs.mlcommons.org/croissant/docs/croissant-spec.html; schema.org:<br>\n",
    "https://schema.org/Dataset, c.f. the JSON example provided at https://schema.org/Dataset#eg-0478)<br>\n",
    "\n",
    "## Analyze and describe the characteristics of the dataset (size, attribute types as discussed in class,<br>\n",
    "value ranges, sparsity, min/max values, outliers, missing values, correlations, ...), and describe this<br>\n",
    "in the report. Also, describe any hypotheses you might have concerning the distribution of the data,<br>\n",
    "number of clusters and their relationship, majority/minority classes.<br>"
   ]
  },
  {
   "cell_type": "markdown",
   "id": "027ea2a9",
   "metadata": {},
   "source": [
    "# Preprocessing: \n",
    "\n",
    "Get the data into the form needed for training SOMs. Describe your preprocessing<br>\n",
    "steps (e.g. transcoding, scaling), why you did it and how you did it. Specifically, if your dataset turns<br>\n",
    "out to be extremely large (very high-dimensional and huge number of vectors so that it does not fit<br>\n",
    "into memory for training SOMs) you may choose to apply subsampling for the training data.<br>"
   ]
  },
  {
   "cell_type": "code",
   "execution_count": 15,
   "id": "e19e70d4",
   "metadata": {},
   "outputs": [],
   "source": [
    "## TODO LOADING AND PREPROCESSING THE DATA"
   ]
  },
  {
   "cell_type": "markdown",
   "id": "bfa1206c",
   "metadata": {},
   "source": [
    "# C) SOM Training and Analysis"
   ]
  },
  {
   "cell_type": "markdown",
   "id": "84e3b014",
   "metadata": {},
   "source": [
    "## 1) Train a reasonably sized „regular“ SOM"
   ]
  },
  {
   "cell_type": "code",
   "execution_count": 16,
   "id": "5e057fde",
   "metadata": {},
   "outputs": [],
   "source": [
    "from minisom import MiniSom\n",
    "from sklearn.datasets import load_iris\n",
    "import numpy as np\n",
    "from pysomvis import PySOMVis\n",
    "\n",
    "def calculate_som_size(data_size, fraction=0.1):\n",
    "    \"\"\"Calculate SOM dimensions based on the dataset size.\"\"\"\n",
    "    # Calculate the total number of units based on the data size and fraction\n",
    "    total_units = int(data_size * fraction)\n",
    "    # Use the square root to determine SOM dimensions (assumes a square grid)\n",
    "    som_dim = int(np.sqrt(total_units))\n",
    "    return som_dim, som_dim\n",
    "\n",
    "def train_som(dataloader, **params):\n",
    "    \"\"\"\n",
    "    Train a Self-Organizing Map (SOM) with specified parameters.\n",
    "\n",
    "    Parameters:\n",
    "    - dataloader (function): A function that returns the dataset. The dataset should have \n",
    "      'data' (features) and 'target' (labels) attributes.\n",
    "    - size_fraction (float): Fraction of the dataset used to calculate the SOM size (default is 0.1).\n",
    "    - sigma (float): The neighborhood radius used for the SOM (default is 1.0). Controls how far \n",
    "      neighboring neurons will be affected by the learning process.\n",
    "    - learning_rate (float): The learning rate for the SOM (default is 0.5). It determines how \n",
    "      much the weights of the SOM are adjusted during training.\n",
    "    - num_iterations (int): The number of iterations to train the SOM (default is 1000).\n",
    "    - random_seed (int, optional): The random seed for initializing the SOM. If None, a random seed is used.\n",
    "      Providing a fixed value ensures reproducibility.\n",
    "    - neighborhood_function (str): The type of neighborhood function used for training ('gaussian' is default).\n",
    "      This determines the shape of the neighborhood that is affected during training.\n",
    "\n",
    "    Returns:\n",
    "    - som (MiniSom): The trained SOM object.\n",
    "    - X (array): The input features used for training.\n",
    "    - y (array): The target labels corresponding to the input features.\n",
    "    - class_names (array): The class names of the target labels.\n",
    "    \"\"\"\n",
    "    \n",
    "    # Load dataset using the provided dataloader function\n",
    "    data = dataloader()\n",
    "    X = data.data  # Extract the data (already normalized by the dataloader)\n",
    "    y = data.target\n",
    "    class_names = data.target_names\n",
    "\n",
    "    # Calculate SOM size based on the number of data points and specified fraction\n",
    "    som_x, som_y = calculate_som_size(len(X), fraction=params.get('size_fraction', 0.1))\n",
    "\n",
    "    # Get the dimensionality of the input data (number of features per data point)\n",
    "    input_len = X.shape[1]\n",
    "\n",
    "    # Initialize SOM with the calculated dimensions and other specified parameters\n",
    "    som = MiniSom(som_x, som_y, input_len, \n",
    "                  sigma=params.get('sigma', 1.0),  # Neighborhood radius\n",
    "                  learning_rate=params.get('learning_rate', 0.5),  # Learning rate\n",
    "                  neighborhood_function=params.get('neighborhood_function', 'gaussian'),  # Neighborhood function\n",
    "                  random_seed=params.get('random_seed', None))  # Random seed for initialization\n",
    "\n",
    "    # Train the SOM using the normalized data and specified number of iterations\n",
    "    som.train(X, params.get('num_iterations', 1000))\n",
    "\n",
    "    # Return trained SOM and the input data\n",
    "    return som, X, y, class_names\n",
    "\n",
    "def iris_dataloader():\n",
    "    \"\"\"Load and normalize Iris dataset.\"\"\"\n",
    "    data = load_iris()\n",
    "    # Normalize data to range [0, 1]\n",
    "    data.data = (data.data - data.data.min(axis=0)) / (data.data.max(axis=0) - data.data.min(axis=0))\n",
    "    return data\n"
   ]
  },
  {
   "cell_type": "markdown",
   "id": "fba80e48",
   "metadata": {},
   "source": [
    "Train a SOM with „regular“ size (i.e. number of units as a certain fraction of the number of data<br>\n",
    "items) and reasonable training parameters (sufficiently large initial neighborhood, learning<br>\n",
    "rate; provide a justification for the selection of the parameters. NOTE: Learning rates for SOMs<br>\n",
    "differ from those usually encountered in Deep Neural Networks, c.f. lecture)<br>"
   ]
  },
  {
   "cell_type": "code",
   "execution_count": 17,
   "id": "3f0d682f",
   "metadata": {},
   "outputs": [],
   "source": [
    "# TODO TRAIN SOM WITH REG SIZE\n",
    "\n",
    "params = {\n",
    "    'size_fraction': 0.4,\n",
    "    'sigma': 1.5,\n",
    "    'learning_rate': 0.3,\n",
    "    'num_iterations': 5000,\n",
    "    'random_seed': 42  # Specify a random seed for initialization\n",
    "}\n",
    "\n",
    "# Call the train_som function with the updated parameters\n",
    "som, X, y, class_names = train_som(iris_dataloader, **params)"
   ]
  },
  {
   "cell_type": "markdown",
   "id": "773b6f06",
   "metadata": {},
   "source": [
    "Analyse in detail the class distribution, cluster structure, quantization errors, topology\n",
    "violations.<br> a) Can you identify the border effect and magnification factors.<br> b) How well do class\n",
    "distribution and cluster structure match?<br> c) Which classes fall into sub-clusters, which classes\n",
    "are split across clusters, which classes mix in clusters.<br> d) How is the quantization error\n",
    "distributed on the map, how does this correspond with perceived cluster separation and\n",
    "quality?"
   ]
  },
  {
   "cell_type": "code",
   "execution_count": 18,
   "id": "e63c185f",
   "metadata": {},
   "outputs": [
    {
     "data": {},
     "metadata": {},
     "output_type": "display_data"
    },
    {
     "data": {},
     "metadata": {},
     "output_type": "display_data"
    },
    {
     "data": {
      "application/vnd.holoviews_exec.v0+json": "",
      "text/html": [
       "<div id='2667'>\n",
       "\n",
       "\n",
       "\n",
       "\n",
       "\n",
       "  <div class=\"bk-root\" id=\"bd584010-8185-4331-a4ae-506f3a175920\" data-root-id=\"2667\"></div>\n",
       "</div>\n",
       "<script type=\"application/javascript\">(function(root) {\n",
       "  function embed_document(root) {\n",
       "    var docs_json = {\"0f14f925-555b-44c6-b353-73593df28fc7\":{\"defs\":[{\"extends\":null,\"module\":null,\"name\":\"ReactiveHTML1\",\"overrides\":[],\"properties\":[]},{\"extends\":null,\"module\":null,\"name\":\"FlexBox1\",\"overrides\":[],\"properties\":[{\"default\":\"flex-start\",\"kind\":null,\"name\":\"align_content\"},{\"default\":\"flex-start\",\"kind\":null,\"name\":\"align_items\"},{\"default\":\"row\",\"kind\":null,\"name\":\"flex_direction\"},{\"default\":\"wrap\",\"kind\":null,\"name\":\"flex_wrap\"},{\"default\":\"flex-start\",\"kind\":null,\"name\":\"justify_content\"}]},{\"extends\":null,\"module\":null,\"name\":\"GridStack1\",\"overrides\":[],\"properties\":[{\"default\":\"warn\",\"kind\":null,\"name\":\"mode\"},{\"default\":null,\"kind\":null,\"name\":\"ncols\"},{\"default\":null,\"kind\":null,\"name\":\"nrows\"},{\"default\":true,\"kind\":null,\"name\":\"allow_resize\"},{\"default\":true,\"kind\":null,\"name\":\"allow_drag\"},{\"default\":[],\"kind\":null,\"name\":\"state\"}]},{\"extends\":null,\"module\":null,\"name\":\"click1\",\"overrides\":[],\"properties\":[{\"default\":\"\",\"kind\":null,\"name\":\"terminal_output\"},{\"default\":\"\",\"kind\":null,\"name\":\"debug_name\"},{\"default\":0,\"kind\":null,\"name\":\"clears\"}]},{\"extends\":null,\"module\":null,\"name\":\"TemplateActions1\",\"overrides\":[],\"properties\":[{\"default\":0,\"kind\":null,\"name\":\"open_modal\"},{\"default\":0,\"kind\":null,\"name\":\"close_modal\"}]},{\"extends\":null,\"module\":null,\"name\":\"MaterialTemplateActions1\",\"overrides\":[],\"properties\":[{\"default\":0,\"kind\":null,\"name\":\"open_modal\"},{\"default\":0,\"kind\":null,\"name\":\"close_modal\"}]}],\"roots\":{\"references\":[{\"attributes\":{\"children\":[{\"id\":\"2670\"}],\"margin\":[0,0,0,0],\"name\":\"Column05140\"},\"id\":\"2669\",\"type\":\"Column\"},{\"attributes\":{\"coordinates\":null,\"data_source\":{\"id\":\"2732\"},\"glyph\":{\"id\":\"2735\"},\"group\":null,\"hover_glyph\":null,\"muted_glyph\":{\"id\":\"2737\"},\"nonselection_glyph\":{\"id\":\"2736\"},\"selection_glyph\":{\"id\":\"2740\"},\"view\":{\"id\":\"2739\"}},\"id\":\"2738\",\"type\":\"GlyphRenderer\"},{\"attributes\":{},\"id\":\"2757\",\"type\":\"UnionRenderers\"},{\"attributes\":{\"children\":[{\"id\":\"2877\"}],\"margin\":[0,0,0,0],\"name\":\"Row05172\"},\"id\":\"2876\",\"type\":\"Row\"},{\"attributes\":{\"coordinates\":null,\"group\":null,\"text_color\":\"black\",\"text_font_size\":\"12pt\"},\"id\":\"2684\",\"type\":\"Title\"},{\"attributes\":{\"children\":[{\"id\":\"2671\"},{\"id\":\"2672\"},{\"id\":\"2673\"},{\"id\":\"2674\"},{\"id\":\"2675\"},{\"id\":\"2676\"},{\"id\":\"2677\"},{\"id\":\"2678\"}],\"margin\":[5,5,5,5],\"min_width\":700,\"name\":\"\",\"width\":700},\"id\":\"2670\",\"type\":\"Row\"},{\"attributes\":{},\"id\":\"2690\",\"type\":\"LinearScale\"},{\"attributes\":{\"line_alpha\":{\"field\":\"alpha\"},\"line_cap\":{\"value\":\"butt\"},\"line_color\":{\"value\":\"red\"},\"line_dash\":{\"value\":[]},\"line_dash_offset\":{\"value\":0},\"line_join\":{\"value\":\"bevel\"},\"line_width\":{\"value\":2},\"x0\":{\"field\":\"x0\"},\"x1\":{\"field\":\"x1\"},\"y0\":{\"field\":\"y0\"},\"y1\":{\"field\":\"y1\"}},\"id\":\"2740\",\"type\":\"Segment\"},{\"attributes\":{\"margin\":[5,10,5,10],\"name\":\"\",\"text\":\"<b></b>\"},\"id\":\"2671\",\"type\":\"Div\"},{\"attributes\":{\"axis_label\":\"x\",\"coordinates\":null,\"formatter\":{\"id\":\"2713\"},\"group\":null,\"major_label_policy\":{\"id\":\"2714\"},\"ticker\":{\"id\":\"2693\"}},\"id\":\"2692\",\"type\":\"LinearAxis\"},{\"attributes\":{\"children\":[{\"id\":\"2879\"},{\"id\":\"2880\"}],\"margin\":[5,5,5,5],\"min_width\":300,\"name\":\"Component Planes\",\"width\":300},\"id\":\"2878\",\"type\":\"Column\"},{\"attributes\":{\"source\":{\"id\":\"2732\"}},\"id\":\"2739\",\"type\":\"CDSView\"},{\"attributes\":{},\"id\":\"2693\",\"type\":\"BasicTicker\"},{\"attributes\":{},\"id\":\"2714\",\"type\":\"AllLabels\"},{\"attributes\":{\"axis\":{\"id\":\"2692\"},\"coordinates\":null,\"grid_line_color\":null,\"group\":null,\"ticker\":null},\"id\":\"2695\",\"type\":\"Grid\"},{\"attributes\":{\"coordinates\":null,\"data_source\":{\"id\":\"2741\"},\"glyph\":{\"id\":\"2744\"},\"group\":null,\"hover_glyph\":null,\"muted_glyph\":{\"id\":\"2746\"},\"nonselection_glyph\":{\"id\":\"2745\"},\"selection_glyph\":{\"id\":\"2749\"},\"view\":{\"id\":\"2748\"}},\"id\":\"2747\",\"type\":\"GlyphRenderer\"},{\"attributes\":{},\"id\":\"2701\",\"type\":\"PanTool\"},{\"attributes\":{\"children\":[{\"id\":\"2680\"},{\"id\":\"2876\"}],\"margin\":[0,0,0,0],\"name\":\"Row05174\"},\"id\":\"2679\",\"type\":\"Row\"},{\"attributes\":{\"axis_label\":\"y\",\"coordinates\":null,\"formatter\":{\"id\":\"2716\"},\"group\":null,\"major_label_policy\":{\"id\":\"2717\"},\"ticker\":{\"id\":\"2697\"}},\"id\":\"2696\",\"type\":\"LinearAxis\"},{\"attributes\":{\"axis\":{\"id\":\"2696\"},\"coordinates\":null,\"dimension\":1,\"grid_line_color\":null,\"group\":null,\"ticker\":null},\"id\":\"2699\",\"type\":\"Grid\"},{\"attributes\":{},\"id\":\"2697\",\"type\":\"BasicTicker\"},{\"attributes\":{\"children\":[{\"id\":\"2878\"},{\"id\":\"2881\"}],\"margin\":[0,0,0,0],\"name\":\"\"},\"id\":\"2877\",\"type\":\"Column\"},{\"attributes\":{},\"id\":\"2702\",\"type\":\"WheelZoomTool\"},{\"attributes\":{},\"id\":\"2759\",\"type\":\"UnionRenderers\"},{\"attributes\":{\"margin\":[5,10,5,10],\"options\":[[\"PiYG\",\"PiYG\"],[\"PRGn\",\"PRGn\"],[\"BrBG\",\"BrBG\"],[\"PuOr\",\"PuOr\"],[\"RdGy\",\"RdGy\"],[\"RdBu\",\"RdBu\"],[\"RdYlBu\",\"RdYlBu\"],[\"RdYlGn\",\"RdYlGn\"],[\"Spectral\",\"Spectral\"],[\"coolwarm\",\"coolwarm\"],[\"bwr\",\"bwr\"],[\"seismic\",\"seismic\"],[\"gist_gray\",\"gist_gray\"],[\"bone\",\"bone\"],[\"pink\",\"pink\"],[\"spring\",\"spring\"],[\"summer\",\"summer\"],[\"autumn\",\"autumn\"],[\"winter\",\"winter\"],[\"cool\",\"cool\"],[\"Wistia\",\"Wistia\"],[\"hot\",\"hot\"],[\"afmhot\",\"afmhot\"],[\"gist_heat\",\"gist_heat\"],[\"copper\",\"copper\"],[\"Greys\",\"Greys\"],[\"Purples\",\"Purples\"],[\"Blues\",\"Blues\"],[\"Greens\",\"Greens\"],[\"Oranges\",\"Oranges\"],[\"Reds\",\"Reds\"],[\"YlOrBr\",\"YlOrBr\"],[\"YlOrRd\",\"YlOrRd\"],[\"OrRd\",\"OrRd\"],[\"PuRd\",\"PuRd\"],[\"RdPu\",\"RdPu\"],[\"BuPu\",\"BuPu\"],[\"GnBu\",\"GnBu\"],[\"PuBu\",\"PuBu\"],[\"YlGnBu\",\"YlGnBu\"],[\"PuBuGn\",\"PuBuGn\"],[\"BuGn\",\"BuGn\"],[\"YlGn\",\"YlGn\"],[\"viridis\",\"viridis\"],[\"plasma\",\"plasma\"],[\"inferno\",\"inferno\"],[\"magma\",\"magma\"],[\"cividis\",\"cividis\"],[\"twilight\",\"twilight\"],[\"twilight_shifted\",\"twilight_shifted\"],[\"hsv\",\"hsv\"],[\"Pastel1\",\"Pastel1\"],[\"Paired\",\"Paired\"],[\"Accent\",\"Accent\"],[\"Dark2\",\"Dark2\"],[\"Set1\",\"Set1\"],[\"Set2\",\"Set2\"],[\"Set3\",\"Set3\"],[\"tab10\",\"tab10\"],[\"tab20\",\"tab20\"],[\"tab20b\",\"tab20b\"],[\"tab20c\",\"tab20c\"],[\"flag\",\"flag\"],[\"prism\",\"prism\"],[\"ocean\",\"ocean\"],[\"gist_earth\",\"gist_earth\"],[\"terrain\",\"terrain\"],[\"gist_stern\",\"gist_stern\"],[\"gnuplot\",\"gnuplot\"],[\"gnuplot2\",\"gnuplot2\"],[\"CMRmap\",\"CMRmap\"],[\"cubehelix\",\"cubehelix\"],[\"brg\",\"brg\"],[\"gist_rainbow\",\"gist_rainbow\"],[\"rainbow\",\"rainbow\"],[\"jet\",\"jet\"],[\"turbo\",\"turbo\"],[\"nipy_spectral\",\"nipy_spectral\"],[\"gist_ncar\",\"gist_ncar\"],[\"glasbey_dark\",\"glasbey_dark\"]],\"value\":\"jet\"},\"id\":\"2673\",\"type\":\"panel.models.widgets.CustomSelect\"},{\"attributes\":{\"margin\":[5,10,5,10],\"name\":\"\",\"text\":\"<b>Component Planes</b>\"},\"id\":\"2879\",\"type\":\"Div\"},{\"attributes\":{},\"id\":\"2700\",\"type\":\"SaveTool\"},{\"attributes\":{\"icon\":null,\"label\":\"\\u21b7\",\"margin\":[5,10,5,10],\"subscribed_events\":[\"button_click\"]},\"id\":\"2675\",\"type\":\"Button\"},{\"attributes\":{\"fill_color\":{\"value\":\"red\"},\"hatch_color\":{\"value\":\"red\"},\"line_color\":{\"value\":\"red\"},\"marker\":{\"value\":\"asterisk\"},\"size\":{\"value\":2},\"x\":{\"field\":\"x\"},\"y\":{\"field\":\"y\"}},\"id\":\"2744\",\"type\":\"Scatter\"},{\"attributes\":{\"icon\":null,\"label\":\"\\u21b6\",\"margin\":[5,10,5,10],\"subscribed_events\":[\"button_click\"]},\"id\":\"2674\",\"type\":\"Button\"},{\"attributes\":{\"overlay\":{\"id\":\"2705\"}},\"id\":\"2703\",\"type\":\"BoxZoomTool\"},{\"attributes\":{\"end\":3,\"margin\":[5,10,5,10],\"start\":0,\"title\":\"Component\",\"value\":0},\"id\":\"2880\",\"type\":\"Slider\"},{\"attributes\":{\"margin\":[5,5,5,5],\"name\":\"Str05194\",\"text\":\"&lt;pre&gt;Slicing weight vector according its components.&lt;/pre&gt;\"},\"id\":\"2881\",\"type\":\"panel.models.markup.HTML\"},{\"attributes\":{},\"id\":\"2704\",\"type\":\"ResetTool\"},{\"attributes\":{},\"id\":\"2742\",\"type\":\"Selection\"},{\"attributes\":{\"icon\":null,\"label\":\"\\u2194\",\"margin\":[5,10,5,10],\"subscribed_events\":[\"button_click\"]},\"id\":\"2676\",\"type\":\"Button\"},{\"attributes\":{\"fill_alpha\":{\"value\":0.2},\"fill_color\":{\"value\":\"red\"},\"hatch_alpha\":{\"value\":0.2},\"hatch_color\":{\"value\":\"red\"},\"line_alpha\":{\"value\":0.2},\"line_color\":{\"value\":\"red\"},\"marker\":{\"value\":\"asterisk\"},\"size\":{\"value\":2},\"x\":{\"field\":\"x\"},\"y\":{\"field\":\"y\"}},\"id\":\"2746\",\"type\":\"Scatter\"},{\"attributes\":{\"bottom_units\":\"screen\",\"coordinates\":null,\"fill_alpha\":0.5,\"fill_color\":\"lightgrey\",\"group\":null,\"left_units\":\"screen\",\"level\":\"overlay\",\"line_alpha\":1.0,\"line_color\":\"black\",\"line_dash\":[4,4],\"line_width\":2,\"right_units\":\"screen\",\"syncable\":false,\"top_units\":\"screen\"},\"id\":\"2705\",\"type\":\"BoxAnnotation\"},{\"attributes\":{\"icon\":null,\"label\":\"\\u2195\",\"margin\":[5,10,5,10],\"subscribed_events\":[\"button_click\"]},\"id\":\"2677\",\"type\":\"Button\"},{\"attributes\":{\"fill_alpha\":{\"value\":0.1},\"fill_color\":{\"value\":\"red\"},\"hatch_alpha\":{\"value\":0.1},\"hatch_color\":{\"value\":\"red\"},\"line_alpha\":{\"value\":0.1},\"line_color\":{\"value\":\"red\"},\"marker\":{\"value\":\"asterisk\"},\"size\":{\"value\":2},\"x\":{\"field\":\"x\"},\"y\":{\"field\":\"y\"}},\"id\":\"2745\",\"type\":\"Scatter\"},{\"attributes\":{\"angle\":{\"value\":0.0},\"fill_alpha\":{\"value\":1.0},\"fill_color\":{\"value\":\"red\"},\"hatch_alpha\":{\"value\":1.0},\"hatch_color\":{\"value\":\"red\"},\"hatch_scale\":{\"value\":12.0},\"hatch_weight\":{\"value\":1.0},\"line_alpha\":{\"value\":1.0},\"line_cap\":{\"value\":\"butt\"},\"line_color\":{\"value\":\"red\"},\"line_dash\":{\"value\":[]},\"line_dash_offset\":{\"value\":0},\"line_join\":{\"value\":\"bevel\"},\"line_width\":{\"value\":1},\"marker\":{\"value\":\"asterisk\"},\"size\":{\"value\":2},\"x\":{\"field\":\"x\"},\"y\":{\"field\":\"y\"}},\"id\":\"2749\",\"type\":\"Scatter\"},{\"attributes\":{},\"id\":\"2713\",\"type\":\"BasicTickFormatter\"},{\"attributes\":{\"labels\":[\"interpolation\"],\"margin\":[5,10,5,10]},\"id\":\"2678\",\"type\":\"CheckboxGroup\"},{\"attributes\":{\"margin\":[0,0,0,0],\"name\":\"Row05173\"},\"id\":\"2883\",\"type\":\"Row\"},{\"attributes\":{\"source\":{\"id\":\"2741\"}},\"id\":\"2748\",\"type\":\"CDSView\"},{\"attributes\":{\"tools\":[{\"id\":\"2700\"},{\"id\":\"2701\"},{\"id\":\"2702\"},{\"id\":\"2703\"},{\"id\":\"2704\"}]},\"id\":\"2706\",\"type\":\"Toolbar\"},{\"attributes\":{\"children\":[{\"id\":\"2683\"}],\"margin\":[0,0,0,0],\"name\":\"Column05171\"},\"id\":\"2680\",\"type\":\"Column\"},{\"attributes\":{},\"id\":\"2761\",\"type\":\"UnionRenderers\"},{\"attributes\":{\"color_mapper\":{\"id\":\"2718\"},\"dh\":{\"field\":\"dh\"},\"dw\":{\"field\":\"dw\"},\"image\":{\"field\":\"image\"},\"x\":{\"field\":\"x\"},\"y\":{\"field\":\"y\"}},\"id\":\"2722\",\"type\":\"Image\"},{\"attributes\":{\"children\":[{\"id\":\"2669\"},{\"id\":\"2679\"}],\"margin\":[0,0,0,0],\"name\":\"Column05175\"},\"id\":\"2668\",\"type\":\"Column\"},{\"attributes\":{\"data\":{\"x0\":{\"__ndarray__\":\"\",\"dtype\":\"float64\",\"order\":\"little\",\"shape\":[0]},\"x1\":{\"__ndarray__\":\"\",\"dtype\":\"float64\",\"order\":\"little\",\"shape\":[0]},\"y0\":{\"__ndarray__\":\"\",\"dtype\":\"float64\",\"order\":\"little\",\"shape\":[0]},\"y1\":{\"__ndarray__\":\"\",\"dtype\":\"float64\",\"order\":\"little\",\"shape\":[0]}},\"selected\":{\"id\":\"2733\"},\"selection_policy\":{\"id\":\"2759\"}},\"id\":\"2732\",\"type\":\"ColumnDataSource\"},{\"attributes\":{\"line_alpha\":{\"field\":\"alpha\"},\"line_color\":{\"value\":\"red\"},\"line_width\":{\"value\":2},\"x0\":{\"field\":\"x0\"},\"x1\":{\"field\":\"x1\"},\"y0\":{\"field\":\"y0\"},\"y1\":{\"field\":\"y1\"}},\"id\":\"2735\",\"type\":\"Segment\"},{\"attributes\":{},\"id\":\"2720\",\"type\":\"Selection\"},{\"attributes\":{\"data\":{\"x\":{\"__ndarray__\":\"\",\"dtype\":\"float64\",\"order\":\"little\",\"shape\":[0]},\"y\":{\"__ndarray__\":\"\",\"dtype\":\"float64\",\"order\":\"little\",\"shape\":[0]}},\"selected\":{\"id\":\"2742\"},\"selection_policy\":{\"id\":\"2761\"}},\"id\":\"2741\",\"type\":\"ColumnDataSource\"},{\"attributes\":{\"margin\":[5,10,5,10],\"options\":[[\"0\",\"Component Planes\"],[\"1\",\"Hit Histogram\"],[\"2\",\"U-matrix\"],[\"3\",\"D-Matrix\"],[\"4\",\"P-matrix & U*-matrix\"],[\"5\",\"Smoothed Data Histograms\"],[\"6\",\"Pie Chart\"],[\"7\",\"Neighbourhood Graph\"],[\"8\",\"Chessboard\"],[\"9\",\"Clustering\"],[\"10\",\"Metro Map\"],[\"11\",\"Quantization Error\"],[\"12\",\"SOMStreamVis\"],[\"13\",\"Sky Metaphor\"],[\"14\",\"Topographic error\"],[\"15\",\"Intrinsic distance\"],[\"16\",\"Activity Histogram\"],[\"17\",\"Minimum Spanning Tree\"],[\"18\",\"Cluster Connection\"],[\"19\",\"Mnemonic SOM\"]],\"value\":\"0\"},\"id\":\"2672\",\"type\":\"panel.models.widgets.CustomSelect\"},{\"attributes\":{\"line_alpha\":{\"field\":\"alpha\"},\"line_color\":{\"value\":\"red\"},\"line_width\":{\"value\":2},\"x0\":{\"field\":\"x0\"},\"x1\":{\"field\":\"x1\"},\"y0\":{\"field\":\"y0\"},\"y1\":{\"field\":\"y1\"}},\"id\":\"2737\",\"type\":\"Segment\"},{\"attributes\":{\"color_mapper\":{\"id\":\"2718\"},\"dh\":{\"field\":\"dh\"},\"dw\":{\"field\":\"dw\"},\"global_alpha\":{\"value\":1.0},\"image\":{\"field\":\"image\"},\"x\":{\"field\":\"x\"},\"y\":{\"field\":\"y\"}},\"id\":\"2730\",\"type\":\"Image\"},{\"attributes\":{\"source\":{\"id\":\"2719\"}},\"id\":\"2729\",\"type\":\"CDSView\"},{\"attributes\":{\"high\":0.9245813133006998,\"low\":0.05216685863527836,\"nan_color\":\"rgba(0, 0, 0, 0)\",\"palette\":[\"#00007f\",\"#000084\",\"#000088\",\"#00008d\",\"#000091\",\"#000096\",\"#00009a\",\"#00009f\",\"#0000a3\",\"#0000a8\",\"#0000ac\",\"#0000b1\",\"#0000b6\",\"#0000ba\",\"#0000bf\",\"#0000c3\",\"#0000c8\",\"#0000cc\",\"#0000d1\",\"#0000d5\",\"#0000da\",\"#0000de\",\"#0000e3\",\"#0000e8\",\"#0000ec\",\"#0000f1\",\"#0000f5\",\"#0000fa\",\"#0000fe\",\"#0000ff\",\"#0000ff\",\"#0000ff\",\"#0000ff\",\"#0004ff\",\"#0008ff\",\"#000cff\",\"#0010ff\",\"#0014ff\",\"#0018ff\",\"#001cff\",\"#0020ff\",\"#0024ff\",\"#0028ff\",\"#002cff\",\"#0030ff\",\"#0034ff\",\"#0038ff\",\"#003cff\",\"#0040ff\",\"#0044ff\",\"#0048ff\",\"#004cff\",\"#0050ff\",\"#0054ff\",\"#0058ff\",\"#005cff\",\"#0060ff\",\"#0064ff\",\"#0068ff\",\"#006cff\",\"#0070ff\",\"#0074ff\",\"#0078ff\",\"#007cff\",\"#0080ff\",\"#0084ff\",\"#0088ff\",\"#008cff\",\"#0090ff\",\"#0094ff\",\"#0098ff\",\"#009cff\",\"#00a0ff\",\"#00a4ff\",\"#00a8ff\",\"#00acff\",\"#00b0ff\",\"#00b4ff\",\"#00b8ff\",\"#00bcff\",\"#00c0ff\",\"#00c4ff\",\"#00c8ff\",\"#00ccff\",\"#00d0ff\",\"#00d4ff\",\"#00d8ff\",\"#00dcfe\",\"#00e0fa\",\"#00e4f7\",\"#02e8f4\",\"#05ecf1\",\"#08f0ed\",\"#0cf4ea\",\"#0ff8e7\",\"#12fce4\",\"#15ffe1\",\"#18ffdd\",\"#1cffda\",\"#1fffd7\",\"#22ffd4\",\"#25ffd0\",\"#29ffcd\",\"#2cffca\",\"#2fffc7\",\"#32ffc3\",\"#36ffc0\",\"#39ffbd\",\"#3cffba\",\"#3fffb7\",\"#42ffb3\",\"#46ffb0\",\"#49ffad\",\"#4cffaa\",\"#4fffa6\",\"#53ffa3\",\"#56ffa0\",\"#59ff9d\",\"#5cff9a\",\"#5fff96\",\"#63ff93\",\"#66ff90\",\"#69ff8d\",\"#6cff89\",\"#70ff86\",\"#73ff83\",\"#76ff80\",\"#79ff7d\",\"#7cff79\",\"#80ff76\",\"#83ff73\",\"#86ff70\",\"#89ff6c\",\"#8dff69\",\"#90ff66\",\"#93ff63\",\"#96ff5f\",\"#9aff5c\",\"#9dff59\",\"#a0ff56\",\"#a3ff53\",\"#a6ff4f\",\"#aaff4c\",\"#adff49\",\"#b0ff46\",\"#b3ff42\",\"#b7ff3f\",\"#baff3c\",\"#bdff39\",\"#c0ff36\",\"#c3ff32\",\"#c7ff2f\",\"#caff2c\",\"#cdff29\",\"#d0ff25\",\"#d4ff22\",\"#d7ff1f\",\"#daff1c\",\"#ddff18\",\"#e0ff15\",\"#e4ff12\",\"#e7ff0f\",\"#eaff0c\",\"#edff08\",\"#f1fc05\",\"#f4f802\",\"#f7f400\",\"#faf000\",\"#feed00\",\"#ffe900\",\"#ffe500\",\"#ffe200\",\"#ffde00\",\"#ffda00\",\"#ffd700\",\"#ffd300\",\"#ffcf00\",\"#ffcb00\",\"#ffc800\",\"#ffc400\",\"#ffc000\",\"#ffbd00\",\"#ffb900\",\"#ffb500\",\"#ffb100\",\"#ffae00\",\"#ffaa00\",\"#ffa600\",\"#ffa300\",\"#ff9f00\",\"#ff9b00\",\"#ff9800\",\"#ff9400\",\"#ff9000\",\"#ff8c00\",\"#ff8900\",\"#ff8500\",\"#ff8100\",\"#ff7e00\",\"#ff7a00\",\"#ff7600\",\"#ff7300\",\"#ff6f00\",\"#ff6b00\",\"#ff6700\",\"#ff6400\",\"#ff6000\",\"#ff5c00\",\"#ff5900\",\"#ff5500\",\"#ff5100\",\"#ff4d00\",\"#ff4a00\",\"#ff4600\",\"#ff4200\",\"#ff3f00\",\"#ff3b00\",\"#ff3700\",\"#ff3400\",\"#ff3000\",\"#ff2c00\",\"#ff2800\",\"#ff2500\",\"#ff2100\",\"#ff1d00\",\"#ff1a00\",\"#ff1600\",\"#fe1200\",\"#fa0f00\",\"#f50b00\",\"#f10700\",\"#ec0300\",\"#e80000\",\"#e30000\",\"#de0000\",\"#da0000\",\"#d50000\",\"#d10000\",\"#cc0000\",\"#c80000\",\"#c30000\",\"#bf0000\",\"#ba0000\",\"#b60000\",\"#b10000\",\"#ac0000\",\"#a80000\",\"#a30000\",\"#9f0000\",\"#9a0000\",\"#960000\",\"#910000\",\"#8d0000\",\"#880000\",\"#840000\",\"#7f0000\"]},\"id\":\"2718\",\"type\":\"LinearColorMapper\"},{\"attributes\":{},\"id\":\"2733\",\"type\":\"Selection\"},{\"attributes\":{\"color_mapper\":{\"id\":\"2718\"},\"dh\":{\"field\":\"dh\"},\"dw\":{\"field\":\"dw\"},\"global_alpha\":{\"value\":0.1},\"image\":{\"field\":\"image\"},\"x\":{\"field\":\"x\"},\"y\":{\"field\":\"y\"}},\"id\":\"2724\",\"type\":\"Image\"},{\"attributes\":{\"client_comm_id\":\"d1310da9eaf845b39abf4fa2b6c0ff88\",\"comm_id\":\"ee0c4af1e3de4328aded0656e0ac9132\",\"plot_id\":\"2667\"},\"id\":\"2926\",\"type\":\"panel.models.comm_manager.CommManager\"},{\"attributes\":{},\"id\":\"2688\",\"type\":\"LinearScale\"},{\"attributes\":{},\"id\":\"2717\",\"type\":\"AllLabels\"},{\"attributes\":{\"line_alpha\":{\"field\":\"alpha\"},\"line_color\":{\"value\":\"red\"},\"line_width\":{\"value\":2},\"x0\":{\"field\":\"x0\"},\"x1\":{\"field\":\"x1\"},\"y0\":{\"field\":\"y0\"},\"y1\":{\"field\":\"y1\"}},\"id\":\"2736\",\"type\":\"Segment\"},{\"attributes\":{\"end\":0.5,\"reset_end\":0.5,\"reset_start\":-0.5,\"start\":-0.5,\"tags\":[[[\"y\",\"y\",null]]]},\"id\":\"2682\",\"type\":\"Range1d\"},{\"attributes\":{\"data\":{\"dh\":[1.0],\"dw\":[1.0],\"image\":[{\"__ndarray__\":\"HxKMT521qj/5iXsbuYK5P+eb0c47Ycs/ry5+SJo/1T96hygwfH7YPw8mrmlg8d8/FFbAydga4T8gGzcl3/nAP4ZyiZ1XZsQ/yuV3iebR0z8X7WkBc47YP16p7skC3NM/YB7xMgRf3D/ZIu4TfDziP40TOdCdQMM/eSulvx/1yD9Aa0Lfh/bWP3GUWCupfdk/B2kpvSF91z/D9LXloGraP01aTAgmIuE/MkRE4hJzxj/00m7kM0zLP7UiCmnF5tQ/vdAfHAwu3T/fheAc8jzdPyEAdPwrNeA/c+/YPIjY4T/WDSy09S7MPxNg/bL0x9E/umgcGV2z2T+qGKemKurgP8hj4WDcVeE/XomrkLnv4z/w9CsHUUfjP9mvc4/FOs8/tasN05hc0j9bPIPNYfjfP8Zr6/IuWOM/6cKCBpcr5D+9C/mskpXmP+YmYtiXpuc/QimpQTz21D8BabVDIDfVP0KTFGHVn+E/cMYYHkPy5T/l015RE8vnP2xaGSoKbeo/x9DjjCuW7T8=\",\"dtype\":\"float64\",\"order\":\"little\",\"shape\":[7,7]}],\"x\":[-0.5],\"y\":[-0.5]},\"selected\":{\"id\":\"2720\"},\"selection_policy\":{\"id\":\"2757\"}},\"id\":\"2719\",\"type\":\"ColumnDataSource\"},{\"attributes\":{\"color_mapper\":{\"id\":\"2718\"},\"dh\":{\"field\":\"dh\"},\"dw\":{\"field\":\"dw\"},\"global_alpha\":{\"value\":0.2},\"image\":{\"field\":\"image\"},\"x\":{\"field\":\"x\"},\"y\":{\"field\":\"y\"}},\"id\":\"2726\",\"type\":\"Image\"},{\"attributes\":{\"children\":[{\"id\":\"2668\"},{\"id\":\"2882\"}],\"margin\":[0,0,0,0],\"name\":\"Column05177\"},\"id\":\"2667\",\"type\":\"Column\"},{\"attributes\":{\"below\":[{\"id\":\"2692\"}],\"center\":[{\"id\":\"2695\"},{\"id\":\"2699\"}],\"height\":500,\"left\":[{\"id\":\"2696\"}],\"margin\":[5,5,5,5],\"min_border_bottom\":10,\"min_border_left\":10,\"min_border_right\":10,\"min_border_top\":10,\"renderers\":[{\"id\":\"2728\"},{\"id\":\"2738\"},{\"id\":\"2747\"}],\"sizing_mode\":\"fixed\",\"title\":{\"id\":\"2684\"},\"toolbar\":{\"id\":\"2706\"},\"width\":500,\"x_range\":{\"id\":\"2681\"},\"x_scale\":{\"id\":\"2688\"},\"y_range\":{\"id\":\"2682\"},\"y_scale\":{\"id\":\"2690\"}},\"id\":\"2683\",\"subtype\":\"Figure\",\"type\":\"Plot\"},{\"attributes\":{\"children\":[{\"id\":\"2883\"}],\"margin\":[0,0,0,0],\"name\":\"Column05176\"},\"id\":\"2882\",\"type\":\"Column\"},{\"attributes\":{},\"id\":\"2716\",\"type\":\"BasicTickFormatter\"},{\"attributes\":{\"end\":0.5,\"reset_end\":0.5,\"reset_start\":-0.5,\"start\":-0.5,\"tags\":[[[\"x\",\"x\",null]]]},\"id\":\"2681\",\"type\":\"Range1d\"},{\"attributes\":{\"coordinates\":null,\"data_source\":{\"id\":\"2719\"},\"glyph\":{\"id\":\"2722\"},\"group\":null,\"hover_glyph\":null,\"muted_glyph\":{\"id\":\"2726\"},\"nonselection_glyph\":{\"id\":\"2724\"},\"selection_glyph\":{\"id\":\"2730\"},\"view\":{\"id\":\"2729\"}},\"id\":\"2728\",\"type\":\"GlyphRenderer\"}],\"root_ids\":[\"2667\",\"2926\"]},\"title\":\"Bokeh Application\",\"version\":\"2.4.1\"}};\n",
       "    var render_items = [{\"docid\":\"0f14f925-555b-44c6-b353-73593df28fc7\",\"root_ids\":[\"2667\"],\"roots\":{\"2667\":\"bd584010-8185-4331-a4ae-506f3a175920\"}}];\n",
       "    root.Bokeh.embed.embed_items_notebook(docs_json, render_items);\n",
       "  }\n",
       "  if (root.Bokeh !== undefined && root.Bokeh.Panel !== undefined) {\n",
       "    embed_document(root);\n",
       "  } else {\n",
       "    var attempts = 0;\n",
       "    var timer = setInterval(function(root) {\n",
       "      if (root.Bokeh !== undefined && root.Bokeh.Panel !== undefined) {\n",
       "        clearInterval(timer);\n",
       "        embed_document(root);\n",
       "      } else if (document.readyState == \"complete\") {\n",
       "        attempts++;\n",
       "        if (attempts > 200) {\n",
       "          clearInterval(timer);\n",
       "          console.log(\"Bokeh: ERROR: Unable to run BokehJS code because BokehJS library is missing\");\n",
       "        }\n",
       "      }\n",
       "    }, 25, root)\n",
       "  }\n",
       "})(window);</script>"
      ],
      "text/plain": [
       "Column\n",
       "    [0] Column\n",
       "        [0] Column\n",
       "            [0] Row(margin=5, width=700)\n",
       "                [0] StaticText(value='<b></b>')\n",
       "                [1] Select(options=OrderedDict([('Component P...]), value=0)\n",
       "                [2] Select(options=OrderedDict([('PiYG', ...]), value='jet')\n",
       "                [3] Button(name='↶')\n",
       "                [4] Button(name='↷')\n",
       "                [5] Button(name='↔')\n",
       "                [6] Button(name='↕')\n",
       "                [7] Checkbox(name='interpolation')\n",
       "        [1] Row\n",
       "            [0] Column\n",
       "                [0] HoloViews(DynamicMap)\n",
       "            [1] Row\n",
       "                [0] Column\n",
       "                    [0] Column(margin=5, name='Component Planes', width=300)\n",
       "                        [0] StaticText(value='<b>Component Planes</b>')\n",
       "                        [1] IntSlider(end=3, name='Component')\n",
       "                    [1] Str(str)\n",
       "    [1] Column\n",
       "        [0] Row()"
      ]
     },
     "execution_count": 18,
     "metadata": {
      "application/vnd.holoviews_exec.v0+json": {
       "id": "2667"
      }
     },
     "output_type": "execute_result"
    }
   ],
   "source": [
    "#TODO above\n",
    "weights = {\n",
    "    'arr': som.get_weights(),\n",
    "    'xdim': som._weights.shape[0],\n",
    "    'ydim': som._weights.shape[1],\n",
    "    'vec_dim': som._weights.shape[2]\n",
    "}\n",
    "\n",
    "# Initialize PySOMVis with correct m and n\n",
    "# vis = PySOMVis(weights=weights['arr'], \n",
    "#                m=weights['xdim'],  # m should be xdim\n",
    "#                n=weights['ydim'],  # n should be ydim\n",
    "#                dimension=weights['vec_dim'], \n",
    "#                input_data=X, \n",
    "#                classes=y, \n",
    "#                component_names=class_names)\n",
    "\n",
    "# # Display the visualization\n",
    "# vis._mainview()\n",
    "\n",
    "vis = PySOMVis(weights=som._weights, input_data=X)\n",
    "vis._mainview\n"
   ]
  },
  {
   "cell_type": "markdown",
   "id": "a07e26bb",
   "metadata": {},
   "source": [
    "**Describe and compare the structures found**(providing detailed info on visualizations and\n",
    "parameters)"
   ]
  },
  {
   "cell_type": "code",
   "execution_count": 19,
   "id": "1e6f45cf",
   "metadata": {},
   "outputs": [],
   "source": [
    "#TODO show structres"
   ]
  },
  {
   "cell_type": "markdown",
   "id": "2c3b59d3",
   "metadata": {},
   "source": [
    "#TODO comparision text"
   ]
  },
  {
   "cell_type": "markdown",
   "id": "40a60c09",
   "metadata": {},
   "source": [
    "## 2) Analyze different initializations of the SOM"
   ]
  },
  {
   "cell_type": "markdown",
   "id": "7370cd72",
   "metadata": {},
   "source": [
    "Train one further „regular-sized“ SOM using the same training parameters as above, but using\n",
    "a different random seed for initializing the SOM."
   ]
  },
  {
   "cell_type": "code",
   "execution_count": 20,
   "id": "b6bb188b",
   "metadata": {},
   "outputs": [],
   "source": [
    "params[\"random_seed\"] = 43\n",
    "\n",
    "# Train the SOM using the updated parameters (same dataset, different seed)\n",
    "som2, X, y, class_names = train_som(iris_dataloader, **params)\n"
   ]
  },
  {
   "cell_type": "markdown",
   "id": "3166a6ab",
   "metadata": {},
   "source": [
    "**Show and describe** <br> a) how the cluster structures and class distributions shift on the two\n",
    "SOMs,<br> b) the effect on topology violations, cluster relationships, etc.<br> c) Which clusters show\n",
    "a stable relationship, which ones change their relative position?<br> d) Which data instances are\n",
    "stably mapped with similar data instances, which change a lot? Are they part of the same\n",
    "clusters?"
   ]
  },
  {
   "cell_type": "code",
   "execution_count": 21,
   "id": "16dbb788",
   "metadata": {},
   "outputs": [
    {
     "data": {},
     "metadata": {},
     "output_type": "display_data"
    },
    {
     "data": {},
     "metadata": {},
     "output_type": "display_data"
    },
    {
     "data": {
      "application/vnd.holoviews_exec.v0+json": "",
      "text/html": [
       "<div id='2997'>\n",
       "\n",
       "\n",
       "\n",
       "\n",
       "\n",
       "  <div class=\"bk-root\" id=\"e20d3b02-5df1-447b-97fd-6a81d757bd2b\" data-root-id=\"2997\"></div>\n",
       "</div>\n",
       "<script type=\"application/javascript\">(function(root) {\n",
       "  function embed_document(root) {\n",
       "    var docs_json = {\"91e7f485-6116-43ab-9c2a-4fe6654c30ee\":{\"defs\":[{\"extends\":null,\"module\":null,\"name\":\"ReactiveHTML1\",\"overrides\":[],\"properties\":[]},{\"extends\":null,\"module\":null,\"name\":\"FlexBox1\",\"overrides\":[],\"properties\":[{\"default\":\"flex-start\",\"kind\":null,\"name\":\"align_content\"},{\"default\":\"flex-start\",\"kind\":null,\"name\":\"align_items\"},{\"default\":\"row\",\"kind\":null,\"name\":\"flex_direction\"},{\"default\":\"wrap\",\"kind\":null,\"name\":\"flex_wrap\"},{\"default\":\"flex-start\",\"kind\":null,\"name\":\"justify_content\"}]},{\"extends\":null,\"module\":null,\"name\":\"GridStack1\",\"overrides\":[],\"properties\":[{\"default\":\"warn\",\"kind\":null,\"name\":\"mode\"},{\"default\":null,\"kind\":null,\"name\":\"ncols\"},{\"default\":null,\"kind\":null,\"name\":\"nrows\"},{\"default\":true,\"kind\":null,\"name\":\"allow_resize\"},{\"default\":true,\"kind\":null,\"name\":\"allow_drag\"},{\"default\":[],\"kind\":null,\"name\":\"state\"}]},{\"extends\":null,\"module\":null,\"name\":\"click1\",\"overrides\":[],\"properties\":[{\"default\":\"\",\"kind\":null,\"name\":\"terminal_output\"},{\"default\":\"\",\"kind\":null,\"name\":\"debug_name\"},{\"default\":0,\"kind\":null,\"name\":\"clears\"}]},{\"extends\":null,\"module\":null,\"name\":\"TemplateActions1\",\"overrides\":[],\"properties\":[{\"default\":0,\"kind\":null,\"name\":\"open_modal\"},{\"default\":0,\"kind\":null,\"name\":\"close_modal\"}]},{\"extends\":null,\"module\":null,\"name\":\"MaterialTemplateActions1\",\"overrides\":[],\"properties\":[{\"default\":0,\"kind\":null,\"name\":\"open_modal\"},{\"default\":0,\"kind\":null,\"name\":\"close_modal\"}]}],\"roots\":{\"references\":[{\"attributes\":{\"coordinates\":null,\"data_source\":{\"id\":\"3071\"},\"glyph\":{\"id\":\"3074\"},\"group\":null,\"hover_glyph\":null,\"muted_glyph\":{\"id\":\"3076\"},\"nonselection_glyph\":{\"id\":\"3075\"},\"selection_glyph\":{\"id\":\"3079\"},\"view\":{\"id\":\"3078\"}},\"id\":\"3077\",\"type\":\"GlyphRenderer\"},{\"attributes\":{\"angle\":{\"value\":0.0},\"fill_alpha\":{\"value\":1.0},\"fill_color\":{\"value\":\"red\"},\"hatch_alpha\":{\"value\":1.0},\"hatch_color\":{\"value\":\"red\"},\"hatch_scale\":{\"value\":12.0},\"hatch_weight\":{\"value\":1.0},\"line_alpha\":{\"value\":1.0},\"line_cap\":{\"value\":\"butt\"},\"line_color\":{\"value\":\"red\"},\"line_dash\":{\"value\":[]},\"line_dash_offset\":{\"value\":0},\"line_join\":{\"value\":\"bevel\"},\"line_width\":{\"value\":1},\"marker\":{\"value\":\"asterisk\"},\"size\":{\"value\":2},\"x\":{\"field\":\"x\"},\"y\":{\"field\":\"y\"}},\"id\":\"3079\",\"type\":\"Scatter\"},{\"attributes\":{},\"id\":\"3044\",\"type\":\"AllLabels\"},{\"attributes\":{},\"id\":\"3047\",\"type\":\"AllLabels\"},{\"attributes\":{},\"id\":\"3091\",\"type\":\"UnionRenderers\"},{\"attributes\":{\"color_mapper\":{\"id\":\"3048\"},\"dh\":{\"field\":\"dh\"},\"dw\":{\"field\":\"dw\"},\"global_alpha\":{\"value\":0.1},\"image\":{\"field\":\"image\"},\"x\":{\"field\":\"x\"},\"y\":{\"field\":\"y\"}},\"id\":\"3054\",\"type\":\"Image\"},{\"attributes\":{},\"id\":\"3046\",\"type\":\"BasicTickFormatter\"},{\"attributes\":{\"end\":0.5,\"reset_end\":0.5,\"reset_start\":-0.5,\"start\":-0.5,\"tags\":[[[\"x\",\"x\",null]]]},\"id\":\"3011\",\"type\":\"Range1d\"},{\"attributes\":{\"margin\":[0,0,0,0],\"name\":\"Row05979\"},\"id\":\"3213\",\"type\":\"Row\"},{\"attributes\":{\"source\":{\"id\":\"3049\"}},\"id\":\"3059\",\"type\":\"CDSView\"},{\"attributes\":{\"line_alpha\":{\"field\":\"alpha\"},\"line_cap\":{\"value\":\"butt\"},\"line_color\":{\"value\":\"red\"},\"line_dash\":{\"value\":[]},\"line_dash_offset\":{\"value\":0},\"line_join\":{\"value\":\"bevel\"},\"line_width\":{\"value\":2},\"x0\":{\"field\":\"x0\"},\"x1\":{\"field\":\"x1\"},\"y0\":{\"field\":\"y0\"},\"y1\":{\"field\":\"y1\"}},\"id\":\"3070\",\"type\":\"Segment\"},{\"attributes\":{\"data\":{\"x0\":{\"__ndarray__\":\"\",\"dtype\":\"float64\",\"order\":\"little\",\"shape\":[0]},\"x1\":{\"__ndarray__\":\"\",\"dtype\":\"float64\",\"order\":\"little\",\"shape\":[0]},\"y0\":{\"__ndarray__\":\"\",\"dtype\":\"float64\",\"order\":\"little\",\"shape\":[0]},\"y1\":{\"__ndarray__\":\"\",\"dtype\":\"float64\",\"order\":\"little\",\"shape\":[0]}},\"selected\":{\"id\":\"3063\"},\"selection_policy\":{\"id\":\"3089\"}},\"id\":\"3062\",\"type\":\"ColumnDataSource\"},{\"attributes\":{\"data\":{\"x\":{\"__ndarray__\":\"\",\"dtype\":\"float64\",\"order\":\"little\",\"shape\":[0]},\"y\":{\"__ndarray__\":\"\",\"dtype\":\"float64\",\"order\":\"little\",\"shape\":[0]}},\"selected\":{\"id\":\"3072\"},\"selection_policy\":{\"id\":\"3091\"}},\"id\":\"3071\",\"type\":\"ColumnDataSource\"},{\"attributes\":{\"line_alpha\":{\"field\":\"alpha\"},\"line_color\":{\"value\":\"red\"},\"line_width\":{\"value\":2},\"x0\":{\"field\":\"x0\"},\"x1\":{\"field\":\"x1\"},\"y0\":{\"field\":\"y0\"},\"y1\":{\"field\":\"y1\"}},\"id\":\"3065\",\"type\":\"Segment\"},{\"attributes\":{\"source\":{\"id\":\"3062\"}},\"id\":\"3069\",\"type\":\"CDSView\"},{\"attributes\":{\"high\":0.9245813133006998,\"low\":0.05216685863527836,\"nan_color\":\"rgba(0, 0, 0, 0)\",\"palette\":[\"#00007f\",\"#000084\",\"#000088\",\"#00008d\",\"#000091\",\"#000096\",\"#00009a\",\"#00009f\",\"#0000a3\",\"#0000a8\",\"#0000ac\",\"#0000b1\",\"#0000b6\",\"#0000ba\",\"#0000bf\",\"#0000c3\",\"#0000c8\",\"#0000cc\",\"#0000d1\",\"#0000d5\",\"#0000da\",\"#0000de\",\"#0000e3\",\"#0000e8\",\"#0000ec\",\"#0000f1\",\"#0000f5\",\"#0000fa\",\"#0000fe\",\"#0000ff\",\"#0000ff\",\"#0000ff\",\"#0000ff\",\"#0004ff\",\"#0008ff\",\"#000cff\",\"#0010ff\",\"#0014ff\",\"#0018ff\",\"#001cff\",\"#0020ff\",\"#0024ff\",\"#0028ff\",\"#002cff\",\"#0030ff\",\"#0034ff\",\"#0038ff\",\"#003cff\",\"#0040ff\",\"#0044ff\",\"#0048ff\",\"#004cff\",\"#0050ff\",\"#0054ff\",\"#0058ff\",\"#005cff\",\"#0060ff\",\"#0064ff\",\"#0068ff\",\"#006cff\",\"#0070ff\",\"#0074ff\",\"#0078ff\",\"#007cff\",\"#0080ff\",\"#0084ff\",\"#0088ff\",\"#008cff\",\"#0090ff\",\"#0094ff\",\"#0098ff\",\"#009cff\",\"#00a0ff\",\"#00a4ff\",\"#00a8ff\",\"#00acff\",\"#00b0ff\",\"#00b4ff\",\"#00b8ff\",\"#00bcff\",\"#00c0ff\",\"#00c4ff\",\"#00c8ff\",\"#00ccff\",\"#00d0ff\",\"#00d4ff\",\"#00d8ff\",\"#00dcfe\",\"#00e0fa\",\"#00e4f7\",\"#02e8f4\",\"#05ecf1\",\"#08f0ed\",\"#0cf4ea\",\"#0ff8e7\",\"#12fce4\",\"#15ffe1\",\"#18ffdd\",\"#1cffda\",\"#1fffd7\",\"#22ffd4\",\"#25ffd0\",\"#29ffcd\",\"#2cffca\",\"#2fffc7\",\"#32ffc3\",\"#36ffc0\",\"#39ffbd\",\"#3cffba\",\"#3fffb7\",\"#42ffb3\",\"#46ffb0\",\"#49ffad\",\"#4cffaa\",\"#4fffa6\",\"#53ffa3\",\"#56ffa0\",\"#59ff9d\",\"#5cff9a\",\"#5fff96\",\"#63ff93\",\"#66ff90\",\"#69ff8d\",\"#6cff89\",\"#70ff86\",\"#73ff83\",\"#76ff80\",\"#79ff7d\",\"#7cff79\",\"#80ff76\",\"#83ff73\",\"#86ff70\",\"#89ff6c\",\"#8dff69\",\"#90ff66\",\"#93ff63\",\"#96ff5f\",\"#9aff5c\",\"#9dff59\",\"#a0ff56\",\"#a3ff53\",\"#a6ff4f\",\"#aaff4c\",\"#adff49\",\"#b0ff46\",\"#b3ff42\",\"#b7ff3f\",\"#baff3c\",\"#bdff39\",\"#c0ff36\",\"#c3ff32\",\"#c7ff2f\",\"#caff2c\",\"#cdff29\",\"#d0ff25\",\"#d4ff22\",\"#d7ff1f\",\"#daff1c\",\"#ddff18\",\"#e0ff15\",\"#e4ff12\",\"#e7ff0f\",\"#eaff0c\",\"#edff08\",\"#f1fc05\",\"#f4f802\",\"#f7f400\",\"#faf000\",\"#feed00\",\"#ffe900\",\"#ffe500\",\"#ffe200\",\"#ffde00\",\"#ffda00\",\"#ffd700\",\"#ffd300\",\"#ffcf00\",\"#ffcb00\",\"#ffc800\",\"#ffc400\",\"#ffc000\",\"#ffbd00\",\"#ffb900\",\"#ffb500\",\"#ffb100\",\"#ffae00\",\"#ffaa00\",\"#ffa600\",\"#ffa300\",\"#ff9f00\",\"#ff9b00\",\"#ff9800\",\"#ff9400\",\"#ff9000\",\"#ff8c00\",\"#ff8900\",\"#ff8500\",\"#ff8100\",\"#ff7e00\",\"#ff7a00\",\"#ff7600\",\"#ff7300\",\"#ff6f00\",\"#ff6b00\",\"#ff6700\",\"#ff6400\",\"#ff6000\",\"#ff5c00\",\"#ff5900\",\"#ff5500\",\"#ff5100\",\"#ff4d00\",\"#ff4a00\",\"#ff4600\",\"#ff4200\",\"#ff3f00\",\"#ff3b00\",\"#ff3700\",\"#ff3400\",\"#ff3000\",\"#ff2c00\",\"#ff2800\",\"#ff2500\",\"#ff2100\",\"#ff1d00\",\"#ff1a00\",\"#ff1600\",\"#fe1200\",\"#fa0f00\",\"#f50b00\",\"#f10700\",\"#ec0300\",\"#e80000\",\"#e30000\",\"#de0000\",\"#da0000\",\"#d50000\",\"#d10000\",\"#cc0000\",\"#c80000\",\"#c30000\",\"#bf0000\",\"#ba0000\",\"#b60000\",\"#b10000\",\"#ac0000\",\"#a80000\",\"#a30000\",\"#9f0000\",\"#9a0000\",\"#960000\",\"#910000\",\"#8d0000\",\"#880000\",\"#840000\",\"#7f0000\"]},\"id\":\"3048\",\"type\":\"LinearColorMapper\"},{\"attributes\":{\"color_mapper\":{\"id\":\"3048\"},\"dh\":{\"field\":\"dh\"},\"dw\":{\"field\":\"dw\"},\"image\":{\"field\":\"image\"},\"x\":{\"field\":\"x\"},\"y\":{\"field\":\"y\"}},\"id\":\"3052\",\"type\":\"Image\"},{\"attributes\":{\"fill_color\":{\"value\":\"red\"},\"hatch_color\":{\"value\":\"red\"},\"line_color\":{\"value\":\"red\"},\"marker\":{\"value\":\"asterisk\"},\"size\":{\"value\":2},\"x\":{\"field\":\"x\"},\"y\":{\"field\":\"y\"}},\"id\":\"3074\",\"type\":\"Scatter\"},{\"attributes\":{\"axis_label\":\"x\",\"coordinates\":null,\"formatter\":{\"id\":\"3043\"},\"group\":null,\"major_label_policy\":{\"id\":\"3044\"},\"ticker\":{\"id\":\"3023\"}},\"id\":\"3022\",\"type\":\"LinearAxis\"},{\"attributes\":{\"color_mapper\":{\"id\":\"3048\"},\"dh\":{\"field\":\"dh\"},\"dw\":{\"field\":\"dw\"},\"global_alpha\":{\"value\":1.0},\"image\":{\"field\":\"image\"},\"x\":{\"field\":\"x\"},\"y\":{\"field\":\"y\"}},\"id\":\"3060\",\"type\":\"Image\"},{\"attributes\":{\"children\":[{\"id\":\"2998\"},{\"id\":\"3212\"}],\"margin\":[0,0,0,0],\"name\":\"Column05983\"},\"id\":\"2997\",\"type\":\"Column\"},{\"attributes\":{\"children\":[{\"id\":\"2999\"},{\"id\":\"3009\"}],\"margin\":[0,0,0,0],\"name\":\"Column05981\"},\"id\":\"2998\",\"type\":\"Column\"},{\"attributes\":{},\"id\":\"3020\",\"type\":\"LinearScale\"},{\"attributes\":{},\"id\":\"3072\",\"type\":\"Selection\"},{\"attributes\":{\"tools\":[{\"id\":\"3030\"},{\"id\":\"3031\"},{\"id\":\"3032\"},{\"id\":\"3033\"},{\"id\":\"3034\"}]},\"id\":\"3036\",\"type\":\"Toolbar\"},{\"attributes\":{\"client_comm_id\":\"cf19527210c94d56a09d9ec4ba0a4afa\",\"comm_id\":\"98d911bda80c445bb612f8a053575808\",\"plot_id\":\"2997\"},\"id\":\"3256\",\"type\":\"panel.models.comm_manager.CommManager\"},{\"attributes\":{\"children\":[{\"id\":\"3000\"}],\"margin\":[0,0,0,0],\"name\":\"Column05946\"},\"id\":\"2999\",\"type\":\"Column\"},{\"attributes\":{\"coordinates\":null,\"group\":null,\"text_color\":\"black\",\"text_font_size\":\"12pt\"},\"id\":\"3014\",\"type\":\"Title\"},{\"attributes\":{\"children\":[{\"id\":\"3207\"}],\"margin\":[0,0,0,0],\"name\":\"Row05978\"},\"id\":\"3206\",\"type\":\"Row\"},{\"attributes\":{\"fill_alpha\":{\"value\":0.2},\"fill_color\":{\"value\":\"red\"},\"hatch_alpha\":{\"value\":0.2},\"hatch_color\":{\"value\":\"red\"},\"line_alpha\":{\"value\":0.2},\"line_color\":{\"value\":\"red\"},\"marker\":{\"value\":\"asterisk\"},\"size\":{\"value\":2},\"x\":{\"field\":\"x\"},\"y\":{\"field\":\"y\"}},\"id\":\"3076\",\"type\":\"Scatter\"},{\"attributes\":{\"children\":[{\"id\":\"3001\"},{\"id\":\"3002\"},{\"id\":\"3003\"},{\"id\":\"3004\"},{\"id\":\"3005\"},{\"id\":\"3006\"},{\"id\":\"3007\"},{\"id\":\"3008\"}],\"margin\":[5,5,5,5],\"min_width\":700,\"name\":\"\",\"width\":700},\"id\":\"3000\",\"type\":\"Row\"},{\"attributes\":{\"children\":[{\"id\":\"3013\"}],\"margin\":[0,0,0,0],\"name\":\"Column05977\"},\"id\":\"3010\",\"type\":\"Column\"},{\"attributes\":{\"below\":[{\"id\":\"3022\"}],\"center\":[{\"id\":\"3025\"},{\"id\":\"3029\"}],\"height\":500,\"left\":[{\"id\":\"3026\"}],\"margin\":[5,5,5,5],\"min_border_bottom\":10,\"min_border_left\":10,\"min_border_right\":10,\"min_border_top\":10,\"renderers\":[{\"id\":\"3058\"},{\"id\":\"3068\"},{\"id\":\"3077\"}],\"sizing_mode\":\"fixed\",\"title\":{\"id\":\"3014\"},\"toolbar\":{\"id\":\"3036\"},\"width\":500,\"x_range\":{\"id\":\"3011\"},\"x_scale\":{\"id\":\"3018\"},\"y_range\":{\"id\":\"3012\"},\"y_scale\":{\"id\":\"3020\"}},\"id\":\"3013\",\"subtype\":\"Figure\",\"type\":\"Plot\"},{\"attributes\":{\"fill_alpha\":{\"value\":0.1},\"fill_color\":{\"value\":\"red\"},\"hatch_alpha\":{\"value\":0.1},\"hatch_color\":{\"value\":\"red\"},\"line_alpha\":{\"value\":0.1},\"line_color\":{\"value\":\"red\"},\"marker\":{\"value\":\"asterisk\"},\"size\":{\"value\":2},\"x\":{\"field\":\"x\"},\"y\":{\"field\":\"y\"}},\"id\":\"3075\",\"type\":\"Scatter\"},{\"attributes\":{\"margin\":[5,10,5,10],\"name\":\"\",\"text\":\"<b></b>\"},\"id\":\"3001\",\"type\":\"Div\"},{\"attributes\":{},\"id\":\"3031\",\"type\":\"PanTool\"},{\"attributes\":{\"end\":0.5,\"reset_end\":0.5,\"reset_start\":-0.5,\"start\":-0.5,\"tags\":[[[\"y\",\"y\",null]]]},\"id\":\"3012\",\"type\":\"Range1d\"},{\"attributes\":{\"data\":{\"dh\":[1.0],\"dw\":[1.0],\"image\":[{\"__ndarray__\":\"HxKMT521qj/5iXsbuYK5P+eb0c47Ycs/ry5+SJo/1T96hygwfH7YPw8mrmlg8d8/QFbAydga4T8gGzcl3/nAP4ZyiZ1XZsQ/yuV3iebR0z8X7WkBc47YP16p7skC3NM/YB7xMgRf3D/ZIu4TfDziP40TOdCdQMM/eSulvx/1yD9Aa0Lfh/bWP3GUWCupfdk/B2kpvSF91z/D9LXloGraP01aTAgmIuE/MkRE4hJzxj/00m7kM0zLP6YiCmnF5tQ/vdAfHAwu3T/fheAc8jzdPyEAdPwrNeA/c+/YPIjY4T/WDSy09S7MPxNg/bL0x9E/tGgcGV2z2T+qGKemKurgP8hj4WDcVeE/XomrkLnv4z/w9CsHUUfjP9mvc4/FOs8/tasN05hc0j9mPIPNYfjfP8Zr6/IuWOM/6cKCBpcr5D+9C/mskpXmP+YmYtiXpuc/QimpQTz21D87abVDIDfVPwKYFGHVn+E/cMYYHkPy5T/l015RE8vnP2xaGSoKbeo/x9DjjCuW7T8=\",\"dtype\":\"float64\",\"order\":\"little\",\"shape\":[7,7]}],\"x\":[-0.5],\"y\":[-0.5]},\"selected\":{\"id\":\"3050\"},\"selection_policy\":{\"id\":\"3087\"}},\"id\":\"3049\",\"type\":\"ColumnDataSource\"},{\"attributes\":{},\"id\":\"3023\",\"type\":\"BasicTicker\"},{\"attributes\":{},\"id\":\"3032\",\"type\":\"WheelZoomTool\"},{\"attributes\":{\"margin\":[5,10,5,10],\"options\":[[\"0\",\"Component Planes\"],[\"1\",\"Hit Histogram\"],[\"2\",\"U-matrix\"],[\"3\",\"D-Matrix\"],[\"4\",\"P-matrix & U*-matrix\"],[\"5\",\"Smoothed Data Histograms\"],[\"6\",\"Pie Chart\"],[\"7\",\"Neighbourhood Graph\"],[\"8\",\"Chessboard\"],[\"9\",\"Clustering\"],[\"10\",\"Metro Map\"],[\"11\",\"Quantization Error\"],[\"12\",\"SOMStreamVis\"],[\"13\",\"Sky Metaphor\"],[\"14\",\"Topographic error\"],[\"15\",\"Intrinsic distance\"],[\"16\",\"Activity Histogram\"],[\"17\",\"Minimum Spanning Tree\"],[\"18\",\"Cluster Connection\"],[\"19\",\"Mnemonic SOM\"]],\"value\":\"0\"},\"id\":\"3002\",\"type\":\"panel.models.widgets.CustomSelect\"},{\"attributes\":{\"axis\":{\"id\":\"3026\"},\"coordinates\":null,\"dimension\":1,\"grid_line_color\":null,\"group\":null,\"ticker\":null},\"id\":\"3029\",\"type\":\"Grid\"},{\"attributes\":{\"line_alpha\":{\"field\":\"alpha\"},\"line_color\":{\"value\":\"red\"},\"line_width\":{\"value\":2},\"x0\":{\"field\":\"x0\"},\"x1\":{\"field\":\"x1\"},\"y0\":{\"field\":\"y0\"},\"y1\":{\"field\":\"y1\"}},\"id\":\"3067\",\"type\":\"Segment\"},{\"attributes\":{\"children\":[{\"id\":\"3010\"},{\"id\":\"3206\"}],\"margin\":[0,0,0,0],\"name\":\"Row05980\"},\"id\":\"3009\",\"type\":\"Row\"},{\"attributes\":{\"children\":[{\"id\":\"3209\"},{\"id\":\"3210\"}],\"margin\":[5,5,5,5],\"min_width\":300,\"name\":\"Component Planes\",\"width\":300},\"id\":\"3208\",\"type\":\"Column\"},{\"attributes\":{\"color_mapper\":{\"id\":\"3048\"},\"dh\":{\"field\":\"dh\"},\"dw\":{\"field\":\"dw\"},\"global_alpha\":{\"value\":0.2},\"image\":{\"field\":\"image\"},\"x\":{\"field\":\"x\"},\"y\":{\"field\":\"y\"}},\"id\":\"3056\",\"type\":\"Image\"},{\"attributes\":{},\"id\":\"3087\",\"type\":\"UnionRenderers\"},{\"attributes\":{\"axis\":{\"id\":\"3022\"},\"coordinates\":null,\"grid_line_color\":null,\"group\":null,\"ticker\":null},\"id\":\"3025\",\"type\":\"Grid\"},{\"attributes\":{},\"id\":\"3043\",\"type\":\"BasicTickFormatter\"},{\"attributes\":{},\"id\":\"3027\",\"type\":\"BasicTicker\"},{\"attributes\":{\"margin\":[5,10,5,10],\"options\":[[\"PiYG\",\"PiYG\"],[\"PRGn\",\"PRGn\"],[\"BrBG\",\"BrBG\"],[\"PuOr\",\"PuOr\"],[\"RdGy\",\"RdGy\"],[\"RdBu\",\"RdBu\"],[\"RdYlBu\",\"RdYlBu\"],[\"RdYlGn\",\"RdYlGn\"],[\"Spectral\",\"Spectral\"],[\"coolwarm\",\"coolwarm\"],[\"bwr\",\"bwr\"],[\"seismic\",\"seismic\"],[\"gist_gray\",\"gist_gray\"],[\"bone\",\"bone\"],[\"pink\",\"pink\"],[\"spring\",\"spring\"],[\"summer\",\"summer\"],[\"autumn\",\"autumn\"],[\"winter\",\"winter\"],[\"cool\",\"cool\"],[\"Wistia\",\"Wistia\"],[\"hot\",\"hot\"],[\"afmhot\",\"afmhot\"],[\"gist_heat\",\"gist_heat\"],[\"copper\",\"copper\"],[\"Greys\",\"Greys\"],[\"Purples\",\"Purples\"],[\"Blues\",\"Blues\"],[\"Greens\",\"Greens\"],[\"Oranges\",\"Oranges\"],[\"Reds\",\"Reds\"],[\"YlOrBr\",\"YlOrBr\"],[\"YlOrRd\",\"YlOrRd\"],[\"OrRd\",\"OrRd\"],[\"PuRd\",\"PuRd\"],[\"RdPu\",\"RdPu\"],[\"BuPu\",\"BuPu\"],[\"GnBu\",\"GnBu\"],[\"PuBu\",\"PuBu\"],[\"YlGnBu\",\"YlGnBu\"],[\"PuBuGn\",\"PuBuGn\"],[\"BuGn\",\"BuGn\"],[\"YlGn\",\"YlGn\"],[\"viridis\",\"viridis\"],[\"plasma\",\"plasma\"],[\"inferno\",\"inferno\"],[\"magma\",\"magma\"],[\"cividis\",\"cividis\"],[\"twilight\",\"twilight\"],[\"twilight_shifted\",\"twilight_shifted\"],[\"hsv\",\"hsv\"],[\"Pastel1\",\"Pastel1\"],[\"Paired\",\"Paired\"],[\"Accent\",\"Accent\"],[\"Dark2\",\"Dark2\"],[\"Set1\",\"Set1\"],[\"Set2\",\"Set2\"],[\"Set3\",\"Set3\"],[\"tab10\",\"tab10\"],[\"tab20\",\"tab20\"],[\"tab20b\",\"tab20b\"],[\"tab20c\",\"tab20c\"],[\"flag\",\"flag\"],[\"prism\",\"prism\"],[\"ocean\",\"ocean\"],[\"gist_earth\",\"gist_earth\"],[\"terrain\",\"terrain\"],[\"gist_stern\",\"gist_stern\"],[\"gnuplot\",\"gnuplot\"],[\"gnuplot2\",\"gnuplot2\"],[\"CMRmap\",\"CMRmap\"],[\"cubehelix\",\"cubehelix\"],[\"brg\",\"brg\"],[\"gist_rainbow\",\"gist_rainbow\"],[\"rainbow\",\"rainbow\"],[\"jet\",\"jet\"],[\"turbo\",\"turbo\"],[\"nipy_spectral\",\"nipy_spectral\"],[\"gist_ncar\",\"gist_ncar\"],[\"glasbey_dark\",\"glasbey_dark\"]],\"value\":\"jet\"},\"id\":\"3003\",\"type\":\"panel.models.widgets.CustomSelect\"},{\"attributes\":{},\"id\":\"3018\",\"type\":\"LinearScale\"},{\"attributes\":{\"coordinates\":null,\"data_source\":{\"id\":\"3049\"},\"glyph\":{\"id\":\"3052\"},\"group\":null,\"hover_glyph\":null,\"muted_glyph\":{\"id\":\"3056\"},\"nonselection_glyph\":{\"id\":\"3054\"},\"selection_glyph\":{\"id\":\"3060\"},\"view\":{\"id\":\"3059\"}},\"id\":\"3058\",\"type\":\"GlyphRenderer\"},{\"attributes\":{\"source\":{\"id\":\"3071\"}},\"id\":\"3078\",\"type\":\"CDSView\"},{\"attributes\":{\"icon\":null,\"label\":\"\\u21b7\",\"margin\":[5,10,5,10],\"subscribed_events\":[\"button_click\"]},\"id\":\"3005\",\"type\":\"Button\"},{\"attributes\":{\"children\":[{\"id\":\"3208\"},{\"id\":\"3211\"}],\"margin\":[0,0,0,0],\"name\":\"\"},\"id\":\"3207\",\"type\":\"Column\"},{\"attributes\":{\"icon\":null,\"label\":\"\\u21b6\",\"margin\":[5,10,5,10],\"subscribed_events\":[\"button_click\"]},\"id\":\"3004\",\"type\":\"Button\"},{\"attributes\":{\"axis_label\":\"y\",\"coordinates\":null,\"formatter\":{\"id\":\"3046\"},\"group\":null,\"major_label_policy\":{\"id\":\"3047\"},\"ticker\":{\"id\":\"3027\"}},\"id\":\"3026\",\"type\":\"LinearAxis\"},{\"attributes\":{\"icon\":null,\"label\":\"\\u2194\",\"margin\":[5,10,5,10],\"subscribed_events\":[\"button_click\"]},\"id\":\"3006\",\"type\":\"Button\"},{\"attributes\":{},\"id\":\"3030\",\"type\":\"SaveTool\"},{\"attributes\":{\"margin\":[5,10,5,10],\"name\":\"\",\"text\":\"<b>Component Planes</b>\"},\"id\":\"3209\",\"type\":\"Div\"},{\"attributes\":{\"icon\":null,\"label\":\"\\u2195\",\"margin\":[5,10,5,10],\"subscribed_events\":[\"button_click\"]},\"id\":\"3007\",\"type\":\"Button\"},{\"attributes\":{\"line_alpha\":{\"field\":\"alpha\"},\"line_color\":{\"value\":\"red\"},\"line_width\":{\"value\":2},\"x0\":{\"field\":\"x0\"},\"x1\":{\"field\":\"x1\"},\"y0\":{\"field\":\"y0\"},\"y1\":{\"field\":\"y1\"}},\"id\":\"3066\",\"type\":\"Segment\"},{\"attributes\":{\"overlay\":{\"id\":\"3035\"}},\"id\":\"3033\",\"type\":\"BoxZoomTool\"},{\"attributes\":{},\"id\":\"3034\",\"type\":\"ResetTool\"},{\"attributes\":{\"end\":3,\"margin\":[5,10,5,10],\"start\":0,\"title\":\"Component\",\"value\":0},\"id\":\"3210\",\"type\":\"Slider\"},{\"attributes\":{},\"id\":\"3089\",\"type\":\"UnionRenderers\"},{\"attributes\":{\"labels\":[\"interpolation\"],\"margin\":[5,10,5,10]},\"id\":\"3008\",\"type\":\"CheckboxGroup\"},{\"attributes\":{\"margin\":[5,5,5,5],\"name\":\"Str06000\",\"text\":\"&lt;pre&gt;Slicing weight vector according its components.&lt;/pre&gt;\"},\"id\":\"3211\",\"type\":\"panel.models.markup.HTML\"},{\"attributes\":{},\"id\":\"3063\",\"type\":\"Selection\"},{\"attributes\":{\"bottom_units\":\"screen\",\"coordinates\":null,\"fill_alpha\":0.5,\"fill_color\":\"lightgrey\",\"group\":null,\"left_units\":\"screen\",\"level\":\"overlay\",\"line_alpha\":1.0,\"line_color\":\"black\",\"line_dash\":[4,4],\"line_width\":2,\"right_units\":\"screen\",\"syncable\":false,\"top_units\":\"screen\"},\"id\":\"3035\",\"type\":\"BoxAnnotation\"},{\"attributes\":{\"coordinates\":null,\"data_source\":{\"id\":\"3062\"},\"glyph\":{\"id\":\"3065\"},\"group\":null,\"hover_glyph\":null,\"muted_glyph\":{\"id\":\"3067\"},\"nonselection_glyph\":{\"id\":\"3066\"},\"selection_glyph\":{\"id\":\"3070\"},\"view\":{\"id\":\"3069\"}},\"id\":\"3068\",\"type\":\"GlyphRenderer\"},{\"attributes\":{},\"id\":\"3050\",\"type\":\"Selection\"},{\"attributes\":{\"children\":[{\"id\":\"3213\"}],\"margin\":[0,0,0,0],\"name\":\"Column05982\"},\"id\":\"3212\",\"type\":\"Column\"}],\"root_ids\":[\"2997\",\"3256\"]},\"title\":\"Bokeh Application\",\"version\":\"2.4.1\"}};\n",
       "    var render_items = [{\"docid\":\"91e7f485-6116-43ab-9c2a-4fe6654c30ee\",\"root_ids\":[\"2997\"],\"roots\":{\"2997\":\"e20d3b02-5df1-447b-97fd-6a81d757bd2b\"}}];\n",
       "    root.Bokeh.embed.embed_items_notebook(docs_json, render_items);\n",
       "  }\n",
       "  if (root.Bokeh !== undefined && root.Bokeh.Panel !== undefined) {\n",
       "    embed_document(root);\n",
       "  } else {\n",
       "    var attempts = 0;\n",
       "    var timer = setInterval(function(root) {\n",
       "      if (root.Bokeh !== undefined && root.Bokeh.Panel !== undefined) {\n",
       "        clearInterval(timer);\n",
       "        embed_document(root);\n",
       "      } else if (document.readyState == \"complete\") {\n",
       "        attempts++;\n",
       "        if (attempts > 200) {\n",
       "          clearInterval(timer);\n",
       "          console.log(\"Bokeh: ERROR: Unable to run BokehJS code because BokehJS library is missing\");\n",
       "        }\n",
       "      }\n",
       "    }, 25, root)\n",
       "  }\n",
       "})(window);</script>"
      ],
      "text/plain": [
       "Column\n",
       "    [0] Column\n",
       "        [0] Column\n",
       "            [0] Row(margin=5, width=700)\n",
       "                [0] StaticText(value='<b></b>')\n",
       "                [1] Select(options=OrderedDict([('Component P...]), value=0)\n",
       "                [2] Select(options=OrderedDict([('PiYG', ...]), value='jet')\n",
       "                [3] Button(name='↶')\n",
       "                [4] Button(name='↷')\n",
       "                [5] Button(name='↔')\n",
       "                [6] Button(name='↕')\n",
       "                [7] Checkbox(name='interpolation')\n",
       "        [1] Row\n",
       "            [0] Column\n",
       "                [0] HoloViews(DynamicMap)\n",
       "            [1] Row\n",
       "                [0] Column\n",
       "                    [0] Column(margin=5, name='Component Planes', width=300)\n",
       "                        [0] StaticText(value='<b>Component Planes</b>')\n",
       "                        [1] IntSlider(end=3, name='Component')\n",
       "                    [1] Str(str)\n",
       "    [1] Column\n",
       "        [0] Row()"
      ]
     },
     "execution_count": 21,
     "metadata": {
      "application/vnd.holoviews_exec.v0+json": {
       "id": "2997"
      }
     },
     "output_type": "execute_result"
    }
   ],
   "source": [
    "# Visualize the first SOM (som)\n",
    "vis1 = PySOMVis(weights=som._weights, input_data=X)\n",
    "vis1._mainview\n",
    "\n",
    "# Visualize the second SOM (som2) with a different random seed\n",
    "vis2 = PySOMVis(weights=som2._weights, input_data=X)\n",
    "vis2._mainview"
   ]
  },
  {
   "cell_type": "markdown",
   "id": "e3f037a7",
   "metadata": {},
   "source": [
    "#TODO comparision text"
   ]
  },
  {
   "cell_type": "markdown",
   "id": "fafdfb24",
   "metadata": {},
   "source": [
    "**Describe and compare the structures found** (providing detailed info on visualizations and\n",
    "parameters)"
   ]
  },
  {
   "cell_type": "code",
   "execution_count": 22,
   "id": "776570f1",
   "metadata": {},
   "outputs": [],
   "source": [
    "#TODO show structures"
   ]
  },
  {
   "cell_type": "markdown",
   "id": "57c98f6c",
   "metadata": {},
   "source": [
    "#todo comparision text"
   ]
  },
  {
   "cell_type": "markdown",
   "id": "94a3eec7",
   "metadata": {},
   "source": [
    "## 3) Analyze different map sizes"
   ]
  },
  {
   "cell_type": "markdown",
   "id": "6c36c8c4",
   "metadata": {},
   "source": [
    "Train 2 additional SOMs varying the size (very small / very large) (provide reasons for choice\n",
    "of sizes)<br>\n",
    "Train each map with rather large neighborhood radius and high learning rate (provide reasons\n",
    "for the definition of „high“!)"
   ]
  },
  {
   "cell_type": "code",
   "execution_count": 23,
   "id": "88448008",
   "metadata": {},
   "outputs": [
    {
     "name": "stderr",
     "output_type": "stream",
     "text": [
      "c:\\Users\\stefa\\Desktop\\MasterStudium\\WISE24I25\\SOS\\SOS-Assignment-3-WISE-24-25\\PySOMVis\\minisom.py:162: UserWarning: Warning: sigma is too high for the dimension of the map.\n",
      "  warn('Warning: sigma is too high for the dimension of the map.')\n"
     ]
    }
   ],
   "source": [
    "# Train a very small SOM (small grid, less resolution)\n",
    "params_small = {\n",
    "    'size_fraction': 0.05,  # Very small grid size (5% of the data size)\n",
    "    'sigma': 3.0,  # Large neighborhood radius (larger value for more smoothing)\n",
    "    'learning_rate': 0.9,  # High learning rate (close to 1 for fast convergence)\n",
    "    'num_iterations': 5000,\n",
    "    'random_seed': 44  # Different seed for initialization\n",
    "}\n",
    "som_small, X, y, class_names = train_som(iris_dataloader, **params_small)\n",
    "\n",
    "# Train a very large SOM (large grid, higher resolution)\n",
    "params_large = {\n",
    "    'size_fraction': 1.0,  # Very large grid size (100% of the data size)\n",
    "    'sigma': 3.0,  # Large neighborhood radius (larger value for more smoothing)\n",
    "    'learning_rate': 0.9,  # High learning rate (close to 1 for fast convergence)\n",
    "    'num_iterations': 5000,\n",
    "    'random_seed': 45  # Different seed for initialization\n",
    "}\n",
    "som_large, X, y, class_names = train_som(iris_dataloader, **params_large)\n"
   ]
  },
  {
   "cell_type": "markdown",
   "id": "921bc293",
   "metadata": {},
   "source": [
    "Analyse in detail the<br> a) class distribution,<br> b) cluster structure,<br> c) quantization errors,<br> d)\n",
    "topology violations. Also,<br> e) analyze how clusters shift, change in relative size, and how their\n",
    "relative position to each other changes or remains the same.<br> f) Check for aspects such as\n",
    "magnification factors. What is the resulting granularity of clusters visible on the small and large\n",
    "maps? Are the same clusters visible in the very large map as in the regular map?"
   ]
  },
  {
   "cell_type": "code",
   "execution_count": 25,
   "id": "6dcc5824",
   "metadata": {},
   "outputs": [
    {
     "data": {},
     "metadata": {},
     "output_type": "display_data"
    },
    {
     "data": {},
     "metadata": {},
     "output_type": "display_data"
    },
    {
     "data": {
      "application/vnd.holoviews_exec.v0+json": "",
      "text/html": [
       "<div id='3327'>\n",
       "\n",
       "\n",
       "\n",
       "\n",
       "\n",
       "  <div class=\"bk-root\" id=\"aa589d24-188c-4adc-af5d-1f6faceae8c7\" data-root-id=\"3327\"></div>\n",
       "</div>\n",
       "<script type=\"application/javascript\">(function(root) {\n",
       "  function embed_document(root) {\n",
       "    var docs_json = {\"9d043e76-1657-40f7-a4f4-537287993480\":{\"defs\":[{\"extends\":null,\"module\":null,\"name\":\"ReactiveHTML1\",\"overrides\":[],\"properties\":[]},{\"extends\":null,\"module\":null,\"name\":\"FlexBox1\",\"overrides\":[],\"properties\":[{\"default\":\"flex-start\",\"kind\":null,\"name\":\"align_content\"},{\"default\":\"flex-start\",\"kind\":null,\"name\":\"align_items\"},{\"default\":\"row\",\"kind\":null,\"name\":\"flex_direction\"},{\"default\":\"wrap\",\"kind\":null,\"name\":\"flex_wrap\"},{\"default\":\"flex-start\",\"kind\":null,\"name\":\"justify_content\"}]},{\"extends\":null,\"module\":null,\"name\":\"GridStack1\",\"overrides\":[],\"properties\":[{\"default\":\"warn\",\"kind\":null,\"name\":\"mode\"},{\"default\":null,\"kind\":null,\"name\":\"ncols\"},{\"default\":null,\"kind\":null,\"name\":\"nrows\"},{\"default\":true,\"kind\":null,\"name\":\"allow_resize\"},{\"default\":true,\"kind\":null,\"name\":\"allow_drag\"},{\"default\":[],\"kind\":null,\"name\":\"state\"}]},{\"extends\":null,\"module\":null,\"name\":\"click1\",\"overrides\":[],\"properties\":[{\"default\":\"\",\"kind\":null,\"name\":\"terminal_output\"},{\"default\":\"\",\"kind\":null,\"name\":\"debug_name\"},{\"default\":0,\"kind\":null,\"name\":\"clears\"}]},{\"extends\":null,\"module\":null,\"name\":\"TemplateActions1\",\"overrides\":[],\"properties\":[{\"default\":0,\"kind\":null,\"name\":\"open_modal\"},{\"default\":0,\"kind\":null,\"name\":\"close_modal\"}]},{\"extends\":null,\"module\":null,\"name\":\"MaterialTemplateActions1\",\"overrides\":[],\"properties\":[{\"default\":0,\"kind\":null,\"name\":\"open_modal\"},{\"default\":0,\"kind\":null,\"name\":\"close_modal\"}]}],\"roots\":{\"references\":[{\"attributes\":{\"children\":[{\"id\":\"3543\"}],\"margin\":[0,0,0,0],\"name\":\"Column06788\"},\"id\":\"3542\",\"type\":\"Column\"},{\"attributes\":{\"tools\":[{\"id\":\"3360\"},{\"id\":\"3361\"},{\"id\":\"3362\"},{\"id\":\"3363\"},{\"id\":\"3364\"}]},\"id\":\"3366\",\"type\":\"Toolbar\"},{\"attributes\":{},\"id\":\"3421\",\"type\":\"UnionRenderers\"},{\"attributes\":{\"angle\":{\"value\":0.0},\"fill_alpha\":{\"value\":1.0},\"fill_color\":{\"value\":\"red\"},\"hatch_alpha\":{\"value\":1.0},\"hatch_color\":{\"value\":\"red\"},\"hatch_scale\":{\"value\":12.0},\"hatch_weight\":{\"value\":1.0},\"line_alpha\":{\"value\":1.0},\"line_cap\":{\"value\":\"butt\"},\"line_color\":{\"value\":\"red\"},\"line_dash\":{\"value\":[]},\"line_dash_offset\":{\"value\":0},\"line_join\":{\"value\":\"bevel\"},\"line_width\":{\"value\":1},\"marker\":{\"value\":\"asterisk\"},\"size\":{\"value\":2},\"x\":{\"field\":\"x\"},\"y\":{\"field\":\"y\"}},\"id\":\"3409\",\"type\":\"Scatter\"},{\"attributes\":{\"bottom_units\":\"screen\",\"coordinates\":null,\"fill_alpha\":0.5,\"fill_color\":\"lightgrey\",\"group\":null,\"left_units\":\"screen\",\"level\":\"overlay\",\"line_alpha\":1.0,\"line_color\":\"black\",\"line_dash\":[4,4],\"line_width\":2,\"right_units\":\"screen\",\"syncable\":false,\"top_units\":\"screen\"},\"id\":\"3365\",\"type\":\"BoxAnnotation\"},{\"attributes\":{},\"id\":\"3374\",\"type\":\"AllLabels\"},{\"attributes\":{\"margin\":[5,10,5,10],\"options\":[[\"PiYG\",\"PiYG\"],[\"PRGn\",\"PRGn\"],[\"BrBG\",\"BrBG\"],[\"PuOr\",\"PuOr\"],[\"RdGy\",\"RdGy\"],[\"RdBu\",\"RdBu\"],[\"RdYlBu\",\"RdYlBu\"],[\"RdYlGn\",\"RdYlGn\"],[\"Spectral\",\"Spectral\"],[\"coolwarm\",\"coolwarm\"],[\"bwr\",\"bwr\"],[\"seismic\",\"seismic\"],[\"gist_gray\",\"gist_gray\"],[\"bone\",\"bone\"],[\"pink\",\"pink\"],[\"spring\",\"spring\"],[\"summer\",\"summer\"],[\"autumn\",\"autumn\"],[\"winter\",\"winter\"],[\"cool\",\"cool\"],[\"Wistia\",\"Wistia\"],[\"hot\",\"hot\"],[\"afmhot\",\"afmhot\"],[\"gist_heat\",\"gist_heat\"],[\"copper\",\"copper\"],[\"Greys\",\"Greys\"],[\"Purples\",\"Purples\"],[\"Blues\",\"Blues\"],[\"Greens\",\"Greens\"],[\"Oranges\",\"Oranges\"],[\"Reds\",\"Reds\"],[\"YlOrBr\",\"YlOrBr\"],[\"YlOrRd\",\"YlOrRd\"],[\"OrRd\",\"OrRd\"],[\"PuRd\",\"PuRd\"],[\"RdPu\",\"RdPu\"],[\"BuPu\",\"BuPu\"],[\"GnBu\",\"GnBu\"],[\"PuBu\",\"PuBu\"],[\"YlGnBu\",\"YlGnBu\"],[\"PuBuGn\",\"PuBuGn\"],[\"BuGn\",\"BuGn\"],[\"YlGn\",\"YlGn\"],[\"viridis\",\"viridis\"],[\"plasma\",\"plasma\"],[\"inferno\",\"inferno\"],[\"magma\",\"magma\"],[\"cividis\",\"cividis\"],[\"twilight\",\"twilight\"],[\"twilight_shifted\",\"twilight_shifted\"],[\"hsv\",\"hsv\"],[\"Pastel1\",\"Pastel1\"],[\"Paired\",\"Paired\"],[\"Accent\",\"Accent\"],[\"Dark2\",\"Dark2\"],[\"Set1\",\"Set1\"],[\"Set2\",\"Set2\"],[\"Set3\",\"Set3\"],[\"tab10\",\"tab10\"],[\"tab20\",\"tab20\"],[\"tab20b\",\"tab20b\"],[\"tab20c\",\"tab20c\"],[\"flag\",\"flag\"],[\"prism\",\"prism\"],[\"ocean\",\"ocean\"],[\"gist_earth\",\"gist_earth\"],[\"terrain\",\"terrain\"],[\"gist_stern\",\"gist_stern\"],[\"gnuplot\",\"gnuplot\"],[\"gnuplot2\",\"gnuplot2\"],[\"CMRmap\",\"CMRmap\"],[\"cubehelix\",\"cubehelix\"],[\"brg\",\"brg\"],[\"gist_rainbow\",\"gist_rainbow\"],[\"rainbow\",\"rainbow\"],[\"jet\",\"jet\"],[\"turbo\",\"turbo\"],[\"nipy_spectral\",\"nipy_spectral\"],[\"gist_ncar\",\"gist_ncar\"],[\"glasbey_dark\",\"glasbey_dark\"]],\"value\":\"jet\"},\"id\":\"3333\",\"type\":\"panel.models.widgets.CustomSelect\"},{\"attributes\":{},\"id\":\"3377\",\"type\":\"AllLabels\"},{\"attributes\":{},\"id\":\"3376\",\"type\":\"BasicTickFormatter\"},{\"attributes\":{\"coordinates\":null,\"data_source\":{\"id\":\"3401\"},\"glyph\":{\"id\":\"3404\"},\"group\":null,\"hover_glyph\":null,\"muted_glyph\":{\"id\":\"3406\"},\"nonselection_glyph\":{\"id\":\"3405\"},\"selection_glyph\":{\"id\":\"3409\"},\"view\":{\"id\":\"3408\"}},\"id\":\"3407\",\"type\":\"GlyphRenderer\"},{\"attributes\":{\"color_mapper\":{\"id\":\"3378\"},\"dh\":{\"field\":\"dh\"},\"dw\":{\"field\":\"dw\"},\"image\":{\"field\":\"image\"},\"x\":{\"field\":\"x\"},\"y\":{\"field\":\"y\"}},\"id\":\"3382\",\"type\":\"Image\"},{\"attributes\":{},\"id\":\"3361\",\"type\":\"PanTool\"},{\"attributes\":{},\"id\":\"3380\",\"type\":\"Selection\"},{\"attributes\":{\"below\":[{\"id\":\"3352\"}],\"center\":[{\"id\":\"3355\"},{\"id\":\"3359\"}],\"height\":500,\"left\":[{\"id\":\"3356\"}],\"margin\":[5,5,5,5],\"min_border_bottom\":10,\"min_border_left\":10,\"min_border_right\":10,\"min_border_top\":10,\"renderers\":[{\"id\":\"3388\"},{\"id\":\"3398\"},{\"id\":\"3407\"}],\"sizing_mode\":\"fixed\",\"title\":{\"id\":\"3344\"},\"toolbar\":{\"id\":\"3366\"},\"width\":500,\"x_range\":{\"id\":\"3341\"},\"x_scale\":{\"id\":\"3348\"},\"y_range\":{\"id\":\"3342\"},\"y_scale\":{\"id\":\"3350\"}},\"id\":\"3343\",\"subtype\":\"Figure\",\"type\":\"Plot\"},{\"attributes\":{\"color_mapper\":{\"id\":\"3378\"},\"dh\":{\"field\":\"dh\"},\"dw\":{\"field\":\"dw\"},\"global_alpha\":{\"value\":0.1},\"image\":{\"field\":\"image\"},\"x\":{\"field\":\"x\"},\"y\":{\"field\":\"y\"}},\"id\":\"3384\",\"type\":\"Image\"},{\"attributes\":{\"high\":0.9058106233221552,\"low\":0.054902644172979735,\"nan_color\":\"rgba(0, 0, 0, 0)\",\"palette\":[\"#00007f\",\"#000084\",\"#000088\",\"#00008d\",\"#000091\",\"#000096\",\"#00009a\",\"#00009f\",\"#0000a3\",\"#0000a8\",\"#0000ac\",\"#0000b1\",\"#0000b6\",\"#0000ba\",\"#0000bf\",\"#0000c3\",\"#0000c8\",\"#0000cc\",\"#0000d1\",\"#0000d5\",\"#0000da\",\"#0000de\",\"#0000e3\",\"#0000e8\",\"#0000ec\",\"#0000f1\",\"#0000f5\",\"#0000fa\",\"#0000fe\",\"#0000ff\",\"#0000ff\",\"#0000ff\",\"#0000ff\",\"#0004ff\",\"#0008ff\",\"#000cff\",\"#0010ff\",\"#0014ff\",\"#0018ff\",\"#001cff\",\"#0020ff\",\"#0024ff\",\"#0028ff\",\"#002cff\",\"#0030ff\",\"#0034ff\",\"#0038ff\",\"#003cff\",\"#0040ff\",\"#0044ff\",\"#0048ff\",\"#004cff\",\"#0050ff\",\"#0054ff\",\"#0058ff\",\"#005cff\",\"#0060ff\",\"#0064ff\",\"#0068ff\",\"#006cff\",\"#0070ff\",\"#0074ff\",\"#0078ff\",\"#007cff\",\"#0080ff\",\"#0084ff\",\"#0088ff\",\"#008cff\",\"#0090ff\",\"#0094ff\",\"#0098ff\",\"#009cff\",\"#00a0ff\",\"#00a4ff\",\"#00a8ff\",\"#00acff\",\"#00b0ff\",\"#00b4ff\",\"#00b8ff\",\"#00bcff\",\"#00c0ff\",\"#00c4ff\",\"#00c8ff\",\"#00ccff\",\"#00d0ff\",\"#00d4ff\",\"#00d8ff\",\"#00dcfe\",\"#00e0fa\",\"#00e4f7\",\"#02e8f4\",\"#05ecf1\",\"#08f0ed\",\"#0cf4ea\",\"#0ff8e7\",\"#12fce4\",\"#15ffe1\",\"#18ffdd\",\"#1cffda\",\"#1fffd7\",\"#22ffd4\",\"#25ffd0\",\"#29ffcd\",\"#2cffca\",\"#2fffc7\",\"#32ffc3\",\"#36ffc0\",\"#39ffbd\",\"#3cffba\",\"#3fffb7\",\"#42ffb3\",\"#46ffb0\",\"#49ffad\",\"#4cffaa\",\"#4fffa6\",\"#53ffa3\",\"#56ffa0\",\"#59ff9d\",\"#5cff9a\",\"#5fff96\",\"#63ff93\",\"#66ff90\",\"#69ff8d\",\"#6cff89\",\"#70ff86\",\"#73ff83\",\"#76ff80\",\"#79ff7d\",\"#7cff79\",\"#80ff76\",\"#83ff73\",\"#86ff70\",\"#89ff6c\",\"#8dff69\",\"#90ff66\",\"#93ff63\",\"#96ff5f\",\"#9aff5c\",\"#9dff59\",\"#a0ff56\",\"#a3ff53\",\"#a6ff4f\",\"#aaff4c\",\"#adff49\",\"#b0ff46\",\"#b3ff42\",\"#b7ff3f\",\"#baff3c\",\"#bdff39\",\"#c0ff36\",\"#c3ff32\",\"#c7ff2f\",\"#caff2c\",\"#cdff29\",\"#d0ff25\",\"#d4ff22\",\"#d7ff1f\",\"#daff1c\",\"#ddff18\",\"#e0ff15\",\"#e4ff12\",\"#e7ff0f\",\"#eaff0c\",\"#edff08\",\"#f1fc05\",\"#f4f802\",\"#f7f400\",\"#faf000\",\"#feed00\",\"#ffe900\",\"#ffe500\",\"#ffe200\",\"#ffde00\",\"#ffda00\",\"#ffd700\",\"#ffd300\",\"#ffcf00\",\"#ffcb00\",\"#ffc800\",\"#ffc400\",\"#ffc000\",\"#ffbd00\",\"#ffb900\",\"#ffb500\",\"#ffb100\",\"#ffae00\",\"#ffaa00\",\"#ffa600\",\"#ffa300\",\"#ff9f00\",\"#ff9b00\",\"#ff9800\",\"#ff9400\",\"#ff9000\",\"#ff8c00\",\"#ff8900\",\"#ff8500\",\"#ff8100\",\"#ff7e00\",\"#ff7a00\",\"#ff7600\",\"#ff7300\",\"#ff6f00\",\"#ff6b00\",\"#ff6700\",\"#ff6400\",\"#ff6000\",\"#ff5c00\",\"#ff5900\",\"#ff5500\",\"#ff5100\",\"#ff4d00\",\"#ff4a00\",\"#ff4600\",\"#ff4200\",\"#ff3f00\",\"#ff3b00\",\"#ff3700\",\"#ff3400\",\"#ff3000\",\"#ff2c00\",\"#ff2800\",\"#ff2500\",\"#ff2100\",\"#ff1d00\",\"#ff1a00\",\"#ff1600\",\"#fe1200\",\"#fa0f00\",\"#f50b00\",\"#f10700\",\"#ec0300\",\"#e80000\",\"#e30000\",\"#de0000\",\"#da0000\",\"#d50000\",\"#d10000\",\"#cc0000\",\"#c80000\",\"#c30000\",\"#bf0000\",\"#ba0000\",\"#b60000\",\"#b10000\",\"#ac0000\",\"#a80000\",\"#a30000\",\"#9f0000\",\"#9a0000\",\"#960000\",\"#910000\",\"#8d0000\",\"#880000\",\"#840000\",\"#7f0000\"]},\"id\":\"3378\",\"type\":\"LinearColorMapper\"},{\"attributes\":{\"line_alpha\":{\"field\":\"alpha\"},\"line_color\":{\"value\":\"red\"},\"line_width\":{\"value\":2},\"x0\":{\"field\":\"x0\"},\"x1\":{\"field\":\"x1\"},\"y0\":{\"field\":\"y0\"},\"y1\":{\"field\":\"y1\"}},\"id\":\"3396\",\"type\":\"Segment\"},{\"attributes\":{\"source\":{\"id\":\"3379\"}},\"id\":\"3389\",\"type\":\"CDSView\"},{\"attributes\":{\"coordinates\":null,\"data_source\":{\"id\":\"3379\"},\"glyph\":{\"id\":\"3382\"},\"group\":null,\"hover_glyph\":null,\"muted_glyph\":{\"id\":\"3386\"},\"nonselection_glyph\":{\"id\":\"3384\"},\"selection_glyph\":{\"id\":\"3390\"},\"view\":{\"id\":\"3389\"}},\"id\":\"3388\",\"type\":\"GlyphRenderer\"},{\"attributes\":{\"end\":0.5,\"reset_end\":0.5,\"reset_start\":-0.5,\"start\":-0.5,\"tags\":[[[\"x\",\"x\",null]]]},\"id\":\"3341\",\"type\":\"Range1d\"},{\"attributes\":{},\"id\":\"3393\",\"type\":\"Selection\"},{\"attributes\":{\"line_alpha\":{\"field\":\"alpha\"},\"line_color\":{\"value\":\"red\"},\"line_width\":{\"value\":2},\"x0\":{\"field\":\"x0\"},\"x1\":{\"field\":\"x1\"},\"y0\":{\"field\":\"y0\"},\"y1\":{\"field\":\"y1\"}},\"id\":\"3397\",\"type\":\"Segment\"},{\"attributes\":{\"children\":[{\"id\":\"3328\"},{\"id\":\"3542\"}],\"margin\":[0,0,0,0],\"name\":\"Column06789\"},\"id\":\"3327\",\"type\":\"Column\"},{\"attributes\":{},\"id\":\"3350\",\"type\":\"LinearScale\"},{\"attributes\":{\"line_alpha\":{\"field\":\"alpha\"},\"line_color\":{\"value\":\"red\"},\"line_width\":{\"value\":2},\"x0\":{\"field\":\"x0\"},\"x1\":{\"field\":\"x1\"},\"y0\":{\"field\":\"y0\"},\"y1\":{\"field\":\"y1\"}},\"id\":\"3395\",\"type\":\"Segment\"},{\"attributes\":{\"children\":[{\"id\":\"3329\"},{\"id\":\"3339\"}],\"margin\":[0,0,0,0],\"name\":\"Column06787\"},\"id\":\"3328\",\"type\":\"Column\"},{\"attributes\":{\"coordinates\":null,\"data_source\":{\"id\":\"3392\"},\"glyph\":{\"id\":\"3395\"},\"group\":null,\"hover_glyph\":null,\"muted_glyph\":{\"id\":\"3397\"},\"nonselection_glyph\":{\"id\":\"3396\"},\"selection_glyph\":{\"id\":\"3400\"},\"view\":{\"id\":\"3399\"}},\"id\":\"3398\",\"type\":\"GlyphRenderer\"},{\"attributes\":{\"coordinates\":null,\"group\":null,\"text_color\":\"black\",\"text_font_size\":\"12pt\"},\"id\":\"3344\",\"type\":\"Title\"},{\"attributes\":{\"children\":[{\"id\":\"3330\"}],\"margin\":[0,0,0,0],\"name\":\"Column06752\"},\"id\":\"3329\",\"type\":\"Column\"},{\"attributes\":{\"end\":0.5,\"reset_end\":0.5,\"reset_start\":-0.5,\"start\":-0.5,\"tags\":[[[\"y\",\"y\",null]]]},\"id\":\"3342\",\"type\":\"Range1d\"},{\"attributes\":{\"children\":[{\"id\":\"3537\"}],\"margin\":[0,0,0,0],\"name\":\"Row06784\"},\"id\":\"3536\",\"type\":\"Row\"},{\"attributes\":{\"axis_label\":\"x\",\"coordinates\":null,\"formatter\":{\"id\":\"3373\"},\"group\":null,\"major_label_policy\":{\"id\":\"3374\"},\"ticker\":{\"id\":\"3353\"}},\"id\":\"3352\",\"type\":\"LinearAxis\"},{\"attributes\":{\"children\":[{\"id\":\"3331\"},{\"id\":\"3332\"},{\"id\":\"3333\"},{\"id\":\"3334\"},{\"id\":\"3335\"},{\"id\":\"3336\"},{\"id\":\"3337\"},{\"id\":\"3338\"}],\"margin\":[5,5,5,5],\"min_width\":700,\"name\":\"\",\"width\":700},\"id\":\"3330\",\"type\":\"Row\"},{\"attributes\":{},\"id\":\"3362\",\"type\":\"WheelZoomTool\"},{\"attributes\":{\"axis\":{\"id\":\"3356\"},\"coordinates\":null,\"dimension\":1,\"grid_line_color\":null,\"group\":null,\"ticker\":null},\"id\":\"3359\",\"type\":\"Grid\"},{\"attributes\":{\"data\":{\"dh\":[1.0],\"dw\":[1.0],\"image\":[{\"__ndarray__\":\"jjdxj2b87D9tZSllWr/qP3M8W3B3k+Q/bP96eYHU4T/p3ZHWaWrfP8fG+A8Amdo/NwvD+P2F2T9Mzc3yA+PbPyDX7kmGJ9w/BvhcCau72D+kZwaYlLrSP+S2LmVNacs/kReTy2fJ6z80VQJBu3TpP6KStl5w4eM/Q1/XYWS74T8aIygD3QvgP57nE+i2+No/G0Nv59Fy1z/Pf8Hc1aTXP5jqUjEM7Nc/CkBubbkI1T+3HeJd4DXQP7fH/MibS8k/4ylMiJ0x6j8ZGEHfldXnP8n3vzyQHeM/fvLr0kho4T/gxQr5P1XgPzyNVFq5pNs/JhoYmlOw1j8ESJt6AaXVP12ana7EEdU/+UdlPTf10T/7dNv3E0zJP5IobN0138E/WC70IJ795z/aYmiLqtjlP3aLGtijeOI/VvwCHjca4T9sRxPiq13gPzGwztYYfdw//E2+Y8mt2D99WznMuZDWP5sryz8vhNI/sROTH/KWyT9HUP0bC6+8Pyf8XqOFR7A/zmOxnozb5T/6DgJOMHTkPxdD+e+cMeI/xsSTTv7p4D+5mww6Qo7fP/B6nba8wts/h8PXaVGb2T+IUSrWfprWP8SeIEemhMw/zvpibX37wj/cq7u0Dby4P8+tXwozHKw/af4NWkTX5D+yFKWAZabjP1aCmUPobOE/BSdksabf3z+lihMltdTcP0gcEmsE0tk/JCSToP052D8X/JQsRQvUP3VC693ws8g/SW+diG7Uwz/Yr2yjjHa8P90x1yTCxLI/wqj8MRnT4z/wnd2MY6ziP2B5Rt96bOA/e/RwMdUG3j/fK7CjTUDbP7dxX0jdUdg/7rk4zQ3b1D9TsN2u9rzPP7uAsLCWTck/gPNtBR95xj9JuHCH6irBP5o9fCaq6rg/3mfAERup4z93H8DtheHiP08+1fQS9eA/PJvLHiHb3j94ol9cpw7cP/3XtuL/nNc/0Wlekk3m0T/A2Q+1IH7NP4IhQKPNzMs/XMR9pm7VyT/am+YQQFDFPxm/YbSLEcA/HRbBNxb25D/8J22c+pzkP5LCXohEHOM/vZW/K1tS4T/pNzTBgdHeP2SkwcDBDdk/BmFBDZla0j9Uk/MyUIzQP0V6CCTTi88/1UvYnMnFzD9Gdz0mcdbIP9jYKwxw3cM/OdQ3gyKD5j+h6qWc+9flP4Mmpr0e0uQ/U6zm3UN74z9ad0/toiPhP6S3wyKWNNo/J7aGzqyB1D+9k7Ff1AzTPzOCRYW5qtE/Io5wtk3wzj/27UAI4tLJPxYunyfLgcU/j3MLVIC46D/XxARvP57mP5d09sWESeU/XOs2pxfH4z9ZlrnkImzhP1vjM5152Nk/FNrcO8zh1T+uDJBjHkjUPzJ38VP7UtI/IvA+MmkL0D9WnMbVwTbLP0efPfG3wMc/jDij+mtt6z/k4YU6kq7nP8vPF3OBNOU/+Fn3MJtd4z+UWFN8zTThPweew/F1z9o/Q+SXaQeg1j9DI8+phq3UPwjXtJNXLtI/vf9PL1lhzz8+klWbFWzMP9ep8x5k6Mo/\",\"dtype\":\"float64\",\"order\":\"little\",\"shape\":[12,12]}],\"x\":[-0.5],\"y\":[-0.5]},\"selected\":{\"id\":\"3380\"},\"selection_policy\":{\"id\":\"3417\"}},\"id\":\"3379\",\"type\":\"ColumnDataSource\"},{\"attributes\":{\"margin\":[5,10,5,10],\"name\":\"\",\"text\":\"<b></b>\"},\"id\":\"3331\",\"type\":\"Div\"},{\"attributes\":{},\"id\":\"3353\",\"type\":\"BasicTicker\"},{\"attributes\":{\"margin\":[5,10,5,10],\"options\":[[\"0\",\"Component Planes\"],[\"1\",\"Hit Histogram\"],[\"2\",\"U-matrix\"],[\"3\",\"D-Matrix\"],[\"4\",\"P-matrix & U*-matrix\"],[\"5\",\"Smoothed Data Histograms\"],[\"6\",\"Pie Chart\"],[\"7\",\"Neighbourhood Graph\"],[\"8\",\"Chessboard\"],[\"9\",\"Clustering\"],[\"10\",\"Metro Map\"],[\"11\",\"Quantization Error\"],[\"12\",\"SOMStreamVis\"],[\"13\",\"Sky Metaphor\"],[\"14\",\"Topographic error\"],[\"15\",\"Intrinsic distance\"],[\"16\",\"Activity Histogram\"],[\"17\",\"Minimum Spanning Tree\"],[\"18\",\"Cluster Connection\"],[\"19\",\"Mnemonic SOM\"]],\"value\":\"0\"},\"id\":\"3332\",\"type\":\"panel.models.widgets.CustomSelect\"},{\"attributes\":{\"axis\":{\"id\":\"3352\"},\"coordinates\":null,\"grid_line_color\":null,\"group\":null,\"ticker\":null},\"id\":\"3355\",\"type\":\"Grid\"},{\"attributes\":{\"children\":[{\"id\":\"3539\"},{\"id\":\"3540\"}],\"margin\":[5,5,5,5],\"min_width\":300,\"name\":\"Component Planes\",\"width\":300},\"id\":\"3538\",\"type\":\"Column\"},{\"attributes\":{\"children\":[{\"id\":\"3340\"},{\"id\":\"3536\"}],\"margin\":[0,0,0,0],\"name\":\"Row06786\"},\"id\":\"3339\",\"type\":\"Row\"},{\"attributes\":{},\"id\":\"3357\",\"type\":\"BasicTicker\"},{\"attributes\":{},\"id\":\"3348\",\"type\":\"LinearScale\"},{\"attributes\":{\"line_alpha\":{\"field\":\"alpha\"},\"line_cap\":{\"value\":\"butt\"},\"line_color\":{\"value\":\"red\"},\"line_dash\":{\"value\":[]},\"line_dash_offset\":{\"value\":0},\"line_join\":{\"value\":\"bevel\"},\"line_width\":{\"value\":2},\"x0\":{\"field\":\"x0\"},\"x1\":{\"field\":\"x1\"},\"y0\":{\"field\":\"y0\"},\"y1\":{\"field\":\"y1\"}},\"id\":\"3400\",\"type\":\"Segment\"},{\"attributes\":{\"axis_label\":\"y\",\"coordinates\":null,\"formatter\":{\"id\":\"3376\"},\"group\":null,\"major_label_policy\":{\"id\":\"3377\"},\"ticker\":{\"id\":\"3357\"}},\"id\":\"3356\",\"type\":\"LinearAxis\"},{\"attributes\":{\"source\":{\"id\":\"3392\"}},\"id\":\"3399\",\"type\":\"CDSView\"},{\"attributes\":{},\"id\":\"3360\",\"type\":\"SaveTool\"},{\"attributes\":{\"margin\":[0,0,0,0],\"name\":\"Row06785\"},\"id\":\"3543\",\"type\":\"Row\"},{\"attributes\":{\"icon\":null,\"label\":\"\\u21b7\",\"margin\":[5,10,5,10],\"subscribed_events\":[\"button_click\"]},\"id\":\"3335\",\"type\":\"Button\"},{\"attributes\":{\"data\":{\"x\":{\"__ndarray__\":\"\",\"dtype\":\"float64\",\"order\":\"little\",\"shape\":[0]},\"y\":{\"__ndarray__\":\"\",\"dtype\":\"float64\",\"order\":\"little\",\"shape\":[0]}},\"selected\":{\"id\":\"3402\"},\"selection_policy\":{\"id\":\"3421\"}},\"id\":\"3401\",\"type\":\"ColumnDataSource\"},{\"attributes\":{\"icon\":null,\"label\":\"\\u21b6\",\"margin\":[5,10,5,10],\"subscribed_events\":[\"button_click\"]},\"id\":\"3334\",\"type\":\"Button\"},{\"attributes\":{\"source\":{\"id\":\"3401\"}},\"id\":\"3408\",\"type\":\"CDSView\"},{\"attributes\":{\"overlay\":{\"id\":\"3365\"}},\"id\":\"3363\",\"type\":\"BoxZoomTool\"},{\"attributes\":{\"children\":[{\"id\":\"3538\"},{\"id\":\"3541\"}],\"margin\":[0,0,0,0],\"name\":\"\"},\"id\":\"3537\",\"type\":\"Column\"},{\"attributes\":{\"color_mapper\":{\"id\":\"3378\"},\"dh\":{\"field\":\"dh\"},\"dw\":{\"field\":\"dw\"},\"global_alpha\":{\"value\":1.0},\"image\":{\"field\":\"image\"},\"x\":{\"field\":\"x\"},\"y\":{\"field\":\"y\"}},\"id\":\"3390\",\"type\":\"Image\"},{\"attributes\":{},\"id\":\"3364\",\"type\":\"ResetTool\"},{\"attributes\":{\"icon\":null,\"label\":\"\\u2194\",\"margin\":[5,10,5,10],\"subscribed_events\":[\"button_click\"]},\"id\":\"3336\",\"type\":\"Button\"},{\"attributes\":{\"fill_alpha\":{\"value\":0.1},\"fill_color\":{\"value\":\"red\"},\"hatch_alpha\":{\"value\":0.1},\"hatch_color\":{\"value\":\"red\"},\"line_alpha\":{\"value\":0.1},\"line_color\":{\"value\":\"red\"},\"marker\":{\"value\":\"asterisk\"},\"size\":{\"value\":2},\"x\":{\"field\":\"x\"},\"y\":{\"field\":\"y\"}},\"id\":\"3405\",\"type\":\"Scatter\"},{\"attributes\":{},\"id\":\"3419\",\"type\":\"UnionRenderers\"},{\"attributes\":{\"fill_alpha\":{\"value\":0.2},\"fill_color\":{\"value\":\"red\"},\"hatch_alpha\":{\"value\":0.2},\"hatch_color\":{\"value\":\"red\"},\"line_alpha\":{\"value\":0.2},\"line_color\":{\"value\":\"red\"},\"marker\":{\"value\":\"asterisk\"},\"size\":{\"value\":2},\"x\":{\"field\":\"x\"},\"y\":{\"field\":\"y\"}},\"id\":\"3406\",\"type\":\"Scatter\"},{\"attributes\":{\"margin\":[5,10,5,10],\"name\":\"\",\"text\":\"<b>Component Planes</b>\"},\"id\":\"3539\",\"type\":\"Div\"},{\"attributes\":{},\"id\":\"3402\",\"type\":\"Selection\"},{\"attributes\":{\"icon\":null,\"label\":\"\\u2195\",\"margin\":[5,10,5,10],\"subscribed_events\":[\"button_click\"]},\"id\":\"3337\",\"type\":\"Button\"},{\"attributes\":{\"labels\":[\"interpolation\"],\"margin\":[5,10,5,10]},\"id\":\"3338\",\"type\":\"CheckboxGroup\"},{\"attributes\":{\"color_mapper\":{\"id\":\"3378\"},\"dh\":{\"field\":\"dh\"},\"dw\":{\"field\":\"dw\"},\"global_alpha\":{\"value\":0.2},\"image\":{\"field\":\"image\"},\"x\":{\"field\":\"x\"},\"y\":{\"field\":\"y\"}},\"id\":\"3386\",\"type\":\"Image\"},{\"attributes\":{\"end\":3,\"margin\":[5,10,5,10],\"start\":0,\"title\":\"Component\",\"value\":0},\"id\":\"3540\",\"type\":\"Slider\"},{\"attributes\":{\"margin\":[5,5,5,5],\"name\":\"Str06806\",\"text\":\"&lt;pre&gt;Slicing weight vector according its components.&lt;/pre&gt;\"},\"id\":\"3541\",\"type\":\"panel.models.markup.HTML\"},{\"attributes\":{},\"id\":\"3417\",\"type\":\"UnionRenderers\"},{\"attributes\":{\"children\":[{\"id\":\"3343\"}],\"margin\":[0,0,0,0],\"name\":\"Column06783\"},\"id\":\"3340\",\"type\":\"Column\"},{\"attributes\":{\"client_comm_id\":\"bb4acb014a40480789e6fc47198789da\",\"comm_id\":\"43c7f0502f7c406dafed0d3d00ab22a3\",\"plot_id\":\"3327\"},\"id\":\"3586\",\"type\":\"panel.models.comm_manager.CommManager\"},{\"attributes\":{\"data\":{\"x0\":{\"__ndarray__\":\"\",\"dtype\":\"float64\",\"order\":\"little\",\"shape\":[0]},\"x1\":{\"__ndarray__\":\"\",\"dtype\":\"float64\",\"order\":\"little\",\"shape\":[0]},\"y0\":{\"__ndarray__\":\"\",\"dtype\":\"float64\",\"order\":\"little\",\"shape\":[0]},\"y1\":{\"__ndarray__\":\"\",\"dtype\":\"float64\",\"order\":\"little\",\"shape\":[0]}},\"selected\":{\"id\":\"3393\"},\"selection_policy\":{\"id\":\"3419\"}},\"id\":\"3392\",\"type\":\"ColumnDataSource\"},{\"attributes\":{\"fill_color\":{\"value\":\"red\"},\"hatch_color\":{\"value\":\"red\"},\"line_color\":{\"value\":\"red\"},\"marker\":{\"value\":\"asterisk\"},\"size\":{\"value\":2},\"x\":{\"field\":\"x\"},\"y\":{\"field\":\"y\"}},\"id\":\"3404\",\"type\":\"Scatter\"},{\"attributes\":{},\"id\":\"3373\",\"type\":\"BasicTickFormatter\"}],\"root_ids\":[\"3327\",\"3586\"]},\"title\":\"Bokeh Application\",\"version\":\"2.4.1\"}};\n",
       "    var render_items = [{\"docid\":\"9d043e76-1657-40f7-a4f4-537287993480\",\"root_ids\":[\"3327\"],\"roots\":{\"3327\":\"aa589d24-188c-4adc-af5d-1f6faceae8c7\"}}];\n",
       "    root.Bokeh.embed.embed_items_notebook(docs_json, render_items);\n",
       "  }\n",
       "  if (root.Bokeh !== undefined && root.Bokeh.Panel !== undefined) {\n",
       "    embed_document(root);\n",
       "  } else {\n",
       "    var attempts = 0;\n",
       "    var timer = setInterval(function(root) {\n",
       "      if (root.Bokeh !== undefined && root.Bokeh.Panel !== undefined) {\n",
       "        clearInterval(timer);\n",
       "        embed_document(root);\n",
       "      } else if (document.readyState == \"complete\") {\n",
       "        attempts++;\n",
       "        if (attempts > 200) {\n",
       "          clearInterval(timer);\n",
       "          console.log(\"Bokeh: ERROR: Unable to run BokehJS code because BokehJS library is missing\");\n",
       "        }\n",
       "      }\n",
       "    }, 25, root)\n",
       "  }\n",
       "})(window);</script>"
      ],
      "text/plain": [
       "Column\n",
       "    [0] Column\n",
       "        [0] Column\n",
       "            [0] Row(margin=5, width=700)\n",
       "                [0] StaticText(value='<b></b>')\n",
       "                [1] Select(options=OrderedDict([('Component P...]), value=0)\n",
       "                [2] Select(options=OrderedDict([('PiYG', ...]), value='jet')\n",
       "                [3] Button(name='↶')\n",
       "                [4] Button(name='↷')\n",
       "                [5] Button(name='↔')\n",
       "                [6] Button(name='↕')\n",
       "                [7] Checkbox(name='interpolation')\n",
       "        [1] Row\n",
       "            [0] Column\n",
       "                [0] HoloViews(DynamicMap)\n",
       "            [1] Row\n",
       "                [0] Column\n",
       "                    [0] Column(margin=5, name='Component Planes', width=300)\n",
       "                        [0] StaticText(value='<b>Component Planes</b>')\n",
       "                        [1] IntSlider(end=3, name='Component')\n",
       "                    [1] Str(str)\n",
       "    [1] Column\n",
       "        [0] Row()"
      ]
     },
     "execution_count": 25,
     "metadata": {
      "application/vnd.holoviews_exec.v0+json": {
       "id": "3327"
      }
     },
     "output_type": "execute_result"
    }
   ],
   "source": [
    "\n",
    "\n",
    "# Visualize the very small SOM\n",
    "vis_small = PySOMVis(weights=som_small._weights, input_data=X)\n",
    "vis_small._mainview\n",
    "\n",
    "\n"
   ]
  },
  {
   "cell_type": "code",
   "execution_count": 26,
   "id": "052a1935",
   "metadata": {},
   "outputs": [
    {
     "data": {},
     "metadata": {},
     "output_type": "display_data"
    },
    {
     "data": {},
     "metadata": {},
     "output_type": "display_data"
    },
    {
     "data": {
      "application/vnd.holoviews_exec.v0+json": "",
      "text/html": [
       "<div id='3657'>\n",
       "\n",
       "\n",
       "\n",
       "\n",
       "\n",
       "  <div class=\"bk-root\" id=\"7293fdf0-8182-46eb-a51c-6b932300f63c\" data-root-id=\"3657\"></div>\n",
       "</div>\n",
       "<script type=\"application/javascript\">(function(root) {\n",
       "  function embed_document(root) {\n",
       "    var docs_json = {\"97fb7e90-e5be-4e7f-b244-bfb0834271fe\":{\"defs\":[{\"extends\":null,\"module\":null,\"name\":\"ReactiveHTML1\",\"overrides\":[],\"properties\":[]},{\"extends\":null,\"module\":null,\"name\":\"FlexBox1\",\"overrides\":[],\"properties\":[{\"default\":\"flex-start\",\"kind\":null,\"name\":\"align_content\"},{\"default\":\"flex-start\",\"kind\":null,\"name\":\"align_items\"},{\"default\":\"row\",\"kind\":null,\"name\":\"flex_direction\"},{\"default\":\"wrap\",\"kind\":null,\"name\":\"flex_wrap\"},{\"default\":\"flex-start\",\"kind\":null,\"name\":\"justify_content\"}]},{\"extends\":null,\"module\":null,\"name\":\"GridStack1\",\"overrides\":[],\"properties\":[{\"default\":\"warn\",\"kind\":null,\"name\":\"mode\"},{\"default\":null,\"kind\":null,\"name\":\"ncols\"},{\"default\":null,\"kind\":null,\"name\":\"nrows\"},{\"default\":true,\"kind\":null,\"name\":\"allow_resize\"},{\"default\":true,\"kind\":null,\"name\":\"allow_drag\"},{\"default\":[],\"kind\":null,\"name\":\"state\"}]},{\"extends\":null,\"module\":null,\"name\":\"click1\",\"overrides\":[],\"properties\":[{\"default\":\"\",\"kind\":null,\"name\":\"terminal_output\"},{\"default\":\"\",\"kind\":null,\"name\":\"debug_name\"},{\"default\":0,\"kind\":null,\"name\":\"clears\"}]},{\"extends\":null,\"module\":null,\"name\":\"TemplateActions1\",\"overrides\":[],\"properties\":[{\"default\":0,\"kind\":null,\"name\":\"open_modal\"},{\"default\":0,\"kind\":null,\"name\":\"close_modal\"}]},{\"extends\":null,\"module\":null,\"name\":\"MaterialTemplateActions1\",\"overrides\":[],\"properties\":[{\"default\":0,\"kind\":null,\"name\":\"open_modal\"},{\"default\":0,\"kind\":null,\"name\":\"close_modal\"}]}],\"roots\":{\"references\":[{\"attributes\":{\"fill_alpha\":{\"value\":0.1},\"fill_color\":{\"value\":\"red\"},\"hatch_alpha\":{\"value\":0.1},\"hatch_color\":{\"value\":\"red\"},\"line_alpha\":{\"value\":0.1},\"line_color\":{\"value\":\"red\"},\"marker\":{\"value\":\"asterisk\"},\"size\":{\"value\":2},\"x\":{\"field\":\"x\"},\"y\":{\"field\":\"y\"}},\"id\":\"3735\",\"type\":\"Scatter\"},{\"attributes\":{\"overlay\":{\"id\":\"3695\"}},\"id\":\"3693\",\"type\":\"BoxZoomTool\"},{\"attributes\":{},\"id\":\"3694\",\"type\":\"ResetTool\"},{\"attributes\":{\"fill_alpha\":{\"value\":0.2},\"fill_color\":{\"value\":\"red\"},\"hatch_alpha\":{\"value\":0.2},\"hatch_color\":{\"value\":\"red\"},\"line_alpha\":{\"value\":0.2},\"line_color\":{\"value\":\"red\"},\"marker\":{\"value\":\"asterisk\"},\"size\":{\"value\":2},\"x\":{\"field\":\"x\"},\"y\":{\"field\":\"y\"}},\"id\":\"3736\",\"type\":\"Scatter\"},{\"attributes\":{},\"id\":\"3749\",\"type\":\"UnionRenderers\"},{\"attributes\":{\"icon\":null,\"label\":\"\\u2195\",\"margin\":[5,10,5,10],\"subscribed_events\":[\"button_click\"]},\"id\":\"3667\",\"type\":\"Button\"},{\"attributes\":{\"bottom_units\":\"screen\",\"coordinates\":null,\"fill_alpha\":0.5,\"fill_color\":\"lightgrey\",\"group\":null,\"left_units\":\"screen\",\"level\":\"overlay\",\"line_alpha\":1.0,\"line_color\":\"black\",\"line_dash\":[4,4],\"line_width\":2,\"right_units\":\"screen\",\"syncable\":false,\"top_units\":\"screen\"},\"id\":\"3695\",\"type\":\"BoxAnnotation\"},{\"attributes\":{\"labels\":[\"interpolation\"],\"margin\":[5,10,5,10]},\"id\":\"3668\",\"type\":\"CheckboxGroup\"},{\"attributes\":{},\"id\":\"3703\",\"type\":\"BasicTickFormatter\"},{\"attributes\":{\"coordinates\":null,\"data_source\":{\"id\":\"3731\"},\"glyph\":{\"id\":\"3734\"},\"group\":null,\"hover_glyph\":null,\"muted_glyph\":{\"id\":\"3736\"},\"nonselection_glyph\":{\"id\":\"3735\"},\"selection_glyph\":{\"id\":\"3739\"},\"view\":{\"id\":\"3738\"}},\"id\":\"3737\",\"type\":\"GlyphRenderer\"},{\"attributes\":{\"margin\":[0,0,0,0],\"name\":\"Row07496\"},\"id\":\"3873\",\"type\":\"Row\"},{\"attributes\":{\"source\":{\"id\":\"3731\"}},\"id\":\"3738\",\"type\":\"CDSView\"},{\"attributes\":{\"children\":[{\"id\":\"3673\"}],\"margin\":[0,0,0,0],\"name\":\"Column07494\"},\"id\":\"3670\",\"type\":\"Column\"},{\"attributes\":{\"tools\":[{\"id\":\"3690\"},{\"id\":\"3691\"},{\"id\":\"3692\"},{\"id\":\"3693\"},{\"id\":\"3694\"}]},\"id\":\"3696\",\"type\":\"Toolbar\"},{\"attributes\":{\"children\":[{\"id\":\"3867\"}],\"margin\":[0,0,0,0],\"name\":\"Row07495\"},\"id\":\"3866\",\"type\":\"Row\"},{\"attributes\":{\"angle\":{\"value\":0.0},\"fill_alpha\":{\"value\":1.0},\"fill_color\":{\"value\":\"red\"},\"hatch_alpha\":{\"value\":1.0},\"hatch_color\":{\"value\":\"red\"},\"hatch_scale\":{\"value\":12.0},\"hatch_weight\":{\"value\":1.0},\"line_alpha\":{\"value\":1.0},\"line_cap\":{\"value\":\"butt\"},\"line_color\":{\"value\":\"red\"},\"line_dash\":{\"value\":[]},\"line_dash_offset\":{\"value\":0},\"line_join\":{\"value\":\"bevel\"},\"line_width\":{\"value\":1},\"marker\":{\"value\":\"asterisk\"},\"size\":{\"value\":2},\"x\":{\"field\":\"x\"},\"y\":{\"field\":\"y\"}},\"id\":\"3739\",\"type\":\"Scatter\"},{\"attributes\":{\"data\":{\"x0\":{\"__ndarray__\":\"\",\"dtype\":\"float64\",\"order\":\"little\",\"shape\":[0]},\"x1\":{\"__ndarray__\":\"\",\"dtype\":\"float64\",\"order\":\"little\",\"shape\":[0]},\"y0\":{\"__ndarray__\":\"\",\"dtype\":\"float64\",\"order\":\"little\",\"shape\":[0]},\"y1\":{\"__ndarray__\":\"\",\"dtype\":\"float64\",\"order\":\"little\",\"shape\":[0]}},\"selected\":{\"id\":\"3723\"},\"selection_policy\":{\"id\":\"3749\"}},\"id\":\"3722\",\"type\":\"ColumnDataSource\"},{\"attributes\":{},\"id\":\"3710\",\"type\":\"Selection\"},{\"attributes\":{},\"id\":\"3751\",\"type\":\"UnionRenderers\"},{\"attributes\":{},\"id\":\"3704\",\"type\":\"AllLabels\"},{\"attributes\":{},\"id\":\"3707\",\"type\":\"AllLabels\"},{\"attributes\":{},\"id\":\"3706\",\"type\":\"BasicTickFormatter\"},{\"attributes\":{\"coordinates\":null,\"data_source\":{\"id\":\"3722\"},\"glyph\":{\"id\":\"3725\"},\"group\":null,\"hover_glyph\":null,\"muted_glyph\":{\"id\":\"3727\"},\"nonselection_glyph\":{\"id\":\"3726\"},\"selection_glyph\":{\"id\":\"3730\"},\"view\":{\"id\":\"3729\"}},\"id\":\"3728\",\"type\":\"GlyphRenderer\"},{\"attributes\":{\"children\":[{\"id\":\"3868\"},{\"id\":\"3871\"}],\"margin\":[0,0,0,0],\"name\":\"\"},\"id\":\"3867\",\"type\":\"Column\"},{\"attributes\":{\"high\":0.9058106233221552,\"low\":0.054902644172979735,\"nan_color\":\"rgba(0, 0, 0, 0)\",\"palette\":[\"#00007f\",\"#000084\",\"#000088\",\"#00008d\",\"#000091\",\"#000096\",\"#00009a\",\"#00009f\",\"#0000a3\",\"#0000a8\",\"#0000ac\",\"#0000b1\",\"#0000b6\",\"#0000ba\",\"#0000bf\",\"#0000c3\",\"#0000c8\",\"#0000cc\",\"#0000d1\",\"#0000d5\",\"#0000da\",\"#0000de\",\"#0000e3\",\"#0000e8\",\"#0000ec\",\"#0000f1\",\"#0000f5\",\"#0000fa\",\"#0000fe\",\"#0000ff\",\"#0000ff\",\"#0000ff\",\"#0000ff\",\"#0004ff\",\"#0008ff\",\"#000cff\",\"#0010ff\",\"#0014ff\",\"#0018ff\",\"#001cff\",\"#0020ff\",\"#0024ff\",\"#0028ff\",\"#002cff\",\"#0030ff\",\"#0034ff\",\"#0038ff\",\"#003cff\",\"#0040ff\",\"#0044ff\",\"#0048ff\",\"#004cff\",\"#0050ff\",\"#0054ff\",\"#0058ff\",\"#005cff\",\"#0060ff\",\"#0064ff\",\"#0068ff\",\"#006cff\",\"#0070ff\",\"#0074ff\",\"#0078ff\",\"#007cff\",\"#0080ff\",\"#0084ff\",\"#0088ff\",\"#008cff\",\"#0090ff\",\"#0094ff\",\"#0098ff\",\"#009cff\",\"#00a0ff\",\"#00a4ff\",\"#00a8ff\",\"#00acff\",\"#00b0ff\",\"#00b4ff\",\"#00b8ff\",\"#00bcff\",\"#00c0ff\",\"#00c4ff\",\"#00c8ff\",\"#00ccff\",\"#00d0ff\",\"#00d4ff\",\"#00d8ff\",\"#00dcfe\",\"#00e0fa\",\"#00e4f7\",\"#02e8f4\",\"#05ecf1\",\"#08f0ed\",\"#0cf4ea\",\"#0ff8e7\",\"#12fce4\",\"#15ffe1\",\"#18ffdd\",\"#1cffda\",\"#1fffd7\",\"#22ffd4\",\"#25ffd0\",\"#29ffcd\",\"#2cffca\",\"#2fffc7\",\"#32ffc3\",\"#36ffc0\",\"#39ffbd\",\"#3cffba\",\"#3fffb7\",\"#42ffb3\",\"#46ffb0\",\"#49ffad\",\"#4cffaa\",\"#4fffa6\",\"#53ffa3\",\"#56ffa0\",\"#59ff9d\",\"#5cff9a\",\"#5fff96\",\"#63ff93\",\"#66ff90\",\"#69ff8d\",\"#6cff89\",\"#70ff86\",\"#73ff83\",\"#76ff80\",\"#79ff7d\",\"#7cff79\",\"#80ff76\",\"#83ff73\",\"#86ff70\",\"#89ff6c\",\"#8dff69\",\"#90ff66\",\"#93ff63\",\"#96ff5f\",\"#9aff5c\",\"#9dff59\",\"#a0ff56\",\"#a3ff53\",\"#a6ff4f\",\"#aaff4c\",\"#adff49\",\"#b0ff46\",\"#b3ff42\",\"#b7ff3f\",\"#baff3c\",\"#bdff39\",\"#c0ff36\",\"#c3ff32\",\"#c7ff2f\",\"#caff2c\",\"#cdff29\",\"#d0ff25\",\"#d4ff22\",\"#d7ff1f\",\"#daff1c\",\"#ddff18\",\"#e0ff15\",\"#e4ff12\",\"#e7ff0f\",\"#eaff0c\",\"#edff08\",\"#f1fc05\",\"#f4f802\",\"#f7f400\",\"#faf000\",\"#feed00\",\"#ffe900\",\"#ffe500\",\"#ffe200\",\"#ffde00\",\"#ffda00\",\"#ffd700\",\"#ffd300\",\"#ffcf00\",\"#ffcb00\",\"#ffc800\",\"#ffc400\",\"#ffc000\",\"#ffbd00\",\"#ffb900\",\"#ffb500\",\"#ffb100\",\"#ffae00\",\"#ffaa00\",\"#ffa600\",\"#ffa300\",\"#ff9f00\",\"#ff9b00\",\"#ff9800\",\"#ff9400\",\"#ff9000\",\"#ff8c00\",\"#ff8900\",\"#ff8500\",\"#ff8100\",\"#ff7e00\",\"#ff7a00\",\"#ff7600\",\"#ff7300\",\"#ff6f00\",\"#ff6b00\",\"#ff6700\",\"#ff6400\",\"#ff6000\",\"#ff5c00\",\"#ff5900\",\"#ff5500\",\"#ff5100\",\"#ff4d00\",\"#ff4a00\",\"#ff4600\",\"#ff4200\",\"#ff3f00\",\"#ff3b00\",\"#ff3700\",\"#ff3400\",\"#ff3000\",\"#ff2c00\",\"#ff2800\",\"#ff2500\",\"#ff2100\",\"#ff1d00\",\"#ff1a00\",\"#ff1600\",\"#fe1200\",\"#fa0f00\",\"#f50b00\",\"#f10700\",\"#ec0300\",\"#e80000\",\"#e30000\",\"#de0000\",\"#da0000\",\"#d50000\",\"#d10000\",\"#cc0000\",\"#c80000\",\"#c30000\",\"#bf0000\",\"#ba0000\",\"#b60000\",\"#b10000\",\"#ac0000\",\"#a80000\",\"#a30000\",\"#9f0000\",\"#9a0000\",\"#960000\",\"#910000\",\"#8d0000\",\"#880000\",\"#840000\",\"#7f0000\"]},\"id\":\"3708\",\"type\":\"LinearColorMapper\"},{\"attributes\":{},\"id\":\"3680\",\"type\":\"LinearScale\"},{\"attributes\":{\"client_comm_id\":\"7509dc55ae844fa4a9cee6955a826b10\",\"comm_id\":\"ba7c18d2b4f2454f91fc623ff50e54d8\",\"plot_id\":\"3657\"},\"id\":\"3916\",\"type\":\"panel.models.comm_manager.CommManager\"},{\"attributes\":{\"margin\":[5,10,5,10],\"name\":\"\",\"text\":\"<b>Component Planes</b>\"},\"id\":\"3869\",\"type\":\"Div\"},{\"attributes\":{\"color_mapper\":{\"id\":\"3708\"},\"dh\":{\"field\":\"dh\"},\"dw\":{\"field\":\"dw\"},\"global_alpha\":{\"value\":1.0},\"image\":{\"field\":\"image\"},\"x\":{\"field\":\"x\"},\"y\":{\"field\":\"y\"}},\"id\":\"3720\",\"type\":\"Image\"},{\"attributes\":{\"end\":0.5,\"reset_end\":0.5,\"reset_start\":-0.5,\"start\":-0.5,\"tags\":[[[\"x\",\"x\",null]]]},\"id\":\"3671\",\"type\":\"Range1d\"},{\"attributes\":{\"coordinates\":null,\"data_source\":{\"id\":\"3709\"},\"glyph\":{\"id\":\"3712\"},\"group\":null,\"hover_glyph\":null,\"muted_glyph\":{\"id\":\"3716\"},\"nonselection_glyph\":{\"id\":\"3714\"},\"selection_glyph\":{\"id\":\"3720\"},\"view\":{\"id\":\"3719\"}},\"id\":\"3718\",\"type\":\"GlyphRenderer\"},{\"attributes\":{\"icon\":null,\"label\":\"\\u2194\",\"margin\":[5,10,5,10],\"subscribed_events\":[\"button_click\"]},\"id\":\"3666\",\"type\":\"Button\"},{\"attributes\":{\"line_alpha\":{\"field\":\"alpha\"},\"line_color\":{\"value\":\"red\"},\"line_width\":{\"value\":2},\"x0\":{\"field\":\"x0\"},\"x1\":{\"field\":\"x1\"},\"y0\":{\"field\":\"y0\"},\"y1\":{\"field\":\"y1\"}},\"id\":\"3727\",\"type\":\"Segment\"},{\"attributes\":{\"end\":0.5,\"reset_end\":0.5,\"reset_start\":-0.5,\"start\":-0.5,\"tags\":[[[\"y\",\"y\",null]]]},\"id\":\"3672\",\"type\":\"Range1d\"},{\"attributes\":{\"line_alpha\":{\"field\":\"alpha\"},\"line_color\":{\"value\":\"red\"},\"line_width\":{\"value\":2},\"x0\":{\"field\":\"x0\"},\"x1\":{\"field\":\"x1\"},\"y0\":{\"field\":\"y0\"},\"y1\":{\"field\":\"y1\"}},\"id\":\"3725\",\"type\":\"Segment\"},{\"attributes\":{\"fill_color\":{\"value\":\"red\"},\"hatch_color\":{\"value\":\"red\"},\"line_color\":{\"value\":\"red\"},\"marker\":{\"value\":\"asterisk\"},\"size\":{\"value\":2},\"x\":{\"field\":\"x\"},\"y\":{\"field\":\"y\"}},\"id\":\"3734\",\"type\":\"Scatter\"},{\"attributes\":{\"margin\":[5,10,5,10],\"options\":[[\"PiYG\",\"PiYG\"],[\"PRGn\",\"PRGn\"],[\"BrBG\",\"BrBG\"],[\"PuOr\",\"PuOr\"],[\"RdGy\",\"RdGy\"],[\"RdBu\",\"RdBu\"],[\"RdYlBu\",\"RdYlBu\"],[\"RdYlGn\",\"RdYlGn\"],[\"Spectral\",\"Spectral\"],[\"coolwarm\",\"coolwarm\"],[\"bwr\",\"bwr\"],[\"seismic\",\"seismic\"],[\"gist_gray\",\"gist_gray\"],[\"bone\",\"bone\"],[\"pink\",\"pink\"],[\"spring\",\"spring\"],[\"summer\",\"summer\"],[\"autumn\",\"autumn\"],[\"winter\",\"winter\"],[\"cool\",\"cool\"],[\"Wistia\",\"Wistia\"],[\"hot\",\"hot\"],[\"afmhot\",\"afmhot\"],[\"gist_heat\",\"gist_heat\"],[\"copper\",\"copper\"],[\"Greys\",\"Greys\"],[\"Purples\",\"Purples\"],[\"Blues\",\"Blues\"],[\"Greens\",\"Greens\"],[\"Oranges\",\"Oranges\"],[\"Reds\",\"Reds\"],[\"YlOrBr\",\"YlOrBr\"],[\"YlOrRd\",\"YlOrRd\"],[\"OrRd\",\"OrRd\"],[\"PuRd\",\"PuRd\"],[\"RdPu\",\"RdPu\"],[\"BuPu\",\"BuPu\"],[\"GnBu\",\"GnBu\"],[\"PuBu\",\"PuBu\"],[\"YlGnBu\",\"YlGnBu\"],[\"PuBuGn\",\"PuBuGn\"],[\"BuGn\",\"BuGn\"],[\"YlGn\",\"YlGn\"],[\"viridis\",\"viridis\"],[\"plasma\",\"plasma\"],[\"inferno\",\"inferno\"],[\"magma\",\"magma\"],[\"cividis\",\"cividis\"],[\"twilight\",\"twilight\"],[\"twilight_shifted\",\"twilight_shifted\"],[\"hsv\",\"hsv\"],[\"Pastel1\",\"Pastel1\"],[\"Paired\",\"Paired\"],[\"Accent\",\"Accent\"],[\"Dark2\",\"Dark2\"],[\"Set1\",\"Set1\"],[\"Set2\",\"Set2\"],[\"Set3\",\"Set3\"],[\"tab10\",\"tab10\"],[\"tab20\",\"tab20\"],[\"tab20b\",\"tab20b\"],[\"tab20c\",\"tab20c\"],[\"flag\",\"flag\"],[\"prism\",\"prism\"],[\"ocean\",\"ocean\"],[\"gist_earth\",\"gist_earth\"],[\"terrain\",\"terrain\"],[\"gist_stern\",\"gist_stern\"],[\"gnuplot\",\"gnuplot\"],[\"gnuplot2\",\"gnuplot2\"],[\"CMRmap\",\"CMRmap\"],[\"cubehelix\",\"cubehelix\"],[\"brg\",\"brg\"],[\"gist_rainbow\",\"gist_rainbow\"],[\"rainbow\",\"rainbow\"],[\"jet\",\"jet\"],[\"turbo\",\"turbo\"],[\"nipy_spectral\",\"nipy_spectral\"],[\"gist_ncar\",\"gist_ncar\"],[\"glasbey_dark\",\"glasbey_dark\"]],\"value\":\"jet\"},\"id\":\"3663\",\"type\":\"panel.models.widgets.CustomSelect\"},{\"attributes\":{\"below\":[{\"id\":\"3682\"}],\"center\":[{\"id\":\"3685\"},{\"id\":\"3689\"}],\"height\":500,\"left\":[{\"id\":\"3686\"}],\"margin\":[5,5,5,5],\"min_border_bottom\":10,\"min_border_left\":10,\"min_border_right\":10,\"min_border_top\":10,\"renderers\":[{\"id\":\"3718\"},{\"id\":\"3728\"},{\"id\":\"3737\"}],\"sizing_mode\":\"fixed\",\"title\":{\"id\":\"3674\"},\"toolbar\":{\"id\":\"3696\"},\"width\":500,\"x_range\":{\"id\":\"3671\"},\"x_scale\":{\"id\":\"3678\"},\"y_range\":{\"id\":\"3672\"},\"y_scale\":{\"id\":\"3680\"}},\"id\":\"3673\",\"subtype\":\"Figure\",\"type\":\"Plot\"},{\"attributes\":{\"line_alpha\":{\"field\":\"alpha\"},\"line_color\":{\"value\":\"red\"},\"line_width\":{\"value\":2},\"x0\":{\"field\":\"x0\"},\"x1\":{\"field\":\"x1\"},\"y0\":{\"field\":\"y0\"},\"y1\":{\"field\":\"y1\"}},\"id\":\"3726\",\"type\":\"Segment\"},{\"attributes\":{\"children\":[{\"id\":\"3658\"},{\"id\":\"3872\"}],\"margin\":[0,0,0,0],\"name\":\"Column07500\"},\"id\":\"3657\",\"type\":\"Column\"},{\"attributes\":{},\"id\":\"3723\",\"type\":\"Selection\"},{\"attributes\":{\"children\":[{\"id\":\"3873\"}],\"margin\":[0,0,0,0],\"name\":\"Column07499\"},\"id\":\"3872\",\"type\":\"Column\"},{\"attributes\":{\"color_mapper\":{\"id\":\"3708\"},\"dh\":{\"field\":\"dh\"},\"dw\":{\"field\":\"dw\"},\"image\":{\"field\":\"image\"},\"x\":{\"field\":\"x\"},\"y\":{\"field\":\"y\"}},\"id\":\"3712\",\"type\":\"Image\"},{\"attributes\":{\"children\":[{\"id\":\"3659\"},{\"id\":\"3669\"}],\"margin\":[0,0,0,0],\"name\":\"Column07498\"},\"id\":\"3658\",\"type\":\"Column\"},{\"attributes\":{\"source\":{\"id\":\"3709\"}},\"id\":\"3719\",\"type\":\"CDSView\"},{\"attributes\":{\"coordinates\":null,\"group\":null,\"text_color\":\"black\",\"text_font_size\":\"12pt\"},\"id\":\"3674\",\"type\":\"Title\"},{\"attributes\":{\"children\":[{\"id\":\"3660\"}],\"margin\":[0,0,0,0],\"name\":\"Column07463\"},\"id\":\"3659\",\"type\":\"Column\"},{\"attributes\":{\"children\":[{\"id\":\"3670\"},{\"id\":\"3866\"}],\"margin\":[0,0,0,0],\"name\":\"Row07497\"},\"id\":\"3669\",\"type\":\"Row\"},{\"attributes\":{},\"id\":\"3690\",\"type\":\"SaveTool\"},{\"attributes\":{\"children\":[{\"id\":\"3661\"},{\"id\":\"3662\"},{\"id\":\"3663\"},{\"id\":\"3664\"},{\"id\":\"3665\"},{\"id\":\"3666\"},{\"id\":\"3667\"},{\"id\":\"3668\"}],\"margin\":[5,5,5,5],\"min_width\":700,\"name\":\"\",\"width\":700},\"id\":\"3660\",\"type\":\"Row\"},{\"attributes\":{\"axis_label\":\"x\",\"coordinates\":null,\"formatter\":{\"id\":\"3703\"},\"group\":null,\"major_label_policy\":{\"id\":\"3704\"},\"ticker\":{\"id\":\"3683\"}},\"id\":\"3682\",\"type\":\"LinearAxis\"},{\"attributes\":{},\"id\":\"3692\",\"type\":\"WheelZoomTool\"},{\"attributes\":{\"margin\":[5,10,5,10],\"name\":\"\",\"text\":\"<b></b>\"},\"id\":\"3661\",\"type\":\"Div\"},{\"attributes\":{\"axis\":{\"id\":\"3686\"},\"coordinates\":null,\"dimension\":1,\"grid_line_color\":null,\"group\":null,\"ticker\":null},\"id\":\"3689\",\"type\":\"Grid\"},{\"attributes\":{\"children\":[{\"id\":\"3869\"},{\"id\":\"3870\"}],\"margin\":[5,5,5,5],\"min_width\":300,\"name\":\"Component Planes\",\"width\":300},\"id\":\"3868\",\"type\":\"Column\"},{\"attributes\":{\"line_alpha\":{\"field\":\"alpha\"},\"line_cap\":{\"value\":\"butt\"},\"line_color\":{\"value\":\"red\"},\"line_dash\":{\"value\":[]},\"line_dash_offset\":{\"value\":0},\"line_join\":{\"value\":\"bevel\"},\"line_width\":{\"value\":2},\"x0\":{\"field\":\"x0\"},\"x1\":{\"field\":\"x1\"},\"y0\":{\"field\":\"y0\"},\"y1\":{\"field\":\"y1\"}},\"id\":\"3730\",\"type\":\"Segment\"},{\"attributes\":{\"source\":{\"id\":\"3722\"}},\"id\":\"3729\",\"type\":\"CDSView\"},{\"attributes\":{},\"id\":\"3683\",\"type\":\"BasicTicker\"},{\"attributes\":{\"axis_label\":\"y\",\"coordinates\":null,\"formatter\":{\"id\":\"3706\"},\"group\":null,\"major_label_policy\":{\"id\":\"3707\"},\"ticker\":{\"id\":\"3687\"}},\"id\":\"3686\",\"type\":\"LinearAxis\"},{\"attributes\":{},\"id\":\"3691\",\"type\":\"PanTool\"},{\"attributes\":{},\"id\":\"3747\",\"type\":\"UnionRenderers\"},{\"attributes\":{\"margin\":[5,10,5,10],\"options\":[[\"0\",\"Component Planes\"],[\"1\",\"Hit Histogram\"],[\"2\",\"U-matrix\"],[\"3\",\"D-Matrix\"],[\"4\",\"P-matrix & U*-matrix\"],[\"5\",\"Smoothed Data Histograms\"],[\"6\",\"Pie Chart\"],[\"7\",\"Neighbourhood Graph\"],[\"8\",\"Chessboard\"],[\"9\",\"Clustering\"],[\"10\",\"Metro Map\"],[\"11\",\"Quantization Error\"],[\"12\",\"SOMStreamVis\"],[\"13\",\"Sky Metaphor\"],[\"14\",\"Topographic error\"],[\"15\",\"Intrinsic distance\"],[\"16\",\"Activity Histogram\"],[\"17\",\"Minimum Spanning Tree\"],[\"18\",\"Cluster Connection\"],[\"19\",\"Mnemonic SOM\"]],\"value\":\"0\"},\"id\":\"3662\",\"type\":\"panel.models.widgets.CustomSelect\"},{\"attributes\":{\"margin\":[5,5,5,5],\"name\":\"Str07517\",\"text\":\"&lt;pre&gt;Slicing weight vector according its components.&lt;/pre&gt;\"},\"id\":\"3871\",\"type\":\"panel.models.markup.HTML\"},{\"attributes\":{},\"id\":\"3732\",\"type\":\"Selection\"},{\"attributes\":{\"axis\":{\"id\":\"3682\"},\"coordinates\":null,\"grid_line_color\":null,\"group\":null,\"ticker\":null},\"id\":\"3685\",\"type\":\"Grid\"},{\"attributes\":{\"icon\":null,\"label\":\"\\u21b7\",\"margin\":[5,10,5,10],\"subscribed_events\":[\"button_click\"]},\"id\":\"3665\",\"type\":\"Button\"},{\"attributes\":{\"color_mapper\":{\"id\":\"3708\"},\"dh\":{\"field\":\"dh\"},\"dw\":{\"field\":\"dw\"},\"global_alpha\":{\"value\":0.1},\"image\":{\"field\":\"image\"},\"x\":{\"field\":\"x\"},\"y\":{\"field\":\"y\"}},\"id\":\"3714\",\"type\":\"Image\"},{\"attributes\":{\"data\":{\"x\":{\"__ndarray__\":\"\",\"dtype\":\"float64\",\"order\":\"little\",\"shape\":[0]},\"y\":{\"__ndarray__\":\"\",\"dtype\":\"float64\",\"order\":\"little\",\"shape\":[0]}},\"selected\":{\"id\":\"3732\"},\"selection_policy\":{\"id\":\"3751\"}},\"id\":\"3731\",\"type\":\"ColumnDataSource\"},{\"attributes\":{},\"id\":\"3687\",\"type\":\"BasicTicker\"},{\"attributes\":{\"icon\":null,\"label\":\"\\u21b6\",\"margin\":[5,10,5,10],\"subscribed_events\":[\"button_click\"]},\"id\":\"3664\",\"type\":\"Button\"},{\"attributes\":{},\"id\":\"3678\",\"type\":\"LinearScale\"},{\"attributes\":{\"data\":{\"dh\":[1.0],\"dw\":[1.0],\"image\":[{\"__ndarray__\":\"jjdxj2b87D9tZSllWr/qP3M8W3B3k+Q/bP96eYHU4T/p3ZHWaWrfP8fG+A8Amdo/NwvD+P2F2T9Mzc3yA+PbPyDX7kmGJ9w/BvhcCau72D+kZwaYlLrSP+S2LmVNacs/kReTy2fJ6z80VQJBu3TpP6KStl5w4eM/Q1/XYWS74T8aIygD3QvgP57nE+i2+No/G0Nv59Fy1z/Pf8Hc1aTXP5jqUjEM7Nc/CkBubbkI1T+3HeJd4DXQP7fH/MibS8k/4ylMiJ0x6j8ZGEHfldXnP8n3vzyQHeM/fvLr0kho4T/gxQr5P1XgPzyNVFq5pNs/JhoYmlOw1j8ESJt6AaXVP12ana7EEdU/+UdlPTf10T/7dNv3E0zJP5IobN0138E/WC70IJ795z/aYmiLqtjlP3aLGtijeOI/VvwCHjca4T9sRxPiq13gPzGwztYYfdw//E2+Y8mt2D99WznMuZDWP5sryz8vhNI/sROTH/KWyT9HUP0bC6+8Pyf8XqOFR7A/zmOxnozb5T/6DgJOMHTkPxdD+e+cMeI/xsSTTv7p4D+5mww6Qo7fP/B6nba8wts/h8PXaVGb2T+IUSrWfprWP8SeIEemhMw/zvpibX37wj/cq7u0Dby4P8+tXwozHKw/af4NWkTX5D+yFKWAZabjP1aCmUPobOE/BSdksabf3z+lihMltdTcP0gcEmsE0tk/JCSToP052D8X/JQsRQvUP3VC693ws8g/SW+diG7Uwz/Yr2yjjHa8P90x1yTCxLI/wqj8MRnT4z/wnd2MY6ziP2B5Rt96bOA/e/RwMdUG3j/fK7CjTUDbP7dxX0jdUdg/7rk4zQ3b1D9TsN2u9rzPP7uAsLCWTck/gPNtBR95xj9JuHCH6irBP5o9fCaq6rg/3mfAERup4z93H8DtheHiP08+1fQS9eA/PJvLHiHb3j94ol9cpw7cP/3XtuL/nNc/0Wlekk3m0T/A2Q+1IH7NP4IhQKPNzMs/XMR9pm7VyT/am+YQQFDFPxm/YbSLEcA/HRbBNxb25D/8J22c+pzkP5LCXohEHOM/vZW/K1tS4T/pNzTBgdHeP2SkwcDBDdk/BmFBDZla0j9Uk/MyUIzQP0V6CCTTi88/1UvYnMnFzD9Gdz0mcdbIP9jYKwxw3cM/OdQ3gyKD5j+h6qWc+9flP4Mmpr0e0uQ/U6zm3UN74z9ad0/toiPhP6S3wyKWNNo/J7aGzqyB1D+9k7Ff1AzTPzOCRYW5qtE/Io5wtk3wzj/27UAI4tLJPxYunyfLgcU/j3MLVIC46D/XxARvP57mP5d09sWESeU/XOs2pxfH4z9ZlrnkImzhP1vjM5152Nk/FNrcO8zh1T+uDJBjHkjUPzJ38VP7UtI/IvA+MmkL0D9WnMbVwTbLP0efPfG3wMc/jDij+mtt6z/k4YU6kq7nP8vPF3OBNOU/+Fn3MJtd4z+UWFN8zTThPweew/F1z9o/Q+SXaQeg1j9DI8+phq3UPwjXtJNXLtI/vf9PL1lhzz8+klWbFWzMP9ep8x5k6Mo/\",\"dtype\":\"float64\",\"order\":\"little\",\"shape\":[12,12]}],\"x\":[-0.5],\"y\":[-0.5]},\"selected\":{\"id\":\"3710\"},\"selection_policy\":{\"id\":\"3747\"}},\"id\":\"3709\",\"type\":\"ColumnDataSource\"},{\"attributes\":{\"end\":3,\"margin\":[5,10,5,10],\"start\":0,\"title\":\"Component\",\"value\":0},\"id\":\"3870\",\"type\":\"Slider\"},{\"attributes\":{\"color_mapper\":{\"id\":\"3708\"},\"dh\":{\"field\":\"dh\"},\"dw\":{\"field\":\"dw\"},\"global_alpha\":{\"value\":0.2},\"image\":{\"field\":\"image\"},\"x\":{\"field\":\"x\"},\"y\":{\"field\":\"y\"}},\"id\":\"3716\",\"type\":\"Image\"}],\"root_ids\":[\"3657\",\"3916\"]},\"title\":\"Bokeh Application\",\"version\":\"2.4.1\"}};\n",
       "    var render_items = [{\"docid\":\"97fb7e90-e5be-4e7f-b244-bfb0834271fe\",\"root_ids\":[\"3657\"],\"roots\":{\"3657\":\"7293fdf0-8182-46eb-a51c-6b932300f63c\"}}];\n",
       "    root.Bokeh.embed.embed_items_notebook(docs_json, render_items);\n",
       "  }\n",
       "  if (root.Bokeh !== undefined && root.Bokeh.Panel !== undefined) {\n",
       "    embed_document(root);\n",
       "  } else {\n",
       "    var attempts = 0;\n",
       "    var timer = setInterval(function(root) {\n",
       "      if (root.Bokeh !== undefined && root.Bokeh.Panel !== undefined) {\n",
       "        clearInterval(timer);\n",
       "        embed_document(root);\n",
       "      } else if (document.readyState == \"complete\") {\n",
       "        attempts++;\n",
       "        if (attempts > 200) {\n",
       "          clearInterval(timer);\n",
       "          console.log(\"Bokeh: ERROR: Unable to run BokehJS code because BokehJS library is missing\");\n",
       "        }\n",
       "      }\n",
       "    }, 25, root)\n",
       "  }\n",
       "})(window);</script>"
      ],
      "text/plain": [
       "Column\n",
       "    [0] Column\n",
       "        [0] Column\n",
       "            [0] Row(margin=5, width=700)\n",
       "                [0] StaticText(value='<b></b>')\n",
       "                [1] Select(options=OrderedDict([('Component P...]), value=0)\n",
       "                [2] Select(options=OrderedDict([('PiYG', ...]), value='jet')\n",
       "                [3] Button(name='↶')\n",
       "                [4] Button(name='↷')\n",
       "                [5] Button(name='↔')\n",
       "                [6] Button(name='↕')\n",
       "                [7] Checkbox(name='interpolation')\n",
       "        [1] Row\n",
       "            [0] Column\n",
       "                [0] HoloViews(DynamicMap)\n",
       "            [1] Row\n",
       "                [0] Column\n",
       "                    [0] Column(margin=5, name='Component Planes', width=300)\n",
       "                        [0] StaticText(value='<b>Component Planes</b>')\n",
       "                        [1] IntSlider(end=3, name='Component')\n",
       "                    [1] Str(str)\n",
       "    [1] Column\n",
       "        [0] Row()"
      ]
     },
     "execution_count": 26,
     "metadata": {
      "application/vnd.holoviews_exec.v0+json": {
       "id": "3657"
      }
     },
     "output_type": "execute_result"
    }
   ],
   "source": [
    "# Visualize the very large SOM\n",
    "vis_large = PySOMVis(weights=som_large._weights, input_data=X)\n",
    "vis_large._mainview"
   ]
  },
  {
   "cell_type": "markdown",
   "id": "8a407c3c",
   "metadata": {},
   "source": [
    "**Describe and compare the structures found** (providing detailed info on visualizations and\n",
    "parameters)"
   ]
  },
  {
   "cell_type": "code",
   "execution_count": null,
   "id": "307bd6ba",
   "metadata": {},
   "outputs": [],
   "source": [
    "#todo maybe show structures"
   ]
  },
  {
   "cell_type": "markdown",
   "id": "b8ad89e8",
   "metadata": {},
   "source": [
    "#todo comparision text  "
   ]
  },
  {
   "cell_type": "markdown",
   "id": "c96715bf",
   "metadata": {},
   "source": [
    "## 4) Analyze different initial neighborhood radius settings"
   ]
  },
  {
   "cell_type": "markdown",
   "id": "be55eeba",
   "metadata": {},
   "source": [
    "Train the very large SOM as specified above, but with a much too small neighborhood radius."
   ]
  },
  {
   "cell_type": "code",
   "execution_count": null,
   "id": "3fff59dc",
   "metadata": {},
   "outputs": [],
   "source": [
    "#TODO above"
   ]
  },
  {
   "cell_type": "markdown",
   "id": "30b87702",
   "metadata": {},
   "source": [
    "Analyse the<br> a) cluster structure,<br> b) quantization errors,<br> c) topology violations.<br> d) In how far\n",
    "does this map differ from the very large map trained with a correct/high initial neighborhood\n",
    "radius?"
   ]
  },
  {
   "cell_type": "code",
   "execution_count": null,
   "id": "1eafd751",
   "metadata": {},
   "outputs": [],
   "source": [
    "#TODO above"
   ]
  },
  {
   "cell_type": "markdown",
   "id": "bab82e77",
   "metadata": {},
   "source": [
    "**Describe and compare the structures found** (what is the effect of a „too small“\n",
    "neighborhood radius? How to detect it?)"
   ]
  },
  {
   "cell_type": "code",
   "execution_count": null,
   "id": "3b58907c",
   "metadata": {},
   "outputs": [],
   "source": [
    "#TODO maybe show structures."
   ]
  },
  {
   "cell_type": "markdown",
   "id": "ab52b51f",
   "metadata": {},
   "source": [
    "#TODO describe from above"
   ]
  },
  {
   "cell_type": "markdown",
   "id": "71e6e0df",
   "metadata": {},
   "source": [
    "## 5) Analyze different initial learning rates"
   ]
  },
  {
   "cell_type": "markdown",
   "id": "6d00b3ca",
   "metadata": {},
   "source": [
    "Train the regular-sized SOM as specified above, but with a (I) much too large / (II) much too<br>\n",
    "small learning rate (provide justification for the setting of the parameter)"
   ]
  },
  {
   "cell_type": "code",
   "execution_count": null,
   "id": "c182f839",
   "metadata": {},
   "outputs": [],
   "source": [
    "#TODO above"
   ]
  },
  {
   "cell_type": "markdown",
   "id": "089617ba",
   "metadata": {},
   "source": [
    "Analyse for both (I) and (II)<br> a) cluster structure,<br> b) quantization errors,<br> c) topology violations.<br>\n",
    "d) In how far do these two maps differ from the well-trained map analyzed above?"
   ]
  },
  {
   "cell_type": "code",
   "execution_count": null,
   "id": "6449fef9",
   "metadata": {},
   "outputs": [],
   "source": [
    "#TODO above"
   ]
  },
  {
   "cell_type": "markdown",
   "id": "a5c4d9d4",
   "metadata": {},
   "source": [
    "Describe and compare the structures found (how can you detect „too small“ learning<br>\n",
    "rates? When do they start to make sense?"
   ]
  },
  {
   "cell_type": "code",
   "execution_count": null,
   "id": "c9554aa3",
   "metadata": {},
   "outputs": [],
   "source": [
    "#TODO maybe show structures"
   ]
  },
  {
   "cell_type": "markdown",
   "id": "0b0ec029",
   "metadata": {},
   "source": [
    "#todo comparision text"
   ]
  },
  {
   "cell_type": "markdown",
   "id": "4d63aeb1",
   "metadata": {},
   "source": [
    "## 6) Analyze different max iterations"
   ]
  },
  {
   "cell_type": "markdown",
   "id": "f28e849b",
   "metadata": {},
   "source": [
    "Train a regular SOM using 2, 5, 10, 50, 100, 1000, 5000, 10000 iterations"
   ]
  },
  {
   "cell_type": "code",
   "execution_count": null,
   "id": "9b00e4fa",
   "metadata": {},
   "outputs": [],
   "source": [
    "#TODO above"
   ]
  },
  {
   "cell_type": "markdown",
   "id": "03ec5689",
   "metadata": {},
   "source": [
    "Analyse cluster structure. <br>a) When do cluster structures start to emerge?<br> b) After how many\n",
    "iterations do they stabilize?<br> c) How can you tell from the quality measures whether the map is\n",
    "stable?<br> d) Which visualizations help you discover not-yet stable SOM mappings?"
   ]
  },
  {
   "cell_type": "code",
   "execution_count": null,
   "id": "5cf41ba6",
   "metadata": {},
   "outputs": [],
   "source": [
    "#TODO above"
   ]
  },
  {
   "cell_type": "markdown",
   "id": "0f6ddca2",
   "metadata": {},
   "source": [
    "Describe and compare the structures found (how can you detect „too small“ learning\n",
    "rates? When do they start to make sense?"
   ]
  },
  {
   "cell_type": "code",
   "execution_count": null,
   "id": "27dc90c5",
   "metadata": {},
   "outputs": [],
   "source": [
    "#TODO maybe show structures"
   ]
  },
  {
   "cell_type": "markdown",
   "id": "57137aa4",
   "metadata": {},
   "source": [
    "#todo comparision text"
   ]
  },
  {
   "cell_type": "markdown",
   "id": "c02cb92a",
   "metadata": {},
   "source": [
    "## 7) Detailed analysis of an „Optimal SOM“"
   ]
  },
  {
   "cell_type": "markdown",
   "id": "59fa6f00",
   "metadata": {},
   "source": [
    "Train a SOM using what you consider to be „optimal parameters“ based on sub-tasks 1-6."
   ]
  },
  {
   "cell_type": "code",
   "execution_count": null,
   "id": "4c2fbf28",
   "metadata": {},
   "outputs": [],
   "source": [
    "#TODO train best som"
   ]
  },
  {
   "cell_type": "markdown",
   "id": "5e19f1e0",
   "metadata": {},
   "source": [
    "Describe the final model following the FAIR4ML schema (cf.\n",
    "https://doi.org/10.5281/zenodo.14002310, https://rda-fair4ml.github.io/FAIR4MLschema/\n",
    "release/0.1.0/index.html, https://github.com/RDA-FAIR4ML/FAIR4ML-schema)"
   ]
  },
  {
   "cell_type": "markdown",
   "id": "a409bf2a",
   "metadata": {},
   "source": [
    "#todo above"
   ]
  },
  {
   "cell_type": "markdown",
   "id": "167c0c13",
   "metadata": {},
   "source": [
    "### SUBTASKS a-e\n",
    "\n",
    "Provide a detailed interpretation of the cluster/class structures using a combination of<br>\n",
    "visualizations and their parameter settings. Describe the findings in detail, specifically<br>\n",
    "analyzing and providing rationale for"
   ]
  },
  {
   "cell_type": "markdown",
   "id": "55b2f9dd",
   "metadata": {},
   "source": [
    "#### a \n",
    "\n",
    "Cluster densities / cardinalities, shapes: what can you tell about the cluster sizes<br>\n",
    "shapes, their cardinalities and densities? Can you observe areas of higher/lower<br>\n",
    "densities? Compare different visualizations that support (or contradict) your hypothesis<br>\n",
    "and reason/explain why they do so."
   ]
  },
  {
   "cell_type": "code",
   "execution_count": null,
   "id": "0bc7e397",
   "metadata": {},
   "outputs": [],
   "source": [
    "#TODO above "
   ]
  },
  {
   "cell_type": "markdown",
   "id": "2a4a4aac",
   "metadata": {},
   "source": [
    "#### b\n",
    "\n",
    "Hierarchical cluster relationships: can you detect any hierarchies in the data? How do<br>\n",
    "they seem to be structured? Which clusters are similar, which are very distant, how<br>\n",
    "could they be related? Compare different visualizations that support (or contradict)<br>\n",
    "your hypothesis and reason/explain why they do so."
   ]
  },
  {
   "cell_type": "code",
   "execution_count": null,
   "id": "11272db7",
   "metadata": {},
   "outputs": [],
   "source": [
    "#TODO above"
   ]
  },
  {
   "cell_type": "markdown",
   "id": "534bff10",
   "metadata": {},
   "source": [
    "#### c\n",
    "\n",
    "Topological relations / violations: in which areas can you observe topology violations?<br>\n",
    "What types of violations do you observe in which areas of the map (i.e. actual violations<br>\n",
    "due to bad training or the inherent structure of the data vs. cluster data that is mapped<br>\n",
    "onto the plane). In how far do different visualizations agree on these violations?<br>\n",
    "Compare different visualizations that support (or contradict) your hypothesis and<br>\n",
    "reason/explain why they do so."
   ]
  },
  {
   "cell_type": "code",
   "execution_count": null,
   "id": "9a923bac",
   "metadata": {},
   "outputs": [],
   "source": [
    "#TODO above"
   ]
  },
  {
   "cell_type": "markdown",
   "id": "739d3726",
   "metadata": {},
   "source": [
    "#### d \n",
    "\n",
    "Class distribution: Which classes are mapped onto which parts of the map? How do<br>\n",
    "they relate to each other? In how far does the class distribution match the cluster<br>\n",
    "structure? Which classes are well-separated, which ones less so? What might be the<br>\n",
    "reason for these overlaps? Is the mapping less correct in these regions (e.g. higher<br>\n",
    "error measures)? Are these areas well-separated. Which classes form homogeneous<br>\n",
    "clusters, which form sub-clusters, how similar are these sub-clusters?"
   ]
  },
  {
   "cell_type": "code",
   "execution_count": null,
   "id": "44ef02d8",
   "metadata": {},
   "outputs": [],
   "source": [
    "#TODO above"
   ]
  },
  {
   "cell_type": "markdown",
   "id": "10cedc43",
   "metadata": {},
   "source": [
    "#### e\n",
    "\n",
    "Quality of the map in terms of vector quantization and topology violation: is the quality<br>\n",
    "homogeneous, are there certain areas or classes where the quality of the mapping is<br>\n",
    "lower, others where it is higher?"
   ]
  },
  {
   "cell_type": "code",
   "execution_count": null,
   "id": "8290f117",
   "metadata": {},
   "outputs": [],
   "source": [
    "#TODO above"
   ]
  },
  {
   "cell_type": "markdown",
   "id": "db53a9b2",
   "metadata": {},
   "source": [
    "# D) Summarize your findings\n",
    "\n"
   ]
  },
  {
   "cell_type": "markdown",
   "id": "d459eb5a",
   "metadata": {},
   "source": [
    "## 1\n",
    "\n",
    "Summarize your overall findings and lessons learned:<br>\n",
    "a. Which parameters have what kind of influence on the SOM?<br>\n",
    "b. How sensitive is the setting of these parameters <br>\n",
    "c. Which visualizations are most useful to reveal what kind of information? Which combination"
   ]
  },
  {
   "cell_type": "markdown",
   "id": "c41fe12f",
   "metadata": {},
   "source": [
    "WRITE SUMMARY"
   ]
  },
  {
   "cell_type": "markdown",
   "id": "72771db4",
   "metadata": {},
   "source": [
    "## 2\n",
    "\n",
    "(optional) Provide feedback on the exercise in general: which parts were useful / less useful; which<br>\n",
    "other kind of experiment would have been interesting, … (this section is, obviously, optional and will<br>\n",
    "not be considered for grading. You may also decide to provide that kind of feedback anonymously via<br>\n",
    "the feedback mechanism in TISS – in any case we would appreciate learning about it to adjust the<br>\n",
    "exercises for next year.)"
   ]
  },
  {
   "cell_type": "markdown",
   "id": "adfd2695",
   "metadata": {},
   "source": [
    "P"
   ]
  }
 ],
 "metadata": {
  "kernelspec": {
   "display_name": ".venv",
   "language": "python",
   "name": "python3"
  },
  "language_info": {
   "codemirror_mode": {
    "name": "ipython",
    "version": 3
   },
   "file_extension": ".py",
   "mimetype": "text/x-python",
   "name": "python",
   "nbconvert_exporter": "python",
   "pygments_lexer": "ipython3",
   "version": "3.12.8"
  }
 },
 "nbformat": 4,
 "nbformat_minor": 5
}
