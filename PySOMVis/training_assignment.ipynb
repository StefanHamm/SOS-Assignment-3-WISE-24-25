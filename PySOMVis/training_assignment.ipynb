{
 "cells": [
  {
   "cell_type": "code",
   "execution_count": 1,
   "id": "28820aea",
   "metadata": {},
   "outputs": [],
   "source": [
    "# Read data from Java SOMToolbox\n",
    "from SOMToolBox_Parse import SOMToolBox_Parse\n",
    "idata   = SOMToolBox_Parse(\"datasets/iris/iris.vec\").read_weight_file()\n",
    "weights = SOMToolBox_Parse(\"datasets/iris/iris.wgt.gz\").read_weight_file()\n",
    "classes = SOMToolBox_Parse(\"datasets/iris/iris.cls\").read_weight_file()"
   ]
  },
  {
   "cell_type": "code",
   "execution_count": 2,
   "id": "99c6677b",
   "metadata": {},
   "outputs": [
    {
     "data": {
      "text/html": [
       "<script type=\"esms-options\">{\"shimMode\": true}</script><style>*[data-root-id],\n",
       "*[data-root-id] > * {\n",
       "  box-sizing: border-box;\n",
       "  font-family: var(--jp-ui-font-family);\n",
       "  font-size: var(--jp-ui-font-size1);\n",
       "  color: var(--vscode-editor-foreground, var(--jp-ui-font-color1));\n",
       "}\n",
       "\n",
       "/* Override VSCode background color */\n",
       ".cell-output-ipywidget-background:has(\n",
       "    > .cell-output-ipywidget-background > .lm-Widget > *[data-root-id]\n",
       "  ),\n",
       ".cell-output-ipywidget-background:has(> .lm-Widget > *[data-root-id]) {\n",
       "  background-color: transparent !important;\n",
       "}\n",
       "</style>"
      ]
     },
     "metadata": {},
     "output_type": "display_data"
    },
    {
     "data": {
      "application/javascript": "(function(root) {\n  function now() {\n    return new Date();\n  }\n\n  const force = true;\n  const py_version = '3.6.2'.replace('rc', '-rc.').replace('.dev', '-dev.');\n  const reloading = false;\n  const Bokeh = root.Bokeh;\n\n  // Set a timeout for this load but only if we are not already initializing\n  if (typeof (root._bokeh_timeout) === \"undefined\" || (force || !root._bokeh_is_initializing)) {\n    root._bokeh_timeout = Date.now() + 5000;\n    root._bokeh_failed_load = false;\n  }\n\n  function run_callbacks() {\n    try {\n      root._bokeh_onload_callbacks.forEach(function(callback) {\n        if (callback != null)\n          callback();\n      });\n    } finally {\n      delete root._bokeh_onload_callbacks;\n    }\n    console.debug(\"Bokeh: all callbacks have finished\");\n  }\n\n  function load_libs(css_urls, js_urls, js_modules, js_exports, callback) {\n    if (css_urls == null) css_urls = [];\n    if (js_urls == null) js_urls = [];\n    if (js_modules == null) js_modules = [];\n    if (js_exports == null) js_exports = {};\n\n    root._bokeh_onload_callbacks.push(callback);\n\n    if (root._bokeh_is_loading > 0) {\n      // Don't load bokeh if it is still initializing\n      console.debug(\"Bokeh: BokehJS is being loaded, scheduling callback at\", now());\n      return null;\n    } else if (js_urls.length === 0 && js_modules.length === 0 && Object.keys(js_exports).length === 0) {\n      // There is nothing to load\n      run_callbacks();\n      return null;\n    }\n\n    function on_load() {\n      root._bokeh_is_loading--;\n      if (root._bokeh_is_loading === 0) {\n        console.debug(\"Bokeh: all BokehJS libraries/stylesheets loaded\");\n        run_callbacks()\n      }\n    }\n    window._bokeh_on_load = on_load\n\n    function on_error(e) {\n      const src_el = e.srcElement\n      console.error(\"failed to load \" + (src_el.href || src_el.src));\n    }\n\n    const skip = [];\n    if (window.requirejs) {\n      window.requirejs.config({'packages': {}, 'paths': {}, 'shim': {}});\n      root._bokeh_is_loading = css_urls.length + 0;\n    } else {\n      root._bokeh_is_loading = css_urls.length + js_urls.length + js_modules.length + Object.keys(js_exports).length;\n    }\n\n    const existing_stylesheets = []\n    const links = document.getElementsByTagName('link')\n    for (let i = 0; i < links.length; i++) {\n      const link = links[i]\n      if (link.href != null) {\n        existing_stylesheets.push(link.href)\n      }\n    }\n    for (let i = 0; i < css_urls.length; i++) {\n      const url = css_urls[i];\n      const escaped = encodeURI(url)\n      if (existing_stylesheets.indexOf(escaped) !== -1) {\n        on_load()\n        continue;\n      }\n      const element = document.createElement(\"link\");\n      element.onload = on_load;\n      element.onerror = on_error;\n      element.rel = \"stylesheet\";\n      element.type = \"text/css\";\n      element.href = url;\n      console.debug(\"Bokeh: injecting link tag for BokehJS stylesheet: \", url);\n      document.body.appendChild(element);\n    }    var existing_scripts = []\n    const scripts = document.getElementsByTagName('script')\n    for (let i = 0; i < scripts.length; i++) {\n      var script = scripts[i]\n      if (script.src != null) {\n        existing_scripts.push(script.src)\n      }\n    }\n    for (let i = 0; i < js_urls.length; i++) {\n      const url = js_urls[i];\n      const escaped = encodeURI(url)\n      if (skip.indexOf(escaped) !== -1 || existing_scripts.indexOf(escaped) !== -1) {\n        if (!window.requirejs) {\n          on_load();\n        }\n        continue;\n      }\n      const element = document.createElement('script');\n      element.onload = on_load;\n      element.onerror = on_error;\n      element.async = false;\n      element.src = url;\n      console.debug(\"Bokeh: injecting script tag for BokehJS library: \", url);\n      document.head.appendChild(element);\n    }\n    for (let i = 0; i < js_modules.length; i++) {\n      const url = js_modules[i];\n      const escaped = encodeURI(url)\n      if (skip.indexOf(escaped) !== -1 || existing_scripts.indexOf(escaped) !== -1) {\n        if (!window.requirejs) {\n          on_load();\n        }\n        continue;\n      }\n      var element = document.createElement('script');\n      element.onload = on_load;\n      element.onerror = on_error;\n      element.async = false;\n      element.src = url;\n      element.type = \"module\";\n      console.debug(\"Bokeh: injecting script tag for BokehJS library: \", url);\n      document.head.appendChild(element);\n    }\n    for (const name in js_exports) {\n      const url = js_exports[name];\n      const escaped = encodeURI(url)\n      if (skip.indexOf(escaped) >= 0 || root[name] != null) {\n        if (!window.requirejs) {\n          on_load();\n        }\n        continue;\n      }\n      var element = document.createElement('script');\n      element.onerror = on_error;\n      element.async = false;\n      element.type = \"module\";\n      console.debug(\"Bokeh: injecting script tag for BokehJS library: \", url);\n      element.textContent = `\n      import ${name} from \"${url}\"\n      window.${name} = ${name}\n      window._bokeh_on_load()\n      `\n      document.head.appendChild(element);\n    }\n    if (!js_urls.length && !js_modules.length) {\n      on_load()\n    }\n  };\n\n  function inject_raw_css(css) {\n    const element = document.createElement(\"style\");\n    element.appendChild(document.createTextNode(css));\n    document.body.appendChild(element);\n  }\n\n  const js_urls = [\"https://cdn.holoviz.org/panel/1.6.0/dist/bundled/reactiveesm/es-module-shims@^1.10.0/dist/es-module-shims.min.js\", \"https://cdn.bokeh.org/bokeh/release/bokeh-3.6.2.min.js\", \"https://cdn.bokeh.org/bokeh/release/bokeh-gl-3.6.2.min.js\", \"https://cdn.bokeh.org/bokeh/release/bokeh-widgets-3.6.2.min.js\", \"https://cdn.bokeh.org/bokeh/release/bokeh-tables-3.6.2.min.js\", \"https://cdn.holoviz.org/panel/1.6.0/dist/panel.min.js\"];\n  const js_modules = [];\n  const js_exports = {};\n  const css_urls = [];\n  const inline_js = [    function(Bokeh) {\n      Bokeh.set_log_level(\"info\");\n    },\nfunction(Bokeh) {} // ensure no trailing comma for IE\n  ];\n\n  function run_inline_js() {\n    if ((root.Bokeh !== undefined) || (force === true)) {\n      for (let i = 0; i < inline_js.length; i++) {\n        try {\n          inline_js[i].call(root, root.Bokeh);\n        } catch(e) {\n          if (!reloading) {\n            throw e;\n          }\n        }\n      }\n      // Cache old bokeh versions\n      if (Bokeh != undefined && !reloading) {\n        var NewBokeh = root.Bokeh;\n        if (Bokeh.versions === undefined) {\n          Bokeh.versions = new Map();\n        }\n        if (NewBokeh.version !== Bokeh.version) {\n          Bokeh.versions.set(NewBokeh.version, NewBokeh)\n        }\n        root.Bokeh = Bokeh;\n      }\n    } else if (Date.now() < root._bokeh_timeout) {\n      setTimeout(run_inline_js, 100);\n    } else if (!root._bokeh_failed_load) {\n      console.log(\"Bokeh: BokehJS failed to load within specified timeout.\");\n      root._bokeh_failed_load = true;\n    }\n    root._bokeh_is_initializing = false\n  }\n\n  function load_or_wait() {\n    // Implement a backoff loop that tries to ensure we do not load multiple\n    // versions of Bokeh and its dependencies at the same time.\n    // In recent versions we use the root._bokeh_is_initializing flag\n    // to determine whether there is an ongoing attempt to initialize\n    // bokeh, however for backward compatibility we also try to ensure\n    // that we do not start loading a newer (Panel>=1.0 and Bokeh>3) version\n    // before older versions are fully initialized.\n    if (root._bokeh_is_initializing && Date.now() > root._bokeh_timeout) {\n      // If the timeout and bokeh was not successfully loaded we reset\n      // everything and try loading again\n      root._bokeh_timeout = Date.now() + 5000;\n      root._bokeh_is_initializing = false;\n      root._bokeh_onload_callbacks = undefined;\n      root._bokeh_is_loading = 0\n      console.log(\"Bokeh: BokehJS was loaded multiple times but one version failed to initialize.\");\n      load_or_wait();\n    } else if (root._bokeh_is_initializing || (typeof root._bokeh_is_initializing === \"undefined\" && root._bokeh_onload_callbacks !== undefined)) {\n      setTimeout(load_or_wait, 100);\n    } else {\n      root._bokeh_is_initializing = true\n      root._bokeh_onload_callbacks = []\n      const bokeh_loaded = root.Bokeh != null && (root.Bokeh.version === py_version || (root.Bokeh.versions !== undefined && root.Bokeh.versions.has(py_version)));\n      if (!reloading && !bokeh_loaded) {\n        if (root.Bokeh) {\n          root.Bokeh = undefined;\n        }\n        console.debug(\"Bokeh: BokehJS not loaded, scheduling load and callback at\", now());\n      }\n      load_libs(css_urls, js_urls, js_modules, js_exports, function() {\n        console.debug(\"Bokeh: BokehJS plotting callback run at\", now());\n        run_inline_js();\n      });\n    }\n  }\n  // Give older versions of the autoload script a head-start to ensure\n  // they initialize before we start loading newer version.\n  setTimeout(load_or_wait, 100)\n}(window));",
      "application/vnd.holoviews_load.v0+json": ""
     },
     "metadata": {},
     "output_type": "display_data"
    },
    {
     "data": {
      "application/javascript": "\nif ((window.PyViz === undefined) || (window.PyViz instanceof HTMLElement)) {\n  window.PyViz = {comms: {}, comm_status:{}, kernels:{}, receivers: {}, plot_index: []}\n}\n\n\n    function JupyterCommManager() {\n    }\n\n    JupyterCommManager.prototype.register_target = function(plot_id, comm_id, msg_handler) {\n      if (window.comm_manager || ((window.Jupyter !== undefined) && (Jupyter.notebook.kernel != null))) {\n        var comm_manager = window.comm_manager || Jupyter.notebook.kernel.comm_manager;\n        comm_manager.register_target(comm_id, function(comm) {\n          comm.on_msg(msg_handler);\n        });\n      } else if ((plot_id in window.PyViz.kernels) && (window.PyViz.kernels[plot_id])) {\n        window.PyViz.kernels[plot_id].registerCommTarget(comm_id, function(comm) {\n          comm.onMsg = msg_handler;\n        });\n      } else if (typeof google != 'undefined' && google.colab.kernel != null) {\n        google.colab.kernel.comms.registerTarget(comm_id, (comm) => {\n          var messages = comm.messages[Symbol.asyncIterator]();\n          function processIteratorResult(result) {\n            var message = result.value;\n            console.log(message)\n            var content = {data: message.data, comm_id};\n            var buffers = []\n            for (var buffer of message.buffers || []) {\n              buffers.push(new DataView(buffer))\n            }\n            var metadata = message.metadata || {};\n            var msg = {content, buffers, metadata}\n            msg_handler(msg);\n            return messages.next().then(processIteratorResult);\n          }\n          return messages.next().then(processIteratorResult);\n        })\n      }\n    }\n\n    JupyterCommManager.prototype.get_client_comm = function(plot_id, comm_id, msg_handler) {\n      if (comm_id in window.PyViz.comms) {\n        return window.PyViz.comms[comm_id];\n      } else if (window.comm_manager || ((window.Jupyter !== undefined) && (Jupyter.notebook.kernel != null))) {\n        var comm_manager = window.comm_manager || Jupyter.notebook.kernel.comm_manager;\n        var comm = comm_manager.new_comm(comm_id, {}, {}, {}, comm_id);\n        if (msg_handler) {\n          comm.on_msg(msg_handler);\n        }\n      } else if ((plot_id in window.PyViz.kernels) && (window.PyViz.kernels[plot_id])) {\n        var comm = window.PyViz.kernels[plot_id].connectToComm(comm_id);\n        comm.open();\n        if (msg_handler) {\n          comm.onMsg = msg_handler;\n        }\n      } else if (typeof google != 'undefined' && google.colab.kernel != null) {\n        var comm_promise = google.colab.kernel.comms.open(comm_id)\n        comm_promise.then((comm) => {\n          window.PyViz.comms[comm_id] = comm;\n          if (msg_handler) {\n            var messages = comm.messages[Symbol.asyncIterator]();\n            function processIteratorResult(result) {\n              var message = result.value;\n              var content = {data: message.data};\n              var metadata = message.metadata || {comm_id};\n              var msg = {content, metadata}\n              msg_handler(msg);\n              return messages.next().then(processIteratorResult);\n            }\n            return messages.next().then(processIteratorResult);\n          }\n        })\n        var sendClosure = (data, metadata, buffers, disposeOnDone) => {\n          return comm_promise.then((comm) => {\n            comm.send(data, metadata, buffers, disposeOnDone);\n          });\n        };\n        var comm = {\n          send: sendClosure\n        };\n      }\n      window.PyViz.comms[comm_id] = comm;\n      return comm;\n    }\n    window.PyViz.comm_manager = new JupyterCommManager();\n    \n\n\nvar JS_MIME_TYPE = 'application/javascript';\nvar HTML_MIME_TYPE = 'text/html';\nvar EXEC_MIME_TYPE = 'application/vnd.holoviews_exec.v0+json';\nvar CLASS_NAME = 'output';\n\n/**\n * Render data to the DOM node\n */\nfunction render(props, node) {\n  var div = document.createElement(\"div\");\n  var script = document.createElement(\"script\");\n  node.appendChild(div);\n  node.appendChild(script);\n}\n\n/**\n * Handle when a new output is added\n */\nfunction handle_add_output(event, handle) {\n  var output_area = handle.output_area;\n  var output = handle.output;\n  if ((output.data == undefined) || (!output.data.hasOwnProperty(EXEC_MIME_TYPE))) {\n    return\n  }\n  var id = output.metadata[EXEC_MIME_TYPE][\"id\"];\n  var toinsert = output_area.element.find(\".\" + CLASS_NAME.split(' ')[0]);\n  if (id !== undefined) {\n    var nchildren = toinsert.length;\n    var html_node = toinsert[nchildren-1].children[0];\n    html_node.innerHTML = output.data[HTML_MIME_TYPE];\n    var scripts = [];\n    var nodelist = html_node.querySelectorAll(\"script\");\n    for (var i in nodelist) {\n      if (nodelist.hasOwnProperty(i)) {\n        scripts.push(nodelist[i])\n      }\n    }\n\n    scripts.forEach( function (oldScript) {\n      var newScript = document.createElement(\"script\");\n      var attrs = [];\n      var nodemap = oldScript.attributes;\n      for (var j in nodemap) {\n        if (nodemap.hasOwnProperty(j)) {\n          attrs.push(nodemap[j])\n        }\n      }\n      attrs.forEach(function(attr) { newScript.setAttribute(attr.name, attr.value) });\n      newScript.appendChild(document.createTextNode(oldScript.innerHTML));\n      oldScript.parentNode.replaceChild(newScript, oldScript);\n    });\n    if (JS_MIME_TYPE in output.data) {\n      toinsert[nchildren-1].children[1].textContent = output.data[JS_MIME_TYPE];\n    }\n    output_area._hv_plot_id = id;\n    if ((window.Bokeh !== undefined) && (id in Bokeh.index)) {\n      window.PyViz.plot_index[id] = Bokeh.index[id];\n    } else {\n      window.PyViz.plot_index[id] = null;\n    }\n  } else if (output.metadata[EXEC_MIME_TYPE][\"server_id\"] !== undefined) {\n    var bk_div = document.createElement(\"div\");\n    bk_div.innerHTML = output.data[HTML_MIME_TYPE];\n    var script_attrs = bk_div.children[0].attributes;\n    for (var i = 0; i < script_attrs.length; i++) {\n      toinsert[toinsert.length - 1].childNodes[1].setAttribute(script_attrs[i].name, script_attrs[i].value);\n    }\n    // store reference to server id on output_area\n    output_area._bokeh_server_id = output.metadata[EXEC_MIME_TYPE][\"server_id\"];\n  }\n}\n\n/**\n * Handle when an output is cleared or removed\n */\nfunction handle_clear_output(event, handle) {\n  var id = handle.cell.output_area._hv_plot_id;\n  var server_id = handle.cell.output_area._bokeh_server_id;\n  if (((id === undefined) || !(id in PyViz.plot_index)) && (server_id !== undefined)) { return; }\n  var comm = window.PyViz.comm_manager.get_client_comm(\"hv-extension-comm\", \"hv-extension-comm\", function () {});\n  if (server_id !== null) {\n    comm.send({event_type: 'server_delete', 'id': server_id});\n    return;\n  } else if (comm !== null) {\n    comm.send({event_type: 'delete', 'id': id});\n  }\n  delete PyViz.plot_index[id];\n  if ((window.Bokeh !== undefined) & (id in window.Bokeh.index)) {\n    var doc = window.Bokeh.index[id].model.document\n    doc.clear();\n    const i = window.Bokeh.documents.indexOf(doc);\n    if (i > -1) {\n      window.Bokeh.documents.splice(i, 1);\n    }\n  }\n}\n\n/**\n * Handle kernel restart event\n */\nfunction handle_kernel_cleanup(event, handle) {\n  delete PyViz.comms[\"hv-extension-comm\"];\n  window.PyViz.plot_index = {}\n}\n\n/**\n * Handle update_display_data messages\n */\nfunction handle_update_output(event, handle) {\n  handle_clear_output(event, {cell: {output_area: handle.output_area}})\n  handle_add_output(event, handle)\n}\n\nfunction register_renderer(events, OutputArea) {\n  function append_mime(data, metadata, element) {\n    // create a DOM node to render to\n    var toinsert = this.create_output_subarea(\n    metadata,\n    CLASS_NAME,\n    EXEC_MIME_TYPE\n    );\n    this.keyboard_manager.register_events(toinsert);\n    // Render to node\n    var props = {data: data, metadata: metadata[EXEC_MIME_TYPE]};\n    render(props, toinsert[0]);\n    element.append(toinsert);\n    return toinsert\n  }\n\n  events.on('output_added.OutputArea', handle_add_output);\n  events.on('output_updated.OutputArea', handle_update_output);\n  events.on('clear_output.CodeCell', handle_clear_output);\n  events.on('delete.Cell', handle_clear_output);\n  events.on('kernel_ready.Kernel', handle_kernel_cleanup);\n\n  OutputArea.prototype.register_mime_type(EXEC_MIME_TYPE, append_mime, {\n    safe: true,\n    index: 0\n  });\n}\n\nif (window.Jupyter !== undefined) {\n  try {\n    var events = require('base/js/events');\n    var OutputArea = require('notebook/js/outputarea').OutputArea;\n    if (OutputArea.prototype.mime_types().indexOf(EXEC_MIME_TYPE) == -1) {\n      register_renderer(events, OutputArea);\n    }\n  } catch(err) {\n  }\n}\n",
      "application/vnd.holoviews_load.v0+json": ""
     },
     "metadata": {},
     "output_type": "display_data"
    },
    {
     "data": {
      "application/vnd.holoviews_exec.v0+json": "",
      "text/html": [
       "<div id='5652fa9a-5e97-44a6-ba3e-bc6ef9dbd81d'>\n",
       "  <div id=\"c31aecd2-8587-4e15-a05c-5270d55854ce\" data-root-id=\"5652fa9a-5e97-44a6-ba3e-bc6ef9dbd81d\" style=\"display: contents;\"></div>\n",
       "</div>\n",
       "<script type=\"application/javascript\">(function(root) {\n",
       "  var docs_json = {\"6bc8279b-645d-4bea-aebe-38c3ee795e44\":{\"version\":\"3.6.2\",\"title\":\"Bokeh Application\",\"roots\":[{\"type\":\"object\",\"name\":\"panel.models.browser.BrowserInfo\",\"id\":\"5652fa9a-5e97-44a6-ba3e-bc6ef9dbd81d\"},{\"type\":\"object\",\"name\":\"panel.models.comm_manager.CommManager\",\"id\":\"3f67ceb2-d5dc-4cea-bc01-3ff18dfd3a50\",\"attributes\":{\"plot_id\":\"5652fa9a-5e97-44a6-ba3e-bc6ef9dbd81d\",\"comm_id\":\"636e0d9cc06c48ddaee045915a69f192\",\"client_comm_id\":\"01bc5693aea24b1ca10707ab2dd19a8d\"}}],\"defs\":[{\"type\":\"model\",\"name\":\"ReactiveHTML1\"},{\"type\":\"model\",\"name\":\"FlexBox1\",\"properties\":[{\"name\":\"align_content\",\"kind\":\"Any\",\"default\":\"flex-start\"},{\"name\":\"align_items\",\"kind\":\"Any\",\"default\":\"flex-start\"},{\"name\":\"flex_direction\",\"kind\":\"Any\",\"default\":\"row\"},{\"name\":\"flex_wrap\",\"kind\":\"Any\",\"default\":\"wrap\"},{\"name\":\"gap\",\"kind\":\"Any\",\"default\":\"\"},{\"name\":\"justify_content\",\"kind\":\"Any\",\"default\":\"flex-start\"}]},{\"type\":\"model\",\"name\":\"FloatPanel1\",\"properties\":[{\"name\":\"config\",\"kind\":\"Any\",\"default\":{\"type\":\"map\"}},{\"name\":\"contained\",\"kind\":\"Any\",\"default\":true},{\"name\":\"position\",\"kind\":\"Any\",\"default\":\"right-top\"},{\"name\":\"offsetx\",\"kind\":\"Any\",\"default\":null},{\"name\":\"offsety\",\"kind\":\"Any\",\"default\":null},{\"name\":\"theme\",\"kind\":\"Any\",\"default\":\"primary\"},{\"name\":\"status\",\"kind\":\"Any\",\"default\":\"normalized\"}]},{\"type\":\"model\",\"name\":\"GridStack1\",\"properties\":[{\"name\":\"mode\",\"kind\":\"Any\",\"default\":\"warn\"},{\"name\":\"ncols\",\"kind\":\"Any\",\"default\":null},{\"name\":\"nrows\",\"kind\":\"Any\",\"default\":null},{\"name\":\"allow_resize\",\"kind\":\"Any\",\"default\":true},{\"name\":\"allow_drag\",\"kind\":\"Any\",\"default\":true},{\"name\":\"state\",\"kind\":\"Any\",\"default\":[]}]},{\"type\":\"model\",\"name\":\"drag1\",\"properties\":[{\"name\":\"slider_width\",\"kind\":\"Any\",\"default\":5},{\"name\":\"slider_color\",\"kind\":\"Any\",\"default\":\"black\"},{\"name\":\"value\",\"kind\":\"Any\",\"default\":50}]},{\"type\":\"model\",\"name\":\"click1\",\"properties\":[{\"name\":\"terminal_output\",\"kind\":\"Any\",\"default\":\"\"},{\"name\":\"debug_name\",\"kind\":\"Any\",\"default\":\"\"},{\"name\":\"clears\",\"kind\":\"Any\",\"default\":0}]},{\"type\":\"model\",\"name\":\"FastWrapper1\",\"properties\":[{\"name\":\"object\",\"kind\":\"Any\",\"default\":null},{\"name\":\"style\",\"kind\":\"Any\",\"default\":null}]},{\"type\":\"model\",\"name\":\"NotificationAreaBase1\",\"properties\":[{\"name\":\"js_events\",\"kind\":\"Any\",\"default\":{\"type\":\"map\"}},{\"name\":\"position\",\"kind\":\"Any\",\"default\":\"bottom-right\"},{\"name\":\"_clear\",\"kind\":\"Any\",\"default\":0}]},{\"type\":\"model\",\"name\":\"NotificationArea1\",\"properties\":[{\"name\":\"js_events\",\"kind\":\"Any\",\"default\":{\"type\":\"map\"}},{\"name\":\"notifications\",\"kind\":\"Any\",\"default\":[]},{\"name\":\"position\",\"kind\":\"Any\",\"default\":\"bottom-right\"},{\"name\":\"_clear\",\"kind\":\"Any\",\"default\":0},{\"name\":\"types\",\"kind\":\"Any\",\"default\":[{\"type\":\"map\",\"entries\":[[\"type\",\"warning\"],[\"background\",\"#ffc107\"],[\"icon\",{\"type\":\"map\",\"entries\":[[\"className\",\"fas fa-exclamation-triangle\"],[\"tagName\",\"i\"],[\"color\",\"white\"]]}]]},{\"type\":\"map\",\"entries\":[[\"type\",\"info\"],[\"background\",\"#007bff\"],[\"icon\",{\"type\":\"map\",\"entries\":[[\"className\",\"fas fa-info-circle\"],[\"tagName\",\"i\"],[\"color\",\"white\"]]}]]}]}]},{\"type\":\"model\",\"name\":\"Notification\",\"properties\":[{\"name\":\"background\",\"kind\":\"Any\",\"default\":null},{\"name\":\"duration\",\"kind\":\"Any\",\"default\":3000},{\"name\":\"icon\",\"kind\":\"Any\",\"default\":null},{\"name\":\"message\",\"kind\":\"Any\",\"default\":\"\"},{\"name\":\"notification_type\",\"kind\":\"Any\",\"default\":null},{\"name\":\"_rendered\",\"kind\":\"Any\",\"default\":false},{\"name\":\"_destroyed\",\"kind\":\"Any\",\"default\":false}]},{\"type\":\"model\",\"name\":\"TemplateActions1\",\"properties\":[{\"name\":\"open_modal\",\"kind\":\"Any\",\"default\":0},{\"name\":\"close_modal\",\"kind\":\"Any\",\"default\":0}]},{\"type\":\"model\",\"name\":\"BootstrapTemplateActions1\",\"properties\":[{\"name\":\"open_modal\",\"kind\":\"Any\",\"default\":0},{\"name\":\"close_modal\",\"kind\":\"Any\",\"default\":0}]},{\"type\":\"model\",\"name\":\"TemplateEditor1\",\"properties\":[{\"name\":\"layout\",\"kind\":\"Any\",\"default\":[]}]},{\"type\":\"model\",\"name\":\"MaterialTemplateActions1\",\"properties\":[{\"name\":\"open_modal\",\"kind\":\"Any\",\"default\":0},{\"name\":\"close_modal\",\"kind\":\"Any\",\"default\":0}]},{\"type\":\"model\",\"name\":\"ReactiveESM1\",\"properties\":[{\"name\":\"esm_constants\",\"kind\":\"Any\",\"default\":{\"type\":\"map\"}}]},{\"type\":\"model\",\"name\":\"JSComponent1\",\"properties\":[{\"name\":\"esm_constants\",\"kind\":\"Any\",\"default\":{\"type\":\"map\"}}]},{\"type\":\"model\",\"name\":\"ReactComponent1\",\"properties\":[{\"name\":\"esm_constants\",\"kind\":\"Any\",\"default\":{\"type\":\"map\"}}]},{\"type\":\"model\",\"name\":\"AnyWidgetComponent1\",\"properties\":[{\"name\":\"esm_constants\",\"kind\":\"Any\",\"default\":{\"type\":\"map\"}}]},{\"type\":\"model\",\"name\":\"request_value1\",\"properties\":[{\"name\":\"fill\",\"kind\":\"Any\",\"default\":\"none\"},{\"name\":\"_synced\",\"kind\":\"Any\",\"default\":null},{\"name\":\"_request_sync\",\"kind\":\"Any\",\"default\":0}]}]}};\n",
       "  var render_items = [{\"docid\":\"6bc8279b-645d-4bea-aebe-38c3ee795e44\",\"roots\":{\"5652fa9a-5e97-44a6-ba3e-bc6ef9dbd81d\":\"c31aecd2-8587-4e15-a05c-5270d55854ce\"},\"root_ids\":[\"5652fa9a-5e97-44a6-ba3e-bc6ef9dbd81d\"]}];\n",
       "  var docs = Object.values(docs_json)\n",
       "  if (!docs) {\n",
       "    return\n",
       "  }\n",
       "  const py_version = docs[0].version.replace('rc', '-rc.').replace('.dev', '-dev.')\n",
       "  async function embed_document(root) {\n",
       "    var Bokeh = get_bokeh(root)\n",
       "    await Bokeh.embed.embed_items_notebook(docs_json, render_items);\n",
       "    for (const render_item of render_items) {\n",
       "      for (const root_id of render_item.root_ids) {\n",
       "\tconst id_el = document.getElementById(root_id)\n",
       "\tif (id_el.children.length && id_el.children[0].hasAttribute('data-root-id')) {\n",
       "\t  const root_el = id_el.children[0]\n",
       "\t  root_el.id = root_el.id + '-rendered'\n",
       "\t  for (const child of root_el.children) {\n",
       "            // Ensure JupyterLab does not capture keyboard shortcuts\n",
       "            // see: https://jupyterlab.readthedocs.io/en/4.1.x/extension/notebook.html#keyboard-interaction-model\n",
       "\t    child.setAttribute('data-lm-suppress-shortcuts', 'true')\n",
       "\t  }\n",
       "\t}\n",
       "      }\n",
       "    }\n",
       "  }\n",
       "  function get_bokeh(root) {\n",
       "    if (root.Bokeh === undefined) {\n",
       "      return null\n",
       "    } else if (root.Bokeh.version !== py_version) {\n",
       "      if (root.Bokeh.versions === undefined || !root.Bokeh.versions.has(py_version)) {\n",
       "\treturn null\n",
       "      }\n",
       "      return root.Bokeh.versions.get(py_version);\n",
       "    } else if (root.Bokeh.version === py_version) {\n",
       "      return root.Bokeh\n",
       "    }\n",
       "    return null\n",
       "  }\n",
       "  function is_loaded(root) {\n",
       "    var Bokeh = get_bokeh(root)\n",
       "    return (Bokeh != null && Bokeh.Panel !== undefined)\n",
       "  }\n",
       "  if (is_loaded(root)) {\n",
       "    embed_document(root);\n",
       "  } else {\n",
       "    var attempts = 0;\n",
       "    var timer = setInterval(function(root) {\n",
       "      if (is_loaded(root)) {\n",
       "        clearInterval(timer);\n",
       "        embed_document(root);\n",
       "      } else if (document.readyState == \"complete\") {\n",
       "        attempts++;\n",
       "        if (attempts > 200) {\n",
       "          clearInterval(timer);\n",
       "\t  var Bokeh = get_bokeh(root)\n",
       "\t  if (Bokeh == null || Bokeh.Panel == null) {\n",
       "            console.warn(\"Panel: ERROR: Unable to run Panel code because Bokeh or Panel library is missing\");\n",
       "\t  } else {\n",
       "\t    console.warn(\"Panel: WARNING: Attempting to render but not all required libraries could be resolved.\")\n",
       "\t    embed_document(root)\n",
       "\t  }\n",
       "        }\n",
       "      }\n",
       "    }, 25, root)\n",
       "  }\n",
       "})(window);</script>"
      ]
     },
     "metadata": {
      "application/vnd.holoviews_exec.v0+json": {
       "id": "5652fa9a-5e97-44a6-ba3e-bc6ef9dbd81d"
      }
     },
     "output_type": "display_data"
    },
    {
     "data": {
      "text/html": [
       "\n",
       "<div class=\"logo-block\">\n",
       "<img src='data:image/png;base64,iVBORw0KGgoAAAANSUhEUgAAAEAAAABACAYAAACqaXHeAAAABHNCSVQICAgIfAhkiAAAAAlwSFlz\n",
       "AAAB+wAAAfsBxc2miwAAABl0RVh0U29mdHdhcmUAd3d3Lmlua3NjYXBlLm9yZ5vuPBoAAA6zSURB\n",
       "VHic7ZtpeFRVmsf/5966taWqUlUJ2UioBBJiIBAwCZtog9IOgjqACsogKtqirT2ttt069nQ/zDzt\n",
       "tI4+CrJIREFaFgWhBXpUNhHZQoKBkIUASchWla1S+3ar7r1nPkDaCAnZKoQP/D7mnPOe9/xy76n3\n",
       "nFSAW9ziFoPFNED2LLK5wcyBDObkb8ZkxuaoSYlI6ZcOKq1eWFdedqNzGHQBk9RMEwFAASkk0Xw3\n",
       "ETacDNi2vtvc7L0ROdw0AjoSotQVkKSvHQz/wRO1lScGModBFbDMaNRN1A4tUBCS3lk7BWhQkgpD\n",
       "lG4852/+7DWr1R3uHAZVQDsbh6ZPN7CyxUrCzJMRouusj0ipRwD2uKm0Zn5d2dFwzX1TCGhnmdGo\n",
       "G62Nna+isiUqhkzuKrkQaJlPEv5mFl2fvGg2t/VnzkEV8F5ioioOEWkLG86fvbpthynjdhXYZziQ\n",
       "x1hC9J2NFyi8vCTt91Fh04KGip0AaG9zuCk2wQCVyoNU3Hjezee9bq92duzzTmxsRJoy+jEZZZYo\n",
       "GTKJ6SJngdJqAfRzpze0+jHreUtPc7gpBLQnIYK6BYp/uGhw9YK688eu7v95ysgshcg9qSLMo3JC\n",
       "4jqLKQFBgdKDPoQ+Pltb8dUyQLpeDjeVgI6EgLIQFT5tEl3rn2losHVsexbZ3EyT9wE1uGdkIPcy\n",
       "BGxn8QUq1QrA5nqW5i2tLqvrrM9NK6AdkVIvL9E9bZL/oyfMVd/jqvc8LylzRBKDJSzIExwhQzuL\n",
       "QYGQj4rHfFTc8mUdu3E7yoLtbTe9gI4EqVgVkug2i5+uXGo919ixbRog+3fTbQ8qJe4ZOYNfMoTI\n",
       "OoshUNosgO60AisX15aeI2PSIp5KiFLI9ubb1vV3Qb2ltwLakUCDAkWX7/nHKRmmGIl9VgYsUhJm\n",
       "2NXjKYADtM1ygne9QQDIXlk49FBstMKx66D1v4+XuQr7vqTe0VcBHQlRWiOCbmmSYe2SqtL6q5rJ\n",
       "zsTb7lKx3FKOYC4DoqyS/B5bvLPxvD9Qtf6saxYLQGJErmDOdOMr/zo96km1nElr8bmPOBwI9COv\n",
       "HnFPRIwmkSOv9kcAS4heRsidOkpeWBgZM+UBrTFAXNYL5Vf2ii9c1trNzpYdaoVil3WIc+wdk+gQ\n",
       "noie3ecCcxt9ITcLAPWt/laGEO/9U6PmzZkenTtsSMQ8uYywJVW+grCstAvCIaAdArAsIWkRDDs/\n",
       "KzLm2YcjY1Lv0UdW73HabE9n6V66cxSzfEmuJssTpKGVp+0vHq73FwL46eOjpMpbRAnNmJFrGJNu\n",
       "Ukf9Yrz+3rghiumCKNXXWPhLYcjxGsIpoCMsIRoFITkW8AuyM8jC1+/QLx4bozCEJIq38+1rtpR6\n",
       "V/yzb8eBlRb3fo5l783N0CWolAzJHaVNzkrTzlEp2bQ2q3TC5gn6wpnoQAmwSiGh2GitnTmVMc5O\n",
       "UyfKWUKCIsU7+fZDKwqdT6DDpvkzAX4/+AMFjk0tDp5GRXLpQ2MUmhgDp5gxQT8+Y7hyPsMi8uxF\n",
       "71H0oebujHALECjFKaW9Lm68n18wXp2kVzIcABytD5iXFzg+WVXkegpAsOOYziqo0OkK76GyquC3\n",
       "ltZAzMhhqlSNmmWTE5T6e3IN05ITFLM4GdN0vtZ3ob8Jh1NAKXFbm5PtLU/eqTSlGjkNAJjdgn/N\n",
       "aedXa0tdi7+t9G0FIF49rtMSEgAs1kDLkTPO7ebm4IUWeyh1bKomXqlgMG6kJmHcSM0clYLJ8XtR\n",
       "1GTnbV3F6I5wCGikAb402npp1h1s7LQUZZSMIfALFOuL3UUrfnS8+rez7v9qcold5tilgHbO1fjK\n",
       "9ubb17u9oshxzMiUBKXWqJNxd+fqb0tLVs4lILFnK71H0Ind7uiPgACVcFJlrb0tV6DzxqqTIhUM\n",
       "CwDf1/rrVhTa33/3pGPxJYdQ2l2cbgVcQSosdx8uqnDtbGjh9SlDVSMNWhlnilfqZk42Th2ZpLpf\n",
       "xrHec5e815zrr0dfBZSwzkZfqsv+1FS1KUknUwPARVvItfKUY+cn57yP7qv07UE3p8B2uhUwLk09\n",
       "e0SCOrK+hbdYHYLjRIl71wWzv9jpEoeOHhGRrJAzyEyNiJuUqX0g2sBN5kGK6y2Blp5M3lsB9Qh4\n",
       "y2Ja6x6+i0ucmKgwMATwhSjdUu49tKrQ/pvN5d53ml2CGwCmJipmKjgmyuaXzNeL2a0AkQ01Th5j\n",
       "2DktO3Jyk8f9vcOBQHV94OK+fPumJmvQHxJoWkaKWq9Vs+yUsbq0zGT1I4RgeH2b5wef7+c7bl8F\n",
       "eKgoHVVZa8ZPEORzR6sT1BzDUAD/d9F78e2Tzv99v8D+fLVTqAKAsbGamKey1Mt9Ann4eH3gTXTz\n",
       "idWtAJ8PQWOk7NzSeQn/OTHDuEikVF1R4z8BQCy+6D1aWRfY0tTGG2OM8rRoPaeIj5ZHzJxszElN\n",
       "VM8K8JS5WOfv8mzRnQAKoEhmt8gyPM4lU9SmBK1MCQBnW4KONT86v1hZ1PbwSXPw4JWussVjtH9Y\n",
       "NCoiL9UoH/6PSu8jFrfY2t36erQHXLIEakMi1SydmzB31h3GGXFDFNPaK8Rme9B79Ixrd0WN+1ij\n",
       "NRQ/doRmuFLBkHSTOm5GruG+pFjFdAmorG4IXH1Qua6ASniclfFtDYt+oUjKipPrCQB7QBQ2lrgP\n",
       "fFzm+9XWUtcqJ3/5vDLDpJ79XHZk3u8nGZ42qlj1+ydtbxysCezrydp6ugmipNJ7WBPB5tydY0jP\n",
       "HaVNzs3QzeE4ZpTbI+ZbnSFPbVOw9vsfnVvqWnirPyCNGD08IlqtYkh2hjZ5dErEQzoNm+6ykyOt\n",
       "Lt5/PQEuSRRKo22VkydK+vvS1XEKlhCJAnsqvcVvH7f/ZU2R67eXbMEGAMiIV5oWZWiWvz5Fv2xG\n",
       "sjqNJQRvn3Rs2lji/lNP19VjAQDgD7FHhujZB9OGqYxRkZxixgRDVlqS6uEOFaJUVu0rPFzctrnF\n",
       "JqijImVp8dEKVWyUXDk92zAuMZ6bFwpBU1HrOw6AdhQgUooChb0+ItMbWJitSo5Ws3IAOGEOtL53\n",
       "0vHZih9sC4vtofZ7Qu6523V/fmGcds1TY3V36pUsBwAbSlxnVh2xLfAD/IAIMDf7XYIkNmXfpp2l\n",
       "18rkAJAy9HKFaIr/qULkeQQKy9zf1JgDB2uaeFNGijo5QsUyacNUUTOnGO42xSnv4oOwpDi1zYkc\n",
       "efUc3I5Gk6PhyTuVKaOGyLUAYPGIoY9Pu/atL/L92+4q9wbflRJ2Trpm/jPjdBtfnqB/dIThcl8A\n",
       "KG7hbRuKnb8qsQsVvVlTrwQAQMUlf3kwJI24Z4JhPMtcfng5GcH49GsrxJpGvvHIaeem2ma+KSjQ\n",
       "lIwUdYyCY8j4dE1KzijNnIP2llF2wcXNnsoapw9XxsgYAl6k+KzUXbi2yP3KR2ecf6z3BFsBICdW\n",
       "nvnIaG3eHybqX7vbpEqUMT+9OL4Qpe8VON7dXuFd39v19FoAABRVePbGGuXTszO0P7tu6lghUonE\n",
       "llRdrhArLvmKdh9u29jcFiRRkfLUxBiFNiqSU9icoZQHo5mYBI1MBgBH6wMNb+U7Pnw337H4gi1Y\n",
       "ciWs+uks3Z9fztUvfzxTm9Ne8XXkvQLHNytOOZeiD4e0PgkAIAYCYknKUNUDSXEKzdWNpnil7r4p\n",
       "xqkjTarZMtk/K8TQ6Qve78qqvXurGwIJqcOUKfUWHsm8KGvxSP68YudXq4pcj39X49uOK2X142O0\n",
       "Tz5/u/7TVybqH0rSya6ZBwD21/gubbrgWdDgEOx9WUhfBaC2ibcEBYm7a7x+ukrBMNcEZggyR0TE\n",
       "T8zUPjikQ4VosQZbTpS4vqizBKvqmvjsqnpfzaZyx9JPiz1/bfGKdgD45XB1zoIMzYbfTdS/NClB\n",
       "Gct0USiY3YL/g0LHy/uq/Ef6uo5+n0R/vyhp17Klpge763f8rMu6YU/zrn2nml+2WtH+Z+5IAAFc\n",
       "2bUTdTDOSNa9+cQY7YLsOIXhevEkCvzph7a8laecz/Un/z4/Ae04XeL3UQb57IwU9ZDr9UuKVajv\n",
       "nxp1+1UVIo/LjztZkKH59fO3G/JemqCfmaCRqbqbd90ZZ8FfjtkfAyD0J/9+C2h1hDwsSxvGjNDc\n",
       "b4zk5NfrSwiQblLHzZhg+Jf4aPlUwpDqkQqa9nimbt1/TDH8OitGMaQnj+RJS6B1fbF7SY1TqO5v\n",
       "/v0WAADl1f7zokgS7s7VT2DZ7pegUjBM7mjtiDZbcN4j0YrHH0rXpCtY0qPX0cVL0rv5jv/ZXend\n",
       "0u/EESYBAFBU4T4Qa5TflZOhTe7pmKpaP8kCVUVw1+yhXfJWvn1P3hnXi33JsTN6PnP3hHZ8Z3/h\n",
       "aLHzmkNPuPj7Bc/F/Q38CwjTpSwQXgE4Vmwry9tpfq/ZFgqFMy4AVDtCvi8rvMvOmv0N4YwbVgEA\n",
       "sPM72/KVnzfspmH7HQGCRLG2yL1+z8XwvPcdCbsAANh+xPzstgMtxeGKt+6MK3/tacfvwhWvIwMi\n",
       "oKEBtm0H7W+UVfkc/Y1V0BhoPlDr/w1w/eu1vjIgAgDg22OtX6/eYfnEz/focrZTHAFR+PSs56/7\n",
       "q32nwpjazxgwAQCwcU/T62t3WL7r6/jVRa6/byp1rei+Z98ZUAEAhEPHPc8fKnTU9nbgtnOe8h0l\n",
       "9hcGIqmODLQAHCy2Xti6v/XNRivf43f4fFvIteu854+VHnR7q9tfBlwAAGz+pnndB9vM26UebAe8\n",
       "SLHujPOTPVW+rwY+sxskAAC2HrA8t2Vvc7ffP1r9o+vwR2dcr92InIAbKKC1FZ5tB1tf+/G8p8sv\n",
       "N/9Q5zd/XR34LYCwV5JdccMEAMDBk45DH243r/X4xGvqxFa/GNpS7n6rwOwNWwHVE26oAADYurf1\n",
       "zx/utOzt+DMKYM0p17YtZZ5VNzqfsB2HewG1WXE8PoZ7gOclbTIvynZf9JV+fqZtfgs/8F/Nu5rB\n",
       "EIBmJ+8QRMmpU7EzGRsf2FzuePqYRbzh/zE26EwdrT10f6r6o8HOYzCJB9Dpff8tbnGLG8L/A/WE\n",
       "roTBs2RqAAAAAElFTkSuQmCC'\n",
       "     style='height:25px; border-radius:12px; display: inline-block; float: left; vertical-align: middle'></img>\n",
       "\n",
       "\n",
       "  <img src='data:image/png;base64,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'\n",
       "       style='height:15px; border-radius:12px; display: inline-block; float: left'></img>\n",
       "  \n",
       "\n",
       "\n",
       "\n",
       "\n",
       "</div>\n"
      ]
     },
     "metadata": {},
     "output_type": "display_data"
    },
    {
     "data": {
      "application/vnd.jupyter.widget-view+json": {
       "model_id": "bf234ff2954e4447abcb40b81fa7fe48",
       "version_major": 2,
       "version_minor": 0
      },
      "text/plain": [
       "BokehModel(combine_events=True, render_bundle={'docs_json': {'1d33511b-1d3c-455f-8496-3b24b1cfa1c9': {'version…"
      ]
     },
     "execution_count": 2,
     "metadata": {},
     "output_type": "execute_result"
    }
   ],
   "source": [
    "# Visualization by PySOMVis\n",
    "from pysomvis import PySOMVis\n",
    "\n",
    "vis = PySOMVis(weights=weights['arr'], m=weights['ydim'],n=weights['xdim'],\n",
    "                dimension=weights['vec_dim'], input_data=idata['arr'],\n",
    "                classes=classes['arr'][:,1], component_names=classes['classes_names'])\n",
    "vis._mainview"
   ]
  },
  {
   "cell_type": "code",
   "execution_count": 3,
   "id": "5c6d9d9e",
   "metadata": {},
   "outputs": [
    {
     "data": {
      "application/vnd.jupyter.widget-view+json": {
       "model_id": "6c5aae0f112c4ff08b51ba2669de1823",
       "version_major": 2,
       "version_minor": 0
      },
      "text/plain": [
       "BokehModel(combine_events=True, render_bundle={'docs_json': {'ad95cd49-c102-4247-b4e3-223e773ce126': {'version…"
      ]
     },
     "execution_count": 3,
     "metadata": {},
     "output_type": "execute_result"
    }
   ],
   "source": [
    "# Use any library for training SOM map (e.x. MiniSOM, SOMOClu, SOMpy, PopSOM etc.)\n",
    "from pysomvis import PySOMVis\n",
    "from minisom import MiniSom    \n",
    "\n",
    "som = MiniSom(10, 10, 4)\n",
    "som.train(idata['arr'], 10000)\n",
    "\n",
    "vis = PySOMVis(weights=som._weights, input_data=idata['arr'])\n",
    "vis._mainview"
   ]
  },
  {
   "cell_type": "markdown",
   "id": "2c109566",
   "metadata": {},
   "source": [
    "# Dataset\n",
    "##  Select a data set from the OpenML Machine Learning Repository \n",
    "\n",
    "(http://www.openml.org) with the\n",
    "following requirements:<br>\n",
    "a. minimum 1000 instances,<br>\n",
    "b. minimum 20 attributes,<br>\n",
    "c. minimum 4 class labels (for visualizing class distributions on the map).<br>\n",
    "Alternatively, you can also<br>\n",
    " opt to create an artificial dataset, preferably via parameterized scripts (in Matlab, Java, R,<br>\n",
    "Python…) similar to the 10-Gaussians dataset, creating data of different densities combining<br>\n",
    "i. Data on a finite area of a 1-d (line), 2-d, 3-d, 5-d hyperplanes<br>\n",
    "ii. Data on (hyper-)spheres with different radius as well as Gaussians<br>\n",
    "iii. Linear data sets in different intertwined settings<br>\n",
    "iv. Other cluster characteristics that you find interesting<br>\n",
    "\n",
    "## Register the dataset you picked with your group number in the TUWEL Wiki.<br>\n",
    " You must make sure<br>\n",
    "that your dataset is unique, i.e. no two groups may take the same data set! (first come, first serve -<br>\n",
    "do it early to get a data set that you also find interesting to work.)<br>\n",
    "\n",
    "## Create a machine-actionable description of the dataset following Croissant / Schema.org<br>\n",
    "descriptions for datasets (c.f. Croissant: https://neurips.cc/virtual/2024/poster/97627,<br>\n",
    "https://docs.mlcommons.org/croissant/docs/croissant-spec.html; schema.org:<br>\n",
    "https://schema.org/Dataset, c.f. the JSON example provided at https://schema.org/Dataset#eg-0478)<br>\n",
    "\n",
    "## Analyze and describe the characteristics of the dataset (size, attribute types as discussed in class,<br>\n",
    "value ranges, sparsity, min/max values, outliers, missing values, correlations, ...), and describe this<br>\n",
    "in the report. Also, describe any hypotheses you might have concerning the distribution of the data,<br>\n",
    "number of clusters and their relationship, majority/minority classes.<br>"
   ]
  },
  {
   "cell_type": "markdown",
   "id": "027ea2a9",
   "metadata": {},
   "source": [
    "# Preprocessing: \n",
    "\n",
    "Get the data into the form needed for training SOMs. Describe your preprocessing<br>\n",
    "steps (e.g. transcoding, scaling), why you did it and how you did it. Specifically, if your dataset turns<br>\n",
    "out to be extremely large (very high-dimensional and huge number of vectors so that it does not fit<br>\n",
    "into memory for training SOMs) you may choose to apply subsampling for the training data.<br>"
   ]
  },
  {
   "cell_type": "code",
   "execution_count": 5,
   "id": "e19e70d4",
   "metadata": {},
   "outputs": [],
   "source": [
    "## TODO LOADING AND PREPROCESSING THE DATA\n",
    "from scipy.io import arff\n",
    "import pandas as pd\n",
    "\n",
    "data, meta = arff.loadarff('datasets/cardiotography/cardiotography.arff')\n",
    "\n",
    "df = pd.DataFrame(data)"
   ]
  },
  {
   "cell_type": "code",
   "execution_count": 7,
   "id": "15d5085f",
   "metadata": {},
   "outputs": [
    {
     "data": {
      "text/html": [
       "<div>\n",
       "<style scoped>\n",
       "    .dataframe tbody tr th:only-of-type {\n",
       "        vertical-align: middle;\n",
       "    }\n",
       "\n",
       "    .dataframe tbody tr th {\n",
       "        vertical-align: top;\n",
       "    }\n",
       "\n",
       "    .dataframe thead th {\n",
       "        text-align: right;\n",
       "    }\n",
       "</style>\n",
       "<table border=\"1\" class=\"dataframe\">\n",
       "  <thead>\n",
       "    <tr style=\"text-align: right;\">\n",
       "      <th></th>\n",
       "      <th>V1</th>\n",
       "      <th>V2</th>\n",
       "      <th>V3</th>\n",
       "      <th>V4</th>\n",
       "      <th>V5</th>\n",
       "      <th>V6</th>\n",
       "      <th>V7</th>\n",
       "      <th>V8</th>\n",
       "      <th>V9</th>\n",
       "      <th>V10</th>\n",
       "      <th>...</th>\n",
       "      <th>V27</th>\n",
       "      <th>V28</th>\n",
       "      <th>V29</th>\n",
       "      <th>V30</th>\n",
       "      <th>V31</th>\n",
       "      <th>V32</th>\n",
       "      <th>V33</th>\n",
       "      <th>V34</th>\n",
       "      <th>V35</th>\n",
       "      <th>Class</th>\n",
       "    </tr>\n",
       "  </thead>\n",
       "  <tbody>\n",
       "    <tr>\n",
       "      <th>0</th>\n",
       "      <td>23.0</td>\n",
       "      <td>240.0</td>\n",
       "      <td>357.0</td>\n",
       "      <td>120.0</td>\n",
       "      <td>120.0</td>\n",
       "      <td>0.0</td>\n",
       "      <td>0.0</td>\n",
       "      <td>0.0</td>\n",
       "      <td>73.0</td>\n",
       "      <td>0.5</td>\n",
       "      <td>...</td>\n",
       "      <td>0.0</td>\n",
       "      <td>0.0</td>\n",
       "      <td>0.0</td>\n",
       "      <td>0.0</td>\n",
       "      <td>0.0</td>\n",
       "      <td>0.0</td>\n",
       "      <td>0.0</td>\n",
       "      <td>1.0</td>\n",
       "      <td>0.0</td>\n",
       "      <td>b'9'</td>\n",
       "    </tr>\n",
       "    <tr>\n",
       "      <th>1</th>\n",
       "      <td>45.0</td>\n",
       "      <td>5.0</td>\n",
       "      <td>632.0</td>\n",
       "      <td>132.0</td>\n",
       "      <td>132.0</td>\n",
       "      <td>4.0</td>\n",
       "      <td>0.0</td>\n",
       "      <td>4.0</td>\n",
       "      <td>17.0</td>\n",
       "      <td>2.1</td>\n",
       "      <td>...</td>\n",
       "      <td>0.0</td>\n",
       "      <td>0.0</td>\n",
       "      <td>0.0</td>\n",
       "      <td>0.0</td>\n",
       "      <td>1.0</td>\n",
       "      <td>0.0</td>\n",
       "      <td>0.0</td>\n",
       "      <td>0.0</td>\n",
       "      <td>0.0</td>\n",
       "      <td>b'6'</td>\n",
       "    </tr>\n",
       "    <tr>\n",
       "      <th>2</th>\n",
       "      <td>45.0</td>\n",
       "      <td>177.0</td>\n",
       "      <td>779.0</td>\n",
       "      <td>133.0</td>\n",
       "      <td>133.0</td>\n",
       "      <td>2.0</td>\n",
       "      <td>0.0</td>\n",
       "      <td>5.0</td>\n",
       "      <td>16.0</td>\n",
       "      <td>2.1</td>\n",
       "      <td>...</td>\n",
       "      <td>0.0</td>\n",
       "      <td>0.0</td>\n",
       "      <td>0.0</td>\n",
       "      <td>0.0</td>\n",
       "      <td>1.0</td>\n",
       "      <td>0.0</td>\n",
       "      <td>0.0</td>\n",
       "      <td>0.0</td>\n",
       "      <td>0.0</td>\n",
       "      <td>b'6'</td>\n",
       "    </tr>\n",
       "    <tr>\n",
       "      <th>3</th>\n",
       "      <td>45.0</td>\n",
       "      <td>411.0</td>\n",
       "      <td>1192.0</td>\n",
       "      <td>134.0</td>\n",
       "      <td>134.0</td>\n",
       "      <td>2.0</td>\n",
       "      <td>0.0</td>\n",
       "      <td>6.0</td>\n",
       "      <td>16.0</td>\n",
       "      <td>2.4</td>\n",
       "      <td>...</td>\n",
       "      <td>0.0</td>\n",
       "      <td>0.0</td>\n",
       "      <td>0.0</td>\n",
       "      <td>0.0</td>\n",
       "      <td>1.0</td>\n",
       "      <td>0.0</td>\n",
       "      <td>0.0</td>\n",
       "      <td>0.0</td>\n",
       "      <td>0.0</td>\n",
       "      <td>b'6'</td>\n",
       "    </tr>\n",
       "    <tr>\n",
       "      <th>4</th>\n",
       "      <td>45.0</td>\n",
       "      <td>533.0</td>\n",
       "      <td>1147.0</td>\n",
       "      <td>132.0</td>\n",
       "      <td>132.0</td>\n",
       "      <td>4.0</td>\n",
       "      <td>0.0</td>\n",
       "      <td>5.0</td>\n",
       "      <td>16.0</td>\n",
       "      <td>2.4</td>\n",
       "      <td>...</td>\n",
       "      <td>1.0</td>\n",
       "      <td>0.0</td>\n",
       "      <td>0.0</td>\n",
       "      <td>0.0</td>\n",
       "      <td>0.0</td>\n",
       "      <td>0.0</td>\n",
       "      <td>0.0</td>\n",
       "      <td>0.0</td>\n",
       "      <td>0.0</td>\n",
       "      <td>b'2'</td>\n",
       "    </tr>\n",
       "  </tbody>\n",
       "</table>\n",
       "<p>5 rows × 36 columns</p>\n",
       "</div>"
      ],
      "text/plain": [
       "     V1     V2      V3     V4     V5   V6   V7   V8    V9  V10  ...  V27  V28  \\\n",
       "0  23.0  240.0   357.0  120.0  120.0  0.0  0.0  0.0  73.0  0.5  ...  0.0  0.0   \n",
       "1  45.0    5.0   632.0  132.0  132.0  4.0  0.0  4.0  17.0  2.1  ...  0.0  0.0   \n",
       "2  45.0  177.0   779.0  133.0  133.0  2.0  0.0  5.0  16.0  2.1  ...  0.0  0.0   \n",
       "3  45.0  411.0  1192.0  134.0  134.0  2.0  0.0  6.0  16.0  2.4  ...  0.0  0.0   \n",
       "4  45.0  533.0  1147.0  132.0  132.0  4.0  0.0  5.0  16.0  2.4  ...  1.0  0.0   \n",
       "\n",
       "   V29  V30  V31  V32  V33  V34  V35  Class  \n",
       "0  0.0  0.0  0.0  0.0  0.0  1.0  0.0   b'9'  \n",
       "1  0.0  0.0  1.0  0.0  0.0  0.0  0.0   b'6'  \n",
       "2  0.0  0.0  1.0  0.0  0.0  0.0  0.0   b'6'  \n",
       "3  0.0  0.0  1.0  0.0  0.0  0.0  0.0   b'6'  \n",
       "4  0.0  0.0  0.0  0.0  0.0  0.0  0.0   b'2'  \n",
       "\n",
       "[5 rows x 36 columns]"
      ]
     },
     "execution_count": 7,
     "metadata": {},
     "output_type": "execute_result"
    }
   ],
   "source": [
    "df.head()"
   ]
  },
  {
   "cell_type": "code",
   "execution_count": 9,
   "id": "26446677",
   "metadata": {},
   "outputs": [],
   "source": [
    "#standard preprocessing for the DataFrame \n",
    "def preprocess_data(df):\n",
    "    # Drop rows with missing values\n",
    "    df = df.dropna()\n",
    "    # Drop duplicate rows\n",
    "    df = df.drop_duplicates()\n",
    "    # Drop columns with constant values\n",
    "    df = df.loc[:, (df != df.iloc[0]).any()]\n",
    "    return df   "
   ]
  },
  {
   "cell_type": "code",
   "execution_count": 11,
   "id": "417144df",
   "metadata": {},
   "outputs": [
    {
     "name": "stdout",
     "output_type": "stream",
     "text": [
      "<class 'pandas.core.frame.DataFrame'>\n",
      "Index: 2115 entries, 0 to 2125\n",
      "Data columns (total 36 columns):\n",
      " #   Column  Non-Null Count  Dtype  \n",
      "---  ------  --------------  -----  \n",
      " 0   V1      2115 non-null   float64\n",
      " 1   V2      2115 non-null   float64\n",
      " 2   V3      2115 non-null   float64\n",
      " 3   V4      2115 non-null   float64\n",
      " 4   V5      2115 non-null   float64\n",
      " 5   V6      2115 non-null   float64\n",
      " 6   V7      2115 non-null   float64\n",
      " 7   V8      2115 non-null   float64\n",
      " 8   V9      2115 non-null   float64\n",
      " 9   V10     2115 non-null   float64\n",
      " 10  V11     2115 non-null   float64\n",
      " 11  V12     2115 non-null   float64\n",
      " 12  V13     2115 non-null   float64\n",
      " 13  V14     2115 non-null   float64\n",
      " 14  V15     2115 non-null   float64\n",
      " 15  V16     2115 non-null   float64\n",
      " 16  V17     2115 non-null   float64\n",
      " 17  V18     2115 non-null   float64\n",
      " 18  V19     2115 non-null   float64\n",
      " 19  V20     2115 non-null   float64\n",
      " 20  V21     2115 non-null   float64\n",
      " 21  V22     2115 non-null   float64\n",
      " 22  V23     2115 non-null   float64\n",
      " 23  V24     2115 non-null   float64\n",
      " 24  V25     2115 non-null   float64\n",
      " 25  V26     2115 non-null   float64\n",
      " 26  V27     2115 non-null   float64\n",
      " 27  V28     2115 non-null   float64\n",
      " 28  V29     2115 non-null   float64\n",
      " 29  V30     2115 non-null   float64\n",
      " 30  V31     2115 non-null   float64\n",
      " 31  V32     2115 non-null   float64\n",
      " 32  V33     2115 non-null   float64\n",
      " 33  V34     2115 non-null   float64\n",
      " 34  V35     2115 non-null   float64\n",
      " 35  Class   2115 non-null   object \n",
      "dtypes: float64(35), object(1)\n",
      "memory usage: 611.4+ KB\n"
     ]
    }
   ],
   "source": [
    "df = preprocess_data(df)\n",
    "df.info()"
   ]
  },
  {
   "cell_type": "markdown",
   "id": "bfa1206c",
   "metadata": {},
   "source": [
    "# C) SOM Training and Analysis"
   ]
  },
  {
   "cell_type": "markdown",
   "id": "84e3b014",
   "metadata": {},
   "source": [
    "## 1) Train a reasonably sized „regular“ SOM"
   ]
  },
  {
   "cell_type": "code",
   "execution_count": 12,
   "id": "5e057fde",
   "metadata": {},
   "outputs": [],
   "source": [
    "from minisom import MiniSom\n",
    "from sklearn.datasets import load_iris\n",
    "import numpy as np\n",
    "from pysomvis import PySOMVis\n",
    "\n",
    "def calculate_som_size(data_size, fraction=0.1):\n",
    "    \"\"\"Calculate SOM dimensions based on the dataset size.\"\"\"\n",
    "    # Calculate the total number of units based on the data size and fraction\n",
    "    total_units = int(data_size * fraction)\n",
    "    # Use the square root to determine SOM dimensions (assumes a square grid)\n",
    "    som_dim = int(np.sqrt(total_units))\n",
    "    return som_dim, som_dim\n",
    "\n",
    "def train_som(dataloader, **params):\n",
    "    \"\"\"\n",
    "    Train a Self-Organizing Map (SOM) with specified parameters.\n",
    "\n",
    "    Parameters:\n",
    "    - dataloader (function): A function that returns the dataset. The dataset should have \n",
    "      'data' (features) and 'target' (labels) attributes.\n",
    "    - size_fraction (float): Fraction of the dataset used to calculate the SOM size (default is 0.1).\n",
    "    - sigma (float): The neighborhood radius used for the SOM (default is 1.0). Controls how far \n",
    "      neighboring neurons will be affected by the learning process.\n",
    "    - learning_rate (float): The learning rate for the SOM (default is 0.5). It determines how \n",
    "      much the weights of the SOM are adjusted during training.\n",
    "    - num_iterations (int): The number of iterations to train the SOM (default is 1000).\n",
    "    - random_seed (int, optional): The random seed for initializing the SOM. If None, a random seed is used.\n",
    "      Providing a fixed value ensures reproducibility.\n",
    "    - neighborhood_function (str): The type of neighborhood function used for training ('gaussian' is default).\n",
    "      This determines the shape of the neighborhood that is affected during training.\n",
    "\n",
    "    Returns:\n",
    "    - som (MiniSom): The trained SOM object.\n",
    "    - X (array): The input features used for training.\n",
    "    - y (array): The target labels corresponding to the input features.\n",
    "    - class_names (array): The class names of the target labels.\n",
    "    \"\"\"\n",
    "    \n",
    "    # Load dataset using the provided dataloader function\n",
    "    data = dataloader()\n",
    "    X = data.data  # Extract the data (already normalized by the dataloader)\n",
    "    y = data.target\n",
    "    class_names = data.target_names\n",
    "\n",
    "    # Calculate SOM size based on the number of data points and specified fraction\n",
    "    som_x, som_y = calculate_som_size(len(X), fraction=params.get('size_fraction', 0.1))\n",
    "\n",
    "    # Get the dimensionality of the input data (number of features per data point)\n",
    "    input_len = X.shape[1]\n",
    "\n",
    "    # Initialize SOM with the calculated dimensions and other specified parameters\n",
    "    som = MiniSom(som_x, som_y, input_len, \n",
    "                  sigma=params.get('sigma', 1.0),  # Neighborhood radius\n",
    "                  learning_rate=params.get('learning_rate', 0.5),  # Learning rate\n",
    "                  neighborhood_function=params.get('neighborhood_function', 'gaussian'),  # Neighborhood function\n",
    "                  random_seed=params.get('random_seed', None))  # Random seed for initialization\n",
    "\n",
    "    # Train the SOM using the normalized data and specified number of iterations\n",
    "    som.train(X, params.get('num_iterations', 1000))\n",
    "\n",
    "    # Return trained SOM and the input data\n",
    "    return som, X, y, class_names\n",
    "\n",
    "def iris_dataloader():\n",
    "    \"\"\"Load and normalize Iris dataset.\"\"\"\n",
    "    data = load_iris()\n",
    "    # Normalize data to range [0, 1]\n",
    "    data.data = (data.data - data.data.min(axis=0)) / (data.data.max(axis=0) - data.data.min(axis=0))\n",
    "    return data\n"
   ]
  },
  {
   "cell_type": "markdown",
   "id": "fba80e48",
   "metadata": {},
   "source": [
    "Train a SOM with „regular“ size (i.e. number of units as a certain fraction of the number of data<br>\n",
    "items) and reasonable training parameters (sufficiently large initial neighborhood, learning<br>\n",
    "rate; provide a justification for the selection of the parameters. NOTE: Learning rates for SOMs<br>\n",
    "differ from those usually encountered in Deep Neural Networks, c.f. lecture)<br>"
   ]
  },
  {
   "cell_type": "code",
   "execution_count": 13,
   "id": "3f0d682f",
   "metadata": {},
   "outputs": [],
   "source": [
    "# TODO TRAIN SOM WITH REG SIZE\n",
    "\n",
    "params = {\n",
    "    'size_fraction': 0.4,\n",
    "    'sigma': 1.5,\n",
    "    'learning_rate': 0.3,\n",
    "    'num_iterations': 5000,\n",
    "    'random_seed': 42  # Specify a random seed for initialization\n",
    "}\n",
    "\n",
    "# Call the train_som function with the updated parameters\n",
    "som, X, y, class_names = train_som(iris_dataloader, **params)"
   ]
  },
  {
   "cell_type": "markdown",
   "id": "773b6f06",
   "metadata": {},
   "source": [
    "Analyse in detail the class distribution, cluster structure, quantization errors, topology\n",
    "violations.<br> a) Can you identify the border effect and magnification factors.<br> b) How well do class\n",
    "distribution and cluster structure match?<br> c) Which classes fall into sub-clusters, which classes\n",
    "are split across clusters, which classes mix in clusters.<br> d) How is the quantization error\n",
    "distributed on the map, how does this correspond with perceived cluster separation and\n",
    "quality?"
   ]
  },
  {
   "cell_type": "code",
   "execution_count": 14,
   "id": "e63c185f",
   "metadata": {},
   "outputs": [
    {
     "data": {
      "application/vnd.jupyter.widget-view+json": {
       "model_id": "f8d1b562446a4355a28929c8a0918133",
       "version_major": 2,
       "version_minor": 0
      },
      "text/plain": [
       "BokehModel(combine_events=True, render_bundle={'docs_json': {'a00d48ff-1a28-4bd1-939f-bee1a5a5485d': {'version…"
      ]
     },
     "execution_count": 14,
     "metadata": {},
     "output_type": "execute_result"
    }
   ],
   "source": [
    "#TODO above\n",
    "weights = {\n",
    "    'arr': som.get_weights(),\n",
    "    'xdim': som._weights.shape[0],\n",
    "    'ydim': som._weights.shape[1],\n",
    "    'vec_dim': som._weights.shape[2]\n",
    "}\n",
    "\n",
    "# Initialize PySOMVis with correct m and n\n",
    "# vis = PySOMVis(weights=weights['arr'], \n",
    "#                m=weights['xdim'],  # m should be xdim\n",
    "#                n=weights['ydim'],  # n should be ydim\n",
    "#                dimension=weights['vec_dim'], \n",
    "#                input_data=X, \n",
    "#                classes=y, \n",
    "#                component_names=class_names)\n",
    "\n",
    "# # Display the visualization\n",
    "# vis._mainview()\n",
    "\n",
    "vis = PySOMVis(weights=som._weights, input_data=X)\n",
    "vis._mainview\n"
   ]
  },
  {
   "cell_type": "markdown",
   "id": "a07e26bb",
   "metadata": {},
   "source": [
    "**Describe and compare the structures found**(providing detailed info on visualizations and\n",
    "parameters)"
   ]
  },
  {
   "cell_type": "code",
   "execution_count": 19,
   "id": "1e6f45cf",
   "metadata": {},
   "outputs": [],
   "source": [
    "#TODO show structres"
   ]
  },
  {
   "cell_type": "markdown",
   "id": "2c3b59d3",
   "metadata": {},
   "source": [
    "#TODO comparision text"
   ]
  },
  {
   "cell_type": "markdown",
   "id": "40a60c09",
   "metadata": {},
   "source": [
    "## 2) Analyze different initializations of the SOM"
   ]
  },
  {
   "cell_type": "markdown",
   "id": "7370cd72",
   "metadata": {},
   "source": [
    "Train one further „regular-sized“ SOM using the same training parameters as above, but using\n",
    "a different random seed for initializing the SOM."
   ]
  },
  {
   "cell_type": "code",
   "execution_count": 20,
   "id": "b6bb188b",
   "metadata": {},
   "outputs": [],
   "source": [
    "params[\"random_seed\"] = 43\n",
    "\n",
    "# Train the SOM using the updated parameters (same dataset, different seed)\n",
    "som2, X, y, class_names = train_som(iris_dataloader, **params)\n"
   ]
  },
  {
   "cell_type": "markdown",
   "id": "3166a6ab",
   "metadata": {},
   "source": [
    "**Show and describe** <br> a) how the cluster structures and class distributions shift on the two\n",
    "SOMs,<br> b) the effect on topology violations, cluster relationships, etc.<br> c) Which clusters show\n",
    "a stable relationship, which ones change their relative position?<br> d) Which data instances are\n",
    "stably mapped with similar data instances, which change a lot? Are they part of the same\n",
    "clusters?"
   ]
  },
  {
   "cell_type": "code",
   "execution_count": 21,
   "id": "16dbb788",
   "metadata": {},
   "outputs": [
    {
     "data": {},
     "metadata": {},
     "output_type": "display_data"
    },
    {
     "data": {},
     "metadata": {},
     "output_type": "display_data"
    },
    {
     "data": {
      "application/vnd.holoviews_exec.v0+json": "",
      "text/html": [
       "<div id='2997'>\n",
       "\n",
       "\n",
       "\n",
       "\n",
       "\n",
       "  <div class=\"bk-root\" id=\"e20d3b02-5df1-447b-97fd-6a81d757bd2b\" data-root-id=\"2997\"></div>\n",
       "</div>\n",
       "<script type=\"application/javascript\">(function(root) {\n",
       "  function embed_document(root) {\n",
       "    var docs_json = {\"91e7f485-6116-43ab-9c2a-4fe6654c30ee\":{\"defs\":[{\"extends\":null,\"module\":null,\"name\":\"ReactiveHTML1\",\"overrides\":[],\"properties\":[]},{\"extends\":null,\"module\":null,\"name\":\"FlexBox1\",\"overrides\":[],\"properties\":[{\"default\":\"flex-start\",\"kind\":null,\"name\":\"align_content\"},{\"default\":\"flex-start\",\"kind\":null,\"name\":\"align_items\"},{\"default\":\"row\",\"kind\":null,\"name\":\"flex_direction\"},{\"default\":\"wrap\",\"kind\":null,\"name\":\"flex_wrap\"},{\"default\":\"flex-start\",\"kind\":null,\"name\":\"justify_content\"}]},{\"extends\":null,\"module\":null,\"name\":\"GridStack1\",\"overrides\":[],\"properties\":[{\"default\":\"warn\",\"kind\":null,\"name\":\"mode\"},{\"default\":null,\"kind\":null,\"name\":\"ncols\"},{\"default\":null,\"kind\":null,\"name\":\"nrows\"},{\"default\":true,\"kind\":null,\"name\":\"allow_resize\"},{\"default\":true,\"kind\":null,\"name\":\"allow_drag\"},{\"default\":[],\"kind\":null,\"name\":\"state\"}]},{\"extends\":null,\"module\":null,\"name\":\"click1\",\"overrides\":[],\"properties\":[{\"default\":\"\",\"kind\":null,\"name\":\"terminal_output\"},{\"default\":\"\",\"kind\":null,\"name\":\"debug_name\"},{\"default\":0,\"kind\":null,\"name\":\"clears\"}]},{\"extends\":null,\"module\":null,\"name\":\"TemplateActions1\",\"overrides\":[],\"properties\":[{\"default\":0,\"kind\":null,\"name\":\"open_modal\"},{\"default\":0,\"kind\":null,\"name\":\"close_modal\"}]},{\"extends\":null,\"module\":null,\"name\":\"MaterialTemplateActions1\",\"overrides\":[],\"properties\":[{\"default\":0,\"kind\":null,\"name\":\"open_modal\"},{\"default\":0,\"kind\":null,\"name\":\"close_modal\"}]}],\"roots\":{\"references\":[{\"attributes\":{\"coordinates\":null,\"data_source\":{\"id\":\"3071\"},\"glyph\":{\"id\":\"3074\"},\"group\":null,\"hover_glyph\":null,\"muted_glyph\":{\"id\":\"3076\"},\"nonselection_glyph\":{\"id\":\"3075\"},\"selection_glyph\":{\"id\":\"3079\"},\"view\":{\"id\":\"3078\"}},\"id\":\"3077\",\"type\":\"GlyphRenderer\"},{\"attributes\":{\"angle\":{\"value\":0.0},\"fill_alpha\":{\"value\":1.0},\"fill_color\":{\"value\":\"red\"},\"hatch_alpha\":{\"value\":1.0},\"hatch_color\":{\"value\":\"red\"},\"hatch_scale\":{\"value\":12.0},\"hatch_weight\":{\"value\":1.0},\"line_alpha\":{\"value\":1.0},\"line_cap\":{\"value\":\"butt\"},\"line_color\":{\"value\":\"red\"},\"line_dash\":{\"value\":[]},\"line_dash_offset\":{\"value\":0},\"line_join\":{\"value\":\"bevel\"},\"line_width\":{\"value\":1},\"marker\":{\"value\":\"asterisk\"},\"size\":{\"value\":2},\"x\":{\"field\":\"x\"},\"y\":{\"field\":\"y\"}},\"id\":\"3079\",\"type\":\"Scatter\"},{\"attributes\":{},\"id\":\"3044\",\"type\":\"AllLabels\"},{\"attributes\":{},\"id\":\"3047\",\"type\":\"AllLabels\"},{\"attributes\":{},\"id\":\"3091\",\"type\":\"UnionRenderers\"},{\"attributes\":{\"color_mapper\":{\"id\":\"3048\"},\"dh\":{\"field\":\"dh\"},\"dw\":{\"field\":\"dw\"},\"global_alpha\":{\"value\":0.1},\"image\":{\"field\":\"image\"},\"x\":{\"field\":\"x\"},\"y\":{\"field\":\"y\"}},\"id\":\"3054\",\"type\":\"Image\"},{\"attributes\":{},\"id\":\"3046\",\"type\":\"BasicTickFormatter\"},{\"attributes\":{\"end\":0.5,\"reset_end\":0.5,\"reset_start\":-0.5,\"start\":-0.5,\"tags\":[[[\"x\",\"x\",null]]]},\"id\":\"3011\",\"type\":\"Range1d\"},{\"attributes\":{\"margin\":[0,0,0,0],\"name\":\"Row05979\"},\"id\":\"3213\",\"type\":\"Row\"},{\"attributes\":{\"source\":{\"id\":\"3049\"}},\"id\":\"3059\",\"type\":\"CDSView\"},{\"attributes\":{\"line_alpha\":{\"field\":\"alpha\"},\"line_cap\":{\"value\":\"butt\"},\"line_color\":{\"value\":\"red\"},\"line_dash\":{\"value\":[]},\"line_dash_offset\":{\"value\":0},\"line_join\":{\"value\":\"bevel\"},\"line_width\":{\"value\":2},\"x0\":{\"field\":\"x0\"},\"x1\":{\"field\":\"x1\"},\"y0\":{\"field\":\"y0\"},\"y1\":{\"field\":\"y1\"}},\"id\":\"3070\",\"type\":\"Segment\"},{\"attributes\":{\"data\":{\"x0\":{\"__ndarray__\":\"\",\"dtype\":\"float64\",\"order\":\"little\",\"shape\":[0]},\"x1\":{\"__ndarray__\":\"\",\"dtype\":\"float64\",\"order\":\"little\",\"shape\":[0]},\"y0\":{\"__ndarray__\":\"\",\"dtype\":\"float64\",\"order\":\"little\",\"shape\":[0]},\"y1\":{\"__ndarray__\":\"\",\"dtype\":\"float64\",\"order\":\"little\",\"shape\":[0]}},\"selected\":{\"id\":\"3063\"},\"selection_policy\":{\"id\":\"3089\"}},\"id\":\"3062\",\"type\":\"ColumnDataSource\"},{\"attributes\":{\"data\":{\"x\":{\"__ndarray__\":\"\",\"dtype\":\"float64\",\"order\":\"little\",\"shape\":[0]},\"y\":{\"__ndarray__\":\"\",\"dtype\":\"float64\",\"order\":\"little\",\"shape\":[0]}},\"selected\":{\"id\":\"3072\"},\"selection_policy\":{\"id\":\"3091\"}},\"id\":\"3071\",\"type\":\"ColumnDataSource\"},{\"attributes\":{\"line_alpha\":{\"field\":\"alpha\"},\"line_color\":{\"value\":\"red\"},\"line_width\":{\"value\":2},\"x0\":{\"field\":\"x0\"},\"x1\":{\"field\":\"x1\"},\"y0\":{\"field\":\"y0\"},\"y1\":{\"field\":\"y1\"}},\"id\":\"3065\",\"type\":\"Segment\"},{\"attributes\":{\"source\":{\"id\":\"3062\"}},\"id\":\"3069\",\"type\":\"CDSView\"},{\"attributes\":{\"high\":0.9245813133006998,\"low\":0.05216685863527836,\"nan_color\":\"rgba(0, 0, 0, 0)\",\"palette\":[\"#00007f\",\"#000084\",\"#000088\",\"#00008d\",\"#000091\",\"#000096\",\"#00009a\",\"#00009f\",\"#0000a3\",\"#0000a8\",\"#0000ac\",\"#0000b1\",\"#0000b6\",\"#0000ba\",\"#0000bf\",\"#0000c3\",\"#0000c8\",\"#0000cc\",\"#0000d1\",\"#0000d5\",\"#0000da\",\"#0000de\",\"#0000e3\",\"#0000e8\",\"#0000ec\",\"#0000f1\",\"#0000f5\",\"#0000fa\",\"#0000fe\",\"#0000ff\",\"#0000ff\",\"#0000ff\",\"#0000ff\",\"#0004ff\",\"#0008ff\",\"#000cff\",\"#0010ff\",\"#0014ff\",\"#0018ff\",\"#001cff\",\"#0020ff\",\"#0024ff\",\"#0028ff\",\"#002cff\",\"#0030ff\",\"#0034ff\",\"#0038ff\",\"#003cff\",\"#0040ff\",\"#0044ff\",\"#0048ff\",\"#004cff\",\"#0050ff\",\"#0054ff\",\"#0058ff\",\"#005cff\",\"#0060ff\",\"#0064ff\",\"#0068ff\",\"#006cff\",\"#0070ff\",\"#0074ff\",\"#0078ff\",\"#007cff\",\"#0080ff\",\"#0084ff\",\"#0088ff\",\"#008cff\",\"#0090ff\",\"#0094ff\",\"#0098ff\",\"#009cff\",\"#00a0ff\",\"#00a4ff\",\"#00a8ff\",\"#00acff\",\"#00b0ff\",\"#00b4ff\",\"#00b8ff\",\"#00bcff\",\"#00c0ff\",\"#00c4ff\",\"#00c8ff\",\"#00ccff\",\"#00d0ff\",\"#00d4ff\",\"#00d8ff\",\"#00dcfe\",\"#00e0fa\",\"#00e4f7\",\"#02e8f4\",\"#05ecf1\",\"#08f0ed\",\"#0cf4ea\",\"#0ff8e7\",\"#12fce4\",\"#15ffe1\",\"#18ffdd\",\"#1cffda\",\"#1fffd7\",\"#22ffd4\",\"#25ffd0\",\"#29ffcd\",\"#2cffca\",\"#2fffc7\",\"#32ffc3\",\"#36ffc0\",\"#39ffbd\",\"#3cffba\",\"#3fffb7\",\"#42ffb3\",\"#46ffb0\",\"#49ffad\",\"#4cffaa\",\"#4fffa6\",\"#53ffa3\",\"#56ffa0\",\"#59ff9d\",\"#5cff9a\",\"#5fff96\",\"#63ff93\",\"#66ff90\",\"#69ff8d\",\"#6cff89\",\"#70ff86\",\"#73ff83\",\"#76ff80\",\"#79ff7d\",\"#7cff79\",\"#80ff76\",\"#83ff73\",\"#86ff70\",\"#89ff6c\",\"#8dff69\",\"#90ff66\",\"#93ff63\",\"#96ff5f\",\"#9aff5c\",\"#9dff59\",\"#a0ff56\",\"#a3ff53\",\"#a6ff4f\",\"#aaff4c\",\"#adff49\",\"#b0ff46\",\"#b3ff42\",\"#b7ff3f\",\"#baff3c\",\"#bdff39\",\"#c0ff36\",\"#c3ff32\",\"#c7ff2f\",\"#caff2c\",\"#cdff29\",\"#d0ff25\",\"#d4ff22\",\"#d7ff1f\",\"#daff1c\",\"#ddff18\",\"#e0ff15\",\"#e4ff12\",\"#e7ff0f\",\"#eaff0c\",\"#edff08\",\"#f1fc05\",\"#f4f802\",\"#f7f400\",\"#faf000\",\"#feed00\",\"#ffe900\",\"#ffe500\",\"#ffe200\",\"#ffde00\",\"#ffda00\",\"#ffd700\",\"#ffd300\",\"#ffcf00\",\"#ffcb00\",\"#ffc800\",\"#ffc400\",\"#ffc000\",\"#ffbd00\",\"#ffb900\",\"#ffb500\",\"#ffb100\",\"#ffae00\",\"#ffaa00\",\"#ffa600\",\"#ffa300\",\"#ff9f00\",\"#ff9b00\",\"#ff9800\",\"#ff9400\",\"#ff9000\",\"#ff8c00\",\"#ff8900\",\"#ff8500\",\"#ff8100\",\"#ff7e00\",\"#ff7a00\",\"#ff7600\",\"#ff7300\",\"#ff6f00\",\"#ff6b00\",\"#ff6700\",\"#ff6400\",\"#ff6000\",\"#ff5c00\",\"#ff5900\",\"#ff5500\",\"#ff5100\",\"#ff4d00\",\"#ff4a00\",\"#ff4600\",\"#ff4200\",\"#ff3f00\",\"#ff3b00\",\"#ff3700\",\"#ff3400\",\"#ff3000\",\"#ff2c00\",\"#ff2800\",\"#ff2500\",\"#ff2100\",\"#ff1d00\",\"#ff1a00\",\"#ff1600\",\"#fe1200\",\"#fa0f00\",\"#f50b00\",\"#f10700\",\"#ec0300\",\"#e80000\",\"#e30000\",\"#de0000\",\"#da0000\",\"#d50000\",\"#d10000\",\"#cc0000\",\"#c80000\",\"#c30000\",\"#bf0000\",\"#ba0000\",\"#b60000\",\"#b10000\",\"#ac0000\",\"#a80000\",\"#a30000\",\"#9f0000\",\"#9a0000\",\"#960000\",\"#910000\",\"#8d0000\",\"#880000\",\"#840000\",\"#7f0000\"]},\"id\":\"3048\",\"type\":\"LinearColorMapper\"},{\"attributes\":{\"color_mapper\":{\"id\":\"3048\"},\"dh\":{\"field\":\"dh\"},\"dw\":{\"field\":\"dw\"},\"image\":{\"field\":\"image\"},\"x\":{\"field\":\"x\"},\"y\":{\"field\":\"y\"}},\"id\":\"3052\",\"type\":\"Image\"},{\"attributes\":{\"fill_color\":{\"value\":\"red\"},\"hatch_color\":{\"value\":\"red\"},\"line_color\":{\"value\":\"red\"},\"marker\":{\"value\":\"asterisk\"},\"size\":{\"value\":2},\"x\":{\"field\":\"x\"},\"y\":{\"field\":\"y\"}},\"id\":\"3074\",\"type\":\"Scatter\"},{\"attributes\":{\"axis_label\":\"x\",\"coordinates\":null,\"formatter\":{\"id\":\"3043\"},\"group\":null,\"major_label_policy\":{\"id\":\"3044\"},\"ticker\":{\"id\":\"3023\"}},\"id\":\"3022\",\"type\":\"LinearAxis\"},{\"attributes\":{\"color_mapper\":{\"id\":\"3048\"},\"dh\":{\"field\":\"dh\"},\"dw\":{\"field\":\"dw\"},\"global_alpha\":{\"value\":1.0},\"image\":{\"field\":\"image\"},\"x\":{\"field\":\"x\"},\"y\":{\"field\":\"y\"}},\"id\":\"3060\",\"type\":\"Image\"},{\"attributes\":{\"children\":[{\"id\":\"2998\"},{\"id\":\"3212\"}],\"margin\":[0,0,0,0],\"name\":\"Column05983\"},\"id\":\"2997\",\"type\":\"Column\"},{\"attributes\":{\"children\":[{\"id\":\"2999\"},{\"id\":\"3009\"}],\"margin\":[0,0,0,0],\"name\":\"Column05981\"},\"id\":\"2998\",\"type\":\"Column\"},{\"attributes\":{},\"id\":\"3020\",\"type\":\"LinearScale\"},{\"attributes\":{},\"id\":\"3072\",\"type\":\"Selection\"},{\"attributes\":{\"tools\":[{\"id\":\"3030\"},{\"id\":\"3031\"},{\"id\":\"3032\"},{\"id\":\"3033\"},{\"id\":\"3034\"}]},\"id\":\"3036\",\"type\":\"Toolbar\"},{\"attributes\":{\"client_comm_id\":\"cf19527210c94d56a09d9ec4ba0a4afa\",\"comm_id\":\"98d911bda80c445bb612f8a053575808\",\"plot_id\":\"2997\"},\"id\":\"3256\",\"type\":\"panel.models.comm_manager.CommManager\"},{\"attributes\":{\"children\":[{\"id\":\"3000\"}],\"margin\":[0,0,0,0],\"name\":\"Column05946\"},\"id\":\"2999\",\"type\":\"Column\"},{\"attributes\":{\"coordinates\":null,\"group\":null,\"text_color\":\"black\",\"text_font_size\":\"12pt\"},\"id\":\"3014\",\"type\":\"Title\"},{\"attributes\":{\"children\":[{\"id\":\"3207\"}],\"margin\":[0,0,0,0],\"name\":\"Row05978\"},\"id\":\"3206\",\"type\":\"Row\"},{\"attributes\":{\"fill_alpha\":{\"value\":0.2},\"fill_color\":{\"value\":\"red\"},\"hatch_alpha\":{\"value\":0.2},\"hatch_color\":{\"value\":\"red\"},\"line_alpha\":{\"value\":0.2},\"line_color\":{\"value\":\"red\"},\"marker\":{\"value\":\"asterisk\"},\"size\":{\"value\":2},\"x\":{\"field\":\"x\"},\"y\":{\"field\":\"y\"}},\"id\":\"3076\",\"type\":\"Scatter\"},{\"attributes\":{\"children\":[{\"id\":\"3001\"},{\"id\":\"3002\"},{\"id\":\"3003\"},{\"id\":\"3004\"},{\"id\":\"3005\"},{\"id\":\"3006\"},{\"id\":\"3007\"},{\"id\":\"3008\"}],\"margin\":[5,5,5,5],\"min_width\":700,\"name\":\"\",\"width\":700},\"id\":\"3000\",\"type\":\"Row\"},{\"attributes\":{\"children\":[{\"id\":\"3013\"}],\"margin\":[0,0,0,0],\"name\":\"Column05977\"},\"id\":\"3010\",\"type\":\"Column\"},{\"attributes\":{\"below\":[{\"id\":\"3022\"}],\"center\":[{\"id\":\"3025\"},{\"id\":\"3029\"}],\"height\":500,\"left\":[{\"id\":\"3026\"}],\"margin\":[5,5,5,5],\"min_border_bottom\":10,\"min_border_left\":10,\"min_border_right\":10,\"min_border_top\":10,\"renderers\":[{\"id\":\"3058\"},{\"id\":\"3068\"},{\"id\":\"3077\"}],\"sizing_mode\":\"fixed\",\"title\":{\"id\":\"3014\"},\"toolbar\":{\"id\":\"3036\"},\"width\":500,\"x_range\":{\"id\":\"3011\"},\"x_scale\":{\"id\":\"3018\"},\"y_range\":{\"id\":\"3012\"},\"y_scale\":{\"id\":\"3020\"}},\"id\":\"3013\",\"subtype\":\"Figure\",\"type\":\"Plot\"},{\"attributes\":{\"fill_alpha\":{\"value\":0.1},\"fill_color\":{\"value\":\"red\"},\"hatch_alpha\":{\"value\":0.1},\"hatch_color\":{\"value\":\"red\"},\"line_alpha\":{\"value\":0.1},\"line_color\":{\"value\":\"red\"},\"marker\":{\"value\":\"asterisk\"},\"size\":{\"value\":2},\"x\":{\"field\":\"x\"},\"y\":{\"field\":\"y\"}},\"id\":\"3075\",\"type\":\"Scatter\"},{\"attributes\":{\"margin\":[5,10,5,10],\"name\":\"\",\"text\":\"<b></b>\"},\"id\":\"3001\",\"type\":\"Div\"},{\"attributes\":{},\"id\":\"3031\",\"type\":\"PanTool\"},{\"attributes\":{\"end\":0.5,\"reset_end\":0.5,\"reset_start\":-0.5,\"start\":-0.5,\"tags\":[[[\"y\",\"y\",null]]]},\"id\":\"3012\",\"type\":\"Range1d\"},{\"attributes\":{\"data\":{\"dh\":[1.0],\"dw\":[1.0],\"image\":[{\"__ndarray__\":\"HxKMT521qj/5iXsbuYK5P+eb0c47Ycs/ry5+SJo/1T96hygwfH7YPw8mrmlg8d8/QFbAydga4T8gGzcl3/nAP4ZyiZ1XZsQ/yuV3iebR0z8X7WkBc47YP16p7skC3NM/YB7xMgRf3D/ZIu4TfDziP40TOdCdQMM/eSulvx/1yD9Aa0Lfh/bWP3GUWCupfdk/B2kpvSF91z/D9LXloGraP01aTAgmIuE/MkRE4hJzxj/00m7kM0zLP6YiCmnF5tQ/vdAfHAwu3T/fheAc8jzdPyEAdPwrNeA/c+/YPIjY4T/WDSy09S7MPxNg/bL0x9E/tGgcGV2z2T+qGKemKurgP8hj4WDcVeE/XomrkLnv4z/w9CsHUUfjP9mvc4/FOs8/tasN05hc0j9mPIPNYfjfP8Zr6/IuWOM/6cKCBpcr5D+9C/mskpXmP+YmYtiXpuc/QimpQTz21D87abVDIDfVPwKYFGHVn+E/cMYYHkPy5T/l015RE8vnP2xaGSoKbeo/x9DjjCuW7T8=\",\"dtype\":\"float64\",\"order\":\"little\",\"shape\":[7,7]}],\"x\":[-0.5],\"y\":[-0.5]},\"selected\":{\"id\":\"3050\"},\"selection_policy\":{\"id\":\"3087\"}},\"id\":\"3049\",\"type\":\"ColumnDataSource\"},{\"attributes\":{},\"id\":\"3023\",\"type\":\"BasicTicker\"},{\"attributes\":{},\"id\":\"3032\",\"type\":\"WheelZoomTool\"},{\"attributes\":{\"margin\":[5,10,5,10],\"options\":[[\"0\",\"Component Planes\"],[\"1\",\"Hit Histogram\"],[\"2\",\"U-matrix\"],[\"3\",\"D-Matrix\"],[\"4\",\"P-matrix & U*-matrix\"],[\"5\",\"Smoothed Data Histograms\"],[\"6\",\"Pie Chart\"],[\"7\",\"Neighbourhood Graph\"],[\"8\",\"Chessboard\"],[\"9\",\"Clustering\"],[\"10\",\"Metro Map\"],[\"11\",\"Quantization Error\"],[\"12\",\"SOMStreamVis\"],[\"13\",\"Sky Metaphor\"],[\"14\",\"Topographic error\"],[\"15\",\"Intrinsic distance\"],[\"16\",\"Activity Histogram\"],[\"17\",\"Minimum Spanning Tree\"],[\"18\",\"Cluster Connection\"],[\"19\",\"Mnemonic SOM\"]],\"value\":\"0\"},\"id\":\"3002\",\"type\":\"panel.models.widgets.CustomSelect\"},{\"attributes\":{\"axis\":{\"id\":\"3026\"},\"coordinates\":null,\"dimension\":1,\"grid_line_color\":null,\"group\":null,\"ticker\":null},\"id\":\"3029\",\"type\":\"Grid\"},{\"attributes\":{\"line_alpha\":{\"field\":\"alpha\"},\"line_color\":{\"value\":\"red\"},\"line_width\":{\"value\":2},\"x0\":{\"field\":\"x0\"},\"x1\":{\"field\":\"x1\"},\"y0\":{\"field\":\"y0\"},\"y1\":{\"field\":\"y1\"}},\"id\":\"3067\",\"type\":\"Segment\"},{\"attributes\":{\"children\":[{\"id\":\"3010\"},{\"id\":\"3206\"}],\"margin\":[0,0,0,0],\"name\":\"Row05980\"},\"id\":\"3009\",\"type\":\"Row\"},{\"attributes\":{\"children\":[{\"id\":\"3209\"},{\"id\":\"3210\"}],\"margin\":[5,5,5,5],\"min_width\":300,\"name\":\"Component Planes\",\"width\":300},\"id\":\"3208\",\"type\":\"Column\"},{\"attributes\":{\"color_mapper\":{\"id\":\"3048\"},\"dh\":{\"field\":\"dh\"},\"dw\":{\"field\":\"dw\"},\"global_alpha\":{\"value\":0.2},\"image\":{\"field\":\"image\"},\"x\":{\"field\":\"x\"},\"y\":{\"field\":\"y\"}},\"id\":\"3056\",\"type\":\"Image\"},{\"attributes\":{},\"id\":\"3087\",\"type\":\"UnionRenderers\"},{\"attributes\":{\"axis\":{\"id\":\"3022\"},\"coordinates\":null,\"grid_line_color\":null,\"group\":null,\"ticker\":null},\"id\":\"3025\",\"type\":\"Grid\"},{\"attributes\":{},\"id\":\"3043\",\"type\":\"BasicTickFormatter\"},{\"attributes\":{},\"id\":\"3027\",\"type\":\"BasicTicker\"},{\"attributes\":{\"margin\":[5,10,5,10],\"options\":[[\"PiYG\",\"PiYG\"],[\"PRGn\",\"PRGn\"],[\"BrBG\",\"BrBG\"],[\"PuOr\",\"PuOr\"],[\"RdGy\",\"RdGy\"],[\"RdBu\",\"RdBu\"],[\"RdYlBu\",\"RdYlBu\"],[\"RdYlGn\",\"RdYlGn\"],[\"Spectral\",\"Spectral\"],[\"coolwarm\",\"coolwarm\"],[\"bwr\",\"bwr\"],[\"seismic\",\"seismic\"],[\"gist_gray\",\"gist_gray\"],[\"bone\",\"bone\"],[\"pink\",\"pink\"],[\"spring\",\"spring\"],[\"summer\",\"summer\"],[\"autumn\",\"autumn\"],[\"winter\",\"winter\"],[\"cool\",\"cool\"],[\"Wistia\",\"Wistia\"],[\"hot\",\"hot\"],[\"afmhot\",\"afmhot\"],[\"gist_heat\",\"gist_heat\"],[\"copper\",\"copper\"],[\"Greys\",\"Greys\"],[\"Purples\",\"Purples\"],[\"Blues\",\"Blues\"],[\"Greens\",\"Greens\"],[\"Oranges\",\"Oranges\"],[\"Reds\",\"Reds\"],[\"YlOrBr\",\"YlOrBr\"],[\"YlOrRd\",\"YlOrRd\"],[\"OrRd\",\"OrRd\"],[\"PuRd\",\"PuRd\"],[\"RdPu\",\"RdPu\"],[\"BuPu\",\"BuPu\"],[\"GnBu\",\"GnBu\"],[\"PuBu\",\"PuBu\"],[\"YlGnBu\",\"YlGnBu\"],[\"PuBuGn\",\"PuBuGn\"],[\"BuGn\",\"BuGn\"],[\"YlGn\",\"YlGn\"],[\"viridis\",\"viridis\"],[\"plasma\",\"plasma\"],[\"inferno\",\"inferno\"],[\"magma\",\"magma\"],[\"cividis\",\"cividis\"],[\"twilight\",\"twilight\"],[\"twilight_shifted\",\"twilight_shifted\"],[\"hsv\",\"hsv\"],[\"Pastel1\",\"Pastel1\"],[\"Paired\",\"Paired\"],[\"Accent\",\"Accent\"],[\"Dark2\",\"Dark2\"],[\"Set1\",\"Set1\"],[\"Set2\",\"Set2\"],[\"Set3\",\"Set3\"],[\"tab10\",\"tab10\"],[\"tab20\",\"tab20\"],[\"tab20b\",\"tab20b\"],[\"tab20c\",\"tab20c\"],[\"flag\",\"flag\"],[\"prism\",\"prism\"],[\"ocean\",\"ocean\"],[\"gist_earth\",\"gist_earth\"],[\"terrain\",\"terrain\"],[\"gist_stern\",\"gist_stern\"],[\"gnuplot\",\"gnuplot\"],[\"gnuplot2\",\"gnuplot2\"],[\"CMRmap\",\"CMRmap\"],[\"cubehelix\",\"cubehelix\"],[\"brg\",\"brg\"],[\"gist_rainbow\",\"gist_rainbow\"],[\"rainbow\",\"rainbow\"],[\"jet\",\"jet\"],[\"turbo\",\"turbo\"],[\"nipy_spectral\",\"nipy_spectral\"],[\"gist_ncar\",\"gist_ncar\"],[\"glasbey_dark\",\"glasbey_dark\"]],\"value\":\"jet\"},\"id\":\"3003\",\"type\":\"panel.models.widgets.CustomSelect\"},{\"attributes\":{},\"id\":\"3018\",\"type\":\"LinearScale\"},{\"attributes\":{\"coordinates\":null,\"data_source\":{\"id\":\"3049\"},\"glyph\":{\"id\":\"3052\"},\"group\":null,\"hover_glyph\":null,\"muted_glyph\":{\"id\":\"3056\"},\"nonselection_glyph\":{\"id\":\"3054\"},\"selection_glyph\":{\"id\":\"3060\"},\"view\":{\"id\":\"3059\"}},\"id\":\"3058\",\"type\":\"GlyphRenderer\"},{\"attributes\":{\"source\":{\"id\":\"3071\"}},\"id\":\"3078\",\"type\":\"CDSView\"},{\"attributes\":{\"icon\":null,\"label\":\"\\u21b7\",\"margin\":[5,10,5,10],\"subscribed_events\":[\"button_click\"]},\"id\":\"3005\",\"type\":\"Button\"},{\"attributes\":{\"children\":[{\"id\":\"3208\"},{\"id\":\"3211\"}],\"margin\":[0,0,0,0],\"name\":\"\"},\"id\":\"3207\",\"type\":\"Column\"},{\"attributes\":{\"icon\":null,\"label\":\"\\u21b6\",\"margin\":[5,10,5,10],\"subscribed_events\":[\"button_click\"]},\"id\":\"3004\",\"type\":\"Button\"},{\"attributes\":{\"axis_label\":\"y\",\"coordinates\":null,\"formatter\":{\"id\":\"3046\"},\"group\":null,\"major_label_policy\":{\"id\":\"3047\"},\"ticker\":{\"id\":\"3027\"}},\"id\":\"3026\",\"type\":\"LinearAxis\"},{\"attributes\":{\"icon\":null,\"label\":\"\\u2194\",\"margin\":[5,10,5,10],\"subscribed_events\":[\"button_click\"]},\"id\":\"3006\",\"type\":\"Button\"},{\"attributes\":{},\"id\":\"3030\",\"type\":\"SaveTool\"},{\"attributes\":{\"margin\":[5,10,5,10],\"name\":\"\",\"text\":\"<b>Component Planes</b>\"},\"id\":\"3209\",\"type\":\"Div\"},{\"attributes\":{\"icon\":null,\"label\":\"\\u2195\",\"margin\":[5,10,5,10],\"subscribed_events\":[\"button_click\"]},\"id\":\"3007\",\"type\":\"Button\"},{\"attributes\":{\"line_alpha\":{\"field\":\"alpha\"},\"line_color\":{\"value\":\"red\"},\"line_width\":{\"value\":2},\"x0\":{\"field\":\"x0\"},\"x1\":{\"field\":\"x1\"},\"y0\":{\"field\":\"y0\"},\"y1\":{\"field\":\"y1\"}},\"id\":\"3066\",\"type\":\"Segment\"},{\"attributes\":{\"overlay\":{\"id\":\"3035\"}},\"id\":\"3033\",\"type\":\"BoxZoomTool\"},{\"attributes\":{},\"id\":\"3034\",\"type\":\"ResetTool\"},{\"attributes\":{\"end\":3,\"margin\":[5,10,5,10],\"start\":0,\"title\":\"Component\",\"value\":0},\"id\":\"3210\",\"type\":\"Slider\"},{\"attributes\":{},\"id\":\"3089\",\"type\":\"UnionRenderers\"},{\"attributes\":{\"labels\":[\"interpolation\"],\"margin\":[5,10,5,10]},\"id\":\"3008\",\"type\":\"CheckboxGroup\"},{\"attributes\":{\"margin\":[5,5,5,5],\"name\":\"Str06000\",\"text\":\"&lt;pre&gt;Slicing weight vector according its components.&lt;/pre&gt;\"},\"id\":\"3211\",\"type\":\"panel.models.markup.HTML\"},{\"attributes\":{},\"id\":\"3063\",\"type\":\"Selection\"},{\"attributes\":{\"bottom_units\":\"screen\",\"coordinates\":null,\"fill_alpha\":0.5,\"fill_color\":\"lightgrey\",\"group\":null,\"left_units\":\"screen\",\"level\":\"overlay\",\"line_alpha\":1.0,\"line_color\":\"black\",\"line_dash\":[4,4],\"line_width\":2,\"right_units\":\"screen\",\"syncable\":false,\"top_units\":\"screen\"},\"id\":\"3035\",\"type\":\"BoxAnnotation\"},{\"attributes\":{\"coordinates\":null,\"data_source\":{\"id\":\"3062\"},\"glyph\":{\"id\":\"3065\"},\"group\":null,\"hover_glyph\":null,\"muted_glyph\":{\"id\":\"3067\"},\"nonselection_glyph\":{\"id\":\"3066\"},\"selection_glyph\":{\"id\":\"3070\"},\"view\":{\"id\":\"3069\"}},\"id\":\"3068\",\"type\":\"GlyphRenderer\"},{\"attributes\":{},\"id\":\"3050\",\"type\":\"Selection\"},{\"attributes\":{\"children\":[{\"id\":\"3213\"}],\"margin\":[0,0,0,0],\"name\":\"Column05982\"},\"id\":\"3212\",\"type\":\"Column\"}],\"root_ids\":[\"2997\",\"3256\"]},\"title\":\"Bokeh Application\",\"version\":\"2.4.1\"}};\n",
       "    var render_items = [{\"docid\":\"91e7f485-6116-43ab-9c2a-4fe6654c30ee\",\"root_ids\":[\"2997\"],\"roots\":{\"2997\":\"e20d3b02-5df1-447b-97fd-6a81d757bd2b\"}}];\n",
       "    root.Bokeh.embed.embed_items_notebook(docs_json, render_items);\n",
       "  }\n",
       "  if (root.Bokeh !== undefined && root.Bokeh.Panel !== undefined) {\n",
       "    embed_document(root);\n",
       "  } else {\n",
       "    var attempts = 0;\n",
       "    var timer = setInterval(function(root) {\n",
       "      if (root.Bokeh !== undefined && root.Bokeh.Panel !== undefined) {\n",
       "        clearInterval(timer);\n",
       "        embed_document(root);\n",
       "      } else if (document.readyState == \"complete\") {\n",
       "        attempts++;\n",
       "        if (attempts > 200) {\n",
       "          clearInterval(timer);\n",
       "          console.log(\"Bokeh: ERROR: Unable to run BokehJS code because BokehJS library is missing\");\n",
       "        }\n",
       "      }\n",
       "    }, 25, root)\n",
       "  }\n",
       "})(window);</script>"
      ],
      "text/plain": [
       "Column\n",
       "    [0] Column\n",
       "        [0] Column\n",
       "            [0] Row(margin=5, width=700)\n",
       "                [0] StaticText(value='<b></b>')\n",
       "                [1] Select(options=OrderedDict([('Component P...]), value=0)\n",
       "                [2] Select(options=OrderedDict([('PiYG', ...]), value='jet')\n",
       "                [3] Button(name='↶')\n",
       "                [4] Button(name='↷')\n",
       "                [5] Button(name='↔')\n",
       "                [6] Button(name='↕')\n",
       "                [7] Checkbox(name='interpolation')\n",
       "        [1] Row\n",
       "            [0] Column\n",
       "                [0] HoloViews(DynamicMap)\n",
       "            [1] Row\n",
       "                [0] Column\n",
       "                    [0] Column(margin=5, name='Component Planes', width=300)\n",
       "                        [0] StaticText(value='<b>Component Planes</b>')\n",
       "                        [1] IntSlider(end=3, name='Component')\n",
       "                    [1] Str(str)\n",
       "    [1] Column\n",
       "        [0] Row()"
      ]
     },
     "execution_count": 21,
     "metadata": {
      "application/vnd.holoviews_exec.v0+json": {
       "id": "2997"
      }
     },
     "output_type": "execute_result"
    }
   ],
   "source": [
    "# Visualize the first SOM (som)\n",
    "vis1 = PySOMVis(weights=som._weights, input_data=X)\n",
    "vis1._mainview\n",
    "\n",
    "# Visualize the second SOM (som2) with a different random seed\n",
    "vis2 = PySOMVis(weights=som2._weights, input_data=X)\n",
    "vis2._mainview"
   ]
  },
  {
   "cell_type": "markdown",
   "id": "e3f037a7",
   "metadata": {},
   "source": [
    "#TODO comparision text"
   ]
  },
  {
   "cell_type": "markdown",
   "id": "fafdfb24",
   "metadata": {},
   "source": [
    "**Describe and compare the structures found** (providing detailed info on visualizations and\n",
    "parameters)"
   ]
  },
  {
   "cell_type": "code",
   "execution_count": 22,
   "id": "776570f1",
   "metadata": {},
   "outputs": [],
   "source": [
    "#TODO show structures"
   ]
  },
  {
   "cell_type": "markdown",
   "id": "57c98f6c",
   "metadata": {},
   "source": [
    "#todo comparision text"
   ]
  },
  {
   "cell_type": "markdown",
   "id": "94a3eec7",
   "metadata": {},
   "source": [
    "## 3) Analyze different map sizes"
   ]
  },
  {
   "cell_type": "markdown",
   "id": "6c36c8c4",
   "metadata": {},
   "source": [
    "Train 2 additional SOMs varying the size (very small / very large) (provide reasons for choice\n",
    "of sizes)<br>\n",
    "Train each map with rather large neighborhood radius and high learning rate (provide reasons\n",
    "for the definition of „high“!)"
   ]
  },
  {
   "cell_type": "code",
   "execution_count": 23,
   "id": "88448008",
   "metadata": {},
   "outputs": [
    {
     "name": "stderr",
     "output_type": "stream",
     "text": [
      "c:\\Users\\stefa\\Desktop\\MasterStudium\\WISE24I25\\SOS\\SOS-Assignment-3-WISE-24-25\\PySOMVis\\minisom.py:162: UserWarning: Warning: sigma is too high for the dimension of the map.\n",
      "  warn('Warning: sigma is too high for the dimension of the map.')\n"
     ]
    }
   ],
   "source": [
    "# Train a very small SOM (small grid, less resolution)\n",
    "params_small = {\n",
    "    'size_fraction': 0.05,  # Very small grid size (5% of the data size)\n",
    "    'sigma': 3.0,  # Large neighborhood radius (larger value for more smoothing)\n",
    "    'learning_rate': 0.9,  # High learning rate (close to 1 for fast convergence)\n",
    "    'num_iterations': 5000,\n",
    "    'random_seed': 44  # Different seed for initialization\n",
    "}\n",
    "som_small, X, y, class_names = train_som(iris_dataloader, **params_small)\n",
    "\n",
    "# Train a very large SOM (large grid, higher resolution)\n",
    "params_large = {\n",
    "    'size_fraction': 1.0,  # Very large grid size (100% of the data size)\n",
    "    'sigma': 3.0,  # Large neighborhood radius (larger value for more smoothing)\n",
    "    'learning_rate': 0.9,  # High learning rate (close to 1 for fast convergence)\n",
    "    'num_iterations': 5000,\n",
    "    'random_seed': 45  # Different seed for initialization\n",
    "}\n",
    "som_large, X, y, class_names = train_som(iris_dataloader, **params_large)\n"
   ]
  },
  {
   "cell_type": "markdown",
   "id": "921bc293",
   "metadata": {},
   "source": [
    "Analyse in detail the<br> a) class distribution,<br> b) cluster structure,<br> c) quantization errors,<br> d)\n",
    "topology violations. Also,<br> e) analyze how clusters shift, change in relative size, and how their\n",
    "relative position to each other changes or remains the same.<br> f) Check for aspects such as\n",
    "magnification factors. What is the resulting granularity of clusters visible on the small and large\n",
    "maps? Are the same clusters visible in the very large map as in the regular map?"
   ]
  },
  {
   "cell_type": "code",
   "execution_count": 25,
   "id": "6dcc5824",
   "metadata": {},
   "outputs": [
    {
     "data": {},
     "metadata": {},
     "output_type": "display_data"
    },
    {
     "data": {},
     "metadata": {},
     "output_type": "display_data"
    },
    {
     "data": {
      "application/vnd.holoviews_exec.v0+json": "",
      "text/html": [
       "<div id='3327'>\n",
       "\n",
       "\n",
       "\n",
       "\n",
       "\n",
       "  <div class=\"bk-root\" id=\"aa589d24-188c-4adc-af5d-1f6faceae8c7\" data-root-id=\"3327\"></div>\n",
       "</div>\n",
       "<script type=\"application/javascript\">(function(root) {\n",
       "  function embed_document(root) {\n",
       "    var docs_json = {\"9d043e76-1657-40f7-a4f4-537287993480\":{\"defs\":[{\"extends\":null,\"module\":null,\"name\":\"ReactiveHTML1\",\"overrides\":[],\"properties\":[]},{\"extends\":null,\"module\":null,\"name\":\"FlexBox1\",\"overrides\":[],\"properties\":[{\"default\":\"flex-start\",\"kind\":null,\"name\":\"align_content\"},{\"default\":\"flex-start\",\"kind\":null,\"name\":\"align_items\"},{\"default\":\"row\",\"kind\":null,\"name\":\"flex_direction\"},{\"default\":\"wrap\",\"kind\":null,\"name\":\"flex_wrap\"},{\"default\":\"flex-start\",\"kind\":null,\"name\":\"justify_content\"}]},{\"extends\":null,\"module\":null,\"name\":\"GridStack1\",\"overrides\":[],\"properties\":[{\"default\":\"warn\",\"kind\":null,\"name\":\"mode\"},{\"default\":null,\"kind\":null,\"name\":\"ncols\"},{\"default\":null,\"kind\":null,\"name\":\"nrows\"},{\"default\":true,\"kind\":null,\"name\":\"allow_resize\"},{\"default\":true,\"kind\":null,\"name\":\"allow_drag\"},{\"default\":[],\"kind\":null,\"name\":\"state\"}]},{\"extends\":null,\"module\":null,\"name\":\"click1\",\"overrides\":[],\"properties\":[{\"default\":\"\",\"kind\":null,\"name\":\"terminal_output\"},{\"default\":\"\",\"kind\":null,\"name\":\"debug_name\"},{\"default\":0,\"kind\":null,\"name\":\"clears\"}]},{\"extends\":null,\"module\":null,\"name\":\"TemplateActions1\",\"overrides\":[],\"properties\":[{\"default\":0,\"kind\":null,\"name\":\"open_modal\"},{\"default\":0,\"kind\":null,\"name\":\"close_modal\"}]},{\"extends\":null,\"module\":null,\"name\":\"MaterialTemplateActions1\",\"overrides\":[],\"properties\":[{\"default\":0,\"kind\":null,\"name\":\"open_modal\"},{\"default\":0,\"kind\":null,\"name\":\"close_modal\"}]}],\"roots\":{\"references\":[{\"attributes\":{\"children\":[{\"id\":\"3543\"}],\"margin\":[0,0,0,0],\"name\":\"Column06788\"},\"id\":\"3542\",\"type\":\"Column\"},{\"attributes\":{\"tools\":[{\"id\":\"3360\"},{\"id\":\"3361\"},{\"id\":\"3362\"},{\"id\":\"3363\"},{\"id\":\"3364\"}]},\"id\":\"3366\",\"type\":\"Toolbar\"},{\"attributes\":{},\"id\":\"3421\",\"type\":\"UnionRenderers\"},{\"attributes\":{\"angle\":{\"value\":0.0},\"fill_alpha\":{\"value\":1.0},\"fill_color\":{\"value\":\"red\"},\"hatch_alpha\":{\"value\":1.0},\"hatch_color\":{\"value\":\"red\"},\"hatch_scale\":{\"value\":12.0},\"hatch_weight\":{\"value\":1.0},\"line_alpha\":{\"value\":1.0},\"line_cap\":{\"value\":\"butt\"},\"line_color\":{\"value\":\"red\"},\"line_dash\":{\"value\":[]},\"line_dash_offset\":{\"value\":0},\"line_join\":{\"value\":\"bevel\"},\"line_width\":{\"value\":1},\"marker\":{\"value\":\"asterisk\"},\"size\":{\"value\":2},\"x\":{\"field\":\"x\"},\"y\":{\"field\":\"y\"}},\"id\":\"3409\",\"type\":\"Scatter\"},{\"attributes\":{\"bottom_units\":\"screen\",\"coordinates\":null,\"fill_alpha\":0.5,\"fill_color\":\"lightgrey\",\"group\":null,\"left_units\":\"screen\",\"level\":\"overlay\",\"line_alpha\":1.0,\"line_color\":\"black\",\"line_dash\":[4,4],\"line_width\":2,\"right_units\":\"screen\",\"syncable\":false,\"top_units\":\"screen\"},\"id\":\"3365\",\"type\":\"BoxAnnotation\"},{\"attributes\":{},\"id\":\"3374\",\"type\":\"AllLabels\"},{\"attributes\":{\"margin\":[5,10,5,10],\"options\":[[\"PiYG\",\"PiYG\"],[\"PRGn\",\"PRGn\"],[\"BrBG\",\"BrBG\"],[\"PuOr\",\"PuOr\"],[\"RdGy\",\"RdGy\"],[\"RdBu\",\"RdBu\"],[\"RdYlBu\",\"RdYlBu\"],[\"RdYlGn\",\"RdYlGn\"],[\"Spectral\",\"Spectral\"],[\"coolwarm\",\"coolwarm\"],[\"bwr\",\"bwr\"],[\"seismic\",\"seismic\"],[\"gist_gray\",\"gist_gray\"],[\"bone\",\"bone\"],[\"pink\",\"pink\"],[\"spring\",\"spring\"],[\"summer\",\"summer\"],[\"autumn\",\"autumn\"],[\"winter\",\"winter\"],[\"cool\",\"cool\"],[\"Wistia\",\"Wistia\"],[\"hot\",\"hot\"],[\"afmhot\",\"afmhot\"],[\"gist_heat\",\"gist_heat\"],[\"copper\",\"copper\"],[\"Greys\",\"Greys\"],[\"Purples\",\"Purples\"],[\"Blues\",\"Blues\"],[\"Greens\",\"Greens\"],[\"Oranges\",\"Oranges\"],[\"Reds\",\"Reds\"],[\"YlOrBr\",\"YlOrBr\"],[\"YlOrRd\",\"YlOrRd\"],[\"OrRd\",\"OrRd\"],[\"PuRd\",\"PuRd\"],[\"RdPu\",\"RdPu\"],[\"BuPu\",\"BuPu\"],[\"GnBu\",\"GnBu\"],[\"PuBu\",\"PuBu\"],[\"YlGnBu\",\"YlGnBu\"],[\"PuBuGn\",\"PuBuGn\"],[\"BuGn\",\"BuGn\"],[\"YlGn\",\"YlGn\"],[\"viridis\",\"viridis\"],[\"plasma\",\"plasma\"],[\"inferno\",\"inferno\"],[\"magma\",\"magma\"],[\"cividis\",\"cividis\"],[\"twilight\",\"twilight\"],[\"twilight_shifted\",\"twilight_shifted\"],[\"hsv\",\"hsv\"],[\"Pastel1\",\"Pastel1\"],[\"Paired\",\"Paired\"],[\"Accent\",\"Accent\"],[\"Dark2\",\"Dark2\"],[\"Set1\",\"Set1\"],[\"Set2\",\"Set2\"],[\"Set3\",\"Set3\"],[\"tab10\",\"tab10\"],[\"tab20\",\"tab20\"],[\"tab20b\",\"tab20b\"],[\"tab20c\",\"tab20c\"],[\"flag\",\"flag\"],[\"prism\",\"prism\"],[\"ocean\",\"ocean\"],[\"gist_earth\",\"gist_earth\"],[\"terrain\",\"terrain\"],[\"gist_stern\",\"gist_stern\"],[\"gnuplot\",\"gnuplot\"],[\"gnuplot2\",\"gnuplot2\"],[\"CMRmap\",\"CMRmap\"],[\"cubehelix\",\"cubehelix\"],[\"brg\",\"brg\"],[\"gist_rainbow\",\"gist_rainbow\"],[\"rainbow\",\"rainbow\"],[\"jet\",\"jet\"],[\"turbo\",\"turbo\"],[\"nipy_spectral\",\"nipy_spectral\"],[\"gist_ncar\",\"gist_ncar\"],[\"glasbey_dark\",\"glasbey_dark\"]],\"value\":\"jet\"},\"id\":\"3333\",\"type\":\"panel.models.widgets.CustomSelect\"},{\"attributes\":{},\"id\":\"3377\",\"type\":\"AllLabels\"},{\"attributes\":{},\"id\":\"3376\",\"type\":\"BasicTickFormatter\"},{\"attributes\":{\"coordinates\":null,\"data_source\":{\"id\":\"3401\"},\"glyph\":{\"id\":\"3404\"},\"group\":null,\"hover_glyph\":null,\"muted_glyph\":{\"id\":\"3406\"},\"nonselection_glyph\":{\"id\":\"3405\"},\"selection_glyph\":{\"id\":\"3409\"},\"view\":{\"id\":\"3408\"}},\"id\":\"3407\",\"type\":\"GlyphRenderer\"},{\"attributes\":{\"color_mapper\":{\"id\":\"3378\"},\"dh\":{\"field\":\"dh\"},\"dw\":{\"field\":\"dw\"},\"image\":{\"field\":\"image\"},\"x\":{\"field\":\"x\"},\"y\":{\"field\":\"y\"}},\"id\":\"3382\",\"type\":\"Image\"},{\"attributes\":{},\"id\":\"3361\",\"type\":\"PanTool\"},{\"attributes\":{},\"id\":\"3380\",\"type\":\"Selection\"},{\"attributes\":{\"below\":[{\"id\":\"3352\"}],\"center\":[{\"id\":\"3355\"},{\"id\":\"3359\"}],\"height\":500,\"left\":[{\"id\":\"3356\"}],\"margin\":[5,5,5,5],\"min_border_bottom\":10,\"min_border_left\":10,\"min_border_right\":10,\"min_border_top\":10,\"renderers\":[{\"id\":\"3388\"},{\"id\":\"3398\"},{\"id\":\"3407\"}],\"sizing_mode\":\"fixed\",\"title\":{\"id\":\"3344\"},\"toolbar\":{\"id\":\"3366\"},\"width\":500,\"x_range\":{\"id\":\"3341\"},\"x_scale\":{\"id\":\"3348\"},\"y_range\":{\"id\":\"3342\"},\"y_scale\":{\"id\":\"3350\"}},\"id\":\"3343\",\"subtype\":\"Figure\",\"type\":\"Plot\"},{\"attributes\":{\"color_mapper\":{\"id\":\"3378\"},\"dh\":{\"field\":\"dh\"},\"dw\":{\"field\":\"dw\"},\"global_alpha\":{\"value\":0.1},\"image\":{\"field\":\"image\"},\"x\":{\"field\":\"x\"},\"y\":{\"field\":\"y\"}},\"id\":\"3384\",\"type\":\"Image\"},{\"attributes\":{\"high\":0.9058106233221552,\"low\":0.054902644172979735,\"nan_color\":\"rgba(0, 0, 0, 0)\",\"palette\":[\"#00007f\",\"#000084\",\"#000088\",\"#00008d\",\"#000091\",\"#000096\",\"#00009a\",\"#00009f\",\"#0000a3\",\"#0000a8\",\"#0000ac\",\"#0000b1\",\"#0000b6\",\"#0000ba\",\"#0000bf\",\"#0000c3\",\"#0000c8\",\"#0000cc\",\"#0000d1\",\"#0000d5\",\"#0000da\",\"#0000de\",\"#0000e3\",\"#0000e8\",\"#0000ec\",\"#0000f1\",\"#0000f5\",\"#0000fa\",\"#0000fe\",\"#0000ff\",\"#0000ff\",\"#0000ff\",\"#0000ff\",\"#0004ff\",\"#0008ff\",\"#000cff\",\"#0010ff\",\"#0014ff\",\"#0018ff\",\"#001cff\",\"#0020ff\",\"#0024ff\",\"#0028ff\",\"#002cff\",\"#0030ff\",\"#0034ff\",\"#0038ff\",\"#003cff\",\"#0040ff\",\"#0044ff\",\"#0048ff\",\"#004cff\",\"#0050ff\",\"#0054ff\",\"#0058ff\",\"#005cff\",\"#0060ff\",\"#0064ff\",\"#0068ff\",\"#006cff\",\"#0070ff\",\"#0074ff\",\"#0078ff\",\"#007cff\",\"#0080ff\",\"#0084ff\",\"#0088ff\",\"#008cff\",\"#0090ff\",\"#0094ff\",\"#0098ff\",\"#009cff\",\"#00a0ff\",\"#00a4ff\",\"#00a8ff\",\"#00acff\",\"#00b0ff\",\"#00b4ff\",\"#00b8ff\",\"#00bcff\",\"#00c0ff\",\"#00c4ff\",\"#00c8ff\",\"#00ccff\",\"#00d0ff\",\"#00d4ff\",\"#00d8ff\",\"#00dcfe\",\"#00e0fa\",\"#00e4f7\",\"#02e8f4\",\"#05ecf1\",\"#08f0ed\",\"#0cf4ea\",\"#0ff8e7\",\"#12fce4\",\"#15ffe1\",\"#18ffdd\",\"#1cffda\",\"#1fffd7\",\"#22ffd4\",\"#25ffd0\",\"#29ffcd\",\"#2cffca\",\"#2fffc7\",\"#32ffc3\",\"#36ffc0\",\"#39ffbd\",\"#3cffba\",\"#3fffb7\",\"#42ffb3\",\"#46ffb0\",\"#49ffad\",\"#4cffaa\",\"#4fffa6\",\"#53ffa3\",\"#56ffa0\",\"#59ff9d\",\"#5cff9a\",\"#5fff96\",\"#63ff93\",\"#66ff90\",\"#69ff8d\",\"#6cff89\",\"#70ff86\",\"#73ff83\",\"#76ff80\",\"#79ff7d\",\"#7cff79\",\"#80ff76\",\"#83ff73\",\"#86ff70\",\"#89ff6c\",\"#8dff69\",\"#90ff66\",\"#93ff63\",\"#96ff5f\",\"#9aff5c\",\"#9dff59\",\"#a0ff56\",\"#a3ff53\",\"#a6ff4f\",\"#aaff4c\",\"#adff49\",\"#b0ff46\",\"#b3ff42\",\"#b7ff3f\",\"#baff3c\",\"#bdff39\",\"#c0ff36\",\"#c3ff32\",\"#c7ff2f\",\"#caff2c\",\"#cdff29\",\"#d0ff25\",\"#d4ff22\",\"#d7ff1f\",\"#daff1c\",\"#ddff18\",\"#e0ff15\",\"#e4ff12\",\"#e7ff0f\",\"#eaff0c\",\"#edff08\",\"#f1fc05\",\"#f4f802\",\"#f7f400\",\"#faf000\",\"#feed00\",\"#ffe900\",\"#ffe500\",\"#ffe200\",\"#ffde00\",\"#ffda00\",\"#ffd700\",\"#ffd300\",\"#ffcf00\",\"#ffcb00\",\"#ffc800\",\"#ffc400\",\"#ffc000\",\"#ffbd00\",\"#ffb900\",\"#ffb500\",\"#ffb100\",\"#ffae00\",\"#ffaa00\",\"#ffa600\",\"#ffa300\",\"#ff9f00\",\"#ff9b00\",\"#ff9800\",\"#ff9400\",\"#ff9000\",\"#ff8c00\",\"#ff8900\",\"#ff8500\",\"#ff8100\",\"#ff7e00\",\"#ff7a00\",\"#ff7600\",\"#ff7300\",\"#ff6f00\",\"#ff6b00\",\"#ff6700\",\"#ff6400\",\"#ff6000\",\"#ff5c00\",\"#ff5900\",\"#ff5500\",\"#ff5100\",\"#ff4d00\",\"#ff4a00\",\"#ff4600\",\"#ff4200\",\"#ff3f00\",\"#ff3b00\",\"#ff3700\",\"#ff3400\",\"#ff3000\",\"#ff2c00\",\"#ff2800\",\"#ff2500\",\"#ff2100\",\"#ff1d00\",\"#ff1a00\",\"#ff1600\",\"#fe1200\",\"#fa0f00\",\"#f50b00\",\"#f10700\",\"#ec0300\",\"#e80000\",\"#e30000\",\"#de0000\",\"#da0000\",\"#d50000\",\"#d10000\",\"#cc0000\",\"#c80000\",\"#c30000\",\"#bf0000\",\"#ba0000\",\"#b60000\",\"#b10000\",\"#ac0000\",\"#a80000\",\"#a30000\",\"#9f0000\",\"#9a0000\",\"#960000\",\"#910000\",\"#8d0000\",\"#880000\",\"#840000\",\"#7f0000\"]},\"id\":\"3378\",\"type\":\"LinearColorMapper\"},{\"attributes\":{\"line_alpha\":{\"field\":\"alpha\"},\"line_color\":{\"value\":\"red\"},\"line_width\":{\"value\":2},\"x0\":{\"field\":\"x0\"},\"x1\":{\"field\":\"x1\"},\"y0\":{\"field\":\"y0\"},\"y1\":{\"field\":\"y1\"}},\"id\":\"3396\",\"type\":\"Segment\"},{\"attributes\":{\"source\":{\"id\":\"3379\"}},\"id\":\"3389\",\"type\":\"CDSView\"},{\"attributes\":{\"coordinates\":null,\"data_source\":{\"id\":\"3379\"},\"glyph\":{\"id\":\"3382\"},\"group\":null,\"hover_glyph\":null,\"muted_glyph\":{\"id\":\"3386\"},\"nonselection_glyph\":{\"id\":\"3384\"},\"selection_glyph\":{\"id\":\"3390\"},\"view\":{\"id\":\"3389\"}},\"id\":\"3388\",\"type\":\"GlyphRenderer\"},{\"attributes\":{\"end\":0.5,\"reset_end\":0.5,\"reset_start\":-0.5,\"start\":-0.5,\"tags\":[[[\"x\",\"x\",null]]]},\"id\":\"3341\",\"type\":\"Range1d\"},{\"attributes\":{},\"id\":\"3393\",\"type\":\"Selection\"},{\"attributes\":{\"line_alpha\":{\"field\":\"alpha\"},\"line_color\":{\"value\":\"red\"},\"line_width\":{\"value\":2},\"x0\":{\"field\":\"x0\"},\"x1\":{\"field\":\"x1\"},\"y0\":{\"field\":\"y0\"},\"y1\":{\"field\":\"y1\"}},\"id\":\"3397\",\"type\":\"Segment\"},{\"attributes\":{\"children\":[{\"id\":\"3328\"},{\"id\":\"3542\"}],\"margin\":[0,0,0,0],\"name\":\"Column06789\"},\"id\":\"3327\",\"type\":\"Column\"},{\"attributes\":{},\"id\":\"3350\",\"type\":\"LinearScale\"},{\"attributes\":{\"line_alpha\":{\"field\":\"alpha\"},\"line_color\":{\"value\":\"red\"},\"line_width\":{\"value\":2},\"x0\":{\"field\":\"x0\"},\"x1\":{\"field\":\"x1\"},\"y0\":{\"field\":\"y0\"},\"y1\":{\"field\":\"y1\"}},\"id\":\"3395\",\"type\":\"Segment\"},{\"attributes\":{\"children\":[{\"id\":\"3329\"},{\"id\":\"3339\"}],\"margin\":[0,0,0,0],\"name\":\"Column06787\"},\"id\":\"3328\",\"type\":\"Column\"},{\"attributes\":{\"coordinates\":null,\"data_source\":{\"id\":\"3392\"},\"glyph\":{\"id\":\"3395\"},\"group\":null,\"hover_glyph\":null,\"muted_glyph\":{\"id\":\"3397\"},\"nonselection_glyph\":{\"id\":\"3396\"},\"selection_glyph\":{\"id\":\"3400\"},\"view\":{\"id\":\"3399\"}},\"id\":\"3398\",\"type\":\"GlyphRenderer\"},{\"attributes\":{\"coordinates\":null,\"group\":null,\"text_color\":\"black\",\"text_font_size\":\"12pt\"},\"id\":\"3344\",\"type\":\"Title\"},{\"attributes\":{\"children\":[{\"id\":\"3330\"}],\"margin\":[0,0,0,0],\"name\":\"Column06752\"},\"id\":\"3329\",\"type\":\"Column\"},{\"attributes\":{\"end\":0.5,\"reset_end\":0.5,\"reset_start\":-0.5,\"start\":-0.5,\"tags\":[[[\"y\",\"y\",null]]]},\"id\":\"3342\",\"type\":\"Range1d\"},{\"attributes\":{\"children\":[{\"id\":\"3537\"}],\"margin\":[0,0,0,0],\"name\":\"Row06784\"},\"id\":\"3536\",\"type\":\"Row\"},{\"attributes\":{\"axis_label\":\"x\",\"coordinates\":null,\"formatter\":{\"id\":\"3373\"},\"group\":null,\"major_label_policy\":{\"id\":\"3374\"},\"ticker\":{\"id\":\"3353\"}},\"id\":\"3352\",\"type\":\"LinearAxis\"},{\"attributes\":{\"children\":[{\"id\":\"3331\"},{\"id\":\"3332\"},{\"id\":\"3333\"},{\"id\":\"3334\"},{\"id\":\"3335\"},{\"id\":\"3336\"},{\"id\":\"3337\"},{\"id\":\"3338\"}],\"margin\":[5,5,5,5],\"min_width\":700,\"name\":\"\",\"width\":700},\"id\":\"3330\",\"type\":\"Row\"},{\"attributes\":{},\"id\":\"3362\",\"type\":\"WheelZoomTool\"},{\"attributes\":{\"axis\":{\"id\":\"3356\"},\"coordinates\":null,\"dimension\":1,\"grid_line_color\":null,\"group\":null,\"ticker\":null},\"id\":\"3359\",\"type\":\"Grid\"},{\"attributes\":{\"data\":{\"dh\":[1.0],\"dw\":[1.0],\"image\":[{\"__ndarray__\":\"jjdxj2b87D9tZSllWr/qP3M8W3B3k+Q/bP96eYHU4T/p3ZHWaWrfP8fG+A8Amdo/NwvD+P2F2T9Mzc3yA+PbPyDX7kmGJ9w/BvhcCau72D+kZwaYlLrSP+S2LmVNacs/kReTy2fJ6z80VQJBu3TpP6KStl5w4eM/Q1/XYWS74T8aIygD3QvgP57nE+i2+No/G0Nv59Fy1z/Pf8Hc1aTXP5jqUjEM7Nc/CkBubbkI1T+3HeJd4DXQP7fH/MibS8k/4ylMiJ0x6j8ZGEHfldXnP8n3vzyQHeM/fvLr0kho4T/gxQr5P1XgPzyNVFq5pNs/JhoYmlOw1j8ESJt6AaXVP12ana7EEdU/+UdlPTf10T/7dNv3E0zJP5IobN0138E/WC70IJ795z/aYmiLqtjlP3aLGtijeOI/VvwCHjca4T9sRxPiq13gPzGwztYYfdw//E2+Y8mt2D99WznMuZDWP5sryz8vhNI/sROTH/KWyT9HUP0bC6+8Pyf8XqOFR7A/zmOxnozb5T/6DgJOMHTkPxdD+e+cMeI/xsSTTv7p4D+5mww6Qo7fP/B6nba8wts/h8PXaVGb2T+IUSrWfprWP8SeIEemhMw/zvpibX37wj/cq7u0Dby4P8+tXwozHKw/af4NWkTX5D+yFKWAZabjP1aCmUPobOE/BSdksabf3z+lihMltdTcP0gcEmsE0tk/JCSToP052D8X/JQsRQvUP3VC693ws8g/SW+diG7Uwz/Yr2yjjHa8P90x1yTCxLI/wqj8MRnT4z/wnd2MY6ziP2B5Rt96bOA/e/RwMdUG3j/fK7CjTUDbP7dxX0jdUdg/7rk4zQ3b1D9TsN2u9rzPP7uAsLCWTck/gPNtBR95xj9JuHCH6irBP5o9fCaq6rg/3mfAERup4z93H8DtheHiP08+1fQS9eA/PJvLHiHb3j94ol9cpw7cP/3XtuL/nNc/0Wlekk3m0T/A2Q+1IH7NP4IhQKPNzMs/XMR9pm7VyT/am+YQQFDFPxm/YbSLEcA/HRbBNxb25D/8J22c+pzkP5LCXohEHOM/vZW/K1tS4T/pNzTBgdHeP2SkwcDBDdk/BmFBDZla0j9Uk/MyUIzQP0V6CCTTi88/1UvYnMnFzD9Gdz0mcdbIP9jYKwxw3cM/OdQ3gyKD5j+h6qWc+9flP4Mmpr0e0uQ/U6zm3UN74z9ad0/toiPhP6S3wyKWNNo/J7aGzqyB1D+9k7Ff1AzTPzOCRYW5qtE/Io5wtk3wzj/27UAI4tLJPxYunyfLgcU/j3MLVIC46D/XxARvP57mP5d09sWESeU/XOs2pxfH4z9ZlrnkImzhP1vjM5152Nk/FNrcO8zh1T+uDJBjHkjUPzJ38VP7UtI/IvA+MmkL0D9WnMbVwTbLP0efPfG3wMc/jDij+mtt6z/k4YU6kq7nP8vPF3OBNOU/+Fn3MJtd4z+UWFN8zTThPweew/F1z9o/Q+SXaQeg1j9DI8+phq3UPwjXtJNXLtI/vf9PL1lhzz8+klWbFWzMP9ep8x5k6Mo/\",\"dtype\":\"float64\",\"order\":\"little\",\"shape\":[12,12]}],\"x\":[-0.5],\"y\":[-0.5]},\"selected\":{\"id\":\"3380\"},\"selection_policy\":{\"id\":\"3417\"}},\"id\":\"3379\",\"type\":\"ColumnDataSource\"},{\"attributes\":{\"margin\":[5,10,5,10],\"name\":\"\",\"text\":\"<b></b>\"},\"id\":\"3331\",\"type\":\"Div\"},{\"attributes\":{},\"id\":\"3353\",\"type\":\"BasicTicker\"},{\"attributes\":{\"margin\":[5,10,5,10],\"options\":[[\"0\",\"Component Planes\"],[\"1\",\"Hit Histogram\"],[\"2\",\"U-matrix\"],[\"3\",\"D-Matrix\"],[\"4\",\"P-matrix & U*-matrix\"],[\"5\",\"Smoothed Data Histograms\"],[\"6\",\"Pie Chart\"],[\"7\",\"Neighbourhood Graph\"],[\"8\",\"Chessboard\"],[\"9\",\"Clustering\"],[\"10\",\"Metro Map\"],[\"11\",\"Quantization Error\"],[\"12\",\"SOMStreamVis\"],[\"13\",\"Sky Metaphor\"],[\"14\",\"Topographic error\"],[\"15\",\"Intrinsic distance\"],[\"16\",\"Activity Histogram\"],[\"17\",\"Minimum Spanning Tree\"],[\"18\",\"Cluster Connection\"],[\"19\",\"Mnemonic SOM\"]],\"value\":\"0\"},\"id\":\"3332\",\"type\":\"panel.models.widgets.CustomSelect\"},{\"attributes\":{\"axis\":{\"id\":\"3352\"},\"coordinates\":null,\"grid_line_color\":null,\"group\":null,\"ticker\":null},\"id\":\"3355\",\"type\":\"Grid\"},{\"attributes\":{\"children\":[{\"id\":\"3539\"},{\"id\":\"3540\"}],\"margin\":[5,5,5,5],\"min_width\":300,\"name\":\"Component Planes\",\"width\":300},\"id\":\"3538\",\"type\":\"Column\"},{\"attributes\":{\"children\":[{\"id\":\"3340\"},{\"id\":\"3536\"}],\"margin\":[0,0,0,0],\"name\":\"Row06786\"},\"id\":\"3339\",\"type\":\"Row\"},{\"attributes\":{},\"id\":\"3357\",\"type\":\"BasicTicker\"},{\"attributes\":{},\"id\":\"3348\",\"type\":\"LinearScale\"},{\"attributes\":{\"line_alpha\":{\"field\":\"alpha\"},\"line_cap\":{\"value\":\"butt\"},\"line_color\":{\"value\":\"red\"},\"line_dash\":{\"value\":[]},\"line_dash_offset\":{\"value\":0},\"line_join\":{\"value\":\"bevel\"},\"line_width\":{\"value\":2},\"x0\":{\"field\":\"x0\"},\"x1\":{\"field\":\"x1\"},\"y0\":{\"field\":\"y0\"},\"y1\":{\"field\":\"y1\"}},\"id\":\"3400\",\"type\":\"Segment\"},{\"attributes\":{\"axis_label\":\"y\",\"coordinates\":null,\"formatter\":{\"id\":\"3376\"},\"group\":null,\"major_label_policy\":{\"id\":\"3377\"},\"ticker\":{\"id\":\"3357\"}},\"id\":\"3356\",\"type\":\"LinearAxis\"},{\"attributes\":{\"source\":{\"id\":\"3392\"}},\"id\":\"3399\",\"type\":\"CDSView\"},{\"attributes\":{},\"id\":\"3360\",\"type\":\"SaveTool\"},{\"attributes\":{\"margin\":[0,0,0,0],\"name\":\"Row06785\"},\"id\":\"3543\",\"type\":\"Row\"},{\"attributes\":{\"icon\":null,\"label\":\"\\u21b7\",\"margin\":[5,10,5,10],\"subscribed_events\":[\"button_click\"]},\"id\":\"3335\",\"type\":\"Button\"},{\"attributes\":{\"data\":{\"x\":{\"__ndarray__\":\"\",\"dtype\":\"float64\",\"order\":\"little\",\"shape\":[0]},\"y\":{\"__ndarray__\":\"\",\"dtype\":\"float64\",\"order\":\"little\",\"shape\":[0]}},\"selected\":{\"id\":\"3402\"},\"selection_policy\":{\"id\":\"3421\"}},\"id\":\"3401\",\"type\":\"ColumnDataSource\"},{\"attributes\":{\"icon\":null,\"label\":\"\\u21b6\",\"margin\":[5,10,5,10],\"subscribed_events\":[\"button_click\"]},\"id\":\"3334\",\"type\":\"Button\"},{\"attributes\":{\"source\":{\"id\":\"3401\"}},\"id\":\"3408\",\"type\":\"CDSView\"},{\"attributes\":{\"overlay\":{\"id\":\"3365\"}},\"id\":\"3363\",\"type\":\"BoxZoomTool\"},{\"attributes\":{\"children\":[{\"id\":\"3538\"},{\"id\":\"3541\"}],\"margin\":[0,0,0,0],\"name\":\"\"},\"id\":\"3537\",\"type\":\"Column\"},{\"attributes\":{\"color_mapper\":{\"id\":\"3378\"},\"dh\":{\"field\":\"dh\"},\"dw\":{\"field\":\"dw\"},\"global_alpha\":{\"value\":1.0},\"image\":{\"field\":\"image\"},\"x\":{\"field\":\"x\"},\"y\":{\"field\":\"y\"}},\"id\":\"3390\",\"type\":\"Image\"},{\"attributes\":{},\"id\":\"3364\",\"type\":\"ResetTool\"},{\"attributes\":{\"icon\":null,\"label\":\"\\u2194\",\"margin\":[5,10,5,10],\"subscribed_events\":[\"button_click\"]},\"id\":\"3336\",\"type\":\"Button\"},{\"attributes\":{\"fill_alpha\":{\"value\":0.1},\"fill_color\":{\"value\":\"red\"},\"hatch_alpha\":{\"value\":0.1},\"hatch_color\":{\"value\":\"red\"},\"line_alpha\":{\"value\":0.1},\"line_color\":{\"value\":\"red\"},\"marker\":{\"value\":\"asterisk\"},\"size\":{\"value\":2},\"x\":{\"field\":\"x\"},\"y\":{\"field\":\"y\"}},\"id\":\"3405\",\"type\":\"Scatter\"},{\"attributes\":{},\"id\":\"3419\",\"type\":\"UnionRenderers\"},{\"attributes\":{\"fill_alpha\":{\"value\":0.2},\"fill_color\":{\"value\":\"red\"},\"hatch_alpha\":{\"value\":0.2},\"hatch_color\":{\"value\":\"red\"},\"line_alpha\":{\"value\":0.2},\"line_color\":{\"value\":\"red\"},\"marker\":{\"value\":\"asterisk\"},\"size\":{\"value\":2},\"x\":{\"field\":\"x\"},\"y\":{\"field\":\"y\"}},\"id\":\"3406\",\"type\":\"Scatter\"},{\"attributes\":{\"margin\":[5,10,5,10],\"name\":\"\",\"text\":\"<b>Component Planes</b>\"},\"id\":\"3539\",\"type\":\"Div\"},{\"attributes\":{},\"id\":\"3402\",\"type\":\"Selection\"},{\"attributes\":{\"icon\":null,\"label\":\"\\u2195\",\"margin\":[5,10,5,10],\"subscribed_events\":[\"button_click\"]},\"id\":\"3337\",\"type\":\"Button\"},{\"attributes\":{\"labels\":[\"interpolation\"],\"margin\":[5,10,5,10]},\"id\":\"3338\",\"type\":\"CheckboxGroup\"},{\"attributes\":{\"color_mapper\":{\"id\":\"3378\"},\"dh\":{\"field\":\"dh\"},\"dw\":{\"field\":\"dw\"},\"global_alpha\":{\"value\":0.2},\"image\":{\"field\":\"image\"},\"x\":{\"field\":\"x\"},\"y\":{\"field\":\"y\"}},\"id\":\"3386\",\"type\":\"Image\"},{\"attributes\":{\"end\":3,\"margin\":[5,10,5,10],\"start\":0,\"title\":\"Component\",\"value\":0},\"id\":\"3540\",\"type\":\"Slider\"},{\"attributes\":{\"margin\":[5,5,5,5],\"name\":\"Str06806\",\"text\":\"&lt;pre&gt;Slicing weight vector according its components.&lt;/pre&gt;\"},\"id\":\"3541\",\"type\":\"panel.models.markup.HTML\"},{\"attributes\":{},\"id\":\"3417\",\"type\":\"UnionRenderers\"},{\"attributes\":{\"children\":[{\"id\":\"3343\"}],\"margin\":[0,0,0,0],\"name\":\"Column06783\"},\"id\":\"3340\",\"type\":\"Column\"},{\"attributes\":{\"client_comm_id\":\"bb4acb014a40480789e6fc47198789da\",\"comm_id\":\"43c7f0502f7c406dafed0d3d00ab22a3\",\"plot_id\":\"3327\"},\"id\":\"3586\",\"type\":\"panel.models.comm_manager.CommManager\"},{\"attributes\":{\"data\":{\"x0\":{\"__ndarray__\":\"\",\"dtype\":\"float64\",\"order\":\"little\",\"shape\":[0]},\"x1\":{\"__ndarray__\":\"\",\"dtype\":\"float64\",\"order\":\"little\",\"shape\":[0]},\"y0\":{\"__ndarray__\":\"\",\"dtype\":\"float64\",\"order\":\"little\",\"shape\":[0]},\"y1\":{\"__ndarray__\":\"\",\"dtype\":\"float64\",\"order\":\"little\",\"shape\":[0]}},\"selected\":{\"id\":\"3393\"},\"selection_policy\":{\"id\":\"3419\"}},\"id\":\"3392\",\"type\":\"ColumnDataSource\"},{\"attributes\":{\"fill_color\":{\"value\":\"red\"},\"hatch_color\":{\"value\":\"red\"},\"line_color\":{\"value\":\"red\"},\"marker\":{\"value\":\"asterisk\"},\"size\":{\"value\":2},\"x\":{\"field\":\"x\"},\"y\":{\"field\":\"y\"}},\"id\":\"3404\",\"type\":\"Scatter\"},{\"attributes\":{},\"id\":\"3373\",\"type\":\"BasicTickFormatter\"}],\"root_ids\":[\"3327\",\"3586\"]},\"title\":\"Bokeh Application\",\"version\":\"2.4.1\"}};\n",
       "    var render_items = [{\"docid\":\"9d043e76-1657-40f7-a4f4-537287993480\",\"root_ids\":[\"3327\"],\"roots\":{\"3327\":\"aa589d24-188c-4adc-af5d-1f6faceae8c7\"}}];\n",
       "    root.Bokeh.embed.embed_items_notebook(docs_json, render_items);\n",
       "  }\n",
       "  if (root.Bokeh !== undefined && root.Bokeh.Panel !== undefined) {\n",
       "    embed_document(root);\n",
       "  } else {\n",
       "    var attempts = 0;\n",
       "    var timer = setInterval(function(root) {\n",
       "      if (root.Bokeh !== undefined && root.Bokeh.Panel !== undefined) {\n",
       "        clearInterval(timer);\n",
       "        embed_document(root);\n",
       "      } else if (document.readyState == \"complete\") {\n",
       "        attempts++;\n",
       "        if (attempts > 200) {\n",
       "          clearInterval(timer);\n",
       "          console.log(\"Bokeh: ERROR: Unable to run BokehJS code because BokehJS library is missing\");\n",
       "        }\n",
       "      }\n",
       "    }, 25, root)\n",
       "  }\n",
       "})(window);</script>"
      ],
      "text/plain": [
       "Column\n",
       "    [0] Column\n",
       "        [0] Column\n",
       "            [0] Row(margin=5, width=700)\n",
       "                [0] StaticText(value='<b></b>')\n",
       "                [1] Select(options=OrderedDict([('Component P...]), value=0)\n",
       "                [2] Select(options=OrderedDict([('PiYG', ...]), value='jet')\n",
       "                [3] Button(name='↶')\n",
       "                [4] Button(name='↷')\n",
       "                [5] Button(name='↔')\n",
       "                [6] Button(name='↕')\n",
       "                [7] Checkbox(name='interpolation')\n",
       "        [1] Row\n",
       "            [0] Column\n",
       "                [0] HoloViews(DynamicMap)\n",
       "            [1] Row\n",
       "                [0] Column\n",
       "                    [0] Column(margin=5, name='Component Planes', width=300)\n",
       "                        [0] StaticText(value='<b>Component Planes</b>')\n",
       "                        [1] IntSlider(end=3, name='Component')\n",
       "                    [1] Str(str)\n",
       "    [1] Column\n",
       "        [0] Row()"
      ]
     },
     "execution_count": 25,
     "metadata": {
      "application/vnd.holoviews_exec.v0+json": {
       "id": "3327"
      }
     },
     "output_type": "execute_result"
    }
   ],
   "source": [
    "\n",
    "\n",
    "# Visualize the very small SOM\n",
    "vis_small = PySOMVis(weights=som_small._weights, input_data=X)\n",
    "vis_small._mainview\n",
    "\n",
    "\n"
   ]
  },
  {
   "cell_type": "code",
   "execution_count": 26,
   "id": "052a1935",
   "metadata": {},
   "outputs": [
    {
     "data": {},
     "metadata": {},
     "output_type": "display_data"
    },
    {
     "data": {},
     "metadata": {},
     "output_type": "display_data"
    },
    {
     "data": {
      "application/vnd.holoviews_exec.v0+json": "",
      "text/html": [
       "<div id='3657'>\n",
       "\n",
       "\n",
       "\n",
       "\n",
       "\n",
       "  <div class=\"bk-root\" id=\"7293fdf0-8182-46eb-a51c-6b932300f63c\" data-root-id=\"3657\"></div>\n",
       "</div>\n",
       "<script type=\"application/javascript\">(function(root) {\n",
       "  function embed_document(root) {\n",
       "    var docs_json = {\"97fb7e90-e5be-4e7f-b244-bfb0834271fe\":{\"defs\":[{\"extends\":null,\"module\":null,\"name\":\"ReactiveHTML1\",\"overrides\":[],\"properties\":[]},{\"extends\":null,\"module\":null,\"name\":\"FlexBox1\",\"overrides\":[],\"properties\":[{\"default\":\"flex-start\",\"kind\":null,\"name\":\"align_content\"},{\"default\":\"flex-start\",\"kind\":null,\"name\":\"align_items\"},{\"default\":\"row\",\"kind\":null,\"name\":\"flex_direction\"},{\"default\":\"wrap\",\"kind\":null,\"name\":\"flex_wrap\"},{\"default\":\"flex-start\",\"kind\":null,\"name\":\"justify_content\"}]},{\"extends\":null,\"module\":null,\"name\":\"GridStack1\",\"overrides\":[],\"properties\":[{\"default\":\"warn\",\"kind\":null,\"name\":\"mode\"},{\"default\":null,\"kind\":null,\"name\":\"ncols\"},{\"default\":null,\"kind\":null,\"name\":\"nrows\"},{\"default\":true,\"kind\":null,\"name\":\"allow_resize\"},{\"default\":true,\"kind\":null,\"name\":\"allow_drag\"},{\"default\":[],\"kind\":null,\"name\":\"state\"}]},{\"extends\":null,\"module\":null,\"name\":\"click1\",\"overrides\":[],\"properties\":[{\"default\":\"\",\"kind\":null,\"name\":\"terminal_output\"},{\"default\":\"\",\"kind\":null,\"name\":\"debug_name\"},{\"default\":0,\"kind\":null,\"name\":\"clears\"}]},{\"extends\":null,\"module\":null,\"name\":\"TemplateActions1\",\"overrides\":[],\"properties\":[{\"default\":0,\"kind\":null,\"name\":\"open_modal\"},{\"default\":0,\"kind\":null,\"name\":\"close_modal\"}]},{\"extends\":null,\"module\":null,\"name\":\"MaterialTemplateActions1\",\"overrides\":[],\"properties\":[{\"default\":0,\"kind\":null,\"name\":\"open_modal\"},{\"default\":0,\"kind\":null,\"name\":\"close_modal\"}]}],\"roots\":{\"references\":[{\"attributes\":{\"fill_alpha\":{\"value\":0.1},\"fill_color\":{\"value\":\"red\"},\"hatch_alpha\":{\"value\":0.1},\"hatch_color\":{\"value\":\"red\"},\"line_alpha\":{\"value\":0.1},\"line_color\":{\"value\":\"red\"},\"marker\":{\"value\":\"asterisk\"},\"size\":{\"value\":2},\"x\":{\"field\":\"x\"},\"y\":{\"field\":\"y\"}},\"id\":\"3735\",\"type\":\"Scatter\"},{\"attributes\":{\"overlay\":{\"id\":\"3695\"}},\"id\":\"3693\",\"type\":\"BoxZoomTool\"},{\"attributes\":{},\"id\":\"3694\",\"type\":\"ResetTool\"},{\"attributes\":{\"fill_alpha\":{\"value\":0.2},\"fill_color\":{\"value\":\"red\"},\"hatch_alpha\":{\"value\":0.2},\"hatch_color\":{\"value\":\"red\"},\"line_alpha\":{\"value\":0.2},\"line_color\":{\"value\":\"red\"},\"marker\":{\"value\":\"asterisk\"},\"size\":{\"value\":2},\"x\":{\"field\":\"x\"},\"y\":{\"field\":\"y\"}},\"id\":\"3736\",\"type\":\"Scatter\"},{\"attributes\":{},\"id\":\"3749\",\"type\":\"UnionRenderers\"},{\"attributes\":{\"icon\":null,\"label\":\"\\u2195\",\"margin\":[5,10,5,10],\"subscribed_events\":[\"button_click\"]},\"id\":\"3667\",\"type\":\"Button\"},{\"attributes\":{\"bottom_units\":\"screen\",\"coordinates\":null,\"fill_alpha\":0.5,\"fill_color\":\"lightgrey\",\"group\":null,\"left_units\":\"screen\",\"level\":\"overlay\",\"line_alpha\":1.0,\"line_color\":\"black\",\"line_dash\":[4,4],\"line_width\":2,\"right_units\":\"screen\",\"syncable\":false,\"top_units\":\"screen\"},\"id\":\"3695\",\"type\":\"BoxAnnotation\"},{\"attributes\":{\"labels\":[\"interpolation\"],\"margin\":[5,10,5,10]},\"id\":\"3668\",\"type\":\"CheckboxGroup\"},{\"attributes\":{},\"id\":\"3703\",\"type\":\"BasicTickFormatter\"},{\"attributes\":{\"coordinates\":null,\"data_source\":{\"id\":\"3731\"},\"glyph\":{\"id\":\"3734\"},\"group\":null,\"hover_glyph\":null,\"muted_glyph\":{\"id\":\"3736\"},\"nonselection_glyph\":{\"id\":\"3735\"},\"selection_glyph\":{\"id\":\"3739\"},\"view\":{\"id\":\"3738\"}},\"id\":\"3737\",\"type\":\"GlyphRenderer\"},{\"attributes\":{\"margin\":[0,0,0,0],\"name\":\"Row07496\"},\"id\":\"3873\",\"type\":\"Row\"},{\"attributes\":{\"source\":{\"id\":\"3731\"}},\"id\":\"3738\",\"type\":\"CDSView\"},{\"attributes\":{\"children\":[{\"id\":\"3673\"}],\"margin\":[0,0,0,0],\"name\":\"Column07494\"},\"id\":\"3670\",\"type\":\"Column\"},{\"attributes\":{\"tools\":[{\"id\":\"3690\"},{\"id\":\"3691\"},{\"id\":\"3692\"},{\"id\":\"3693\"},{\"id\":\"3694\"}]},\"id\":\"3696\",\"type\":\"Toolbar\"},{\"attributes\":{\"children\":[{\"id\":\"3867\"}],\"margin\":[0,0,0,0],\"name\":\"Row07495\"},\"id\":\"3866\",\"type\":\"Row\"},{\"attributes\":{\"angle\":{\"value\":0.0},\"fill_alpha\":{\"value\":1.0},\"fill_color\":{\"value\":\"red\"},\"hatch_alpha\":{\"value\":1.0},\"hatch_color\":{\"value\":\"red\"},\"hatch_scale\":{\"value\":12.0},\"hatch_weight\":{\"value\":1.0},\"line_alpha\":{\"value\":1.0},\"line_cap\":{\"value\":\"butt\"},\"line_color\":{\"value\":\"red\"},\"line_dash\":{\"value\":[]},\"line_dash_offset\":{\"value\":0},\"line_join\":{\"value\":\"bevel\"},\"line_width\":{\"value\":1},\"marker\":{\"value\":\"asterisk\"},\"size\":{\"value\":2},\"x\":{\"field\":\"x\"},\"y\":{\"field\":\"y\"}},\"id\":\"3739\",\"type\":\"Scatter\"},{\"attributes\":{\"data\":{\"x0\":{\"__ndarray__\":\"\",\"dtype\":\"float64\",\"order\":\"little\",\"shape\":[0]},\"x1\":{\"__ndarray__\":\"\",\"dtype\":\"float64\",\"order\":\"little\",\"shape\":[0]},\"y0\":{\"__ndarray__\":\"\",\"dtype\":\"float64\",\"order\":\"little\",\"shape\":[0]},\"y1\":{\"__ndarray__\":\"\",\"dtype\":\"float64\",\"order\":\"little\",\"shape\":[0]}},\"selected\":{\"id\":\"3723\"},\"selection_policy\":{\"id\":\"3749\"}},\"id\":\"3722\",\"type\":\"ColumnDataSource\"},{\"attributes\":{},\"id\":\"3710\",\"type\":\"Selection\"},{\"attributes\":{},\"id\":\"3751\",\"type\":\"UnionRenderers\"},{\"attributes\":{},\"id\":\"3704\",\"type\":\"AllLabels\"},{\"attributes\":{},\"id\":\"3707\",\"type\":\"AllLabels\"},{\"attributes\":{},\"id\":\"3706\",\"type\":\"BasicTickFormatter\"},{\"attributes\":{\"coordinates\":null,\"data_source\":{\"id\":\"3722\"},\"glyph\":{\"id\":\"3725\"},\"group\":null,\"hover_glyph\":null,\"muted_glyph\":{\"id\":\"3727\"},\"nonselection_glyph\":{\"id\":\"3726\"},\"selection_glyph\":{\"id\":\"3730\"},\"view\":{\"id\":\"3729\"}},\"id\":\"3728\",\"type\":\"GlyphRenderer\"},{\"attributes\":{\"children\":[{\"id\":\"3868\"},{\"id\":\"3871\"}],\"margin\":[0,0,0,0],\"name\":\"\"},\"id\":\"3867\",\"type\":\"Column\"},{\"attributes\":{\"high\":0.9058106233221552,\"low\":0.054902644172979735,\"nan_color\":\"rgba(0, 0, 0, 0)\",\"palette\":[\"#00007f\",\"#000084\",\"#000088\",\"#00008d\",\"#000091\",\"#000096\",\"#00009a\",\"#00009f\",\"#0000a3\",\"#0000a8\",\"#0000ac\",\"#0000b1\",\"#0000b6\",\"#0000ba\",\"#0000bf\",\"#0000c3\",\"#0000c8\",\"#0000cc\",\"#0000d1\",\"#0000d5\",\"#0000da\",\"#0000de\",\"#0000e3\",\"#0000e8\",\"#0000ec\",\"#0000f1\",\"#0000f5\",\"#0000fa\",\"#0000fe\",\"#0000ff\",\"#0000ff\",\"#0000ff\",\"#0000ff\",\"#0004ff\",\"#0008ff\",\"#000cff\",\"#0010ff\",\"#0014ff\",\"#0018ff\",\"#001cff\",\"#0020ff\",\"#0024ff\",\"#0028ff\",\"#002cff\",\"#0030ff\",\"#0034ff\",\"#0038ff\",\"#003cff\",\"#0040ff\",\"#0044ff\",\"#0048ff\",\"#004cff\",\"#0050ff\",\"#0054ff\",\"#0058ff\",\"#005cff\",\"#0060ff\",\"#0064ff\",\"#0068ff\",\"#006cff\",\"#0070ff\",\"#0074ff\",\"#0078ff\",\"#007cff\",\"#0080ff\",\"#0084ff\",\"#0088ff\",\"#008cff\",\"#0090ff\",\"#0094ff\",\"#0098ff\",\"#009cff\",\"#00a0ff\",\"#00a4ff\",\"#00a8ff\",\"#00acff\",\"#00b0ff\",\"#00b4ff\",\"#00b8ff\",\"#00bcff\",\"#00c0ff\",\"#00c4ff\",\"#00c8ff\",\"#00ccff\",\"#00d0ff\",\"#00d4ff\",\"#00d8ff\",\"#00dcfe\",\"#00e0fa\",\"#00e4f7\",\"#02e8f4\",\"#05ecf1\",\"#08f0ed\",\"#0cf4ea\",\"#0ff8e7\",\"#12fce4\",\"#15ffe1\",\"#18ffdd\",\"#1cffda\",\"#1fffd7\",\"#22ffd4\",\"#25ffd0\",\"#29ffcd\",\"#2cffca\",\"#2fffc7\",\"#32ffc3\",\"#36ffc0\",\"#39ffbd\",\"#3cffba\",\"#3fffb7\",\"#42ffb3\",\"#46ffb0\",\"#49ffad\",\"#4cffaa\",\"#4fffa6\",\"#53ffa3\",\"#56ffa0\",\"#59ff9d\",\"#5cff9a\",\"#5fff96\",\"#63ff93\",\"#66ff90\",\"#69ff8d\",\"#6cff89\",\"#70ff86\",\"#73ff83\",\"#76ff80\",\"#79ff7d\",\"#7cff79\",\"#80ff76\",\"#83ff73\",\"#86ff70\",\"#89ff6c\",\"#8dff69\",\"#90ff66\",\"#93ff63\",\"#96ff5f\",\"#9aff5c\",\"#9dff59\",\"#a0ff56\",\"#a3ff53\",\"#a6ff4f\",\"#aaff4c\",\"#adff49\",\"#b0ff46\",\"#b3ff42\",\"#b7ff3f\",\"#baff3c\",\"#bdff39\",\"#c0ff36\",\"#c3ff32\",\"#c7ff2f\",\"#caff2c\",\"#cdff29\",\"#d0ff25\",\"#d4ff22\",\"#d7ff1f\",\"#daff1c\",\"#ddff18\",\"#e0ff15\",\"#e4ff12\",\"#e7ff0f\",\"#eaff0c\",\"#edff08\",\"#f1fc05\",\"#f4f802\",\"#f7f400\",\"#faf000\",\"#feed00\",\"#ffe900\",\"#ffe500\",\"#ffe200\",\"#ffde00\",\"#ffda00\",\"#ffd700\",\"#ffd300\",\"#ffcf00\",\"#ffcb00\",\"#ffc800\",\"#ffc400\",\"#ffc000\",\"#ffbd00\",\"#ffb900\",\"#ffb500\",\"#ffb100\",\"#ffae00\",\"#ffaa00\",\"#ffa600\",\"#ffa300\",\"#ff9f00\",\"#ff9b00\",\"#ff9800\",\"#ff9400\",\"#ff9000\",\"#ff8c00\",\"#ff8900\",\"#ff8500\",\"#ff8100\",\"#ff7e00\",\"#ff7a00\",\"#ff7600\",\"#ff7300\",\"#ff6f00\",\"#ff6b00\",\"#ff6700\",\"#ff6400\",\"#ff6000\",\"#ff5c00\",\"#ff5900\",\"#ff5500\",\"#ff5100\",\"#ff4d00\",\"#ff4a00\",\"#ff4600\",\"#ff4200\",\"#ff3f00\",\"#ff3b00\",\"#ff3700\",\"#ff3400\",\"#ff3000\",\"#ff2c00\",\"#ff2800\",\"#ff2500\",\"#ff2100\",\"#ff1d00\",\"#ff1a00\",\"#ff1600\",\"#fe1200\",\"#fa0f00\",\"#f50b00\",\"#f10700\",\"#ec0300\",\"#e80000\",\"#e30000\",\"#de0000\",\"#da0000\",\"#d50000\",\"#d10000\",\"#cc0000\",\"#c80000\",\"#c30000\",\"#bf0000\",\"#ba0000\",\"#b60000\",\"#b10000\",\"#ac0000\",\"#a80000\",\"#a30000\",\"#9f0000\",\"#9a0000\",\"#960000\",\"#910000\",\"#8d0000\",\"#880000\",\"#840000\",\"#7f0000\"]},\"id\":\"3708\",\"type\":\"LinearColorMapper\"},{\"attributes\":{},\"id\":\"3680\",\"type\":\"LinearScale\"},{\"attributes\":{\"client_comm_id\":\"7509dc55ae844fa4a9cee6955a826b10\",\"comm_id\":\"ba7c18d2b4f2454f91fc623ff50e54d8\",\"plot_id\":\"3657\"},\"id\":\"3916\",\"type\":\"panel.models.comm_manager.CommManager\"},{\"attributes\":{\"margin\":[5,10,5,10],\"name\":\"\",\"text\":\"<b>Component Planes</b>\"},\"id\":\"3869\",\"type\":\"Div\"},{\"attributes\":{\"color_mapper\":{\"id\":\"3708\"},\"dh\":{\"field\":\"dh\"},\"dw\":{\"field\":\"dw\"},\"global_alpha\":{\"value\":1.0},\"image\":{\"field\":\"image\"},\"x\":{\"field\":\"x\"},\"y\":{\"field\":\"y\"}},\"id\":\"3720\",\"type\":\"Image\"},{\"attributes\":{\"end\":0.5,\"reset_end\":0.5,\"reset_start\":-0.5,\"start\":-0.5,\"tags\":[[[\"x\",\"x\",null]]]},\"id\":\"3671\",\"type\":\"Range1d\"},{\"attributes\":{\"coordinates\":null,\"data_source\":{\"id\":\"3709\"},\"glyph\":{\"id\":\"3712\"},\"group\":null,\"hover_glyph\":null,\"muted_glyph\":{\"id\":\"3716\"},\"nonselection_glyph\":{\"id\":\"3714\"},\"selection_glyph\":{\"id\":\"3720\"},\"view\":{\"id\":\"3719\"}},\"id\":\"3718\",\"type\":\"GlyphRenderer\"},{\"attributes\":{\"icon\":null,\"label\":\"\\u2194\",\"margin\":[5,10,5,10],\"subscribed_events\":[\"button_click\"]},\"id\":\"3666\",\"type\":\"Button\"},{\"attributes\":{\"line_alpha\":{\"field\":\"alpha\"},\"line_color\":{\"value\":\"red\"},\"line_width\":{\"value\":2},\"x0\":{\"field\":\"x0\"},\"x1\":{\"field\":\"x1\"},\"y0\":{\"field\":\"y0\"},\"y1\":{\"field\":\"y1\"}},\"id\":\"3727\",\"type\":\"Segment\"},{\"attributes\":{\"end\":0.5,\"reset_end\":0.5,\"reset_start\":-0.5,\"start\":-0.5,\"tags\":[[[\"y\",\"y\",null]]]},\"id\":\"3672\",\"type\":\"Range1d\"},{\"attributes\":{\"line_alpha\":{\"field\":\"alpha\"},\"line_color\":{\"value\":\"red\"},\"line_width\":{\"value\":2},\"x0\":{\"field\":\"x0\"},\"x1\":{\"field\":\"x1\"},\"y0\":{\"field\":\"y0\"},\"y1\":{\"field\":\"y1\"}},\"id\":\"3725\",\"type\":\"Segment\"},{\"attributes\":{\"fill_color\":{\"value\":\"red\"},\"hatch_color\":{\"value\":\"red\"},\"line_color\":{\"value\":\"red\"},\"marker\":{\"value\":\"asterisk\"},\"size\":{\"value\":2},\"x\":{\"field\":\"x\"},\"y\":{\"field\":\"y\"}},\"id\":\"3734\",\"type\":\"Scatter\"},{\"attributes\":{\"margin\":[5,10,5,10],\"options\":[[\"PiYG\",\"PiYG\"],[\"PRGn\",\"PRGn\"],[\"BrBG\",\"BrBG\"],[\"PuOr\",\"PuOr\"],[\"RdGy\",\"RdGy\"],[\"RdBu\",\"RdBu\"],[\"RdYlBu\",\"RdYlBu\"],[\"RdYlGn\",\"RdYlGn\"],[\"Spectral\",\"Spectral\"],[\"coolwarm\",\"coolwarm\"],[\"bwr\",\"bwr\"],[\"seismic\",\"seismic\"],[\"gist_gray\",\"gist_gray\"],[\"bone\",\"bone\"],[\"pink\",\"pink\"],[\"spring\",\"spring\"],[\"summer\",\"summer\"],[\"autumn\",\"autumn\"],[\"winter\",\"winter\"],[\"cool\",\"cool\"],[\"Wistia\",\"Wistia\"],[\"hot\",\"hot\"],[\"afmhot\",\"afmhot\"],[\"gist_heat\",\"gist_heat\"],[\"copper\",\"copper\"],[\"Greys\",\"Greys\"],[\"Purples\",\"Purples\"],[\"Blues\",\"Blues\"],[\"Greens\",\"Greens\"],[\"Oranges\",\"Oranges\"],[\"Reds\",\"Reds\"],[\"YlOrBr\",\"YlOrBr\"],[\"YlOrRd\",\"YlOrRd\"],[\"OrRd\",\"OrRd\"],[\"PuRd\",\"PuRd\"],[\"RdPu\",\"RdPu\"],[\"BuPu\",\"BuPu\"],[\"GnBu\",\"GnBu\"],[\"PuBu\",\"PuBu\"],[\"YlGnBu\",\"YlGnBu\"],[\"PuBuGn\",\"PuBuGn\"],[\"BuGn\",\"BuGn\"],[\"YlGn\",\"YlGn\"],[\"viridis\",\"viridis\"],[\"plasma\",\"plasma\"],[\"inferno\",\"inferno\"],[\"magma\",\"magma\"],[\"cividis\",\"cividis\"],[\"twilight\",\"twilight\"],[\"twilight_shifted\",\"twilight_shifted\"],[\"hsv\",\"hsv\"],[\"Pastel1\",\"Pastel1\"],[\"Paired\",\"Paired\"],[\"Accent\",\"Accent\"],[\"Dark2\",\"Dark2\"],[\"Set1\",\"Set1\"],[\"Set2\",\"Set2\"],[\"Set3\",\"Set3\"],[\"tab10\",\"tab10\"],[\"tab20\",\"tab20\"],[\"tab20b\",\"tab20b\"],[\"tab20c\",\"tab20c\"],[\"flag\",\"flag\"],[\"prism\",\"prism\"],[\"ocean\",\"ocean\"],[\"gist_earth\",\"gist_earth\"],[\"terrain\",\"terrain\"],[\"gist_stern\",\"gist_stern\"],[\"gnuplot\",\"gnuplot\"],[\"gnuplot2\",\"gnuplot2\"],[\"CMRmap\",\"CMRmap\"],[\"cubehelix\",\"cubehelix\"],[\"brg\",\"brg\"],[\"gist_rainbow\",\"gist_rainbow\"],[\"rainbow\",\"rainbow\"],[\"jet\",\"jet\"],[\"turbo\",\"turbo\"],[\"nipy_spectral\",\"nipy_spectral\"],[\"gist_ncar\",\"gist_ncar\"],[\"glasbey_dark\",\"glasbey_dark\"]],\"value\":\"jet\"},\"id\":\"3663\",\"type\":\"panel.models.widgets.CustomSelect\"},{\"attributes\":{\"below\":[{\"id\":\"3682\"}],\"center\":[{\"id\":\"3685\"},{\"id\":\"3689\"}],\"height\":500,\"left\":[{\"id\":\"3686\"}],\"margin\":[5,5,5,5],\"min_border_bottom\":10,\"min_border_left\":10,\"min_border_right\":10,\"min_border_top\":10,\"renderers\":[{\"id\":\"3718\"},{\"id\":\"3728\"},{\"id\":\"3737\"}],\"sizing_mode\":\"fixed\",\"title\":{\"id\":\"3674\"},\"toolbar\":{\"id\":\"3696\"},\"width\":500,\"x_range\":{\"id\":\"3671\"},\"x_scale\":{\"id\":\"3678\"},\"y_range\":{\"id\":\"3672\"},\"y_scale\":{\"id\":\"3680\"}},\"id\":\"3673\",\"subtype\":\"Figure\",\"type\":\"Plot\"},{\"attributes\":{\"line_alpha\":{\"field\":\"alpha\"},\"line_color\":{\"value\":\"red\"},\"line_width\":{\"value\":2},\"x0\":{\"field\":\"x0\"},\"x1\":{\"field\":\"x1\"},\"y0\":{\"field\":\"y0\"},\"y1\":{\"field\":\"y1\"}},\"id\":\"3726\",\"type\":\"Segment\"},{\"attributes\":{\"children\":[{\"id\":\"3658\"},{\"id\":\"3872\"}],\"margin\":[0,0,0,0],\"name\":\"Column07500\"},\"id\":\"3657\",\"type\":\"Column\"},{\"attributes\":{},\"id\":\"3723\",\"type\":\"Selection\"},{\"attributes\":{\"children\":[{\"id\":\"3873\"}],\"margin\":[0,0,0,0],\"name\":\"Column07499\"},\"id\":\"3872\",\"type\":\"Column\"},{\"attributes\":{\"color_mapper\":{\"id\":\"3708\"},\"dh\":{\"field\":\"dh\"},\"dw\":{\"field\":\"dw\"},\"image\":{\"field\":\"image\"},\"x\":{\"field\":\"x\"},\"y\":{\"field\":\"y\"}},\"id\":\"3712\",\"type\":\"Image\"},{\"attributes\":{\"children\":[{\"id\":\"3659\"},{\"id\":\"3669\"}],\"margin\":[0,0,0,0],\"name\":\"Column07498\"},\"id\":\"3658\",\"type\":\"Column\"},{\"attributes\":{\"source\":{\"id\":\"3709\"}},\"id\":\"3719\",\"type\":\"CDSView\"},{\"attributes\":{\"coordinates\":null,\"group\":null,\"text_color\":\"black\",\"text_font_size\":\"12pt\"},\"id\":\"3674\",\"type\":\"Title\"},{\"attributes\":{\"children\":[{\"id\":\"3660\"}],\"margin\":[0,0,0,0],\"name\":\"Column07463\"},\"id\":\"3659\",\"type\":\"Column\"},{\"attributes\":{\"children\":[{\"id\":\"3670\"},{\"id\":\"3866\"}],\"margin\":[0,0,0,0],\"name\":\"Row07497\"},\"id\":\"3669\",\"type\":\"Row\"},{\"attributes\":{},\"id\":\"3690\",\"type\":\"SaveTool\"},{\"attributes\":{\"children\":[{\"id\":\"3661\"},{\"id\":\"3662\"},{\"id\":\"3663\"},{\"id\":\"3664\"},{\"id\":\"3665\"},{\"id\":\"3666\"},{\"id\":\"3667\"},{\"id\":\"3668\"}],\"margin\":[5,5,5,5],\"min_width\":700,\"name\":\"\",\"width\":700},\"id\":\"3660\",\"type\":\"Row\"},{\"attributes\":{\"axis_label\":\"x\",\"coordinates\":null,\"formatter\":{\"id\":\"3703\"},\"group\":null,\"major_label_policy\":{\"id\":\"3704\"},\"ticker\":{\"id\":\"3683\"}},\"id\":\"3682\",\"type\":\"LinearAxis\"},{\"attributes\":{},\"id\":\"3692\",\"type\":\"WheelZoomTool\"},{\"attributes\":{\"margin\":[5,10,5,10],\"name\":\"\",\"text\":\"<b></b>\"},\"id\":\"3661\",\"type\":\"Div\"},{\"attributes\":{\"axis\":{\"id\":\"3686\"},\"coordinates\":null,\"dimension\":1,\"grid_line_color\":null,\"group\":null,\"ticker\":null},\"id\":\"3689\",\"type\":\"Grid\"},{\"attributes\":{\"children\":[{\"id\":\"3869\"},{\"id\":\"3870\"}],\"margin\":[5,5,5,5],\"min_width\":300,\"name\":\"Component Planes\",\"width\":300},\"id\":\"3868\",\"type\":\"Column\"},{\"attributes\":{\"line_alpha\":{\"field\":\"alpha\"},\"line_cap\":{\"value\":\"butt\"},\"line_color\":{\"value\":\"red\"},\"line_dash\":{\"value\":[]},\"line_dash_offset\":{\"value\":0},\"line_join\":{\"value\":\"bevel\"},\"line_width\":{\"value\":2},\"x0\":{\"field\":\"x0\"},\"x1\":{\"field\":\"x1\"},\"y0\":{\"field\":\"y0\"},\"y1\":{\"field\":\"y1\"}},\"id\":\"3730\",\"type\":\"Segment\"},{\"attributes\":{\"source\":{\"id\":\"3722\"}},\"id\":\"3729\",\"type\":\"CDSView\"},{\"attributes\":{},\"id\":\"3683\",\"type\":\"BasicTicker\"},{\"attributes\":{\"axis_label\":\"y\",\"coordinates\":null,\"formatter\":{\"id\":\"3706\"},\"group\":null,\"major_label_policy\":{\"id\":\"3707\"},\"ticker\":{\"id\":\"3687\"}},\"id\":\"3686\",\"type\":\"LinearAxis\"},{\"attributes\":{},\"id\":\"3691\",\"type\":\"PanTool\"},{\"attributes\":{},\"id\":\"3747\",\"type\":\"UnionRenderers\"},{\"attributes\":{\"margin\":[5,10,5,10],\"options\":[[\"0\",\"Component Planes\"],[\"1\",\"Hit Histogram\"],[\"2\",\"U-matrix\"],[\"3\",\"D-Matrix\"],[\"4\",\"P-matrix & U*-matrix\"],[\"5\",\"Smoothed Data Histograms\"],[\"6\",\"Pie Chart\"],[\"7\",\"Neighbourhood Graph\"],[\"8\",\"Chessboard\"],[\"9\",\"Clustering\"],[\"10\",\"Metro Map\"],[\"11\",\"Quantization Error\"],[\"12\",\"SOMStreamVis\"],[\"13\",\"Sky Metaphor\"],[\"14\",\"Topographic error\"],[\"15\",\"Intrinsic distance\"],[\"16\",\"Activity Histogram\"],[\"17\",\"Minimum Spanning Tree\"],[\"18\",\"Cluster Connection\"],[\"19\",\"Mnemonic SOM\"]],\"value\":\"0\"},\"id\":\"3662\",\"type\":\"panel.models.widgets.CustomSelect\"},{\"attributes\":{\"margin\":[5,5,5,5],\"name\":\"Str07517\",\"text\":\"&lt;pre&gt;Slicing weight vector according its components.&lt;/pre&gt;\"},\"id\":\"3871\",\"type\":\"panel.models.markup.HTML\"},{\"attributes\":{},\"id\":\"3732\",\"type\":\"Selection\"},{\"attributes\":{\"axis\":{\"id\":\"3682\"},\"coordinates\":null,\"grid_line_color\":null,\"group\":null,\"ticker\":null},\"id\":\"3685\",\"type\":\"Grid\"},{\"attributes\":{\"icon\":null,\"label\":\"\\u21b7\",\"margin\":[5,10,5,10],\"subscribed_events\":[\"button_click\"]},\"id\":\"3665\",\"type\":\"Button\"},{\"attributes\":{\"color_mapper\":{\"id\":\"3708\"},\"dh\":{\"field\":\"dh\"},\"dw\":{\"field\":\"dw\"},\"global_alpha\":{\"value\":0.1},\"image\":{\"field\":\"image\"},\"x\":{\"field\":\"x\"},\"y\":{\"field\":\"y\"}},\"id\":\"3714\",\"type\":\"Image\"},{\"attributes\":{\"data\":{\"x\":{\"__ndarray__\":\"\",\"dtype\":\"float64\",\"order\":\"little\",\"shape\":[0]},\"y\":{\"__ndarray__\":\"\",\"dtype\":\"float64\",\"order\":\"little\",\"shape\":[0]}},\"selected\":{\"id\":\"3732\"},\"selection_policy\":{\"id\":\"3751\"}},\"id\":\"3731\",\"type\":\"ColumnDataSource\"},{\"attributes\":{},\"id\":\"3687\",\"type\":\"BasicTicker\"},{\"attributes\":{\"icon\":null,\"label\":\"\\u21b6\",\"margin\":[5,10,5,10],\"subscribed_events\":[\"button_click\"]},\"id\":\"3664\",\"type\":\"Button\"},{\"attributes\":{},\"id\":\"3678\",\"type\":\"LinearScale\"},{\"attributes\":{\"data\":{\"dh\":[1.0],\"dw\":[1.0],\"image\":[{\"__ndarray__\":\"jjdxj2b87D9tZSllWr/qP3M8W3B3k+Q/bP96eYHU4T/p3ZHWaWrfP8fG+A8Amdo/NwvD+P2F2T9Mzc3yA+PbPyDX7kmGJ9w/BvhcCau72D+kZwaYlLrSP+S2LmVNacs/kReTy2fJ6z80VQJBu3TpP6KStl5w4eM/Q1/XYWS74T8aIygD3QvgP57nE+i2+No/G0Nv59Fy1z/Pf8Hc1aTXP5jqUjEM7Nc/CkBubbkI1T+3HeJd4DXQP7fH/MibS8k/4ylMiJ0x6j8ZGEHfldXnP8n3vzyQHeM/fvLr0kho4T/gxQr5P1XgPzyNVFq5pNs/JhoYmlOw1j8ESJt6AaXVP12ana7EEdU/+UdlPTf10T/7dNv3E0zJP5IobN0138E/WC70IJ795z/aYmiLqtjlP3aLGtijeOI/VvwCHjca4T9sRxPiq13gPzGwztYYfdw//E2+Y8mt2D99WznMuZDWP5sryz8vhNI/sROTH/KWyT9HUP0bC6+8Pyf8XqOFR7A/zmOxnozb5T/6DgJOMHTkPxdD+e+cMeI/xsSTTv7p4D+5mww6Qo7fP/B6nba8wts/h8PXaVGb2T+IUSrWfprWP8SeIEemhMw/zvpibX37wj/cq7u0Dby4P8+tXwozHKw/af4NWkTX5D+yFKWAZabjP1aCmUPobOE/BSdksabf3z+lihMltdTcP0gcEmsE0tk/JCSToP052D8X/JQsRQvUP3VC693ws8g/SW+diG7Uwz/Yr2yjjHa8P90x1yTCxLI/wqj8MRnT4z/wnd2MY6ziP2B5Rt96bOA/e/RwMdUG3j/fK7CjTUDbP7dxX0jdUdg/7rk4zQ3b1D9TsN2u9rzPP7uAsLCWTck/gPNtBR95xj9JuHCH6irBP5o9fCaq6rg/3mfAERup4z93H8DtheHiP08+1fQS9eA/PJvLHiHb3j94ol9cpw7cP/3XtuL/nNc/0Wlekk3m0T/A2Q+1IH7NP4IhQKPNzMs/XMR9pm7VyT/am+YQQFDFPxm/YbSLEcA/HRbBNxb25D/8J22c+pzkP5LCXohEHOM/vZW/K1tS4T/pNzTBgdHeP2SkwcDBDdk/BmFBDZla0j9Uk/MyUIzQP0V6CCTTi88/1UvYnMnFzD9Gdz0mcdbIP9jYKwxw3cM/OdQ3gyKD5j+h6qWc+9flP4Mmpr0e0uQ/U6zm3UN74z9ad0/toiPhP6S3wyKWNNo/J7aGzqyB1D+9k7Ff1AzTPzOCRYW5qtE/Io5wtk3wzj/27UAI4tLJPxYunyfLgcU/j3MLVIC46D/XxARvP57mP5d09sWESeU/XOs2pxfH4z9ZlrnkImzhP1vjM5152Nk/FNrcO8zh1T+uDJBjHkjUPzJ38VP7UtI/IvA+MmkL0D9WnMbVwTbLP0efPfG3wMc/jDij+mtt6z/k4YU6kq7nP8vPF3OBNOU/+Fn3MJtd4z+UWFN8zTThPweew/F1z9o/Q+SXaQeg1j9DI8+phq3UPwjXtJNXLtI/vf9PL1lhzz8+klWbFWzMP9ep8x5k6Mo/\",\"dtype\":\"float64\",\"order\":\"little\",\"shape\":[12,12]}],\"x\":[-0.5],\"y\":[-0.5]},\"selected\":{\"id\":\"3710\"},\"selection_policy\":{\"id\":\"3747\"}},\"id\":\"3709\",\"type\":\"ColumnDataSource\"},{\"attributes\":{\"end\":3,\"margin\":[5,10,5,10],\"start\":0,\"title\":\"Component\",\"value\":0},\"id\":\"3870\",\"type\":\"Slider\"},{\"attributes\":{\"color_mapper\":{\"id\":\"3708\"},\"dh\":{\"field\":\"dh\"},\"dw\":{\"field\":\"dw\"},\"global_alpha\":{\"value\":0.2},\"image\":{\"field\":\"image\"},\"x\":{\"field\":\"x\"},\"y\":{\"field\":\"y\"}},\"id\":\"3716\",\"type\":\"Image\"}],\"root_ids\":[\"3657\",\"3916\"]},\"title\":\"Bokeh Application\",\"version\":\"2.4.1\"}};\n",
       "    var render_items = [{\"docid\":\"97fb7e90-e5be-4e7f-b244-bfb0834271fe\",\"root_ids\":[\"3657\"],\"roots\":{\"3657\":\"7293fdf0-8182-46eb-a51c-6b932300f63c\"}}];\n",
       "    root.Bokeh.embed.embed_items_notebook(docs_json, render_items);\n",
       "  }\n",
       "  if (root.Bokeh !== undefined && root.Bokeh.Panel !== undefined) {\n",
       "    embed_document(root);\n",
       "  } else {\n",
       "    var attempts = 0;\n",
       "    var timer = setInterval(function(root) {\n",
       "      if (root.Bokeh !== undefined && root.Bokeh.Panel !== undefined) {\n",
       "        clearInterval(timer);\n",
       "        embed_document(root);\n",
       "      } else if (document.readyState == \"complete\") {\n",
       "        attempts++;\n",
       "        if (attempts > 200) {\n",
       "          clearInterval(timer);\n",
       "          console.log(\"Bokeh: ERROR: Unable to run BokehJS code because BokehJS library is missing\");\n",
       "        }\n",
       "      }\n",
       "    }, 25, root)\n",
       "  }\n",
       "})(window);</script>"
      ],
      "text/plain": [
       "Column\n",
       "    [0] Column\n",
       "        [0] Column\n",
       "            [0] Row(margin=5, width=700)\n",
       "                [0] StaticText(value='<b></b>')\n",
       "                [1] Select(options=OrderedDict([('Component P...]), value=0)\n",
       "                [2] Select(options=OrderedDict([('PiYG', ...]), value='jet')\n",
       "                [3] Button(name='↶')\n",
       "                [4] Button(name='↷')\n",
       "                [5] Button(name='↔')\n",
       "                [6] Button(name='↕')\n",
       "                [7] Checkbox(name='interpolation')\n",
       "        [1] Row\n",
       "            [0] Column\n",
       "                [0] HoloViews(DynamicMap)\n",
       "            [1] Row\n",
       "                [0] Column\n",
       "                    [0] Column(margin=5, name='Component Planes', width=300)\n",
       "                        [0] StaticText(value='<b>Component Planes</b>')\n",
       "                        [1] IntSlider(end=3, name='Component')\n",
       "                    [1] Str(str)\n",
       "    [1] Column\n",
       "        [0] Row()"
      ]
     },
     "execution_count": 26,
     "metadata": {
      "application/vnd.holoviews_exec.v0+json": {
       "id": "3657"
      }
     },
     "output_type": "execute_result"
    }
   ],
   "source": [
    "# Visualize the very large SOM\n",
    "vis_large = PySOMVis(weights=som_large._weights, input_data=X)\n",
    "vis_large._mainview"
   ]
  },
  {
   "cell_type": "markdown",
   "id": "8a407c3c",
   "metadata": {},
   "source": [
    "**Describe and compare the structures found** (providing detailed info on visualizations and\n",
    "parameters)"
   ]
  },
  {
   "cell_type": "code",
   "execution_count": null,
   "id": "307bd6ba",
   "metadata": {},
   "outputs": [],
   "source": [
    "#todo maybe show structures"
   ]
  },
  {
   "cell_type": "markdown",
   "id": "b8ad89e8",
   "metadata": {},
   "source": [
    "#todo comparision text  "
   ]
  },
  {
   "cell_type": "markdown",
   "id": "c96715bf",
   "metadata": {},
   "source": [
    "## 4) Analyze different initial neighborhood radius settings"
   ]
  },
  {
   "cell_type": "markdown",
   "id": "be55eeba",
   "metadata": {},
   "source": [
    "Train the very large SOM as specified above, but with a much too small neighborhood radius."
   ]
  },
  {
   "cell_type": "code",
   "execution_count": null,
   "id": "3fff59dc",
   "metadata": {},
   "outputs": [],
   "source": [
    "#TODO above"
   ]
  },
  {
   "cell_type": "markdown",
   "id": "30b87702",
   "metadata": {},
   "source": [
    "Analyse the<br> a) cluster structure,<br> b) quantization errors,<br> c) topology violations.<br> d) In how far\n",
    "does this map differ from the very large map trained with a correct/high initial neighborhood\n",
    "radius?"
   ]
  },
  {
   "cell_type": "code",
   "execution_count": null,
   "id": "1eafd751",
   "metadata": {},
   "outputs": [],
   "source": [
    "#TODO above"
   ]
  },
  {
   "cell_type": "markdown",
   "id": "bab82e77",
   "metadata": {},
   "source": [
    "**Describe and compare the structures found** (what is the effect of a „too small“\n",
    "neighborhood radius? How to detect it?)"
   ]
  },
  {
   "cell_type": "code",
   "execution_count": null,
   "id": "3b58907c",
   "metadata": {},
   "outputs": [],
   "source": [
    "#TODO maybe show structures."
   ]
  },
  {
   "cell_type": "markdown",
   "id": "ab52b51f",
   "metadata": {},
   "source": [
    "#TODO describe from above"
   ]
  },
  {
   "cell_type": "markdown",
   "id": "71e6e0df",
   "metadata": {},
   "source": [
    "## 5) Analyze different initial learning rates"
   ]
  },
  {
   "cell_type": "markdown",
   "id": "6d00b3ca",
   "metadata": {},
   "source": [
    "Train the regular-sized SOM as specified above, but with a (I) much too large / (II) much too<br>\n",
    "small learning rate (provide justification for the setting of the parameter)"
   ]
  },
  {
   "cell_type": "code",
   "execution_count": null,
   "id": "c182f839",
   "metadata": {},
   "outputs": [],
   "source": [
    "#TODO above"
   ]
  },
  {
   "cell_type": "markdown",
   "id": "089617ba",
   "metadata": {},
   "source": [
    "Analyse for both (I) and (II)<br> a) cluster structure,<br> b) quantization errors,<br> c) topology violations.<br>\n",
    "d) In how far do these two maps differ from the well-trained map analyzed above?"
   ]
  },
  {
   "cell_type": "code",
   "execution_count": null,
   "id": "6449fef9",
   "metadata": {},
   "outputs": [],
   "source": [
    "#TODO above"
   ]
  },
  {
   "cell_type": "markdown",
   "id": "a5c4d9d4",
   "metadata": {},
   "source": [
    "Describe and compare the structures found (how can you detect „too small“ learning<br>\n",
    "rates? When do they start to make sense?"
   ]
  },
  {
   "cell_type": "code",
   "execution_count": null,
   "id": "c9554aa3",
   "metadata": {},
   "outputs": [],
   "source": [
    "#TODO maybe show structures"
   ]
  },
  {
   "cell_type": "markdown",
   "id": "0b0ec029",
   "metadata": {},
   "source": [
    "#todo comparision text"
   ]
  },
  {
   "cell_type": "markdown",
   "id": "4d63aeb1",
   "metadata": {},
   "source": [
    "## 6) Analyze different max iterations"
   ]
  },
  {
   "cell_type": "markdown",
   "id": "f28e849b",
   "metadata": {},
   "source": [
    "Train a regular SOM using 2, 5, 10, 50, 100, 1000, 5000, 10000 iterations"
   ]
  },
  {
   "cell_type": "code",
   "execution_count": null,
   "id": "9b00e4fa",
   "metadata": {},
   "outputs": [],
   "source": [
    "#TODO above"
   ]
  },
  {
   "cell_type": "markdown",
   "id": "03ec5689",
   "metadata": {},
   "source": [
    "Analyse cluster structure. <br>a) When do cluster structures start to emerge?<br> b) After how many\n",
    "iterations do they stabilize?<br> c) How can you tell from the quality measures whether the map is\n",
    "stable?<br> d) Which visualizations help you discover not-yet stable SOM mappings?"
   ]
  },
  {
   "cell_type": "code",
   "execution_count": null,
   "id": "5cf41ba6",
   "metadata": {},
   "outputs": [],
   "source": [
    "#TODO above"
   ]
  },
  {
   "cell_type": "markdown",
   "id": "0f6ddca2",
   "metadata": {},
   "source": [
    "Describe and compare the structures found (how can you detect „too small“ learning\n",
    "rates? When do they start to make sense?"
   ]
  },
  {
   "cell_type": "code",
   "execution_count": null,
   "id": "27dc90c5",
   "metadata": {},
   "outputs": [],
   "source": [
    "#TODO maybe show structures"
   ]
  },
  {
   "cell_type": "markdown",
   "id": "57137aa4",
   "metadata": {},
   "source": [
    "#todo comparision text"
   ]
  },
  {
   "cell_type": "markdown",
   "id": "c02cb92a",
   "metadata": {},
   "source": [
    "## 7) Detailed analysis of an „Optimal SOM“"
   ]
  },
  {
   "cell_type": "markdown",
   "id": "59fa6f00",
   "metadata": {},
   "source": [
    "Train a SOM using what you consider to be „optimal parameters“ based on sub-tasks 1-6."
   ]
  },
  {
   "cell_type": "code",
   "execution_count": null,
   "id": "4c2fbf28",
   "metadata": {},
   "outputs": [],
   "source": [
    "#TODO train best som"
   ]
  },
  {
   "cell_type": "markdown",
   "id": "5e19f1e0",
   "metadata": {},
   "source": [
    "Describe the final model following the FAIR4ML schema (cf.\n",
    "https://doi.org/10.5281/zenodo.14002310, https://rda-fair4ml.github.io/FAIR4MLschema/\n",
    "release/0.1.0/index.html, https://github.com/RDA-FAIR4ML/FAIR4ML-schema)"
   ]
  },
  {
   "cell_type": "markdown",
   "id": "a409bf2a",
   "metadata": {},
   "source": [
    "#todo above"
   ]
  },
  {
   "cell_type": "markdown",
   "id": "167c0c13",
   "metadata": {},
   "source": [
    "### SUBTASKS a-e\n",
    "\n",
    "Provide a detailed interpretation of the cluster/class structures using a combination of<br>\n",
    "visualizations and their parameter settings. Describe the findings in detail, specifically<br>\n",
    "analyzing and providing rationale for"
   ]
  },
  {
   "cell_type": "markdown",
   "id": "55b2f9dd",
   "metadata": {},
   "source": [
    "#### a \n",
    "\n",
    "Cluster densities / cardinalities, shapes: what can you tell about the cluster sizes<br>\n",
    "shapes, their cardinalities and densities? Can you observe areas of higher/lower<br>\n",
    "densities? Compare different visualizations that support (or contradict) your hypothesis<br>\n",
    "and reason/explain why they do so."
   ]
  },
  {
   "cell_type": "code",
   "execution_count": null,
   "id": "0bc7e397",
   "metadata": {},
   "outputs": [],
   "source": [
    "#TODO above "
   ]
  },
  {
   "cell_type": "markdown",
   "id": "2a4a4aac",
   "metadata": {},
   "source": [
    "#### b\n",
    "\n",
    "Hierarchical cluster relationships: can you detect any hierarchies in the data? How do<br>\n",
    "they seem to be structured? Which clusters are similar, which are very distant, how<br>\n",
    "could they be related? Compare different visualizations that support (or contradict)<br>\n",
    "your hypothesis and reason/explain why they do so."
   ]
  },
  {
   "cell_type": "code",
   "execution_count": null,
   "id": "11272db7",
   "metadata": {},
   "outputs": [],
   "source": [
    "#TODO above"
   ]
  },
  {
   "cell_type": "markdown",
   "id": "534bff10",
   "metadata": {},
   "source": [
    "#### c\n",
    "\n",
    "Topological relations / violations: in which areas can you observe topology violations?<br>\n",
    "What types of violations do you observe in which areas of the map (i.e. actual violations<br>\n",
    "due to bad training or the inherent structure of the data vs. cluster data that is mapped<br>\n",
    "onto the plane). In how far do different visualizations agree on these violations?<br>\n",
    "Compare different visualizations that support (or contradict) your hypothesis and<br>\n",
    "reason/explain why they do so."
   ]
  },
  {
   "cell_type": "code",
   "execution_count": null,
   "id": "9a923bac",
   "metadata": {},
   "outputs": [],
   "source": [
    "#TODO above"
   ]
  },
  {
   "cell_type": "markdown",
   "id": "739d3726",
   "metadata": {},
   "source": [
    "#### d \n",
    "\n",
    "Class distribution: Which classes are mapped onto which parts of the map? How do<br>\n",
    "they relate to each other? In how far does the class distribution match the cluster<br>\n",
    "structure? Which classes are well-separated, which ones less so? What might be the<br>\n",
    "reason for these overlaps? Is the mapping less correct in these regions (e.g. higher<br>\n",
    "error measures)? Are these areas well-separated. Which classes form homogeneous<br>\n",
    "clusters, which form sub-clusters, how similar are these sub-clusters?"
   ]
  },
  {
   "cell_type": "code",
   "execution_count": null,
   "id": "44ef02d8",
   "metadata": {},
   "outputs": [],
   "source": [
    "#TODO above"
   ]
  },
  {
   "cell_type": "markdown",
   "id": "10cedc43",
   "metadata": {},
   "source": [
    "#### e\n",
    "\n",
    "Quality of the map in terms of vector quantization and topology violation: is the quality<br>\n",
    "homogeneous, are there certain areas or classes where the quality of the mapping is<br>\n",
    "lower, others where it is higher?"
   ]
  },
  {
   "cell_type": "code",
   "execution_count": null,
   "id": "8290f117",
   "metadata": {},
   "outputs": [],
   "source": [
    "#TODO above"
   ]
  },
  {
   "cell_type": "markdown",
   "id": "db53a9b2",
   "metadata": {},
   "source": [
    "# D) Summarize your findings\n",
    "\n"
   ]
  },
  {
   "cell_type": "markdown",
   "id": "d459eb5a",
   "metadata": {},
   "source": [
    "## 1\n",
    "\n",
    "Summarize your overall findings and lessons learned:<br>\n",
    "a. Which parameters have what kind of influence on the SOM?<br>\n",
    "b. How sensitive is the setting of these parameters <br>\n",
    "c. Which visualizations are most useful to reveal what kind of information? Which combination"
   ]
  },
  {
   "cell_type": "markdown",
   "id": "c41fe12f",
   "metadata": {},
   "source": [
    "WRITE SUMMARY"
   ]
  },
  {
   "cell_type": "markdown",
   "id": "72771db4",
   "metadata": {},
   "source": [
    "## 2\n",
    "\n",
    "(optional) Provide feedback on the exercise in general: which parts were useful / less useful; which<br>\n",
    "other kind of experiment would have been interesting, … (this section is, obviously, optional and will<br>\n",
    "not be considered for grading. You may also decide to provide that kind of feedback anonymously via<br>\n",
    "the feedback mechanism in TISS – in any case we would appreciate learning about it to adjust the<br>\n",
    "exercises for next year.)"
   ]
  },
  {
   "cell_type": "markdown",
   "id": "adfd2695",
   "metadata": {},
   "source": [
    "P"
   ]
  }
 ],
 "metadata": {
  "kernelspec": {
   "display_name": ".venv",
   "language": "python",
   "name": "python3"
  },
  "language_info": {
   "codemirror_mode": {
    "name": "ipython",
    "version": 3
   },
   "file_extension": ".py",
   "mimetype": "text/x-python",
   "name": "python",
   "nbconvert_exporter": "python",
   "pygments_lexer": "ipython3",
   "version": "3.12.8"
  }
 },
 "nbformat": 4,
 "nbformat_minor": 5
}
